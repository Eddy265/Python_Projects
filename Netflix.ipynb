{
 "cells": [
  {
   "cell_type": "code",
   "execution_count": 1,
   "id": "06438ace-26bc-445e-93e7-a892311501b4",
   "metadata": {},
   "outputs": [
    {
     "ename": "ModuleNotFoundError",
     "evalue": "No module named 'pandas'",
     "output_type": "error",
     "traceback": [
      "\u001b[1;31m---------------------------------------------------------------------------\u001b[0m",
      "\u001b[1;31mModuleNotFoundError\u001b[0m                       Traceback (most recent call last)",
      "\u001b[1;32m~\\AppData\\Local\\Temp/ipykernel_16152/4191021423.py\u001b[0m in \u001b[0;36m<module>\u001b[1;34m\u001b[0m\n\u001b[1;32m----> 1\u001b[1;33m \u001b[1;32mimport\u001b[0m \u001b[0mpandas\u001b[0m \u001b[1;32mas\u001b[0m \u001b[0mpd\u001b[0m\u001b[1;33m\u001b[0m\u001b[1;33m\u001b[0m\u001b[0m\n\u001b[0m\u001b[0;32m      2\u001b[0m \u001b[1;32mfrom\u001b[0m \u001b[0mpathlib\u001b[0m \u001b[1;32mimport\u001b[0m \u001b[0mPath\u001b[0m\u001b[1;33m\u001b[0m\u001b[1;33m\u001b[0m\u001b[0m\n",
      "\u001b[1;31mModuleNotFoundError\u001b[0m: No module named 'pandas'"
     ]
    }
   ],
   "source": [
    "import pandas as pd\n",
    "from pathlib import Path"
   ]
  },
  {
   "cell_type": "code",
   "execution_count": 2,
   "id": "7c709cb8",
   "metadata": {},
   "outputs": [
    {
     "name": "stdout",
     "output_type": "stream",
     "text": [
      "Collecting pandasNote: you may need to restart the kernel to use updated packages.\n",
      "  Using cached pandas-1.5.2.tar.gz (5.2 MB)\n",
      "  Installing build dependencies: started\n",
      "  Installing build dependencies: finished with status 'done'\n",
      "  Getting requirements to build wheel: started\n",
      "  Getting requirements to build wheel: still running...\n",
      "  Getting requirements to build wheel: finished with status 'done'\n",
      "  Preparing metadata (pyproject.toml): started\n",
      "  Preparing metadata (pyproject.toml): finished with status 'done'\n",
      "Requirement already satisfied: pytz>=2020.1 in c:\\users\\euzoe\\appdata\\local\\programs\\python\\python310-32\\lib\\site-packages (from pandas) (2020.1)\n",
      "Requirement already satisfied: python-dateutil>=2.8.1 in c:\\users\\euzoe\\appdata\\local\\programs\\python\\python310-32\\lib\\site-packages (from pandas) (2.8.2)\n",
      "Collecting numpy>=1.21.0\n",
      "  Using cached numpy-1.24.1-cp310-cp310-win32.whl (12.4 MB)\n",
      "Requirement already satisfied: six>=1.5 in c:\\users\\euzoe\\appdata\\local\\programs\\python\\python310-32\\lib\\site-packages (from python-dateutil>=2.8.1->pandas) (1.15.0)\n",
      "Building wheels for collected packages: pandas\n",
      "  Building wheel for pandas (pyproject.toml): started\n",
      "  Building wheel for pandas (pyproject.toml): finished with status 'error'\n",
      "Failed to build pandas\n",
      "\n"
     ]
    },
    {
     "name": "stderr",
     "output_type": "stream",
     "text": [
      "  error: subprocess-exited-with-error\n",
      "  \n",
      "  Building wheel for pandas (pyproject.toml) did not run successfully.\n",
      "  exit code: 1\n",
      "  \n",
      "  [2063 lines of output]\n",
      "  running bdist_wheel\n",
      "  running build\n",
      "  running build_py\n",
      "  creating build\n",
      "  creating build\\lib.win32-cpython-310\n",
      "  creating build\\lib.win32-cpython-310\\pandas\n",
      "  copying pandas\\conftest.py -> build\\lib.win32-cpython-310\\pandas\n",
      "  copying pandas\\testing.py -> build\\lib.win32-cpython-310\\pandas\n",
      "  copying pandas\\_typing.py -> build\\lib.win32-cpython-310\\pandas\n",
      "  copying pandas\\_version.py -> build\\lib.win32-cpython-310\\pandas\n",
      "  copying pandas\\__init__.py -> build\\lib.win32-cpython-310\\pandas\n",
      "  creating build\\lib.win32-cpython-310\\pandas\\api\n",
      "  copying pandas\\api\\__init__.py -> build\\lib.win32-cpython-310\\pandas\\api\n",
      "  creating build\\lib.win32-cpython-310\\pandas\\arrays\n",
      "  copying pandas\\arrays\\__init__.py -> build\\lib.win32-cpython-310\\pandas\\arrays\n",
      "  creating build\\lib.win32-cpython-310\\pandas\\compat\n",
      "  copying pandas\\compat\\chainmap.py -> build\\lib.win32-cpython-310\\pandas\\compat\n",
      "  copying pandas\\compat\\pickle_compat.py -> build\\lib.win32-cpython-310\\pandas\\compat\n",
      "  copying pandas\\compat\\pyarrow.py -> build\\lib.win32-cpython-310\\pandas\\compat\n",
      "  copying pandas\\compat\\_optional.py -> build\\lib.win32-cpython-310\\pandas\\compat\n",
      "  copying pandas\\compat\\__init__.py -> build\\lib.win32-cpython-310\\pandas\\compat\n",
      "  creating build\\lib.win32-cpython-310\\pandas\\core\n",
      "  copying pandas\\core\\accessor.py -> build\\lib.win32-cpython-310\\pandas\\core\n",
      "  copying pandas\\core\\algorithms.py -> build\\lib.win32-cpython-310\\pandas\\core\n",
      "  copying pandas\\core\\api.py -> build\\lib.win32-cpython-310\\pandas\\core\n",
      "  copying pandas\\core\\apply.py -> build\\lib.win32-cpython-310\\pandas\\core\n",
      "  copying pandas\\core\\arraylike.py -> build\\lib.win32-cpython-310\\pandas\\core\n",
      "  copying pandas\\core\\base.py -> build\\lib.win32-cpython-310\\pandas\\core\n",
      "  copying pandas\\core\\common.py -> build\\lib.win32-cpython-310\\pandas\\core\n",
      "  copying pandas\\core\\config_init.py -> build\\lib.win32-cpython-310\\pandas\\core\n",
      "  copying pandas\\core\\construction.py -> build\\lib.win32-cpython-310\\pandas\\core\n",
      "  copying pandas\\core\\describe.py -> build\\lib.win32-cpython-310\\pandas\\core\n",
      "  copying pandas\\core\\flags.py -> build\\lib.win32-cpython-310\\pandas\\core\n",
      "  copying pandas\\core\\frame.py -> build\\lib.win32-cpython-310\\pandas\\core\n",
      "  copying pandas\\core\\generic.py -> build\\lib.win32-cpython-310\\pandas\\core\n",
      "  copying pandas\\core\\index.py -> build\\lib.win32-cpython-310\\pandas\\core\n",
      "  copying pandas\\core\\indexing.py -> build\\lib.win32-cpython-310\\pandas\\core\n",
      "  copying pandas\\core\\missing.py -> build\\lib.win32-cpython-310\\pandas\\core\n",
      "  copying pandas\\core\\nanops.py -> build\\lib.win32-cpython-310\\pandas\\core\n",
      "  copying pandas\\core\\resample.py -> build\\lib.win32-cpython-310\\pandas\\core\n",
      "  copying pandas\\core\\roperator.py -> build\\lib.win32-cpython-310\\pandas\\core\n",
      "  copying pandas\\core\\sample.py -> build\\lib.win32-cpython-310\\pandas\\core\n",
      "  copying pandas\\core\\series.py -> build\\lib.win32-cpython-310\\pandas\\core\n",
      "  copying pandas\\core\\shared_docs.py -> build\\lib.win32-cpython-310\\pandas\\core\n",
      "  copying pandas\\core\\sorting.py -> build\\lib.win32-cpython-310\\pandas\\core\n",
      "  copying pandas\\core\\__init__.py -> build\\lib.win32-cpython-310\\pandas\\core\n",
      "  creating build\\lib.win32-cpython-310\\pandas\\errors\n",
      "  copying pandas\\errors\\__init__.py -> build\\lib.win32-cpython-310\\pandas\\errors\n",
      "  creating build\\lib.win32-cpython-310\\pandas\\io\n",
      "  copying pandas\\io\\api.py -> build\\lib.win32-cpython-310\\pandas\\io\n",
      "  copying pandas\\io\\clipboards.py -> build\\lib.win32-cpython-310\\pandas\\io\n",
      "  copying pandas\\io\\common.py -> build\\lib.win32-cpython-310\\pandas\\io\n",
      "  copying pandas\\io\\date_converters.py -> build\\lib.win32-cpython-310\\pandas\\io\n",
      "  copying pandas\\io\\feather_format.py -> build\\lib.win32-cpython-310\\pandas\\io\n",
      "  copying pandas\\io\\gbq.py -> build\\lib.win32-cpython-310\\pandas\\io\n",
      "  copying pandas\\io\\html.py -> build\\lib.win32-cpython-310\\pandas\\io\n",
      "  copying pandas\\io\\orc.py -> build\\lib.win32-cpython-310\\pandas\\io\n",
      "  copying pandas\\io\\parquet.py -> build\\lib.win32-cpython-310\\pandas\\io\n",
      "  copying pandas\\io\\pickle.py -> build\\lib.win32-cpython-310\\pandas\\io\n",
      "  copying pandas\\io\\pytables.py -> build\\lib.win32-cpython-310\\pandas\\io\n",
      "  copying pandas\\io\\spss.py -> build\\lib.win32-cpython-310\\pandas\\io\n",
      "  copying pandas\\io\\sql.py -> build\\lib.win32-cpython-310\\pandas\\io\n",
      "  copying pandas\\io\\stata.py -> build\\lib.win32-cpython-310\\pandas\\io\n",
      "  copying pandas\\io\\xml.py -> build\\lib.win32-cpython-310\\pandas\\io\n",
      "  copying pandas\\io\\__init__.py -> build\\lib.win32-cpython-310\\pandas\\io\n",
      "  creating build\\lib.win32-cpython-310\\pandas\\plotting\n",
      "  copying pandas\\plotting\\_core.py -> build\\lib.win32-cpython-310\\pandas\\plotting\n",
      "  copying pandas\\plotting\\_misc.py -> build\\lib.win32-cpython-310\\pandas\\plotting\n",
      "  copying pandas\\plotting\\__init__.py -> build\\lib.win32-cpython-310\\pandas\\plotting\n",
      "  creating build\\lib.win32-cpython-310\\pandas\\tests\n",
      "  copying pandas\\tests\\test_aggregation.py -> build\\lib.win32-cpython-310\\pandas\\tests\n",
      "  copying pandas\\tests\\test_algos.py -> build\\lib.win32-cpython-310\\pandas\\tests\n",
      "  copying pandas\\tests\\test_common.py -> build\\lib.win32-cpython-310\\pandas\\tests\n",
      "  copying pandas\\tests\\test_downstream.py -> build\\lib.win32-cpython-310\\pandas\\tests\n",
      "  copying pandas\\tests\\test_errors.py -> build\\lib.win32-cpython-310\\pandas\\tests\n",
      "  copying pandas\\tests\\test_expressions.py -> build\\lib.win32-cpython-310\\pandas\\tests\n",
      "  copying pandas\\tests\\test_flags.py -> build\\lib.win32-cpython-310\\pandas\\tests\n",
      "  copying pandas\\tests\\test_multilevel.py -> build\\lib.win32-cpython-310\\pandas\\tests\n",
      "  copying pandas\\tests\\test_nanops.py -> build\\lib.win32-cpython-310\\pandas\\tests\n",
      "  copying pandas\\tests\\test_optional_dependency.py -> build\\lib.win32-cpython-310\\pandas\\tests\n",
      "  copying pandas\\tests\\test_register_accessor.py -> build\\lib.win32-cpython-310\\pandas\\tests\n",
      "  copying pandas\\tests\\test_sorting.py -> build\\lib.win32-cpython-310\\pandas\\tests\n",
      "  copying pandas\\tests\\test_take.py -> build\\lib.win32-cpython-310\\pandas\\tests\n",
      "  copying pandas\\tests\\__init__.py -> build\\lib.win32-cpython-310\\pandas\\tests\n",
      "  creating build\\lib.win32-cpython-310\\pandas\\tseries\n",
      "  copying pandas\\tseries\\api.py -> build\\lib.win32-cpython-310\\pandas\\tseries\n",
      "  copying pandas\\tseries\\frequencies.py -> build\\lib.win32-cpython-310\\pandas\\tseries\n",
      "  copying pandas\\tseries\\holiday.py -> build\\lib.win32-cpython-310\\pandas\\tseries\n",
      "  copying pandas\\tseries\\offsets.py -> build\\lib.win32-cpython-310\\pandas\\tseries\n",
      "  copying pandas\\tseries\\__init__.py -> build\\lib.win32-cpython-310\\pandas\\tseries\n",
      "  creating build\\lib.win32-cpython-310\\pandas\\util\n",
      "  copying pandas\\util\\testing.py -> build\\lib.win32-cpython-310\\pandas\\util\n",
      "  copying pandas\\util\\_decorators.py -> build\\lib.win32-cpython-310\\pandas\\util\n",
      "  copying pandas\\util\\_doctools.py -> build\\lib.win32-cpython-310\\pandas\\util\n",
      "  copying pandas\\util\\_exceptions.py -> build\\lib.win32-cpython-310\\pandas\\util\n",
      "  copying pandas\\util\\_print_versions.py -> build\\lib.win32-cpython-310\\pandas\\util\n",
      "  copying pandas\\util\\_tester.py -> build\\lib.win32-cpython-310\\pandas\\util\n",
      "  copying pandas\\util\\_test_decorators.py -> build\\lib.win32-cpython-310\\pandas\\util\n",
      "  copying pandas\\util\\_validators.py -> build\\lib.win32-cpython-310\\pandas\\util\n",
      "  copying pandas\\util\\__init__.py -> build\\lib.win32-cpython-310\\pandas\\util\n",
      "  creating build\\lib.win32-cpython-310\\pandas\\_config\n",
      "  copying pandas\\_config\\config.py -> build\\lib.win32-cpython-310\\pandas\\_config\n",
      "  copying pandas\\_config\\dates.py -> build\\lib.win32-cpython-310\\pandas\\_config\n",
      "  copying pandas\\_config\\display.py -> build\\lib.win32-cpython-310\\pandas\\_config\n",
      "  copying pandas\\_config\\localization.py -> build\\lib.win32-cpython-310\\pandas\\_config\n",
      "  copying pandas\\_config\\__init__.py -> build\\lib.win32-cpython-310\\pandas\\_config\n",
      "  creating build\\lib.win32-cpython-310\\pandas\\_libs\n",
      "  copying pandas\\_libs\\__init__.py -> build\\lib.win32-cpython-310\\pandas\\_libs\n",
      "  creating build\\lib.win32-cpython-310\\pandas\\_testing\n",
      "  copying pandas\\_testing\\asserters.py -> build\\lib.win32-cpython-310\\pandas\\_testing\n",
      "  copying pandas\\_testing\\compat.py -> build\\lib.win32-cpython-310\\pandas\\_testing\n",
      "  copying pandas\\_testing\\contexts.py -> build\\lib.win32-cpython-310\\pandas\\_testing\n",
      "  copying pandas\\_testing\\_hypothesis.py -> build\\lib.win32-cpython-310\\pandas\\_testing\n"
     ]
    },
    {
     "name": "stderr",
     "output_type": "stream",
     "text": [
      "  copying pandas\\_testing\\_io.py -> build\\lib.win32-cpython-310\\pandas\\_testing\n",
      "  copying pandas\\_testing\\_random.py -> build\\lib.win32-cpython-310\\pandas\\_testing\n",
      "  copying pandas\\_testing\\_warnings.py -> build\\lib.win32-cpython-310\\pandas\\_testing\n",
      "  copying pandas\\_testing\\__init__.py -> build\\lib.win32-cpython-310\\pandas\\_testing\n",
      "  creating build\\lib.win32-cpython-310\\pandas\\api\\extensions\n",
      "  copying pandas\\api\\extensions\\__init__.py -> build\\lib.win32-cpython-310\\pandas\\api\\extensions\n",
      "  creating build\\lib.win32-cpython-310\\pandas\\api\\indexers\n",
      "  copying pandas\\api\\indexers\\__init__.py -> build\\lib.win32-cpython-310\\pandas\\api\\indexers\n",
      "  creating build\\lib.win32-cpython-310\\pandas\\api\\interchange\n",
      "  copying pandas\\api\\interchange\\__init__.py -> build\\lib.win32-cpython-310\\pandas\\api\\interchange\n",
      "  creating build\\lib.win32-cpython-310\\pandas\\api\\types\n",
      "  copying pandas\\api\\types\\__init__.py -> build\\lib.win32-cpython-310\\pandas\\api\\types\n",
      "  creating build\\lib.win32-cpython-310\\pandas\\compat\\numpy\n",
      "  copying pandas\\compat\\numpy\\function.py -> build\\lib.win32-cpython-310\\pandas\\compat\\numpy\n",
      "  copying pandas\\compat\\numpy\\__init__.py -> build\\lib.win32-cpython-310\\pandas\\compat\\numpy\n",
      "  creating build\\lib.win32-cpython-310\\pandas\\core\\arrays\n",
      "  copying pandas\\core\\arrays\\base.py -> build\\lib.win32-cpython-310\\pandas\\core\\arrays\n",
      "  copying pandas\\core\\arrays\\boolean.py -> build\\lib.win32-cpython-310\\pandas\\core\\arrays\n",
      "  copying pandas\\core\\arrays\\categorical.py -> build\\lib.win32-cpython-310\\pandas\\core\\arrays\n",
      "  copying pandas\\core\\arrays\\datetimelike.py -> build\\lib.win32-cpython-310\\pandas\\core\\arrays\n",
      "  copying pandas\\core\\arrays\\datetimes.py -> build\\lib.win32-cpython-310\\pandas\\core\\arrays\n",
      "  copying pandas\\core\\arrays\\floating.py -> build\\lib.win32-cpython-310\\pandas\\core\\arrays\n",
      "  copying pandas\\core\\arrays\\integer.py -> build\\lib.win32-cpython-310\\pandas\\core\\arrays\n",
      "  copying pandas\\core\\arrays\\interval.py -> build\\lib.win32-cpython-310\\pandas\\core\\arrays\n",
      "  copying pandas\\core\\arrays\\masked.py -> build\\lib.win32-cpython-310\\pandas\\core\\arrays\n",
      "  copying pandas\\core\\arrays\\numeric.py -> build\\lib.win32-cpython-310\\pandas\\core\\arrays\n",
      "  copying pandas\\core\\arrays\\numpy_.py -> build\\lib.win32-cpython-310\\pandas\\core\\arrays\n",
      "  copying pandas\\core\\arrays\\period.py -> build\\lib.win32-cpython-310\\pandas\\core\\arrays\n",
      "  copying pandas\\core\\arrays\\string_.py -> build\\lib.win32-cpython-310\\pandas\\core\\arrays\n",
      "  copying pandas\\core\\arrays\\string_arrow.py -> build\\lib.win32-cpython-310\\pandas\\core\\arrays\n",
      "  copying pandas\\core\\arrays\\timedeltas.py -> build\\lib.win32-cpython-310\\pandas\\core\\arrays\n",
      "  copying pandas\\core\\arrays\\_mixins.py -> build\\lib.win32-cpython-310\\pandas\\core\\arrays\n",
      "  copying pandas\\core\\arrays\\_ranges.py -> build\\lib.win32-cpython-310\\pandas\\core\\arrays\n",
      "  copying pandas\\core\\arrays\\__init__.py -> build\\lib.win32-cpython-310\\pandas\\core\\arrays\n",
      "  creating build\\lib.win32-cpython-310\\pandas\\core\\array_algos\n",
      "  copying pandas\\core\\array_algos\\masked_reductions.py -> build\\lib.win32-cpython-310\\pandas\\core\\array_algos\n",
      "  copying pandas\\core\\array_algos\\putmask.py -> build\\lib.win32-cpython-310\\pandas\\core\\array_algos\n",
      "  copying pandas\\core\\array_algos\\quantile.py -> build\\lib.win32-cpython-310\\pandas\\core\\array_algos\n",
      "  copying pandas\\core\\array_algos\\replace.py -> build\\lib.win32-cpython-310\\pandas\\core\\array_algos\n",
      "  copying pandas\\core\\array_algos\\take.py -> build\\lib.win32-cpython-310\\pandas\\core\\array_algos\n",
      "  copying pandas\\core\\array_algos\\transforms.py -> build\\lib.win32-cpython-310\\pandas\\core\\array_algos\n",
      "  copying pandas\\core\\array_algos\\__init__.py -> build\\lib.win32-cpython-310\\pandas\\core\\array_algos\n",
      "  creating build\\lib.win32-cpython-310\\pandas\\core\\computation\n",
      "  copying pandas\\core\\computation\\align.py -> build\\lib.win32-cpython-310\\pandas\\core\\computation\n",
      "  copying pandas\\core\\computation\\api.py -> build\\lib.win32-cpython-310\\pandas\\core\\computation\n",
      "  copying pandas\\core\\computation\\check.py -> build\\lib.win32-cpython-310\\pandas\\core\\computation\n",
      "  copying pandas\\core\\computation\\common.py -> build\\lib.win32-cpython-310\\pandas\\core\\computation\n",
      "  copying pandas\\core\\computation\\engines.py -> build\\lib.win32-cpython-310\\pandas\\core\\computation\n",
      "  copying pandas\\core\\computation\\eval.py -> build\\lib.win32-cpython-310\\pandas\\core\\computation\n",
      "  copying pandas\\core\\computation\\expr.py -> build\\lib.win32-cpython-310\\pandas\\core\\computation\n",
      "  copying pandas\\core\\computation\\expressions.py -> build\\lib.win32-cpython-310\\pandas\\core\\computation\n",
      "  copying pandas\\core\\computation\\ops.py -> build\\lib.win32-cpython-310\\pandas\\core\\computation\n",
      "  copying pandas\\core\\computation\\parsing.py -> build\\lib.win32-cpython-310\\pandas\\core\\computation\n",
      "  copying pandas\\core\\computation\\pytables.py -> build\\lib.win32-cpython-310\\pandas\\core\\computation\n",
      "  copying pandas\\core\\computation\\scope.py -> build\\lib.win32-cpython-310\\pandas\\core\\computation\n",
      "  copying pandas\\core\\computation\\__init__.py -> build\\lib.win32-cpython-310\\pandas\\core\\computation\n",
      "  creating build\\lib.win32-cpython-310\\pandas\\core\\dtypes\n",
      "  copying pandas\\core\\dtypes\\api.py -> build\\lib.win32-cpython-310\\pandas\\core\\dtypes\n",
      "  copying pandas\\core\\dtypes\\astype.py -> build\\lib.win32-cpython-310\\pandas\\core\\dtypes\n",
      "  copying pandas\\core\\dtypes\\base.py -> build\\lib.win32-cpython-310\\pandas\\core\\dtypes\n",
      "  copying pandas\\core\\dtypes\\cast.py -> build\\lib.win32-cpython-310\\pandas\\core\\dtypes\n",
      "  copying pandas\\core\\dtypes\\common.py -> build\\lib.win32-cpython-310\\pandas\\core\\dtypes\n",
      "  copying pandas\\core\\dtypes\\concat.py -> build\\lib.win32-cpython-310\\pandas\\core\\dtypes\n",
      "  copying pandas\\core\\dtypes\\dtypes.py -> build\\lib.win32-cpython-310\\pandas\\core\\dtypes\n",
      "  copying pandas\\core\\dtypes\\generic.py -> build\\lib.win32-cpython-310\\pandas\\core\\dtypes\n",
      "  copying pandas\\core\\dtypes\\inference.py -> build\\lib.win32-cpython-310\\pandas\\core\\dtypes\n",
      "  copying pandas\\core\\dtypes\\missing.py -> build\\lib.win32-cpython-310\\pandas\\core\\dtypes\n",
      "  copying pandas\\core\\dtypes\\__init__.py -> build\\lib.win32-cpython-310\\pandas\\core\\dtypes\n",
      "  creating build\\lib.win32-cpython-310\\pandas\\core\\groupby\n",
      "  copying pandas\\core\\groupby\\base.py -> build\\lib.win32-cpython-310\\pandas\\core\\groupby\n",
      "  copying pandas\\core\\groupby\\categorical.py -> build\\lib.win32-cpython-310\\pandas\\core\\groupby\n",
      "  copying pandas\\core\\groupby\\generic.py -> build\\lib.win32-cpython-310\\pandas\\core\\groupby\n",
      "  copying pandas\\core\\groupby\\groupby.py -> build\\lib.win32-cpython-310\\pandas\\core\\groupby\n",
      "  copying pandas\\core\\groupby\\grouper.py -> build\\lib.win32-cpython-310\\pandas\\core\\groupby\n",
      "  copying pandas\\core\\groupby\\indexing.py -> build\\lib.win32-cpython-310\\pandas\\core\\groupby\n",
      "  copying pandas\\core\\groupby\\numba_.py -> build\\lib.win32-cpython-310\\pandas\\core\\groupby\n",
      "  copying pandas\\core\\groupby\\ops.py -> build\\lib.win32-cpython-310\\pandas\\core\\groupby\n",
      "  copying pandas\\core\\groupby\\__init__.py -> build\\lib.win32-cpython-310\\pandas\\core\\groupby\n",
      "  creating build\\lib.win32-cpython-310\\pandas\\core\\indexers\n",
      "  copying pandas\\core\\indexers\\objects.py -> build\\lib.win32-cpython-310\\pandas\\core\\indexers\n",
      "  copying pandas\\core\\indexers\\utils.py -> build\\lib.win32-cpython-310\\pandas\\core\\indexers\n",
      "  copying pandas\\core\\indexers\\__init__.py -> build\\lib.win32-cpython-310\\pandas\\core\\indexers\n",
      "  creating build\\lib.win32-cpython-310\\pandas\\core\\indexes\n",
      "  copying pandas\\core\\indexes\\accessors.py -> build\\lib.win32-cpython-310\\pandas\\core\\indexes\n",
      "  copying pandas\\core\\indexes\\api.py -> build\\lib.win32-cpython-310\\pandas\\core\\indexes\n",
      "  copying pandas\\core\\indexes\\base.py -> build\\lib.win32-cpython-310\\pandas\\core\\indexes\n",
      "  copying pandas\\core\\indexes\\category.py -> build\\lib.win32-cpython-310\\pandas\\core\\indexes\n",
      "  copying pandas\\core\\indexes\\datetimelike.py -> build\\lib.win32-cpython-310\\pandas\\core\\indexes\n",
      "  copying pandas\\core\\indexes\\datetimes.py -> build\\lib.win32-cpython-310\\pandas\\core\\indexes\n",
      "  copying pandas\\core\\indexes\\extension.py -> build\\lib.win32-cpython-310\\pandas\\core\\indexes\n",
      "  copying pandas\\core\\indexes\\frozen.py -> build\\lib.win32-cpython-310\\pandas\\core\\indexes\n",
      "  copying pandas\\core\\indexes\\interval.py -> build\\lib.win32-cpython-310\\pandas\\core\\indexes\n",
      "  copying pandas\\core\\indexes\\multi.py -> build\\lib.win32-cpython-310\\pandas\\core\\indexes\n",
      "  copying pandas\\core\\indexes\\numeric.py -> build\\lib.win32-cpython-310\\pandas\\core\\indexes\n",
      "  copying pandas\\core\\indexes\\period.py -> build\\lib.win32-cpython-310\\pandas\\core\\indexes\n",
      "  copying pandas\\core\\indexes\\range.py -> build\\lib.win32-cpython-310\\pandas\\core\\indexes\n",
      "  copying pandas\\core\\indexes\\timedeltas.py -> build\\lib.win32-cpython-310\\pandas\\core\\indexes\n",
      "  copying pandas\\core\\indexes\\__init__.py -> build\\lib.win32-cpython-310\\pandas\\core\\indexes\n",
      "  creating build\\lib.win32-cpython-310\\pandas\\core\\interchange\n",
      "  copying pandas\\core\\interchange\\buffer.py -> build\\lib.win32-cpython-310\\pandas\\core\\interchange\n",
      "  copying pandas\\core\\interchange\\column.py -> build\\lib.win32-cpython-310\\pandas\\core\\interchange\n",
      "  copying pandas\\core\\interchange\\dataframe.py -> build\\lib.win32-cpython-310\\pandas\\core\\interchange\n",
      "  copying pandas\\core\\interchange\\dataframe_protocol.py -> build\\lib.win32-cpython-310\\pandas\\core\\interchange\n",
      "  copying pandas\\core\\interchange\\from_dataframe.py -> build\\lib.win32-cpython-310\\pandas\\core\\interchange\n",
      "  copying pandas\\core\\interchange\\utils.py -> build\\lib.win32-cpython-310\\pandas\\core\\interchange\n",
      "  copying pandas\\core\\interchange\\__init__.py -> build\\lib.win32-cpython-310\\pandas\\core\\interchange\n",
      "  creating build\\lib.win32-cpython-310\\pandas\\core\\internals\n",
      "  copying pandas\\core\\internals\\api.py -> build\\lib.win32-cpython-310\\pandas\\core\\internals\n",
      "  copying pandas\\core\\internals\\array_manager.py -> build\\lib.win32-cpython-310\\pandas\\core\\internals\n",
      "  copying pandas\\core\\internals\\base.py -> build\\lib.win32-cpython-310\\pandas\\core\\internals\n",
      "  copying pandas\\core\\internals\\blocks.py -> build\\lib.win32-cpython-310\\pandas\\core\\internals\n",
      "  copying pandas\\core\\internals\\concat.py -> build\\lib.win32-cpython-310\\pandas\\core\\internals\n",
      "  copying pandas\\core\\internals\\construction.py -> build\\lib.win32-cpython-310\\pandas\\core\\internals\n",
      "  copying pandas\\core\\internals\\managers.py -> build\\lib.win32-cpython-310\\pandas\\core\\internals\n",
      "  copying pandas\\core\\internals\\ops.py -> build\\lib.win32-cpython-310\\pandas\\core\\internals\n",
      "  copying pandas\\core\\internals\\__init__.py -> build\\lib.win32-cpython-310\\pandas\\core\\internals\n",
      "  creating build\\lib.win32-cpython-310\\pandas\\core\\ops\n",
      "  copying pandas\\core\\ops\\array_ops.py -> build\\lib.win32-cpython-310\\pandas\\core\\ops\n",
      "  copying pandas\\core\\ops\\common.py -> build\\lib.win32-cpython-310\\pandas\\core\\ops\n",
      "  copying pandas\\core\\ops\\dispatch.py -> build\\lib.win32-cpython-310\\pandas\\core\\ops\n",
      "  copying pandas\\core\\ops\\docstrings.py -> build\\lib.win32-cpython-310\\pandas\\core\\ops\n",
      "  copying pandas\\core\\ops\\invalid.py -> build\\lib.win32-cpython-310\\pandas\\core\\ops\n",
      "  copying pandas\\core\\ops\\mask_ops.py -> build\\lib.win32-cpython-310\\pandas\\core\\ops\n",
      "  copying pandas\\core\\ops\\methods.py -> build\\lib.win32-cpython-310\\pandas\\core\\ops\n",
      "  copying pandas\\core\\ops\\missing.py -> build\\lib.win32-cpython-310\\pandas\\core\\ops\n",
      "  copying pandas\\core\\ops\\__init__.py -> build\\lib.win32-cpython-310\\pandas\\core\\ops\n",
      "  creating build\\lib.win32-cpython-310\\pandas\\core\\reshape\n",
      "  copying pandas\\core\\reshape\\api.py -> build\\lib.win32-cpython-310\\pandas\\core\\reshape\n",
      "  copying pandas\\core\\reshape\\concat.py -> build\\lib.win32-cpython-310\\pandas\\core\\reshape\n",
      "  copying pandas\\core\\reshape\\encoding.py -> build\\lib.win32-cpython-310\\pandas\\core\\reshape\n",
      "  copying pandas\\core\\reshape\\melt.py -> build\\lib.win32-cpython-310\\pandas\\core\\reshape\n",
      "  copying pandas\\core\\reshape\\merge.py -> build\\lib.win32-cpython-310\\pandas\\core\\reshape\n",
      "  copying pandas\\core\\reshape\\pivot.py -> build\\lib.win32-cpython-310\\pandas\\core\\reshape\n",
      "  copying pandas\\core\\reshape\\reshape.py -> build\\lib.win32-cpython-310\\pandas\\core\\reshape\n",
      "  copying pandas\\core\\reshape\\tile.py -> build\\lib.win32-cpython-310\\pandas\\core\\reshape\n",
      "  copying pandas\\core\\reshape\\util.py -> build\\lib.win32-cpython-310\\pandas\\core\\reshape\n",
      "  copying pandas\\core\\reshape\\__init__.py -> build\\lib.win32-cpython-310\\pandas\\core\\reshape\n",
      "  creating build\\lib.win32-cpython-310\\pandas\\core\\sparse\n",
      "  copying pandas\\core\\sparse\\api.py -> build\\lib.win32-cpython-310\\pandas\\core\\sparse\n",
      "  copying pandas\\core\\sparse\\__init__.py -> build\\lib.win32-cpython-310\\pandas\\core\\sparse\n",
      "  creating build\\lib.win32-cpython-310\\pandas\\core\\strings\n",
      "  copying pandas\\core\\strings\\accessor.py -> build\\lib.win32-cpython-310\\pandas\\core\\strings\n",
      "  copying pandas\\core\\strings\\base.py -> build\\lib.win32-cpython-310\\pandas\\core\\strings\n",
      "  copying pandas\\core\\strings\\object_array.py -> build\\lib.win32-cpython-310\\pandas\\core\\strings\n",
      "  copying pandas\\core\\strings\\__init__.py -> build\\lib.win32-cpython-310\\pandas\\core\\strings\n",
      "  creating build\\lib.win32-cpython-310\\pandas\\core\\tools\n",
      "  copying pandas\\core\\tools\\datetimes.py -> build\\lib.win32-cpython-310\\pandas\\core\\tools\n",
      "  copying pandas\\core\\tools\\numeric.py -> build\\lib.win32-cpython-310\\pandas\\core\\tools\n",
      "  copying pandas\\core\\tools\\timedeltas.py -> build\\lib.win32-cpython-310\\pandas\\core\\tools\n",
      "  copying pandas\\core\\tools\\times.py -> build\\lib.win32-cpython-310\\pandas\\core\\tools\n",
      "  copying pandas\\core\\tools\\__init__.py -> build\\lib.win32-cpython-310\\pandas\\core\\tools\n",
      "  creating build\\lib.win32-cpython-310\\pandas\\core\\util\n",
      "  copying pandas\\core\\util\\hashing.py -> build\\lib.win32-cpython-310\\pandas\\core\\util\n",
      "  copying pandas\\core\\util\\numba_.py -> build\\lib.win32-cpython-310\\pandas\\core\\util\n",
      "  copying pandas\\core\\util\\__init__.py -> build\\lib.win32-cpython-310\\pandas\\core\\util\n",
      "  creating build\\lib.win32-cpython-310\\pandas\\core\\window\n",
      "  copying pandas\\core\\window\\common.py -> build\\lib.win32-cpython-310\\pandas\\core\\window\n",
      "  copying pandas\\core\\window\\doc.py -> build\\lib.win32-cpython-310\\pandas\\core\\window\n",
      "  copying pandas\\core\\window\\ewm.py -> build\\lib.win32-cpython-310\\pandas\\core\\window\n",
      "  copying pandas\\core\\window\\expanding.py -> build\\lib.win32-cpython-310\\pandas\\core\\window\n",
      "  copying pandas\\core\\window\\numba_.py -> build\\lib.win32-cpython-310\\pandas\\core\\window\n",
      "  copying pandas\\core\\window\\online.py -> build\\lib.win32-cpython-310\\pandas\\core\\window\n",
      "  copying pandas\\core\\window\\rolling.py -> build\\lib.win32-cpython-310\\pandas\\core\\window\n",
      "  copying pandas\\core\\window\\__init__.py -> build\\lib.win32-cpython-310\\pandas\\core\\window\n",
      "  creating build\\lib.win32-cpython-310\\pandas\\core\\_numba\n",
      "  copying pandas\\core\\_numba\\executor.py -> build\\lib.win32-cpython-310\\pandas\\core\\_numba\n",
      "  copying pandas\\core\\_numba\\__init__.py -> build\\lib.win32-cpython-310\\pandas\\core\\_numba\n",
      "  creating build\\lib.win32-cpython-310\\pandas\\core\\arrays\\arrow\n",
      "  copying pandas\\core\\arrays\\arrow\\array.py -> build\\lib.win32-cpython-310\\pandas\\core\\arrays\\arrow\n",
      "  copying pandas\\core\\arrays\\arrow\\dtype.py -> build\\lib.win32-cpython-310\\pandas\\core\\arrays\\arrow\n",
      "  copying pandas\\core\\arrays\\arrow\\extension_types.py -> build\\lib.win32-cpython-310\\pandas\\core\\arrays\\arrow\n",
      "  copying pandas\\core\\arrays\\arrow\\_arrow_utils.py -> build\\lib.win32-cpython-310\\pandas\\core\\arrays\\arrow\n",
      "  copying pandas\\core\\arrays\\arrow\\__init__.py -> build\\lib.win32-cpython-310\\pandas\\core\\arrays\\arrow\n",
      "  creating build\\lib.win32-cpython-310\\pandas\\core\\arrays\\sparse\n",
      "  copying pandas\\core\\arrays\\sparse\\accessor.py -> build\\lib.win32-cpython-310\\pandas\\core\\arrays\\sparse\n",
      "  copying pandas\\core\\arrays\\sparse\\array.py -> build\\lib.win32-cpython-310\\pandas\\core\\arrays\\sparse\n",
      "  copying pandas\\core\\arrays\\sparse\\dtype.py -> build\\lib.win32-cpython-310\\pandas\\core\\arrays\\sparse\n",
      "  copying pandas\\core\\arrays\\sparse\\scipy_sparse.py -> build\\lib.win32-cpython-310\\pandas\\core\\arrays\\sparse\n",
      "  copying pandas\\core\\arrays\\sparse\\__init__.py -> build\\lib.win32-cpython-310\\pandas\\core\\arrays\\sparse\n",
      "  creating build\\lib.win32-cpython-310\\pandas\\core\\_numba\\kernels\n",
      "  copying pandas\\core\\_numba\\kernels\\mean_.py -> build\\lib.win32-cpython-310\\pandas\\core\\_numba\\kernels\n",
      "  copying pandas\\core\\_numba\\kernels\\min_max_.py -> build\\lib.win32-cpython-310\\pandas\\core\\_numba\\kernels\n",
      "  copying pandas\\core\\_numba\\kernels\\shared.py -> build\\lib.win32-cpython-310\\pandas\\core\\_numba\\kernels\n",
      "  copying pandas\\core\\_numba\\kernels\\sum_.py -> build\\lib.win32-cpython-310\\pandas\\core\\_numba\\kernels\n",
      "  copying pandas\\core\\_numba\\kernels\\var_.py -> build\\lib.win32-cpython-310\\pandas\\core\\_numba\\kernels\n",
      "  copying pandas\\core\\_numba\\kernels\\__init__.py -> build\\lib.win32-cpython-310\\pandas\\core\\_numba\\kernels\n",
      "  creating build\\lib.win32-cpython-310\\pandas\\io\\clipboard\n",
      "  copying pandas\\io\\clipboard\\__init__.py -> build\\lib.win32-cpython-310\\pandas\\io\\clipboard\n",
      "  creating build\\lib.win32-cpython-310\\pandas\\io\\excel\n",
      "  copying pandas\\io\\excel\\_base.py -> build\\lib.win32-cpython-310\\pandas\\io\\excel\n",
      "  copying pandas\\io\\excel\\_odfreader.py -> build\\lib.win32-cpython-310\\pandas\\io\\excel\n",
      "  copying pandas\\io\\excel\\_odswriter.py -> build\\lib.win32-cpython-310\\pandas\\io\\excel\n",
      "  copying pandas\\io\\excel\\_openpyxl.py -> build\\lib.win32-cpython-310\\pandas\\io\\excel\n",
      "  copying pandas\\io\\excel\\_pyxlsb.py -> build\\lib.win32-cpython-310\\pandas\\io\\excel\n",
      "  copying pandas\\io\\excel\\_util.py -> build\\lib.win32-cpython-310\\pandas\\io\\excel\n",
      "  copying pandas\\io\\excel\\_xlrd.py -> build\\lib.win32-cpython-310\\pandas\\io\\excel\n",
      "  copying pandas\\io\\excel\\_xlsxwriter.py -> build\\lib.win32-cpython-310\\pandas\\io\\excel\n",
      "  copying pandas\\io\\excel\\_xlwt.py -> build\\lib.win32-cpython-310\\pandas\\io\\excel\n",
      "  copying pandas\\io\\excel\\__init__.py -> build\\lib.win32-cpython-310\\pandas\\io\\excel\n",
      "  creating build\\lib.win32-cpython-310\\pandas\\io\\formats\n",
      "  copying pandas\\io\\formats\\console.py -> build\\lib.win32-cpython-310\\pandas\\io\\formats\n",
      "  copying pandas\\io\\formats\\css.py -> build\\lib.win32-cpython-310\\pandas\\io\\formats\n",
      "  copying pandas\\io\\formats\\csvs.py -> build\\lib.win32-cpython-310\\pandas\\io\\formats\n",
      "  copying pandas\\io\\formats\\excel.py -> build\\lib.win32-cpython-310\\pandas\\io\\formats\n",
      "  copying pandas\\io\\formats\\format.py -> build\\lib.win32-cpython-310\\pandas\\io\\formats\n",
      "  copying pandas\\io\\formats\\html.py -> build\\lib.win32-cpython-310\\pandas\\io\\formats\n",
      "  copying pandas\\io\\formats\\info.py -> build\\lib.win32-cpython-310\\pandas\\io\\formats\n",
      "  copying pandas\\io\\formats\\latex.py -> build\\lib.win32-cpython-310\\pandas\\io\\formats\n",
      "  copying pandas\\io\\formats\\printing.py -> build\\lib.win32-cpython-310\\pandas\\io\\formats\n",
      "  copying pandas\\io\\formats\\string.py -> build\\lib.win32-cpython-310\\pandas\\io\\formats\n",
      "  copying pandas\\io\\formats\\style.py -> build\\lib.win32-cpython-310\\pandas\\io\\formats\n",
      "  copying pandas\\io\\formats\\style_render.py -> build\\lib.win32-cpython-310\\pandas\\io\\formats\n",
      "  copying pandas\\io\\formats\\xml.py -> build\\lib.win32-cpython-310\\pandas\\io\\formats\n",
      "  copying pandas\\io\\formats\\_color_data.py -> build\\lib.win32-cpython-310\\pandas\\io\\formats\n",
      "  copying pandas\\io\\formats\\__init__.py -> build\\lib.win32-cpython-310\\pandas\\io\\formats\n",
      "  creating build\\lib.win32-cpython-310\\pandas\\io\\json\n",
      "  copying pandas\\io\\json\\_json.py -> build\\lib.win32-cpython-310\\pandas\\io\\json\n",
      "  copying pandas\\io\\json\\_normalize.py -> build\\lib.win32-cpython-310\\pandas\\io\\json\n",
      "  copying pandas\\io\\json\\_table_schema.py -> build\\lib.win32-cpython-310\\pandas\\io\\json\n",
      "  copying pandas\\io\\json\\__init__.py -> build\\lib.win32-cpython-310\\pandas\\io\\json\n",
      "  creating build\\lib.win32-cpython-310\\pandas\\io\\parsers\n",
      "  copying pandas\\io\\parsers\\arrow_parser_wrapper.py -> build\\lib.win32-cpython-310\\pandas\\io\\parsers\n",
      "  copying pandas\\io\\parsers\\base_parser.py -> build\\lib.win32-cpython-310\\pandas\\io\\parsers\n",
      "  copying pandas\\io\\parsers\\c_parser_wrapper.py -> build\\lib.win32-cpython-310\\pandas\\io\\parsers\n",
      "  copying pandas\\io\\parsers\\python_parser.py -> build\\lib.win32-cpython-310\\pandas\\io\\parsers\n",
      "  copying pandas\\io\\parsers\\readers.py -> build\\lib.win32-cpython-310\\pandas\\io\\parsers\n",
      "  copying pandas\\io\\parsers\\__init__.py -> build\\lib.win32-cpython-310\\pandas\\io\\parsers\n",
      "  creating build\\lib.win32-cpython-310\\pandas\\io\\sas\n",
      "  copying pandas\\io\\sas\\sas7bdat.py -> build\\lib.win32-cpython-310\\pandas\\io\\sas\n",
      "  copying pandas\\io\\sas\\sasreader.py -> build\\lib.win32-cpython-310\\pandas\\io\\sas\n",
      "  copying pandas\\io\\sas\\sas_constants.py -> build\\lib.win32-cpython-310\\pandas\\io\\sas\n",
      "  copying pandas\\io\\sas\\sas_xport.py -> build\\lib.win32-cpython-310\\pandas\\io\\sas\n",
      "  copying pandas\\io\\sas\\__init__.py -> build\\lib.win32-cpython-310\\pandas\\io\\sas\n",
      "  creating build\\lib.win32-cpython-310\\pandas\\plotting\\_matplotlib\n",
      "  copying pandas\\plotting\\_matplotlib\\boxplot.py -> build\\lib.win32-cpython-310\\pandas\\plotting\\_matplotlib\n",
      "  copying pandas\\plotting\\_matplotlib\\compat.py -> build\\lib.win32-cpython-310\\pandas\\plotting\\_matplotlib\n",
      "  copying pandas\\plotting\\_matplotlib\\converter.py -> build\\lib.win32-cpython-310\\pandas\\plotting\\_matplotlib\n",
      "  copying pandas\\plotting\\_matplotlib\\core.py -> build\\lib.win32-cpython-310\\pandas\\plotting\\_matplotlib\n",
      "  copying pandas\\plotting\\_matplotlib\\groupby.py -> build\\lib.win32-cpython-310\\pandas\\plotting\\_matplotlib\n",
      "  copying pandas\\plotting\\_matplotlib\\hist.py -> build\\lib.win32-cpython-310\\pandas\\plotting\\_matplotlib\n",
      "  copying pandas\\plotting\\_matplotlib\\misc.py -> build\\lib.win32-cpython-310\\pandas\\plotting\\_matplotlib\n",
      "  copying pandas\\plotting\\_matplotlib\\style.py -> build\\lib.win32-cpython-310\\pandas\\plotting\\_matplotlib\n",
      "  copying pandas\\plotting\\_matplotlib\\timeseries.py -> build\\lib.win32-cpython-310\\pandas\\plotting\\_matplotlib\n",
      "  copying pandas\\plotting\\_matplotlib\\tools.py -> build\\lib.win32-cpython-310\\pandas\\plotting\\_matplotlib\n",
      "  copying pandas\\plotting\\_matplotlib\\__init__.py -> build\\lib.win32-cpython-310\\pandas\\plotting\\_matplotlib\n",
      "  creating build\\lib.win32-cpython-310\\pandas\\tests\\api\n",
      "  copying pandas\\tests\\api\\test_api.py -> build\\lib.win32-cpython-310\\pandas\\tests\\api\n",
      "  copying pandas\\tests\\api\\test_types.py -> build\\lib.win32-cpython-310\\pandas\\tests\\api\n",
      "  copying pandas\\tests\\api\\__init__.py -> build\\lib.win32-cpython-310\\pandas\\tests\\api\n",
      "  creating build\\lib.win32-cpython-310\\pandas\\tests\\apply\n",
      "  copying pandas\\tests\\apply\\common.py -> build\\lib.win32-cpython-310\\pandas\\tests\\apply\n",
      "  copying pandas\\tests\\apply\\conftest.py -> build\\lib.win32-cpython-310\\pandas\\tests\\apply\n",
      "  copying pandas\\tests\\apply\\test_frame_apply.py -> build\\lib.win32-cpython-310\\pandas\\tests\\apply\n",
      "  copying pandas\\tests\\apply\\test_frame_apply_relabeling.py -> build\\lib.win32-cpython-310\\pandas\\tests\\apply\n",
      "  copying pandas\\tests\\apply\\test_frame_transform.py -> build\\lib.win32-cpython-310\\pandas\\tests\\apply\n",
      "  copying pandas\\tests\\apply\\test_invalid_arg.py -> build\\lib.win32-cpython-310\\pandas\\tests\\apply\n",
      "  copying pandas\\tests\\apply\\test_series_apply.py -> build\\lib.win32-cpython-310\\pandas\\tests\\apply\n",
      "  copying pandas\\tests\\apply\\test_series_apply_relabeling.py -> build\\lib.win32-cpython-310\\pandas\\tests\\apply\n",
      "  copying pandas\\tests\\apply\\test_series_transform.py -> build\\lib.win32-cpython-310\\pandas\\tests\\apply\n",
      "  copying pandas\\tests\\apply\\test_str.py -> build\\lib.win32-cpython-310\\pandas\\tests\\apply\n",
      "  copying pandas\\tests\\apply\\__init__.py -> build\\lib.win32-cpython-310\\pandas\\tests\\apply\n",
      "  creating build\\lib.win32-cpython-310\\pandas\\tests\\arithmetic\n",
      "  copying pandas\\tests\\arithmetic\\common.py -> build\\lib.win32-cpython-310\\pandas\\tests\\arithmetic\n",
      "  copying pandas\\tests\\arithmetic\\conftest.py -> build\\lib.win32-cpython-310\\pandas\\tests\\arithmetic\n",
      "  copying pandas\\tests\\arithmetic\\test_array_ops.py -> build\\lib.win32-cpython-310\\pandas\\tests\\arithmetic\n",
      "  copying pandas\\tests\\arithmetic\\test_categorical.py -> build\\lib.win32-cpython-310\\pandas\\tests\\arithmetic\n",
      "  copying pandas\\tests\\arithmetic\\test_datetime64.py -> build\\lib.win32-cpython-310\\pandas\\tests\\arithmetic\n",
      "  copying pandas\\tests\\arithmetic\\test_interval.py -> build\\lib.win32-cpython-310\\pandas\\tests\\arithmetic\n",
      "  copying pandas\\tests\\arithmetic\\test_numeric.py -> build\\lib.win32-cpython-310\\pandas\\tests\\arithmetic\n",
      "  copying pandas\\tests\\arithmetic\\test_object.py -> build\\lib.win32-cpython-310\\pandas\\tests\\arithmetic\n",
      "  copying pandas\\tests\\arithmetic\\test_period.py -> build\\lib.win32-cpython-310\\pandas\\tests\\arithmetic\n",
      "  copying pandas\\tests\\arithmetic\\test_timedelta64.py -> build\\lib.win32-cpython-310\\pandas\\tests\\arithmetic\n",
      "  copying pandas\\tests\\arithmetic\\__init__.py -> build\\lib.win32-cpython-310\\pandas\\tests\\arithmetic\n",
      "  creating build\\lib.win32-cpython-310\\pandas\\tests\\arrays\n",
      "  copying pandas\\tests\\arrays\\masked_shared.py -> build\\lib.win32-cpython-310\\pandas\\tests\\arrays\n",
      "  copying pandas\\tests\\arrays\\test_array.py -> build\\lib.win32-cpython-310\\pandas\\tests\\arrays\n",
      "  copying pandas\\tests\\arrays\\test_datetimelike.py -> build\\lib.win32-cpython-310\\pandas\\tests\\arrays\n",
      "  copying pandas\\tests\\arrays\\test_datetimes.py -> build\\lib.win32-cpython-310\\pandas\\tests\\arrays\n",
      "  copying pandas\\tests\\arrays\\test_ndarray_backed.py -> build\\lib.win32-cpython-310\\pandas\\tests\\arrays\n",
      "  copying pandas\\tests\\arrays\\test_period.py -> build\\lib.win32-cpython-310\\pandas\\tests\\arrays\n",
      "  copying pandas\\tests\\arrays\\test_timedeltas.py -> build\\lib.win32-cpython-310\\pandas\\tests\\arrays\n",
      "  copying pandas\\tests\\arrays\\__init__.py -> build\\lib.win32-cpython-310\\pandas\\tests\\arrays\n",
      "  creating build\\lib.win32-cpython-310\\pandas\\tests\\base\n",
      "  copying pandas\\tests\\base\\common.py -> build\\lib.win32-cpython-310\\pandas\\tests\\base\n",
      "  copying pandas\\tests\\base\\test_constructors.py -> build\\lib.win32-cpython-310\\pandas\\tests\\base\n",
      "  copying pandas\\tests\\base\\test_conversion.py -> build\\lib.win32-cpython-310\\pandas\\tests\\base\n",
      "  copying pandas\\tests\\base\\test_fillna.py -> build\\lib.win32-cpython-310\\pandas\\tests\\base\n",
      "  copying pandas\\tests\\base\\test_misc.py -> build\\lib.win32-cpython-310\\pandas\\tests\\base\n",
      "  copying pandas\\tests\\base\\test_transpose.py -> build\\lib.win32-cpython-310\\pandas\\tests\\base\n",
      "  copying pandas\\tests\\base\\test_unique.py -> build\\lib.win32-cpython-310\\pandas\\tests\\base\n",
      "  copying pandas\\tests\\base\\test_value_counts.py -> build\\lib.win32-cpython-310\\pandas\\tests\\base\n",
      "  copying pandas\\tests\\base\\__init__.py -> build\\lib.win32-cpython-310\\pandas\\tests\\base\n",
      "  creating build\\lib.win32-cpython-310\\pandas\\tests\\computation\n",
      "  copying pandas\\tests\\computation\\test_compat.py -> build\\lib.win32-cpython-310\\pandas\\tests\\computation\n",
      "  copying pandas\\tests\\computation\\test_eval.py -> build\\lib.win32-cpython-310\\pandas\\tests\\computation\n",
      "  copying pandas\\tests\\computation\\__init__.py -> build\\lib.win32-cpython-310\\pandas\\tests\\computation\n",
      "  creating build\\lib.win32-cpython-310\\pandas\\tests\\config\n",
      "  copying pandas\\tests\\config\\test_config.py -> build\\lib.win32-cpython-310\\pandas\\tests\\config\n",
      "  copying pandas\\tests\\config\\test_localization.py -> build\\lib.win32-cpython-310\\pandas\\tests\\config\n",
      "  copying pandas\\tests\\config\\__init__.py -> build\\lib.win32-cpython-310\\pandas\\tests\\config\n",
      "  creating build\\lib.win32-cpython-310\\pandas\\tests\\construction\n",
      "  copying pandas\\tests\\construction\\test_extract_array.py -> build\\lib.win32-cpython-310\\pandas\\tests\\construction\n",
      "  copying pandas\\tests\\construction\\__init__.py -> build\\lib.win32-cpython-310\\pandas\\tests\\construction\n",
      "  creating build\\lib.win32-cpython-310\\pandas\\tests\\copy_view\n",
      "  copying pandas\\tests\\copy_view\\test_indexing.py -> build\\lib.win32-cpython-310\\pandas\\tests\\copy_view\n",
      "  copying pandas\\tests\\copy_view\\test_internals.py -> build\\lib.win32-cpython-310\\pandas\\tests\\copy_view\n",
      "  copying pandas\\tests\\copy_view\\test_methods.py -> build\\lib.win32-cpython-310\\pandas\\tests\\copy_view\n",
      "  copying pandas\\tests\\copy_view\\test_setitem.py -> build\\lib.win32-cpython-310\\pandas\\tests\\copy_view\n",
      "  copying pandas\\tests\\copy_view\\util.py -> build\\lib.win32-cpython-310\\pandas\\tests\\copy_view\n",
      "  copying pandas\\tests\\copy_view\\__init__.py -> build\\lib.win32-cpython-310\\pandas\\tests\\copy_view\n",
      "  creating build\\lib.win32-cpython-310\\pandas\\tests\\dtypes\n",
      "  copying pandas\\tests\\dtypes\\test_common.py -> build\\lib.win32-cpython-310\\pandas\\tests\\dtypes\n",
      "  copying pandas\\tests\\dtypes\\test_concat.py -> build\\lib.win32-cpython-310\\pandas\\tests\\dtypes\n",
      "  copying pandas\\tests\\dtypes\\test_dtypes.py -> build\\lib.win32-cpython-310\\pandas\\tests\\dtypes\n",
      "  copying pandas\\tests\\dtypes\\test_generic.py -> build\\lib.win32-cpython-310\\pandas\\tests\\dtypes\n",
      "  copying pandas\\tests\\dtypes\\test_inference.py -> build\\lib.win32-cpython-310\\pandas\\tests\\dtypes\n",
      "  copying pandas\\tests\\dtypes\\test_missing.py -> build\\lib.win32-cpython-310\\pandas\\tests\\dtypes\n",
      "  copying pandas\\tests\\dtypes\\__init__.py -> build\\lib.win32-cpython-310\\pandas\\tests\\dtypes\n",
      "  creating build\\lib.win32-cpython-310\\pandas\\tests\\extension\n",
      "  copying pandas\\tests\\extension\\conftest.py -> build\\lib.win32-cpython-310\\pandas\\tests\\extension\n",
      "  copying pandas\\tests\\extension\\test_arrow.py -> build\\lib.win32-cpython-310\\pandas\\tests\\extension\n",
      "  copying pandas\\tests\\extension\\test_boolean.py -> build\\lib.win32-cpython-310\\pandas\\tests\\extension\n",
      "  copying pandas\\tests\\extension\\test_categorical.py -> build\\lib.win32-cpython-310\\pandas\\tests\\extension\n",
      "  copying pandas\\tests\\extension\\test_common.py -> build\\lib.win32-cpython-310\\pandas\\tests\\extension\n",
      "  copying pandas\\tests\\extension\\test_datetime.py -> build\\lib.win32-cpython-310\\pandas\\tests\\extension\n",
      "  copying pandas\\tests\\extension\\test_extension.py -> build\\lib.win32-cpython-310\\pandas\\tests\\extension\n",
      "  copying pandas\\tests\\extension\\test_external_block.py -> build\\lib.win32-cpython-310\\pandas\\tests\\extension\n",
      "  copying pandas\\tests\\extension\\test_floating.py -> build\\lib.win32-cpython-310\\pandas\\tests\\extension\n",
      "  copying pandas\\tests\\extension\\test_integer.py -> build\\lib.win32-cpython-310\\pandas\\tests\\extension\n",
      "  copying pandas\\tests\\extension\\test_interval.py -> build\\lib.win32-cpython-310\\pandas\\tests\\extension\n",
      "  copying pandas\\tests\\extension\\test_numpy.py -> build\\lib.win32-cpython-310\\pandas\\tests\\extension\n",
      "  copying pandas\\tests\\extension\\test_period.py -> build\\lib.win32-cpython-310\\pandas\\tests\\extension\n",
      "  copying pandas\\tests\\extension\\test_sparse.py -> build\\lib.win32-cpython-310\\pandas\\tests\\extension\n",
      "  copying pandas\\tests\\extension\\test_string.py -> build\\lib.win32-cpython-310\\pandas\\tests\\extension\n",
      "  copying pandas\\tests\\extension\\__init__.py -> build\\lib.win32-cpython-310\\pandas\\tests\\extension\n",
      "  creating build\\lib.win32-cpython-310\\pandas\\tests\\frame\n",
      "  copying pandas\\tests\\frame\\common.py -> build\\lib.win32-cpython-310\\pandas\\tests\\frame\n",
      "  copying pandas\\tests\\frame\\conftest.py -> build\\lib.win32-cpython-310\\pandas\\tests\\frame\n",
      "  copying pandas\\tests\\frame\\test_alter_axes.py -> build\\lib.win32-cpython-310\\pandas\\tests\\frame\n",
      "  copying pandas\\tests\\frame\\test_api.py -> build\\lib.win32-cpython-310\\pandas\\tests\\frame\n",
      "  copying pandas\\tests\\frame\\test_arithmetic.py -> build\\lib.win32-cpython-310\\pandas\\tests\\frame\n",
      "  copying pandas\\tests\\frame\\test_block_internals.py -> build\\lib.win32-cpython-310\\pandas\\tests\\frame\n",
      "  copying pandas\\tests\\frame\\test_constructors.py -> build\\lib.win32-cpython-310\\pandas\\tests\\frame\n",
      "  copying pandas\\tests\\frame\\test_cumulative.py -> build\\lib.win32-cpython-310\\pandas\\tests\\frame\n",
      "  copying pandas\\tests\\frame\\test_iteration.py -> build\\lib.win32-cpython-310\\pandas\\tests\\frame\n",
      "  copying pandas\\tests\\frame\\test_logical_ops.py -> build\\lib.win32-cpython-310\\pandas\\tests\\frame\n",
      "  copying pandas\\tests\\frame\\test_nonunique_indexes.py -> build\\lib.win32-cpython-310\\pandas\\tests\\frame\n",
      "  copying pandas\\tests\\frame\\test_npfuncs.py -> build\\lib.win32-cpython-310\\pandas\\tests\\frame\n",
      "  copying pandas\\tests\\frame\\test_query_eval.py -> build\\lib.win32-cpython-310\\pandas\\tests\\frame\n",
      "  copying pandas\\tests\\frame\\test_reductions.py -> build\\lib.win32-cpython-310\\pandas\\tests\\frame\n",
      "  copying pandas\\tests\\frame\\test_repr_info.py -> build\\lib.win32-cpython-310\\pandas\\tests\\frame\n",
      "  copying pandas\\tests\\frame\\test_stack_unstack.py -> build\\lib.win32-cpython-310\\pandas\\tests\\frame\n",
      "  copying pandas\\tests\\frame\\test_subclass.py -> build\\lib.win32-cpython-310\\pandas\\tests\\frame\n",
      "  copying pandas\\tests\\frame\\test_ufunc.py -> build\\lib.win32-cpython-310\\pandas\\tests\\frame\n",
      "  copying pandas\\tests\\frame\\test_unary.py -> build\\lib.win32-cpython-310\\pandas\\tests\\frame\n",
      "  copying pandas\\tests\\frame\\test_validate.py -> build\\lib.win32-cpython-310\\pandas\\tests\\frame\n",
      "  copying pandas\\tests\\frame\\__init__.py -> build\\lib.win32-cpython-310\\pandas\\tests\\frame\n",
      "  creating build\\lib.win32-cpython-310\\pandas\\tests\\generic\n",
      "  copying pandas\\tests\\generic\\test_duplicate_labels.py -> build\\lib.win32-cpython-310\\pandas\\tests\\generic\n",
      "  copying pandas\\tests\\generic\\test_finalize.py -> build\\lib.win32-cpython-310\\pandas\\tests\\generic\n",
      "  copying pandas\\tests\\generic\\test_frame.py -> build\\lib.win32-cpython-310\\pandas\\tests\\generic\n",
      "  copying pandas\\tests\\generic\\test_generic.py -> build\\lib.win32-cpython-310\\pandas\\tests\\generic\n",
      "  copying pandas\\tests\\generic\\test_label_or_level_utils.py -> build\\lib.win32-cpython-310\\pandas\\tests\\generic\n",
      "  copying pandas\\tests\\generic\\test_series.py -> build\\lib.win32-cpython-310\\pandas\\tests\\generic\n",
      "  copying pandas\\tests\\generic\\test_to_xarray.py -> build\\lib.win32-cpython-310\\pandas\\tests\\generic\n",
      "  copying pandas\\tests\\generic\\__init__.py -> build\\lib.win32-cpython-310\\pandas\\tests\\generic\n",
      "  creating build\\lib.win32-cpython-310\\pandas\\tests\\groupby\n",
      "  copying pandas\\tests\\groupby\\conftest.py -> build\\lib.win32-cpython-310\\pandas\\tests\\groupby\n",
      "  copying pandas\\tests\\groupby\\test_allowlist.py -> build\\lib.win32-cpython-310\\pandas\\tests\\groupby\n",
      "  copying pandas\\tests\\groupby\\test_any_all.py -> build\\lib.win32-cpython-310\\pandas\\tests\\groupby\n",
      "  copying pandas\\tests\\groupby\\test_apply.py -> build\\lib.win32-cpython-310\\pandas\\tests\\groupby\n",
      "  copying pandas\\tests\\groupby\\test_apply_mutate.py -> build\\lib.win32-cpython-310\\pandas\\tests\\groupby\n",
      "  copying pandas\\tests\\groupby\\test_bin_groupby.py -> build\\lib.win32-cpython-310\\pandas\\tests\\groupby\n",
      "  copying pandas\\tests\\groupby\\test_categorical.py -> build\\lib.win32-cpython-310\\pandas\\tests\\groupby\n",
      "  copying pandas\\tests\\groupby\\test_counting.py -> build\\lib.win32-cpython-310\\pandas\\tests\\groupby\n",
      "  copying pandas\\tests\\groupby\\test_filters.py -> build\\lib.win32-cpython-310\\pandas\\tests\\groupby\n",
      "  copying pandas\\tests\\groupby\\test_frame_value_counts.py -> build\\lib.win32-cpython-310\\pandas\\tests\\groupby\n",
      "  copying pandas\\tests\\groupby\\test_function.py -> build\\lib.win32-cpython-310\\pandas\\tests\\groupby\n",
      "  copying pandas\\tests\\groupby\\test_groupby.py -> build\\lib.win32-cpython-310\\pandas\\tests\\groupby\n",
      "  copying pandas\\tests\\groupby\\test_groupby_dropna.py -> build\\lib.win32-cpython-310\\pandas\\tests\\groupby\n",
      "  copying pandas\\tests\\groupby\\test_groupby_shift_diff.py -> build\\lib.win32-cpython-310\\pandas\\tests\\groupby\n",
      "  copying pandas\\tests\\groupby\\test_groupby_subclass.py -> build\\lib.win32-cpython-310\\pandas\\tests\\groupby\n",
      "  copying pandas\\tests\\groupby\\test_grouping.py -> build\\lib.win32-cpython-310\\pandas\\tests\\groupby\n",
      "  copying pandas\\tests\\groupby\\test_indexing.py -> build\\lib.win32-cpython-310\\pandas\\tests\\groupby\n",
      "  copying pandas\\tests\\groupby\\test_index_as_string.py -> build\\lib.win32-cpython-310\\pandas\\tests\\groupby\n",
      "  copying pandas\\tests\\groupby\\test_libgroupby.py -> build\\lib.win32-cpython-310\\pandas\\tests\\groupby\n",
      "  copying pandas\\tests\\groupby\\test_min_max.py -> build\\lib.win32-cpython-310\\pandas\\tests\\groupby\n",
      "  copying pandas\\tests\\groupby\\test_missing.py -> build\\lib.win32-cpython-310\\pandas\\tests\\groupby\n",
      "  copying pandas\\tests\\groupby\\test_nth.py -> build\\lib.win32-cpython-310\\pandas\\tests\\groupby\n",
      "  copying pandas\\tests\\groupby\\test_numba.py -> build\\lib.win32-cpython-310\\pandas\\tests\\groupby\n",
      "  copying pandas\\tests\\groupby\\test_nunique.py -> build\\lib.win32-cpython-310\\pandas\\tests\\groupby\n",
      "  copying pandas\\tests\\groupby\\test_pipe.py -> build\\lib.win32-cpython-310\\pandas\\tests\\groupby\n",
      "  copying pandas\\tests\\groupby\\test_quantile.py -> build\\lib.win32-cpython-310\\pandas\\tests\\groupby\n",
      "  copying pandas\\tests\\groupby\\test_rank.py -> build\\lib.win32-cpython-310\\pandas\\tests\\groupby\n",
      "  copying pandas\\tests\\groupby\\test_sample.py -> build\\lib.win32-cpython-310\\pandas\\tests\\groupby\n",
      "  copying pandas\\tests\\groupby\\test_size.py -> build\\lib.win32-cpython-310\\pandas\\tests\\groupby\n",
      "  copying pandas\\tests\\groupby\\test_timegrouper.py -> build\\lib.win32-cpython-310\\pandas\\tests\\groupby\n",
      "  copying pandas\\tests\\groupby\\test_value_counts.py -> build\\lib.win32-cpython-310\\pandas\\tests\\groupby\n",
      "  copying pandas\\tests\\groupby\\__init__.py -> build\\lib.win32-cpython-310\\pandas\\tests\\groupby\n",
      "  creating build\\lib.win32-cpython-310\\pandas\\tests\\indexes\n",
      "  copying pandas\\tests\\indexes\\common.py -> build\\lib.win32-cpython-310\\pandas\\tests\\indexes\n",
      "  copying pandas\\tests\\indexes\\conftest.py -> build\\lib.win32-cpython-310\\pandas\\tests\\indexes\n",
      "  copying pandas\\tests\\indexes\\datetimelike.py -> build\\lib.win32-cpython-310\\pandas\\tests\\indexes\n",
      "  copying pandas\\tests\\indexes\\test_any_index.py -> build\\lib.win32-cpython-310\\pandas\\tests\\indexes\n",
      "  copying pandas\\tests\\indexes\\test_base.py -> build\\lib.win32-cpython-310\\pandas\\tests\\indexes\n",
      "  copying pandas\\tests\\indexes\\test_common.py -> build\\lib.win32-cpython-310\\pandas\\tests\\indexes\n",
      "  copying pandas\\tests\\indexes\\test_engines.py -> build\\lib.win32-cpython-310\\pandas\\tests\\indexes\n",
      "  copying pandas\\tests\\indexes\\test_frozen.py -> build\\lib.win32-cpython-310\\pandas\\tests\\indexes\n",
      "  copying pandas\\tests\\indexes\\test_indexing.py -> build\\lib.win32-cpython-310\\pandas\\tests\\indexes\n",
      "  copying pandas\\tests\\indexes\\test_index_new.py -> build\\lib.win32-cpython-310\\pandas\\tests\\indexes\n",
      "  copying pandas\\tests\\indexes\\test_numpy_compat.py -> build\\lib.win32-cpython-310\\pandas\\tests\\indexes\n",
      "  copying pandas\\tests\\indexes\\test_setops.py -> build\\lib.win32-cpython-310\\pandas\\tests\\indexes\n",
      "  copying pandas\\tests\\indexes\\test_subclass.py -> build\\lib.win32-cpython-310\\pandas\\tests\\indexes\n",
      "  copying pandas\\tests\\indexes\\__init__.py -> build\\lib.win32-cpython-310\\pandas\\tests\\indexes\n",
      "  creating build\\lib.win32-cpython-310\\pandas\\tests\\indexing\n",
      "  copying pandas\\tests\\indexing\\common.py -> build\\lib.win32-cpython-310\\pandas\\tests\\indexing\n",
      "  copying pandas\\tests\\indexing\\test_at.py -> build\\lib.win32-cpython-310\\pandas\\tests\\indexing\n",
      "  copying pandas\\tests\\indexing\\test_categorical.py -> build\\lib.win32-cpython-310\\pandas\\tests\\indexing\n",
      "  copying pandas\\tests\\indexing\\test_chaining_and_caching.py -> build\\lib.win32-cpython-310\\pandas\\tests\\indexing\n",
      "  copying pandas\\tests\\indexing\\test_check_indexer.py -> build\\lib.win32-cpython-310\\pandas\\tests\\indexing\n",
      "  copying pandas\\tests\\indexing\\test_coercion.py -> build\\lib.win32-cpython-310\\pandas\\tests\\indexing\n",
      "  copying pandas\\tests\\indexing\\test_datetime.py -> build\\lib.win32-cpython-310\\pandas\\tests\\indexing\n",
      "  copying pandas\\tests\\indexing\\test_floats.py -> build\\lib.win32-cpython-310\\pandas\\tests\\indexing\n",
      "  copying pandas\\tests\\indexing\\test_iat.py -> build\\lib.win32-cpython-310\\pandas\\tests\\indexing\n",
      "  copying pandas\\tests\\indexing\\test_iloc.py -> build\\lib.win32-cpython-310\\pandas\\tests\\indexing\n",
      "  copying pandas\\tests\\indexing\\test_indexers.py -> build\\lib.win32-cpython-310\\pandas\\tests\\indexing\n",
      "  copying pandas\\tests\\indexing\\test_indexing.py -> build\\lib.win32-cpython-310\\pandas\\tests\\indexing\n",
      "  copying pandas\\tests\\indexing\\test_loc.py -> build\\lib.win32-cpython-310\\pandas\\tests\\indexing\n",
      "  copying pandas\\tests\\indexing\\test_na_indexing.py -> build\\lib.win32-cpython-310\\pandas\\tests\\indexing\n",
      "  copying pandas\\tests\\indexing\\test_partial.py -> build\\lib.win32-cpython-310\\pandas\\tests\\indexing\n",
      "  copying pandas\\tests\\indexing\\test_scalar.py -> build\\lib.win32-cpython-310\\pandas\\tests\\indexing\n",
      "  copying pandas\\tests\\indexing\\__init__.py -> build\\lib.win32-cpython-310\\pandas\\tests\\indexing\n",
      "  creating build\\lib.win32-cpython-310\\pandas\\tests\\interchange\n",
      "  copying pandas\\tests\\interchange\\conftest.py -> build\\lib.win32-cpython-310\\pandas\\tests\\interchange\n",
      "  copying pandas\\tests\\interchange\\test_impl.py -> build\\lib.win32-cpython-310\\pandas\\tests\\interchange\n",
      "  copying pandas\\tests\\interchange\\test_spec_conformance.py -> build\\lib.win32-cpython-310\\pandas\\tests\\interchange\n",
      "  copying pandas\\tests\\interchange\\test_utils.py -> build\\lib.win32-cpython-310\\pandas\\tests\\interchange\n",
      "  copying pandas\\tests\\interchange\\__init__.py -> build\\lib.win32-cpython-310\\pandas\\tests\\interchange\n",
      "  creating build\\lib.win32-cpython-310\\pandas\\tests\\internals\n",
      "  copying pandas\\tests\\internals\\test_api.py -> build\\lib.win32-cpython-310\\pandas\\tests\\internals\n",
      "  copying pandas\\tests\\internals\\test_internals.py -> build\\lib.win32-cpython-310\\pandas\\tests\\internals\n",
      "  copying pandas\\tests\\internals\\test_managers.py -> build\\lib.win32-cpython-310\\pandas\\tests\\internals\n",
      "  copying pandas\\tests\\internals\\__init__.py -> build\\lib.win32-cpython-310\\pandas\\tests\\internals\n",
      "  creating build\\lib.win32-cpython-310\\pandas\\tests\\io\n",
      "  copying pandas\\tests\\io\\conftest.py -> build\\lib.win32-cpython-310\\pandas\\tests\\io\n",
      "  copying pandas\\tests\\io\\generate_legacy_storage_files.py -> build\\lib.win32-cpython-310\\pandas\\tests\\io\n",
      "  copying pandas\\tests\\io\\test_clipboard.py -> build\\lib.win32-cpython-310\\pandas\\tests\\io\n",
      "  copying pandas\\tests\\io\\test_common.py -> build\\lib.win32-cpython-310\\pandas\\tests\\io\n",
      "  copying pandas\\tests\\io\\test_compression.py -> build\\lib.win32-cpython-310\\pandas\\tests\\io\n",
      "  copying pandas\\tests\\io\\test_date_converters.py -> build\\lib.win32-cpython-310\\pandas\\tests\\io\n",
      "  copying pandas\\tests\\io\\test_feather.py -> build\\lib.win32-cpython-310\\pandas\\tests\\io\n",
      "  copying pandas\\tests\\io\\test_fsspec.py -> build\\lib.win32-cpython-310\\pandas\\tests\\io\n",
      "  copying pandas\\tests\\io\\test_gcs.py -> build\\lib.win32-cpython-310\\pandas\\tests\\io\n",
      "  copying pandas\\tests\\io\\test_html.py -> build\\lib.win32-cpython-310\\pandas\\tests\\io\n",
      "  copying pandas\\tests\\io\\test_orc.py -> build\\lib.win32-cpython-310\\pandas\\tests\\io\n",
      "  copying pandas\\tests\\io\\test_parquet.py -> build\\lib.win32-cpython-310\\pandas\\tests\\io\n",
      "  copying pandas\\tests\\io\\test_pickle.py -> build\\lib.win32-cpython-310\\pandas\\tests\\io\n",
      "  copying pandas\\tests\\io\\test_s3.py -> build\\lib.win32-cpython-310\\pandas\\tests\\io\n",
      "  copying pandas\\tests\\io\\test_spss.py -> build\\lib.win32-cpython-310\\pandas\\tests\\io\n",
      "  copying pandas\\tests\\io\\test_sql.py -> build\\lib.win32-cpython-310\\pandas\\tests\\io\n",
      "  copying pandas\\tests\\io\\test_stata.py -> build\\lib.win32-cpython-310\\pandas\\tests\\io\n",
      "  copying pandas\\tests\\io\\test_user_agent.py -> build\\lib.win32-cpython-310\\pandas\\tests\\io\n",
      "  copying pandas\\tests\\io\\__init__.py -> build\\lib.win32-cpython-310\\pandas\\tests\\io\n",
      "  creating build\\lib.win32-cpython-310\\pandas\\tests\\libs\n",
      "  copying pandas\\tests\\libs\\test_hashtable.py -> build\\lib.win32-cpython-310\\pandas\\tests\\libs\n",
      "  copying pandas\\tests\\libs\\test_join.py -> build\\lib.win32-cpython-310\\pandas\\tests\\libs\n",
      "  copying pandas\\tests\\libs\\test_lib.py -> build\\lib.win32-cpython-310\\pandas\\tests\\libs\n",
      "  copying pandas\\tests\\libs\\__init__.py -> build\\lib.win32-cpython-310\\pandas\\tests\\libs\n",
      "  creating build\\lib.win32-cpython-310\\pandas\\tests\\plotting\n",
      "  copying pandas\\tests\\plotting\\common.py -> build\\lib.win32-cpython-310\\pandas\\tests\\plotting\n",
      "  copying pandas\\tests\\plotting\\conftest.py -> build\\lib.win32-cpython-310\\pandas\\tests\\plotting\n",
      "  copying pandas\\tests\\plotting\\test_backend.py -> build\\lib.win32-cpython-310\\pandas\\tests\\plotting\n",
      "  copying pandas\\tests\\plotting\\test_boxplot_method.py -> build\\lib.win32-cpython-310\\pandas\\tests\\plotting\n",
      "  copying pandas\\tests\\plotting\\test_common.py -> build\\lib.win32-cpython-310\\pandas\\tests\\plotting\n",
      "  copying pandas\\tests\\plotting\\test_converter.py -> build\\lib.win32-cpython-310\\pandas\\tests\\plotting\n",
      "  copying pandas\\tests\\plotting\\test_datetimelike.py -> build\\lib.win32-cpython-310\\pandas\\tests\\plotting\n",
      "  copying pandas\\tests\\plotting\\test_groupby.py -> build\\lib.win32-cpython-310\\pandas\\tests\\plotting\n",
      "  copying pandas\\tests\\plotting\\test_hist_method.py -> build\\lib.win32-cpython-310\\pandas\\tests\\plotting\n",
      "  copying pandas\\tests\\plotting\\test_misc.py -> build\\lib.win32-cpython-310\\pandas\\tests\\plotting\n",
      "  copying pandas\\tests\\plotting\\test_series.py -> build\\lib.win32-cpython-310\\pandas\\tests\\plotting\n",
      "  copying pandas\\tests\\plotting\\test_style.py -> build\\lib.win32-cpython-310\\pandas\\tests\\plotting\n",
      "  copying pandas\\tests\\plotting\\__init__.py -> build\\lib.win32-cpython-310\\pandas\\tests\\plotting\n",
      "  creating build\\lib.win32-cpython-310\\pandas\\tests\\reductions\n",
      "  copying pandas\\tests\\reductions\\test_reductions.py -> build\\lib.win32-cpython-310\\pandas\\tests\\reductions\n",
      "  copying pandas\\tests\\reductions\\test_stat_reductions.py -> build\\lib.win32-cpython-310\\pandas\\tests\\reductions\n",
      "  copying pandas\\tests\\reductions\\__init__.py -> build\\lib.win32-cpython-310\\pandas\\tests\\reductions\n",
      "  creating build\\lib.win32-cpython-310\\pandas\\tests\\resample\n",
      "  copying pandas\\tests\\resample\\conftest.py -> build\\lib.win32-cpython-310\\pandas\\tests\\resample\n",
      "  copying pandas\\tests\\resample\\test_base.py -> build\\lib.win32-cpython-310\\pandas\\tests\\resample\n",
      "  copying pandas\\tests\\resample\\test_datetime_index.py -> build\\lib.win32-cpython-310\\pandas\\tests\\resample\n",
      "  copying pandas\\tests\\resample\\test_deprecated.py -> build\\lib.win32-cpython-310\\pandas\\tests\\resample\n",
      "  copying pandas\\tests\\resample\\test_period_index.py -> build\\lib.win32-cpython-310\\pandas\\tests\\resample\n",
      "  copying pandas\\tests\\resample\\test_resampler_grouper.py -> build\\lib.win32-cpython-310\\pandas\\tests\\resample\n",
      "  copying pandas\\tests\\resample\\test_resample_api.py -> build\\lib.win32-cpython-310\\pandas\\tests\\resample\n",
      "  copying pandas\\tests\\resample\\test_timedelta.py -> build\\lib.win32-cpython-310\\pandas\\tests\\resample\n",
      "  copying pandas\\tests\\resample\\test_time_grouper.py -> build\\lib.win32-cpython-310\\pandas\\tests\\resample\n",
      "  copying pandas\\tests\\resample\\__init__.py -> build\\lib.win32-cpython-310\\pandas\\tests\\resample\n",
      "  creating build\\lib.win32-cpython-310\\pandas\\tests\\reshape\n",
      "  copying pandas\\tests\\reshape\\test_crosstab.py -> build\\lib.win32-cpython-310\\pandas\\tests\\reshape\n",
      "  copying pandas\\tests\\reshape\\test_cut.py -> build\\lib.win32-cpython-310\\pandas\\tests\\reshape\n",
      "  copying pandas\\tests\\reshape\\test_from_dummies.py -> build\\lib.win32-cpython-310\\pandas\\tests\\reshape\n",
      "  copying pandas\\tests\\reshape\\test_get_dummies.py -> build\\lib.win32-cpython-310\\pandas\\tests\\reshape\n",
      "  copying pandas\\tests\\reshape\\test_melt.py -> build\\lib.win32-cpython-310\\pandas\\tests\\reshape\n",
      "  copying pandas\\tests\\reshape\\test_pivot.py -> build\\lib.win32-cpython-310\\pandas\\tests\\reshape\n",
      "  copying pandas\\tests\\reshape\\test_pivot_multilevel.py -> build\\lib.win32-cpython-310\\pandas\\tests\\reshape\n",
      "  copying pandas\\tests\\reshape\\test_qcut.py -> build\\lib.win32-cpython-310\\pandas\\tests\\reshape\n",
      "  copying pandas\\tests\\reshape\\test_union_categoricals.py -> build\\lib.win32-cpython-310\\pandas\\tests\\reshape\n",
      "  copying pandas\\tests\\reshape\\test_util.py -> build\\lib.win32-cpython-310\\pandas\\tests\\reshape\n",
      "  copying pandas\\tests\\reshape\\__init__.py -> build\\lib.win32-cpython-310\\pandas\\tests\\reshape\n",
      "  creating build\\lib.win32-cpython-310\\pandas\\tests\\scalar\n",
      "  copying pandas\\tests\\scalar\\test_nat.py -> build\\lib.win32-cpython-310\\pandas\\tests\\scalar\n",
      "  copying pandas\\tests\\scalar\\test_na_scalar.py -> build\\lib.win32-cpython-310\\pandas\\tests\\scalar\n",
      "  copying pandas\\tests\\scalar\\__init__.py -> build\\lib.win32-cpython-310\\pandas\\tests\\scalar\n",
      "  creating build\\lib.win32-cpython-310\\pandas\\tests\\series\n",
      "  copying pandas\\tests\\series\\test_api.py -> build\\lib.win32-cpython-310\\pandas\\tests\\series\n",
      "  copying pandas\\tests\\series\\test_arithmetic.py -> build\\lib.win32-cpython-310\\pandas\\tests\\series\n"
     ]
    },
    {
     "name": "stderr",
     "output_type": "stream",
     "text": [
      "  copying pandas\\tests\\series\\test_constructors.py -> build\\lib.win32-cpython-310\\pandas\\tests\\series\n",
      "  copying pandas\\tests\\series\\test_cumulative.py -> build\\lib.win32-cpython-310\\pandas\\tests\\series\n",
      "  copying pandas\\tests\\series\\test_iteration.py -> build\\lib.win32-cpython-310\\pandas\\tests\\series\n",
      "  copying pandas\\tests\\series\\test_logical_ops.py -> build\\lib.win32-cpython-310\\pandas\\tests\\series\n",
      "  copying pandas\\tests\\series\\test_missing.py -> build\\lib.win32-cpython-310\\pandas\\tests\\series\n",
      "  copying pandas\\tests\\series\\test_npfuncs.py -> build\\lib.win32-cpython-310\\pandas\\tests\\series\n",
      "  copying pandas\\tests\\series\\test_reductions.py -> build\\lib.win32-cpython-310\\pandas\\tests\\series\n",
      "  copying pandas\\tests\\series\\test_repr.py -> build\\lib.win32-cpython-310\\pandas\\tests\\series\n",
      "  copying pandas\\tests\\series\\test_subclass.py -> build\\lib.win32-cpython-310\\pandas\\tests\\series\n",
      "  copying pandas\\tests\\series\\test_ufunc.py -> build\\lib.win32-cpython-310\\pandas\\tests\\series\n",
      "  copying pandas\\tests\\series\\test_unary.py -> build\\lib.win32-cpython-310\\pandas\\tests\\series\n",
      "  copying pandas\\tests\\series\\test_validate.py -> build\\lib.win32-cpython-310\\pandas\\tests\\series\n",
      "  copying pandas\\tests\\series\\__init__.py -> build\\lib.win32-cpython-310\\pandas\\tests\\series\n",
      "  creating build\\lib.win32-cpython-310\\pandas\\tests\\strings\n",
      "  copying pandas\\tests\\strings\\conftest.py -> build\\lib.win32-cpython-310\\pandas\\tests\\strings\n",
      "  copying pandas\\tests\\strings\\test_api.py -> build\\lib.win32-cpython-310\\pandas\\tests\\strings\n",
      "  copying pandas\\tests\\strings\\test_case_justify.py -> build\\lib.win32-cpython-310\\pandas\\tests\\strings\n",
      "  copying pandas\\tests\\strings\\test_cat.py -> build\\lib.win32-cpython-310\\pandas\\tests\\strings\n",
      "  copying pandas\\tests\\strings\\test_extract.py -> build\\lib.win32-cpython-310\\pandas\\tests\\strings\n",
      "  copying pandas\\tests\\strings\\test_find_replace.py -> build\\lib.win32-cpython-310\\pandas\\tests\\strings\n",
      "  copying pandas\\tests\\strings\\test_get_dummies.py -> build\\lib.win32-cpython-310\\pandas\\tests\\strings\n",
      "  copying pandas\\tests\\strings\\test_split_partition.py -> build\\lib.win32-cpython-310\\pandas\\tests\\strings\n",
      "  copying pandas\\tests\\strings\\test_strings.py -> build\\lib.win32-cpython-310\\pandas\\tests\\strings\n",
      "  copying pandas\\tests\\strings\\test_string_array.py -> build\\lib.win32-cpython-310\\pandas\\tests\\strings\n",
      "  copying pandas\\tests\\strings\\__init__.py -> build\\lib.win32-cpython-310\\pandas\\tests\\strings\n",
      "  creating build\\lib.win32-cpython-310\\pandas\\tests\\tools\n",
      "  copying pandas\\tests\\tools\\test_to_datetime.py -> build\\lib.win32-cpython-310\\pandas\\tests\\tools\n",
      "  copying pandas\\tests\\tools\\test_to_numeric.py -> build\\lib.win32-cpython-310\\pandas\\tests\\tools\n",
      "  copying pandas\\tests\\tools\\test_to_time.py -> build\\lib.win32-cpython-310\\pandas\\tests\\tools\n",
      "  copying pandas\\tests\\tools\\test_to_timedelta.py -> build\\lib.win32-cpython-310\\pandas\\tests\\tools\n",
      "  copying pandas\\tests\\tools\\__init__.py -> build\\lib.win32-cpython-310\\pandas\\tests\\tools\n",
      "  creating build\\lib.win32-cpython-310\\pandas\\tests\\tseries\n",
      "  copying pandas\\tests\\tseries\\__init__.py -> build\\lib.win32-cpython-310\\pandas\\tests\\tseries\n",
      "  creating build\\lib.win32-cpython-310\\pandas\\tests\\tslibs\n",
      "  copying pandas\\tests\\tslibs\\test_api.py -> build\\lib.win32-cpython-310\\pandas\\tests\\tslibs\n",
      "  copying pandas\\tests\\tslibs\\test_array_to_datetime.py -> build\\lib.win32-cpython-310\\pandas\\tests\\tslibs\n",
      "  copying pandas\\tests\\tslibs\\test_ccalendar.py -> build\\lib.win32-cpython-310\\pandas\\tests\\tslibs\n",
      "  copying pandas\\tests\\tslibs\\test_conversion.py -> build\\lib.win32-cpython-310\\pandas\\tests\\tslibs\n",
      "  copying pandas\\tests\\tslibs\\test_fields.py -> build\\lib.win32-cpython-310\\pandas\\tests\\tslibs\n",
      "  copying pandas\\tests\\tslibs\\test_libfrequencies.py -> build\\lib.win32-cpython-310\\pandas\\tests\\tslibs\n",
      "  copying pandas\\tests\\tslibs\\test_liboffsets.py -> build\\lib.win32-cpython-310\\pandas\\tests\\tslibs\n",
      "  copying pandas\\tests\\tslibs\\test_np_datetime.py -> build\\lib.win32-cpython-310\\pandas\\tests\\tslibs\n",
      "  copying pandas\\tests\\tslibs\\test_parse_iso8601.py -> build\\lib.win32-cpython-310\\pandas\\tests\\tslibs\n",
      "  copying pandas\\tests\\tslibs\\test_parsing.py -> build\\lib.win32-cpython-310\\pandas\\tests\\tslibs\n",
      "  copying pandas\\tests\\tslibs\\test_period_asfreq.py -> build\\lib.win32-cpython-310\\pandas\\tests\\tslibs\n",
      "  copying pandas\\tests\\tslibs\\test_resolution.py -> build\\lib.win32-cpython-310\\pandas\\tests\\tslibs\n",
      "  copying pandas\\tests\\tslibs\\test_timedeltas.py -> build\\lib.win32-cpython-310\\pandas\\tests\\tslibs\n",
      "  copying pandas\\tests\\tslibs\\test_timezones.py -> build\\lib.win32-cpython-310\\pandas\\tests\\tslibs\n",
      "  copying pandas\\tests\\tslibs\\test_to_offset.py -> build\\lib.win32-cpython-310\\pandas\\tests\\tslibs\n",
      "  copying pandas\\tests\\tslibs\\test_tzconversion.py -> build\\lib.win32-cpython-310\\pandas\\tests\\tslibs\n",
      "  copying pandas\\tests\\tslibs\\__init__.py -> build\\lib.win32-cpython-310\\pandas\\tests\\tslibs\n",
      "  creating build\\lib.win32-cpython-310\\pandas\\tests\\util\n",
      "  copying pandas\\tests\\util\\conftest.py -> build\\lib.win32-cpython-310\\pandas\\tests\\util\n",
      "  copying pandas\\tests\\util\\test_assert_almost_equal.py -> build\\lib.win32-cpython-310\\pandas\\tests\\util\n",
      "  copying pandas\\tests\\util\\test_assert_attr_equal.py -> build\\lib.win32-cpython-310\\pandas\\tests\\util\n",
      "  copying pandas\\tests\\util\\test_assert_categorical_equal.py -> build\\lib.win32-cpython-310\\pandas\\tests\\util\n",
      "  copying pandas\\tests\\util\\test_assert_extension_array_equal.py -> build\\lib.win32-cpython-310\\pandas\\tests\\util\n",
      "  copying pandas\\tests\\util\\test_assert_frame_equal.py -> build\\lib.win32-cpython-310\\pandas\\tests\\util\n",
      "  copying pandas\\tests\\util\\test_assert_index_equal.py -> build\\lib.win32-cpython-310\\pandas\\tests\\util\n",
      "  copying pandas\\tests\\util\\test_assert_interval_array_equal.py -> build\\lib.win32-cpython-310\\pandas\\tests\\util\n",
      "  copying pandas\\tests\\util\\test_assert_numpy_array_equal.py -> build\\lib.win32-cpython-310\\pandas\\tests\\util\n",
      "  copying pandas\\tests\\util\\test_assert_produces_warning.py -> build\\lib.win32-cpython-310\\pandas\\tests\\util\n",
      "  copying pandas\\tests\\util\\test_assert_series_equal.py -> build\\lib.win32-cpython-310\\pandas\\tests\\util\n",
      "  copying pandas\\tests\\util\\test_deprecate.py -> build\\lib.win32-cpython-310\\pandas\\tests\\util\n",
      "  copying pandas\\tests\\util\\test_deprecate_kwarg.py -> build\\lib.win32-cpython-310\\pandas\\tests\\util\n",
      "  copying pandas\\tests\\util\\test_deprecate_nonkeyword_arguments.py -> build\\lib.win32-cpython-310\\pandas\\tests\\util\n",
      "  copying pandas\\tests\\util\\test_doc.py -> build\\lib.win32-cpython-310\\pandas\\tests\\util\n",
      "  copying pandas\\tests\\util\\test_hashing.py -> build\\lib.win32-cpython-310\\pandas\\tests\\util\n",
      "  copying pandas\\tests\\util\\test_make_objects.py -> build\\lib.win32-cpython-310\\pandas\\tests\\util\n",
      "  copying pandas\\tests\\util\\test_numba.py -> build\\lib.win32-cpython-310\\pandas\\tests\\util\n",
      "  copying pandas\\tests\\util\\test_rewrite_warning.py -> build\\lib.win32-cpython-310\\pandas\\tests\\util\n",
      "  copying pandas\\tests\\util\\test_safe_import.py -> build\\lib.win32-cpython-310\\pandas\\tests\\util\n",
      "  copying pandas\\tests\\util\\test_shares_memory.py -> build\\lib.win32-cpython-310\\pandas\\tests\\util\n",
      "  copying pandas\\tests\\util\\test_show_versions.py -> build\\lib.win32-cpython-310\\pandas\\tests\\util\n",
      "  copying pandas\\tests\\util\\test_util.py -> build\\lib.win32-cpython-310\\pandas\\tests\\util\n",
      "  copying pandas\\tests\\util\\test_validate_args.py -> build\\lib.win32-cpython-310\\pandas\\tests\\util\n",
      "  copying pandas\\tests\\util\\test_validate_args_and_kwargs.py -> build\\lib.win32-cpython-310\\pandas\\tests\\util\n",
      "  copying pandas\\tests\\util\\test_validate_inclusive.py -> build\\lib.win32-cpython-310\\pandas\\tests\\util\n",
      "  copying pandas\\tests\\util\\test_validate_kwargs.py -> build\\lib.win32-cpython-310\\pandas\\tests\\util\n",
      "  copying pandas\\tests\\util\\__init__.py -> build\\lib.win32-cpython-310\\pandas\\tests\\util\n",
      "  creating build\\lib.win32-cpython-310\\pandas\\tests\\window\n",
      "  copying pandas\\tests\\window\\conftest.py -> build\\lib.win32-cpython-310\\pandas\\tests\\window\n",
      "  copying pandas\\tests\\window\\test_api.py -> build\\lib.win32-cpython-310\\pandas\\tests\\window\n",
      "  copying pandas\\tests\\window\\test_apply.py -> build\\lib.win32-cpython-310\\pandas\\tests\\window\n",
      "  copying pandas\\tests\\window\\test_base_indexer.py -> build\\lib.win32-cpython-310\\pandas\\tests\\window\n",
      "  copying pandas\\tests\\window\\test_cython_aggregations.py -> build\\lib.win32-cpython-310\\pandas\\tests\\window\n",
      "  copying pandas\\tests\\window\\test_dtypes.py -> build\\lib.win32-cpython-310\\pandas\\tests\\window\n",
      "  copying pandas\\tests\\window\\test_ewm.py -> build\\lib.win32-cpython-310\\pandas\\tests\\window\n",
      "  copying pandas\\tests\\window\\test_expanding.py -> build\\lib.win32-cpython-310\\pandas\\tests\\window\n",
      "  copying pandas\\tests\\window\\test_groupby.py -> build\\lib.win32-cpython-310\\pandas\\tests\\window\n",
      "  copying pandas\\tests\\window\\test_numba.py -> build\\lib.win32-cpython-310\\pandas\\tests\\window\n",
      "  copying pandas\\tests\\window\\test_online.py -> build\\lib.win32-cpython-310\\pandas\\tests\\window\n",
      "  copying pandas\\tests\\window\\test_pairwise.py -> build\\lib.win32-cpython-310\\pandas\\tests\\window\n",
      "  copying pandas\\tests\\window\\test_rolling.py -> build\\lib.win32-cpython-310\\pandas\\tests\\window\n",
      "  copying pandas\\tests\\window\\test_rolling_functions.py -> build\\lib.win32-cpython-310\\pandas\\tests\\window\n",
      "  copying pandas\\tests\\window\\test_rolling_quantile.py -> build\\lib.win32-cpython-310\\pandas\\tests\\window\n",
      "  copying pandas\\tests\\window\\test_rolling_skew_kurt.py -> build\\lib.win32-cpython-310\\pandas\\tests\\window\n",
      "  copying pandas\\tests\\window\\test_timeseries_window.py -> build\\lib.win32-cpython-310\\pandas\\tests\\window\n",
      "  copying pandas\\tests\\window\\test_win_type.py -> build\\lib.win32-cpython-310\\pandas\\tests\\window\n",
      "  copying pandas\\tests\\window\\__init__.py -> build\\lib.win32-cpython-310\\pandas\\tests\\window\n",
      "  creating build\\lib.win32-cpython-310\\pandas\\tests\\arrays\\boolean\n",
      "  copying pandas\\tests\\arrays\\boolean\\test_arithmetic.py -> build\\lib.win32-cpython-310\\pandas\\tests\\arrays\\boolean\n",
      "  copying pandas\\tests\\arrays\\boolean\\test_astype.py -> build\\lib.win32-cpython-310\\pandas\\tests\\arrays\\boolean\n",
      "  copying pandas\\tests\\arrays\\boolean\\test_comparison.py -> build\\lib.win32-cpython-310\\pandas\\tests\\arrays\\boolean\n",
      "  copying pandas\\tests\\arrays\\boolean\\test_construction.py -> build\\lib.win32-cpython-310\\pandas\\tests\\arrays\\boolean\n",
      "  copying pandas\\tests\\arrays\\boolean\\test_function.py -> build\\lib.win32-cpython-310\\pandas\\tests\\arrays\\boolean\n",
      "  copying pandas\\tests\\arrays\\boolean\\test_indexing.py -> build\\lib.win32-cpython-310\\pandas\\tests\\arrays\\boolean\n",
      "  copying pandas\\tests\\arrays\\boolean\\test_logical.py -> build\\lib.win32-cpython-310\\pandas\\tests\\arrays\\boolean\n",
      "  copying pandas\\tests\\arrays\\boolean\\test_ops.py -> build\\lib.win32-cpython-310\\pandas\\tests\\arrays\\boolean\n",
      "  copying pandas\\tests\\arrays\\boolean\\test_reduction.py -> build\\lib.win32-cpython-310\\pandas\\tests\\arrays\\boolean\n",
      "  copying pandas\\tests\\arrays\\boolean\\test_repr.py -> build\\lib.win32-cpython-310\\pandas\\tests\\arrays\\boolean\n",
      "  copying pandas\\tests\\arrays\\boolean\\__init__.py -> build\\lib.win32-cpython-310\\pandas\\tests\\arrays\\boolean\n",
      "  creating build\\lib.win32-cpython-310\\pandas\\tests\\arrays\\categorical\n",
      "  copying pandas\\tests\\arrays\\categorical\\conftest.py -> build\\lib.win32-cpython-310\\pandas\\tests\\arrays\\categorical\n",
      "  copying pandas\\tests\\arrays\\categorical\\test_algos.py -> build\\lib.win32-cpython-310\\pandas\\tests\\arrays\\categorical\n",
      "  copying pandas\\tests\\arrays\\categorical\\test_analytics.py -> build\\lib.win32-cpython-310\\pandas\\tests\\arrays\\categorical\n",
      "  copying pandas\\tests\\arrays\\categorical\\test_api.py -> build\\lib.win32-cpython-310\\pandas\\tests\\arrays\\categorical\n",
      "  copying pandas\\tests\\arrays\\categorical\\test_astype.py -> build\\lib.win32-cpython-310\\pandas\\tests\\arrays\\categorical\n",
      "  copying pandas\\tests\\arrays\\categorical\\test_constructors.py -> build\\lib.win32-cpython-310\\pandas\\tests\\arrays\\categorical\n",
      "  copying pandas\\tests\\arrays\\categorical\\test_dtypes.py -> build\\lib.win32-cpython-310\\pandas\\tests\\arrays\\categorical\n",
      "  copying pandas\\tests\\arrays\\categorical\\test_indexing.py -> build\\lib.win32-cpython-310\\pandas\\tests\\arrays\\categorical\n",
      "  copying pandas\\tests\\arrays\\categorical\\test_missing.py -> build\\lib.win32-cpython-310\\pandas\\tests\\arrays\\categorical\n",
      "  copying pandas\\tests\\arrays\\categorical\\test_operators.py -> build\\lib.win32-cpython-310\\pandas\\tests\\arrays\\categorical\n",
      "  copying pandas\\tests\\arrays\\categorical\\test_replace.py -> build\\lib.win32-cpython-310\\pandas\\tests\\arrays\\categorical\n",
      "  copying pandas\\tests\\arrays\\categorical\\test_repr.py -> build\\lib.win32-cpython-310\\pandas\\tests\\arrays\\categorical\n",
      "  copying pandas\\tests\\arrays\\categorical\\test_sorting.py -> build\\lib.win32-cpython-310\\pandas\\tests\\arrays\\categorical\n",
      "  copying pandas\\tests\\arrays\\categorical\\test_subclass.py -> build\\lib.win32-cpython-310\\pandas\\tests\\arrays\\categorical\n",
      "  copying pandas\\tests\\arrays\\categorical\\test_take.py -> build\\lib.win32-cpython-310\\pandas\\tests\\arrays\\categorical\n",
      "  copying pandas\\tests\\arrays\\categorical\\test_warnings.py -> build\\lib.win32-cpython-310\\pandas\\tests\\arrays\\categorical\n",
      "  copying pandas\\tests\\arrays\\categorical\\__init__.py -> build\\lib.win32-cpython-310\\pandas\\tests\\arrays\\categorical\n",
      "  creating build\\lib.win32-cpython-310\\pandas\\tests\\arrays\\datetimes\n",
      "  copying pandas\\tests\\arrays\\datetimes\\test_constructors.py -> build\\lib.win32-cpython-310\\pandas\\tests\\arrays\\datetimes\n",
      "  copying pandas\\tests\\arrays\\datetimes\\test_reductions.py -> build\\lib.win32-cpython-310\\pandas\\tests\\arrays\\datetimes\n",
      "  copying pandas\\tests\\arrays\\datetimes\\__init__.py -> build\\lib.win32-cpython-310\\pandas\\tests\\arrays\\datetimes\n",
      "  creating build\\lib.win32-cpython-310\\pandas\\tests\\arrays\\floating\n",
      "  copying pandas\\tests\\arrays\\floating\\conftest.py -> build\\lib.win32-cpython-310\\pandas\\tests\\arrays\\floating\n",
      "  copying pandas\\tests\\arrays\\floating\\test_arithmetic.py -> build\\lib.win32-cpython-310\\pandas\\tests\\arrays\\floating\n",
      "  copying pandas\\tests\\arrays\\floating\\test_astype.py -> build\\lib.win32-cpython-310\\pandas\\tests\\arrays\\floating\n",
      "  copying pandas\\tests\\arrays\\floating\\test_comparison.py -> build\\lib.win32-cpython-310\\pandas\\tests\\arrays\\floating\n",
      "  copying pandas\\tests\\arrays\\floating\\test_concat.py -> build\\lib.win32-cpython-310\\pandas\\tests\\arrays\\floating\n",
      "  copying pandas\\tests\\arrays\\floating\\test_construction.py -> build\\lib.win32-cpython-310\\pandas\\tests\\arrays\\floating\n",
      "  copying pandas\\tests\\arrays\\floating\\test_function.py -> build\\lib.win32-cpython-310\\pandas\\tests\\arrays\\floating\n",
      "  copying pandas\\tests\\arrays\\floating\\test_repr.py -> build\\lib.win32-cpython-310\\pandas\\tests\\arrays\\floating\n",
      "  copying pandas\\tests\\arrays\\floating\\test_to_numpy.py -> build\\lib.win32-cpython-310\\pandas\\tests\\arrays\\floating\n",
      "  copying pandas\\tests\\arrays\\floating\\__init__.py -> build\\lib.win32-cpython-310\\pandas\\tests\\arrays\\floating\n",
      "  creating build\\lib.win32-cpython-310\\pandas\\tests\\arrays\\integer\n",
      "  copying pandas\\tests\\arrays\\integer\\conftest.py -> build\\lib.win32-cpython-310\\pandas\\tests\\arrays\\integer\n",
      "  copying pandas\\tests\\arrays\\integer\\test_arithmetic.py -> build\\lib.win32-cpython-310\\pandas\\tests\\arrays\\integer\n",
      "  copying pandas\\tests\\arrays\\integer\\test_comparison.py -> build\\lib.win32-cpython-310\\pandas\\tests\\arrays\\integer\n",
      "  copying pandas\\tests\\arrays\\integer\\test_concat.py -> build\\lib.win32-cpython-310\\pandas\\tests\\arrays\\integer\n",
      "  copying pandas\\tests\\arrays\\integer\\test_construction.py -> build\\lib.win32-cpython-310\\pandas\\tests\\arrays\\integer\n",
      "  copying pandas\\tests\\arrays\\integer\\test_dtypes.py -> build\\lib.win32-cpython-310\\pandas\\tests\\arrays\\integer\n",
      "  copying pandas\\tests\\arrays\\integer\\test_function.py -> build\\lib.win32-cpython-310\\pandas\\tests\\arrays\\integer\n",
      "  copying pandas\\tests\\arrays\\integer\\test_indexing.py -> build\\lib.win32-cpython-310\\pandas\\tests\\arrays\\integer\n",
      "  copying pandas\\tests\\arrays\\integer\\test_repr.py -> build\\lib.win32-cpython-310\\pandas\\tests\\arrays\\integer\n",
      "  copying pandas\\tests\\arrays\\integer\\__init__.py -> build\\lib.win32-cpython-310\\pandas\\tests\\arrays\\integer\n",
      "  creating build\\lib.win32-cpython-310\\pandas\\tests\\arrays\\interval\n",
      "  copying pandas\\tests\\arrays\\interval\\test_astype.py -> build\\lib.win32-cpython-310\\pandas\\tests\\arrays\\interval\n",
      "  copying pandas\\tests\\arrays\\interval\\test_interval.py -> build\\lib.win32-cpython-310\\pandas\\tests\\arrays\\interval\n",
      "  copying pandas\\tests\\arrays\\interval\\test_ops.py -> build\\lib.win32-cpython-310\\pandas\\tests\\arrays\\interval\n",
      "  copying pandas\\tests\\arrays\\interval\\__init__.py -> build\\lib.win32-cpython-310\\pandas\\tests\\arrays\\interval\n",
      "  creating build\\lib.win32-cpython-310\\pandas\\tests\\arrays\\masked\n",
      "  copying pandas\\tests\\arrays\\masked\\test_arithmetic.py -> build\\lib.win32-cpython-310\\pandas\\tests\\arrays\\masked\n",
      "  copying pandas\\tests\\arrays\\masked\\test_arrow_compat.py -> build\\lib.win32-cpython-310\\pandas\\tests\\arrays\\masked\n",
      "  copying pandas\\tests\\arrays\\masked\\test_function.py -> build\\lib.win32-cpython-310\\pandas\\tests\\arrays\\masked\n",
      "  copying pandas\\tests\\arrays\\masked\\test_indexing.py -> build\\lib.win32-cpython-310\\pandas\\tests\\arrays\\masked\n",
      "  copying pandas\\tests\\arrays\\masked\\__init__.py -> build\\lib.win32-cpython-310\\pandas\\tests\\arrays\\masked\n",
      "  creating build\\lib.win32-cpython-310\\pandas\\tests\\arrays\\numpy_\n",
      "  copying pandas\\tests\\arrays\\numpy_\\test_indexing.py -> build\\lib.win32-cpython-310\\pandas\\tests\\arrays\\numpy_\n",
      "  copying pandas\\tests\\arrays\\numpy_\\test_numpy.py -> build\\lib.win32-cpython-310\\pandas\\tests\\arrays\\numpy_\n",
      "  copying pandas\\tests\\arrays\\numpy_\\__init__.py -> build\\lib.win32-cpython-310\\pandas\\tests\\arrays\\numpy_\n",
      "  creating build\\lib.win32-cpython-310\\pandas\\tests\\arrays\\period\n",
      "  copying pandas\\tests\\arrays\\period\\test_arrow_compat.py -> build\\lib.win32-cpython-310\\pandas\\tests\\arrays\\period\n",
      "  copying pandas\\tests\\arrays\\period\\test_astype.py -> build\\lib.win32-cpython-310\\pandas\\tests\\arrays\\period\n",
      "  copying pandas\\tests\\arrays\\period\\test_constructors.py -> build\\lib.win32-cpython-310\\pandas\\tests\\arrays\\period\n",
      "  copying pandas\\tests\\arrays\\period\\test_reductions.py -> build\\lib.win32-cpython-310\\pandas\\tests\\arrays\\period\n",
      "  copying pandas\\tests\\arrays\\period\\__init__.py -> build\\lib.win32-cpython-310\\pandas\\tests\\arrays\\period\n",
      "  creating build\\lib.win32-cpython-310\\pandas\\tests\\arrays\\sparse\n",
      "  copying pandas\\tests\\arrays\\sparse\\test_accessor.py -> build\\lib.win32-cpython-310\\pandas\\tests\\arrays\\sparse\n",
      "  copying pandas\\tests\\arrays\\sparse\\test_arithmetics.py -> build\\lib.win32-cpython-310\\pandas\\tests\\arrays\\sparse\n",
      "  copying pandas\\tests\\arrays\\sparse\\test_array.py -> build\\lib.win32-cpython-310\\pandas\\tests\\arrays\\sparse\n",
      "  copying pandas\\tests\\arrays\\sparse\\test_astype.py -> build\\lib.win32-cpython-310\\pandas\\tests\\arrays\\sparse\n",
      "  copying pandas\\tests\\arrays\\sparse\\test_combine_concat.py -> build\\lib.win32-cpython-310\\pandas\\tests\\arrays\\sparse\n",
      "  copying pandas\\tests\\arrays\\sparse\\test_constructors.py -> build\\lib.win32-cpython-310\\pandas\\tests\\arrays\\sparse\n",
      "  copying pandas\\tests\\arrays\\sparse\\test_dtype.py -> build\\lib.win32-cpython-310\\pandas\\tests\\arrays\\sparse\n",
      "  copying pandas\\tests\\arrays\\sparse\\test_indexing.py -> build\\lib.win32-cpython-310\\pandas\\tests\\arrays\\sparse\n",
      "  copying pandas\\tests\\arrays\\sparse\\test_libsparse.py -> build\\lib.win32-cpython-310\\pandas\\tests\\arrays\\sparse\n",
      "  copying pandas\\tests\\arrays\\sparse\\test_reductions.py -> build\\lib.win32-cpython-310\\pandas\\tests\\arrays\\sparse\n",
      "  copying pandas\\tests\\arrays\\sparse\\test_unary.py -> build\\lib.win32-cpython-310\\pandas\\tests\\arrays\\sparse\n",
      "  copying pandas\\tests\\arrays\\sparse\\__init__.py -> build\\lib.win32-cpython-310\\pandas\\tests\\arrays\\sparse\n",
      "  creating build\\lib.win32-cpython-310\\pandas\\tests\\arrays\\string_\n",
      "  copying pandas\\tests\\arrays\\string_\\test_string.py -> build\\lib.win32-cpython-310\\pandas\\tests\\arrays\\string_\n",
      "  copying pandas\\tests\\arrays\\string_\\test_string_arrow.py -> build\\lib.win32-cpython-310\\pandas\\tests\\arrays\\string_\n",
      "  copying pandas\\tests\\arrays\\string_\\__init__.py -> build\\lib.win32-cpython-310\\pandas\\tests\\arrays\\string_\n",
      "  creating build\\lib.win32-cpython-310\\pandas\\tests\\arrays\\timedeltas\n",
      "  copying pandas\\tests\\arrays\\timedeltas\\test_constructors.py -> build\\lib.win32-cpython-310\\pandas\\tests\\arrays\\timedeltas\n",
      "  copying pandas\\tests\\arrays\\timedeltas\\test_reductions.py -> build\\lib.win32-cpython-310\\pandas\\tests\\arrays\\timedeltas\n",
      "  copying pandas\\tests\\arrays\\timedeltas\\__init__.py -> build\\lib.win32-cpython-310\\pandas\\tests\\arrays\\timedeltas\n",
      "  creating build\\lib.win32-cpython-310\\pandas\\tests\\dtypes\\cast\n",
      "  copying pandas\\tests\\dtypes\\cast\\test_can_hold_element.py -> build\\lib.win32-cpython-310\\pandas\\tests\\dtypes\\cast\n",
      "  copying pandas\\tests\\dtypes\\cast\\test_construct_from_scalar.py -> build\\lib.win32-cpython-310\\pandas\\tests\\dtypes\\cast\n",
      "  copying pandas\\tests\\dtypes\\cast\\test_construct_ndarray.py -> build\\lib.win32-cpython-310\\pandas\\tests\\dtypes\\cast\n",
      "  copying pandas\\tests\\dtypes\\cast\\test_construct_object_arr.py -> build\\lib.win32-cpython-310\\pandas\\tests\\dtypes\\cast\n",
      "  copying pandas\\tests\\dtypes\\cast\\test_dict_compat.py -> build\\lib.win32-cpython-310\\pandas\\tests\\dtypes\\cast\n",
      "  copying pandas\\tests\\dtypes\\cast\\test_downcast.py -> build\\lib.win32-cpython-310\\pandas\\tests\\dtypes\\cast\n",
      "  copying pandas\\tests\\dtypes\\cast\\test_find_common_type.py -> build\\lib.win32-cpython-310\\pandas\\tests\\dtypes\\cast\n",
      "  copying pandas\\tests\\dtypes\\cast\\test_infer_datetimelike.py -> build\\lib.win32-cpython-310\\pandas\\tests\\dtypes\\cast\n",
      "  copying pandas\\tests\\dtypes\\cast\\test_infer_dtype.py -> build\\lib.win32-cpython-310\\pandas\\tests\\dtypes\\cast\n",
      "  copying pandas\\tests\\dtypes\\cast\\test_maybe_box_native.py -> build\\lib.win32-cpython-310\\pandas\\tests\\dtypes\\cast\n",
      "  copying pandas\\tests\\dtypes\\cast\\test_promote.py -> build\\lib.win32-cpython-310\\pandas\\tests\\dtypes\\cast\n",
      "  copying pandas\\tests\\dtypes\\cast\\__init__.py -> build\\lib.win32-cpython-310\\pandas\\tests\\dtypes\\cast\n",
      "  creating build\\lib.win32-cpython-310\\pandas\\tests\\extension\\array_with_attr\n",
      "  copying pandas\\tests\\extension\\array_with_attr\\array.py -> build\\lib.win32-cpython-310\\pandas\\tests\\extension\\array_with_attr\n",
      "  copying pandas\\tests\\extension\\array_with_attr\\test_array_with_attr.py -> build\\lib.win32-cpython-310\\pandas\\tests\\extension\\array_with_attr\n",
      "  copying pandas\\tests\\extension\\array_with_attr\\__init__.py -> build\\lib.win32-cpython-310\\pandas\\tests\\extension\\array_with_attr\n",
      "  creating build\\lib.win32-cpython-310\\pandas\\tests\\extension\\arrow\n",
      "  copying pandas\\tests\\extension\\arrow\\arrays.py -> build\\lib.win32-cpython-310\\pandas\\tests\\extension\\arrow\n",
      "  copying pandas\\tests\\extension\\arrow\\test_bool.py -> build\\lib.win32-cpython-310\\pandas\\tests\\extension\\arrow\n",
      "  copying pandas\\tests\\extension\\arrow\\test_string.py -> build\\lib.win32-cpython-310\\pandas\\tests\\extension\\arrow\n",
      "  copying pandas\\tests\\extension\\arrow\\test_timestamp.py -> build\\lib.win32-cpython-310\\pandas\\tests\\extension\\arrow\n",
      "  copying pandas\\tests\\extension\\arrow\\__init__.py -> build\\lib.win32-cpython-310\\pandas\\tests\\extension\\arrow\n",
      "  creating build\\lib.win32-cpython-310\\pandas\\tests\\extension\\base\n",
      "  copying pandas\\tests\\extension\\base\\base.py -> build\\lib.win32-cpython-310\\pandas\\tests\\extension\\base\n",
      "  copying pandas\\tests\\extension\\base\\casting.py -> build\\lib.win32-cpython-310\\pandas\\tests\\extension\\base\n",
      "  copying pandas\\tests\\extension\\base\\constructors.py -> build\\lib.win32-cpython-310\\pandas\\tests\\extension\\base\n",
      "  copying pandas\\tests\\extension\\base\\dim2.py -> build\\lib.win32-cpython-310\\pandas\\tests\\extension\\base\n",
      "  copying pandas\\tests\\extension\\base\\dtype.py -> build\\lib.win32-cpython-310\\pandas\\tests\\extension\\base\n",
      "  copying pandas\\tests\\extension\\base\\getitem.py -> build\\lib.win32-cpython-310\\pandas\\tests\\extension\\base\n",
      "  copying pandas\\tests\\extension\\base\\groupby.py -> build\\lib.win32-cpython-310\\pandas\\tests\\extension\\base\n",
      "  copying pandas\\tests\\extension\\base\\index.py -> build\\lib.win32-cpython-310\\pandas\\tests\\extension\\base\n",
      "  copying pandas\\tests\\extension\\base\\interface.py -> build\\lib.win32-cpython-310\\pandas\\tests\\extension\\base\n",
      "  copying pandas\\tests\\extension\\base\\io.py -> build\\lib.win32-cpython-310\\pandas\\tests\\extension\\base\n",
      "  copying pandas\\tests\\extension\\base\\methods.py -> build\\lib.win32-cpython-310\\pandas\\tests\\extension\\base\n",
      "  copying pandas\\tests\\extension\\base\\missing.py -> build\\lib.win32-cpython-310\\pandas\\tests\\extension\\base\n",
      "  copying pandas\\tests\\extension\\base\\ops.py -> build\\lib.win32-cpython-310\\pandas\\tests\\extension\\base\n",
      "  copying pandas\\tests\\extension\\base\\printing.py -> build\\lib.win32-cpython-310\\pandas\\tests\\extension\\base\n",
      "  copying pandas\\tests\\extension\\base\\reduce.py -> build\\lib.win32-cpython-310\\pandas\\tests\\extension\\base\n",
      "  copying pandas\\tests\\extension\\base\\reshaping.py -> build\\lib.win32-cpython-310\\pandas\\tests\\extension\\base\n",
      "  copying pandas\\tests\\extension\\base\\setitem.py -> build\\lib.win32-cpython-310\\pandas\\tests\\extension\\base\n",
      "  copying pandas\\tests\\extension\\base\\__init__.py -> build\\lib.win32-cpython-310\\pandas\\tests\\extension\\base\n",
      "  creating build\\lib.win32-cpython-310\\pandas\\tests\\extension\\date\n",
      "  copying pandas\\tests\\extension\\date\\array.py -> build\\lib.win32-cpython-310\\pandas\\tests\\extension\\date\n",
      "  copying pandas\\tests\\extension\\date\\__init__.py -> build\\lib.win32-cpython-310\\pandas\\tests\\extension\\date\n",
      "  creating build\\lib.win32-cpython-310\\pandas\\tests\\extension\\decimal\n",
      "  copying pandas\\tests\\extension\\decimal\\array.py -> build\\lib.win32-cpython-310\\pandas\\tests\\extension\\decimal\n",
      "  copying pandas\\tests\\extension\\decimal\\test_decimal.py -> build\\lib.win32-cpython-310\\pandas\\tests\\extension\\decimal\n",
      "  copying pandas\\tests\\extension\\decimal\\__init__.py -> build\\lib.win32-cpython-310\\pandas\\tests\\extension\\decimal\n",
      "  creating build\\lib.win32-cpython-310\\pandas\\tests\\extension\\json\n",
      "  copying pandas\\tests\\extension\\json\\array.py -> build\\lib.win32-cpython-310\\pandas\\tests\\extension\\json\n",
      "  copying pandas\\tests\\extension\\json\\test_json.py -> build\\lib.win32-cpython-310\\pandas\\tests\\extension\\json\n",
      "  copying pandas\\tests\\extension\\json\\__init__.py -> build\\lib.win32-cpython-310\\pandas\\tests\\extension\\json\n",
      "  creating build\\lib.win32-cpython-310\\pandas\\tests\\extension\\list\n",
      "  copying pandas\\tests\\extension\\list\\array.py -> build\\lib.win32-cpython-310\\pandas\\tests\\extension\\list\n",
      "  copying pandas\\tests\\extension\\list\\test_list.py -> build\\lib.win32-cpython-310\\pandas\\tests\\extension\\list\n",
      "  copying pandas\\tests\\extension\\list\\__init__.py -> build\\lib.win32-cpython-310\\pandas\\tests\\extension\\list\n",
      "  creating build\\lib.win32-cpython-310\\pandas\\tests\\frame\\constructors\n",
      "  copying pandas\\tests\\frame\\constructors\\test_from_dict.py -> build\\lib.win32-cpython-310\\pandas\\tests\\frame\\constructors\n",
      "  copying pandas\\tests\\frame\\constructors\\test_from_records.py -> build\\lib.win32-cpython-310\\pandas\\tests\\frame\\constructors\n",
      "  copying pandas\\tests\\frame\\constructors\\__init__.py -> build\\lib.win32-cpython-310\\pandas\\tests\\frame\\constructors\n",
      "  creating build\\lib.win32-cpython-310\\pandas\\tests\\frame\\indexing\n",
      "  copying pandas\\tests\\frame\\indexing\\test_coercion.py -> build\\lib.win32-cpython-310\\pandas\\tests\\frame\\indexing\n",
      "  copying pandas\\tests\\frame\\indexing\\test_delitem.py -> build\\lib.win32-cpython-310\\pandas\\tests\\frame\\indexing\n",
      "  copying pandas\\tests\\frame\\indexing\\test_get.py -> build\\lib.win32-cpython-310\\pandas\\tests\\frame\\indexing\n",
      "  copying pandas\\tests\\frame\\indexing\\test_getitem.py -> build\\lib.win32-cpython-310\\pandas\\tests\\frame\\indexing\n",
      "  copying pandas\\tests\\frame\\indexing\\test_get_value.py -> build\\lib.win32-cpython-310\\pandas\\tests\\frame\\indexing\n",
      "  copying pandas\\tests\\frame\\indexing\\test_indexing.py -> build\\lib.win32-cpython-310\\pandas\\tests\\frame\\indexing\n",
      "  copying pandas\\tests\\frame\\indexing\\test_insert.py -> build\\lib.win32-cpython-310\\pandas\\tests\\frame\\indexing\n",
      "  copying pandas\\tests\\frame\\indexing\\test_lookup.py -> build\\lib.win32-cpython-310\\pandas\\tests\\frame\\indexing\n",
      "  copying pandas\\tests\\frame\\indexing\\test_mask.py -> build\\lib.win32-cpython-310\\pandas\\tests\\frame\\indexing\n",
      "  copying pandas\\tests\\frame\\indexing\\test_setitem.py -> build\\lib.win32-cpython-310\\pandas\\tests\\frame\\indexing\n",
      "  copying pandas\\tests\\frame\\indexing\\test_set_value.py -> build\\lib.win32-cpython-310\\pandas\\tests\\frame\\indexing\n",
      "  copying pandas\\tests\\frame\\indexing\\test_take.py -> build\\lib.win32-cpython-310\\pandas\\tests\\frame\\indexing\n",
      "  copying pandas\\tests\\frame\\indexing\\test_where.py -> build\\lib.win32-cpython-310\\pandas\\tests\\frame\\indexing\n",
      "  copying pandas\\tests\\frame\\indexing\\test_xs.py -> build\\lib.win32-cpython-310\\pandas\\tests\\frame\\indexing\n",
      "  copying pandas\\tests\\frame\\indexing\\__init__.py -> build\\lib.win32-cpython-310\\pandas\\tests\\frame\\indexing\n",
      "  creating build\\lib.win32-cpython-310\\pandas\\tests\\frame\\methods\n",
      "  copying pandas\\tests\\frame\\methods\\test_add_prefix_suffix.py -> build\\lib.win32-cpython-310\\pandas\\tests\\frame\\methods\n",
      "  copying pandas\\tests\\frame\\methods\\test_align.py -> build\\lib.win32-cpython-310\\pandas\\tests\\frame\\methods\n",
      "  copying pandas\\tests\\frame\\methods\\test_append.py -> build\\lib.win32-cpython-310\\pandas\\tests\\frame\\methods\n",
      "  copying pandas\\tests\\frame\\methods\\test_asfreq.py -> build\\lib.win32-cpython-310\\pandas\\tests\\frame\\methods\n",
      "  copying pandas\\tests\\frame\\methods\\test_asof.py -> build\\lib.win32-cpython-310\\pandas\\tests\\frame\\methods\n",
      "  copying pandas\\tests\\frame\\methods\\test_assign.py -> build\\lib.win32-cpython-310\\pandas\\tests\\frame\\methods\n",
      "  copying pandas\\tests\\frame\\methods\\test_astype.py -> build\\lib.win32-cpython-310\\pandas\\tests\\frame\\methods\n",
      "  copying pandas\\tests\\frame\\methods\\test_at_time.py -> build\\lib.win32-cpython-310\\pandas\\tests\\frame\\methods\n",
      "  copying pandas\\tests\\frame\\methods\\test_between_time.py -> build\\lib.win32-cpython-310\\pandas\\tests\\frame\\methods\n",
      "  copying pandas\\tests\\frame\\methods\\test_clip.py -> build\\lib.win32-cpython-310\\pandas\\tests\\frame\\methods\n",
      "  copying pandas\\tests\\frame\\methods\\test_combine.py -> build\\lib.win32-cpython-310\\pandas\\tests\\frame\\methods\n",
      "  copying pandas\\tests\\frame\\methods\\test_combine_first.py -> build\\lib.win32-cpython-310\\pandas\\tests\\frame\\methods\n",
      "  copying pandas\\tests\\frame\\methods\\test_compare.py -> build\\lib.win32-cpython-310\\pandas\\tests\\frame\\methods\n",
      "  copying pandas\\tests\\frame\\methods\\test_convert.py -> build\\lib.win32-cpython-310\\pandas\\tests\\frame\\methods\n",
      "  copying pandas\\tests\\frame\\methods\\test_convert_dtypes.py -> build\\lib.win32-cpython-310\\pandas\\tests\\frame\\methods\n",
      "  copying pandas\\tests\\frame\\methods\\test_copy.py -> build\\lib.win32-cpython-310\\pandas\\tests\\frame\\methods\n",
      "  copying pandas\\tests\\frame\\methods\\test_count.py -> build\\lib.win32-cpython-310\\pandas\\tests\\frame\\methods\n",
      "  copying pandas\\tests\\frame\\methods\\test_count_with_level_deprecated.py -> build\\lib.win32-cpython-310\\pandas\\tests\\frame\\methods\n",
      "  copying pandas\\tests\\frame\\methods\\test_cov_corr.py -> build\\lib.win32-cpython-310\\pandas\\tests\\frame\\methods\n",
      "  copying pandas\\tests\\frame\\methods\\test_describe.py -> build\\lib.win32-cpython-310\\pandas\\tests\\frame\\methods\n",
      "  copying pandas\\tests\\frame\\methods\\test_diff.py -> build\\lib.win32-cpython-310\\pandas\\tests\\frame\\methods\n",
      "  copying pandas\\tests\\frame\\methods\\test_dot.py -> build\\lib.win32-cpython-310\\pandas\\tests\\frame\\methods\n",
      "  copying pandas\\tests\\frame\\methods\\test_drop.py -> build\\lib.win32-cpython-310\\pandas\\tests\\frame\\methods\n",
      "  copying pandas\\tests\\frame\\methods\\test_droplevel.py -> build\\lib.win32-cpython-310\\pandas\\tests\\frame\\methods\n",
      "  copying pandas\\tests\\frame\\methods\\test_dropna.py -> build\\lib.win32-cpython-310\\pandas\\tests\\frame\\methods\n",
      "  copying pandas\\tests\\frame\\methods\\test_drop_duplicates.py -> build\\lib.win32-cpython-310\\pandas\\tests\\frame\\methods\n",
      "  copying pandas\\tests\\frame\\methods\\test_dtypes.py -> build\\lib.win32-cpython-310\\pandas\\tests\\frame\\methods\n",
      "  copying pandas\\tests\\frame\\methods\\test_duplicated.py -> build\\lib.win32-cpython-310\\pandas\\tests\\frame\\methods\n",
      "  copying pandas\\tests\\frame\\methods\\test_equals.py -> build\\lib.win32-cpython-310\\pandas\\tests\\frame\\methods\n",
      "  copying pandas\\tests\\frame\\methods\\test_explode.py -> build\\lib.win32-cpython-310\\pandas\\tests\\frame\\methods\n",
      "  copying pandas\\tests\\frame\\methods\\test_fillna.py -> build\\lib.win32-cpython-310\\pandas\\tests\\frame\\methods\n",
      "  copying pandas\\tests\\frame\\methods\\test_filter.py -> build\\lib.win32-cpython-310\\pandas\\tests\\frame\\methods\n",
      "  copying pandas\\tests\\frame\\methods\\test_first_and_last.py -> build\\lib.win32-cpython-310\\pandas\\tests\\frame\\methods\n",
      "  copying pandas\\tests\\frame\\methods\\test_first_valid_index.py -> build\\lib.win32-cpython-310\\pandas\\tests\\frame\\methods\n",
      "  copying pandas\\tests\\frame\\methods\\test_get_numeric_data.py -> build\\lib.win32-cpython-310\\pandas\\tests\\frame\\methods\n",
      "  copying pandas\\tests\\frame\\methods\\test_head_tail.py -> build\\lib.win32-cpython-310\\pandas\\tests\\frame\\methods\n",
      "  copying pandas\\tests\\frame\\methods\\test_infer_objects.py -> build\\lib.win32-cpython-310\\pandas\\tests\\frame\\methods\n",
      "  copying pandas\\tests\\frame\\methods\\test_interpolate.py -> build\\lib.win32-cpython-310\\pandas\\tests\\frame\\methods\n",
      "  copying pandas\\tests\\frame\\methods\\test_isin.py -> build\\lib.win32-cpython-310\\pandas\\tests\\frame\\methods\n",
      "  copying pandas\\tests\\frame\\methods\\test_is_homogeneous_dtype.py -> build\\lib.win32-cpython-310\\pandas\\tests\\frame\\methods\n",
      "  copying pandas\\tests\\frame\\methods\\test_join.py -> build\\lib.win32-cpython-310\\pandas\\tests\\frame\\methods\n",
      "  copying pandas\\tests\\frame\\methods\\test_matmul.py -> build\\lib.win32-cpython-310\\pandas\\tests\\frame\\methods\n",
      "  copying pandas\\tests\\frame\\methods\\test_nlargest.py -> build\\lib.win32-cpython-310\\pandas\\tests\\frame\\methods\n",
      "  copying pandas\\tests\\frame\\methods\\test_pct_change.py -> build\\lib.win32-cpython-310\\pandas\\tests\\frame\\methods\n",
      "  copying pandas\\tests\\frame\\methods\\test_pipe.py -> build\\lib.win32-cpython-310\\pandas\\tests\\frame\\methods\n",
      "  copying pandas\\tests\\frame\\methods\\test_pop.py -> build\\lib.win32-cpython-310\\pandas\\tests\\frame\\methods\n",
      "  copying pandas\\tests\\frame\\methods\\test_quantile.py -> build\\lib.win32-cpython-310\\pandas\\tests\\frame\\methods\n",
      "  copying pandas\\tests\\frame\\methods\\test_rank.py -> build\\lib.win32-cpython-310\\pandas\\tests\\frame\\methods\n",
      "  copying pandas\\tests\\frame\\methods\\test_reindex.py -> build\\lib.win32-cpython-310\\pandas\\tests\\frame\\methods\n",
      "  copying pandas\\tests\\frame\\methods\\test_reindex_like.py -> build\\lib.win32-cpython-310\\pandas\\tests\\frame\\methods\n",
      "  copying pandas\\tests\\frame\\methods\\test_rename.py -> build\\lib.win32-cpython-310\\pandas\\tests\\frame\\methods\n",
      "  copying pandas\\tests\\frame\\methods\\test_rename_axis.py -> build\\lib.win32-cpython-310\\pandas\\tests\\frame\\methods\n",
      "  copying pandas\\tests\\frame\\methods\\test_reorder_levels.py -> build\\lib.win32-cpython-310\\pandas\\tests\\frame\\methods\n",
      "  copying pandas\\tests\\frame\\methods\\test_replace.py -> build\\lib.win32-cpython-310\\pandas\\tests\\frame\\methods\n",
      "  copying pandas\\tests\\frame\\methods\\test_reset_index.py -> build\\lib.win32-cpython-310\\pandas\\tests\\frame\\methods\n",
      "  copying pandas\\tests\\frame\\methods\\test_round.py -> build\\lib.win32-cpython-310\\pandas\\tests\\frame\\methods\n",
      "  copying pandas\\tests\\frame\\methods\\test_sample.py -> build\\lib.win32-cpython-310\\pandas\\tests\\frame\\methods\n",
      "  copying pandas\\tests\\frame\\methods\\test_select_dtypes.py -> build\\lib.win32-cpython-310\\pandas\\tests\\frame\\methods\n",
      "  copying pandas\\tests\\frame\\methods\\test_set_axis.py -> build\\lib.win32-cpython-310\\pandas\\tests\\frame\\methods\n",
      "  copying pandas\\tests\\frame\\methods\\test_set_index.py -> build\\lib.win32-cpython-310\\pandas\\tests\\frame\\methods\n",
      "  copying pandas\\tests\\frame\\methods\\test_shift.py -> build\\lib.win32-cpython-310\\pandas\\tests\\frame\\methods\n",
      "  copying pandas\\tests\\frame\\methods\\test_sort_index.py -> build\\lib.win32-cpython-310\\pandas\\tests\\frame\\methods\n",
      "  copying pandas\\tests\\frame\\methods\\test_sort_values.py -> build\\lib.win32-cpython-310\\pandas\\tests\\frame\\methods\n",
      "  copying pandas\\tests\\frame\\methods\\test_swapaxes.py -> build\\lib.win32-cpython-310\\pandas\\tests\\frame\\methods\n",
      "  copying pandas\\tests\\frame\\methods\\test_swaplevel.py -> build\\lib.win32-cpython-310\\pandas\\tests\\frame\\methods\n",
      "  copying pandas\\tests\\frame\\methods\\test_to_csv.py -> build\\lib.win32-cpython-310\\pandas\\tests\\frame\\methods\n",
      "  copying pandas\\tests\\frame\\methods\\test_to_dict.py -> build\\lib.win32-cpython-310\\pandas\\tests\\frame\\methods\n",
      "  copying pandas\\tests\\frame\\methods\\test_to_dict_of_blocks.py -> build\\lib.win32-cpython-310\\pandas\\tests\\frame\\methods\n",
      "  copying pandas\\tests\\frame\\methods\\test_to_numpy.py -> build\\lib.win32-cpython-310\\pandas\\tests\\frame\\methods\n",
      "  copying pandas\\tests\\frame\\methods\\test_to_period.py -> build\\lib.win32-cpython-310\\pandas\\tests\\frame\\methods\n",
      "  copying pandas\\tests\\frame\\methods\\test_to_records.py -> build\\lib.win32-cpython-310\\pandas\\tests\\frame\\methods\n",
      "  copying pandas\\tests\\frame\\methods\\test_to_timestamp.py -> build\\lib.win32-cpython-310\\pandas\\tests\\frame\\methods\n",
      "  copying pandas\\tests\\frame\\methods\\test_transpose.py -> build\\lib.win32-cpython-310\\pandas\\tests\\frame\\methods\n",
      "  copying pandas\\tests\\frame\\methods\\test_truncate.py -> build\\lib.win32-cpython-310\\pandas\\tests\\frame\\methods\n",
      "  copying pandas\\tests\\frame\\methods\\test_tz_convert.py -> build\\lib.win32-cpython-310\\pandas\\tests\\frame\\methods\n",
      "  copying pandas\\tests\\frame\\methods\\test_tz_localize.py -> build\\lib.win32-cpython-310\\pandas\\tests\\frame\\methods\n",
      "  copying pandas\\tests\\frame\\methods\\test_update.py -> build\\lib.win32-cpython-310\\pandas\\tests\\frame\\methods\n",
      "  copying pandas\\tests\\frame\\methods\\test_values.py -> build\\lib.win32-cpython-310\\pandas\\tests\\frame\\methods\n",
      "  copying pandas\\tests\\frame\\methods\\test_value_counts.py -> build\\lib.win32-cpython-310\\pandas\\tests\\frame\\methods\n",
      "  copying pandas\\tests\\frame\\methods\\__init__.py -> build\\lib.win32-cpython-310\\pandas\\tests\\frame\\methods\n",
      "  creating build\\lib.win32-cpython-310\\pandas\\tests\\groupby\\aggregate\n",
      "  copying pandas\\tests\\groupby\\aggregate\\test_aggregate.py -> build\\lib.win32-cpython-310\\pandas\\tests\\groupby\\aggregate\n",
      "  copying pandas\\tests\\groupby\\aggregate\\test_cython.py -> build\\lib.win32-cpython-310\\pandas\\tests\\groupby\\aggregate\n",
      "  copying pandas\\tests\\groupby\\aggregate\\test_numba.py -> build\\lib.win32-cpython-310\\pandas\\tests\\groupby\\aggregate\n",
      "  copying pandas\\tests\\groupby\\aggregate\\test_other.py -> build\\lib.win32-cpython-310\\pandas\\tests\\groupby\\aggregate\n",
      "  copying pandas\\tests\\groupby\\aggregate\\__init__.py -> build\\lib.win32-cpython-310\\pandas\\tests\\groupby\\aggregate\n",
      "  creating build\\lib.win32-cpython-310\\pandas\\tests\\groupby\\transform\n",
      "  copying pandas\\tests\\groupby\\transform\\test_numba.py -> build\\lib.win32-cpython-310\\pandas\\tests\\groupby\\transform\n",
      "  copying pandas\\tests\\groupby\\transform\\test_transform.py -> build\\lib.win32-cpython-310\\pandas\\tests\\groupby\\transform\n",
      "  copying pandas\\tests\\groupby\\transform\\__init__.py -> build\\lib.win32-cpython-310\\pandas\\tests\\groupby\\transform\n",
      "  creating build\\lib.win32-cpython-310\\pandas\\tests\\indexes\\base_class\n",
      "  copying pandas\\tests\\indexes\\base_class\\test_constructors.py -> build\\lib.win32-cpython-310\\pandas\\tests\\indexes\\base_class\n",
      "  copying pandas\\tests\\indexes\\base_class\\test_formats.py -> build\\lib.win32-cpython-310\\pandas\\tests\\indexes\\base_class\n",
      "  copying pandas\\tests\\indexes\\base_class\\test_indexing.py -> build\\lib.win32-cpython-310\\pandas\\tests\\indexes\\base_class\n",
      "  copying pandas\\tests\\indexes\\base_class\\test_pickle.py -> build\\lib.win32-cpython-310\\pandas\\tests\\indexes\\base_class\n",
      "  copying pandas\\tests\\indexes\\base_class\\test_reshape.py -> build\\lib.win32-cpython-310\\pandas\\tests\\indexes\\base_class\n",
      "  copying pandas\\tests\\indexes\\base_class\\test_setops.py -> build\\lib.win32-cpython-310\\pandas\\tests\\indexes\\base_class\n",
      "  copying pandas\\tests\\indexes\\base_class\\test_where.py -> build\\lib.win32-cpython-310\\pandas\\tests\\indexes\\base_class\n",
      "  copying pandas\\tests\\indexes\\base_class\\__init__.py -> build\\lib.win32-cpython-310\\pandas\\tests\\indexes\\base_class\n",
      "  creating build\\lib.win32-cpython-310\\pandas\\tests\\indexes\\categorical\n",
      "  copying pandas\\tests\\indexes\\categorical\\test_append.py -> build\\lib.win32-cpython-310\\pandas\\tests\\indexes\\categorical\n",
      "  copying pandas\\tests\\indexes\\categorical\\test_astype.py -> build\\lib.win32-cpython-310\\pandas\\tests\\indexes\\categorical\n",
      "  copying pandas\\tests\\indexes\\categorical\\test_category.py -> build\\lib.win32-cpython-310\\pandas\\tests\\indexes\\categorical\n",
      "  copying pandas\\tests\\indexes\\categorical\\test_constructors.py -> build\\lib.win32-cpython-310\\pandas\\tests\\indexes\\categorical\n",
      "  copying pandas\\tests\\indexes\\categorical\\test_equals.py -> build\\lib.win32-cpython-310\\pandas\\tests\\indexes\\categorical\n",
      "  copying pandas\\tests\\indexes\\categorical\\test_fillna.py -> build\\lib.win32-cpython-310\\pandas\\tests\\indexes\\categorical\n",
      "  copying pandas\\tests\\indexes\\categorical\\test_formats.py -> build\\lib.win32-cpython-310\\pandas\\tests\\indexes\\categorical\n",
      "  copying pandas\\tests\\indexes\\categorical\\test_indexing.py -> build\\lib.win32-cpython-310\\pandas\\tests\\indexes\\categorical\n",
      "  copying pandas\\tests\\indexes\\categorical\\test_map.py -> build\\lib.win32-cpython-310\\pandas\\tests\\indexes\\categorical\n",
      "  copying pandas\\tests\\indexes\\categorical\\test_reindex.py -> build\\lib.win32-cpython-310\\pandas\\tests\\indexes\\categorical\n",
      "  copying pandas\\tests\\indexes\\categorical\\__init__.py -> build\\lib.win32-cpython-310\\pandas\\tests\\indexes\\categorical\n",
      "  creating build\\lib.win32-cpython-310\\pandas\\tests\\indexes\\datetimelike_\n",
      "  copying pandas\\tests\\indexes\\datetimelike_\\test_drop_duplicates.py -> build\\lib.win32-cpython-310\\pandas\\tests\\indexes\\datetimelike_\n",
      "  copying pandas\\tests\\indexes\\datetimelike_\\test_equals.py -> build\\lib.win32-cpython-310\\pandas\\tests\\indexes\\datetimelike_\n",
      "  copying pandas\\tests\\indexes\\datetimelike_\\test_indexing.py -> build\\lib.win32-cpython-310\\pandas\\tests\\indexes\\datetimelike_\n",
      "  copying pandas\\tests\\indexes\\datetimelike_\\test_is_monotonic.py -> build\\lib.win32-cpython-310\\pandas\\tests\\indexes\\datetimelike_\n",
      "  copying pandas\\tests\\indexes\\datetimelike_\\test_nat.py -> build\\lib.win32-cpython-310\\pandas\\tests\\indexes\\datetimelike_\n",
      "  copying pandas\\tests\\indexes\\datetimelike_\\test_sort_values.py -> build\\lib.win32-cpython-310\\pandas\\tests\\indexes\\datetimelike_\n",
      "  copying pandas\\tests\\indexes\\datetimelike_\\test_value_counts.py -> build\\lib.win32-cpython-310\\pandas\\tests\\indexes\\datetimelike_\n",
      "  copying pandas\\tests\\indexes\\datetimelike_\\__init__.py -> build\\lib.win32-cpython-310\\pandas\\tests\\indexes\\datetimelike_\n",
      "  creating build\\lib.win32-cpython-310\\pandas\\tests\\indexes\\datetimes\n",
      "  copying pandas\\tests\\indexes\\datetimes\\test_asof.py -> build\\lib.win32-cpython-310\\pandas\\tests\\indexes\\datetimes\n",
      "  copying pandas\\tests\\indexes\\datetimes\\test_constructors.py -> build\\lib.win32-cpython-310\\pandas\\tests\\indexes\\datetimes\n",
      "  copying pandas\\tests\\indexes\\datetimes\\test_datetime.py -> build\\lib.win32-cpython-310\\pandas\\tests\\indexes\\datetimes\n",
      "  copying pandas\\tests\\indexes\\datetimes\\test_datetimelike.py -> build\\lib.win32-cpython-310\\pandas\\tests\\indexes\\datetimes\n",
      "  copying pandas\\tests\\indexes\\datetimes\\test_date_range.py -> build\\lib.win32-cpython-310\\pandas\\tests\\indexes\\datetimes\n",
      "  copying pandas\\tests\\indexes\\datetimes\\test_delete.py -> build\\lib.win32-cpython-310\\pandas\\tests\\indexes\\datetimes\n",
      "  copying pandas\\tests\\indexes\\datetimes\\test_formats.py -> build\\lib.win32-cpython-310\\pandas\\tests\\indexes\\datetimes\n",
      "  copying pandas\\tests\\indexes\\datetimes\\test_freq_attr.py -> build\\lib.win32-cpython-310\\pandas\\tests\\indexes\\datetimes\n",
      "  copying pandas\\tests\\indexes\\datetimes\\test_indexing.py -> build\\lib.win32-cpython-310\\pandas\\tests\\indexes\\datetimes\n",
      "  copying pandas\\tests\\indexes\\datetimes\\test_join.py -> build\\lib.win32-cpython-310\\pandas\\tests\\indexes\\datetimes\n",
      "  copying pandas\\tests\\indexes\\datetimes\\test_map.py -> build\\lib.win32-cpython-310\\pandas\\tests\\indexes\\datetimes\n",
      "  copying pandas\\tests\\indexes\\datetimes\\test_misc.py -> build\\lib.win32-cpython-310\\pandas\\tests\\indexes\\datetimes\n",
      "  copying pandas\\tests\\indexes\\datetimes\\test_npfuncs.py -> build\\lib.win32-cpython-310\\pandas\\tests\\indexes\\datetimes\n",
      "  copying pandas\\tests\\indexes\\datetimes\\test_ops.py -> build\\lib.win32-cpython-310\\pandas\\tests\\indexes\\datetimes\n",
      "  copying pandas\\tests\\indexes\\datetimes\\test_partial_slicing.py -> build\\lib.win32-cpython-310\\pandas\\tests\\indexes\\datetimes\n",
      "  copying pandas\\tests\\indexes\\datetimes\\test_pickle.py -> build\\lib.win32-cpython-310\\pandas\\tests\\indexes\\datetimes\n",
      "  copying pandas\\tests\\indexes\\datetimes\\test_reindex.py -> build\\lib.win32-cpython-310\\pandas\\tests\\indexes\\datetimes\n",
      "  copying pandas\\tests\\indexes\\datetimes\\test_scalar_compat.py -> build\\lib.win32-cpython-310\\pandas\\tests\\indexes\\datetimes\n",
      "  copying pandas\\tests\\indexes\\datetimes\\test_setops.py -> build\\lib.win32-cpython-310\\pandas\\tests\\indexes\\datetimes\n",
      "  copying pandas\\tests\\indexes\\datetimes\\test_timezones.py -> build\\lib.win32-cpython-310\\pandas\\tests\\indexes\\datetimes\n",
      "  copying pandas\\tests\\indexes\\datetimes\\test_unique.py -> build\\lib.win32-cpython-310\\pandas\\tests\\indexes\\datetimes\n",
      "  copying pandas\\tests\\indexes\\datetimes\\__init__.py -> build\\lib.win32-cpython-310\\pandas\\tests\\indexes\\datetimes\n",
      "  creating build\\lib.win32-cpython-310\\pandas\\tests\\indexes\\interval\n",
      "  copying pandas\\tests\\indexes\\interval\\test_astype.py -> build\\lib.win32-cpython-310\\pandas\\tests\\indexes\\interval\n",
      "  copying pandas\\tests\\indexes\\interval\\test_base.py -> build\\lib.win32-cpython-310\\pandas\\tests\\indexes\\interval\n",
      "  copying pandas\\tests\\indexes\\interval\\test_constructors.py -> build\\lib.win32-cpython-310\\pandas\\tests\\indexes\\interval\n",
      "  copying pandas\\tests\\indexes\\interval\\test_equals.py -> build\\lib.win32-cpython-310\\pandas\\tests\\indexes\\interval\n",
      "  copying pandas\\tests\\indexes\\interval\\test_formats.py -> build\\lib.win32-cpython-310\\pandas\\tests\\indexes\\interval\n",
      "  copying pandas\\tests\\indexes\\interval\\test_indexing.py -> build\\lib.win32-cpython-310\\pandas\\tests\\indexes\\interval\n",
      "  copying pandas\\tests\\indexes\\interval\\test_interval.py -> build\\lib.win32-cpython-310\\pandas\\tests\\indexes\\interval\n",
      "  copying pandas\\tests\\indexes\\interval\\test_interval_range.py -> build\\lib.win32-cpython-310\\pandas\\tests\\indexes\\interval\n",
      "  copying pandas\\tests\\indexes\\interval\\test_interval_tree.py -> build\\lib.win32-cpython-310\\pandas\\tests\\indexes\\interval\n",
      "  copying pandas\\tests\\indexes\\interval\\test_join.py -> build\\lib.win32-cpython-310\\pandas\\tests\\indexes\\interval\n",
      "  copying pandas\\tests\\indexes\\interval\\test_pickle.py -> build\\lib.win32-cpython-310\\pandas\\tests\\indexes\\interval\n",
      "  copying pandas\\tests\\indexes\\interval\\test_setops.py -> build\\lib.win32-cpython-310\\pandas\\tests\\indexes\\interval\n",
      "  copying pandas\\tests\\indexes\\interval\\__init__.py -> build\\lib.win32-cpython-310\\pandas\\tests\\indexes\\interval\n",
      "  creating build\\lib.win32-cpython-310\\pandas\\tests\\indexes\\multi\n",
      "  copying pandas\\tests\\indexes\\multi\\conftest.py -> build\\lib.win32-cpython-310\\pandas\\tests\\indexes\\multi\n",
      "  copying pandas\\tests\\indexes\\multi\\test_analytics.py -> build\\lib.win32-cpython-310\\pandas\\tests\\indexes\\multi\n",
      "  copying pandas\\tests\\indexes\\multi\\test_astype.py -> build\\lib.win32-cpython-310\\pandas\\tests\\indexes\\multi\n",
      "  copying pandas\\tests\\indexes\\multi\\test_compat.py -> build\\lib.win32-cpython-310\\pandas\\tests\\indexes\\multi\n",
      "  copying pandas\\tests\\indexes\\multi\\test_constructors.py -> build\\lib.win32-cpython-310\\pandas\\tests\\indexes\\multi\n",
      "  copying pandas\\tests\\indexes\\multi\\test_conversion.py -> build\\lib.win32-cpython-310\\pandas\\tests\\indexes\\multi\n",
      "  copying pandas\\tests\\indexes\\multi\\test_copy.py -> build\\lib.win32-cpython-310\\pandas\\tests\\indexes\\multi\n",
      "  copying pandas\\tests\\indexes\\multi\\test_drop.py -> build\\lib.win32-cpython-310\\pandas\\tests\\indexes\\multi\n",
      "  copying pandas\\tests\\indexes\\multi\\test_duplicates.py -> build\\lib.win32-cpython-310\\pandas\\tests\\indexes\\multi\n",
      "  copying pandas\\tests\\indexes\\multi\\test_equivalence.py -> build\\lib.win32-cpython-310\\pandas\\tests\\indexes\\multi\n",
      "  copying pandas\\tests\\indexes\\multi\\test_formats.py -> build\\lib.win32-cpython-310\\pandas\\tests\\indexes\\multi\n",
      "  copying pandas\\tests\\indexes\\multi\\test_get_level_values.py -> build\\lib.win32-cpython-310\\pandas\\tests\\indexes\\multi\n",
      "  copying pandas\\tests\\indexes\\multi\\test_get_set.py -> build\\lib.win32-cpython-310\\pandas\\tests\\indexes\\multi\n",
      "  copying pandas\\tests\\indexes\\multi\\test_indexing.py -> build\\lib.win32-cpython-310\\pandas\\tests\\indexes\\multi\n",
      "  copying pandas\\tests\\indexes\\multi\\test_integrity.py -> build\\lib.win32-cpython-310\\pandas\\tests\\indexes\\multi\n",
      "  copying pandas\\tests\\indexes\\multi\\test_isin.py -> build\\lib.win32-cpython-310\\pandas\\tests\\indexes\\multi\n",
      "  copying pandas\\tests\\indexes\\multi\\test_join.py -> build\\lib.win32-cpython-310\\pandas\\tests\\indexes\\multi\n",
      "  copying pandas\\tests\\indexes\\multi\\test_lexsort.py -> build\\lib.win32-cpython-310\\pandas\\tests\\indexes\\multi\n",
      "  copying pandas\\tests\\indexes\\multi\\test_missing.py -> build\\lib.win32-cpython-310\\pandas\\tests\\indexes\\multi\n",
      "  copying pandas\\tests\\indexes\\multi\\test_monotonic.py -> build\\lib.win32-cpython-310\\pandas\\tests\\indexes\\multi\n",
      "  copying pandas\\tests\\indexes\\multi\\test_names.py -> build\\lib.win32-cpython-310\\pandas\\tests\\indexes\\multi\n",
      "  copying pandas\\tests\\indexes\\multi\\test_partial_indexing.py -> build\\lib.win32-cpython-310\\pandas\\tests\\indexes\\multi\n",
      "  copying pandas\\tests\\indexes\\multi\\test_pickle.py -> build\\lib.win32-cpython-310\\pandas\\tests\\indexes\\multi\n",
      "  copying pandas\\tests\\indexes\\multi\\test_reindex.py -> build\\lib.win32-cpython-310\\pandas\\tests\\indexes\\multi\n",
      "  copying pandas\\tests\\indexes\\multi\\test_reshape.py -> build\\lib.win32-cpython-310\\pandas\\tests\\indexes\\multi\n",
      "  copying pandas\\tests\\indexes\\multi\\test_setops.py -> build\\lib.win32-cpython-310\\pandas\\tests\\indexes\\multi\n",
      "  copying pandas\\tests\\indexes\\multi\\test_sorting.py -> build\\lib.win32-cpython-310\\pandas\\tests\\indexes\\multi\n",
      "  copying pandas\\tests\\indexes\\multi\\test_take.py -> build\\lib.win32-cpython-310\\pandas\\tests\\indexes\\multi\n",
      "  copying pandas\\tests\\indexes\\multi\\__init__.py -> build\\lib.win32-cpython-310\\pandas\\tests\\indexes\\multi\n",
      "  creating build\\lib.win32-cpython-310\\pandas\\tests\\indexes\\numeric\n",
      "  copying pandas\\tests\\indexes\\numeric\\test_astype.py -> build\\lib.win32-cpython-310\\pandas\\tests\\indexes\\numeric\n",
      "  copying pandas\\tests\\indexes\\numeric\\test_indexing.py -> build\\lib.win32-cpython-310\\pandas\\tests\\indexes\\numeric\n",
      "  copying pandas\\tests\\indexes\\numeric\\test_join.py -> build\\lib.win32-cpython-310\\pandas\\tests\\indexes\\numeric\n",
      "  copying pandas\\tests\\indexes\\numeric\\test_numeric.py -> build\\lib.win32-cpython-310\\pandas\\tests\\indexes\\numeric\n",
      "  copying pandas\\tests\\indexes\\numeric\\test_setops.py -> build\\lib.win32-cpython-310\\pandas\\tests\\indexes\\numeric\n",
      "  copying pandas\\tests\\indexes\\numeric\\__init__.py -> build\\lib.win32-cpython-310\\pandas\\tests\\indexes\\numeric\n",
      "  creating build\\lib.win32-cpython-310\\pandas\\tests\\indexes\\object\n",
      "  copying pandas\\tests\\indexes\\object\\test_astype.py -> build\\lib.win32-cpython-310\\pandas\\tests\\indexes\\object\n",
      "  copying pandas\\tests\\indexes\\object\\test_indexing.py -> build\\lib.win32-cpython-310\\pandas\\tests\\indexes\\object\n",
      "  copying pandas\\tests\\indexes\\object\\__init__.py -> build\\lib.win32-cpython-310\\pandas\\tests\\indexes\\object\n",
      "  creating build\\lib.win32-cpython-310\\pandas\\tests\\indexes\\period\n",
      "  copying pandas\\tests\\indexes\\period\\test_constructors.py -> build\\lib.win32-cpython-310\\pandas\\tests\\indexes\\period\n",
      "  copying pandas\\tests\\indexes\\period\\test_formats.py -> build\\lib.win32-cpython-310\\pandas\\tests\\indexes\\period\n",
      "  copying pandas\\tests\\indexes\\period\\test_freq_attr.py -> build\\lib.win32-cpython-310\\pandas\\tests\\indexes\\period\n",
      "  copying pandas\\tests\\indexes\\period\\test_indexing.py -> build\\lib.win32-cpython-310\\pandas\\tests\\indexes\\period\n",
      "  copying pandas\\tests\\indexes\\period\\test_join.py -> build\\lib.win32-cpython-310\\pandas\\tests\\indexes\\period\n",
      "  copying pandas\\tests\\indexes\\period\\test_monotonic.py -> build\\lib.win32-cpython-310\\pandas\\tests\\indexes\\period\n",
      "  copying pandas\\tests\\indexes\\period\\test_partial_slicing.py -> build\\lib.win32-cpython-310\\pandas\\tests\\indexes\\period\n",
      "  copying pandas\\tests\\indexes\\period\\test_period.py -> build\\lib.win32-cpython-310\\pandas\\tests\\indexes\\period\n",
      "  copying pandas\\tests\\indexes\\period\\test_period_range.py -> build\\lib.win32-cpython-310\\pandas\\tests\\indexes\\period\n",
      "  copying pandas\\tests\\indexes\\period\\test_pickle.py -> build\\lib.win32-cpython-310\\pandas\\tests\\indexes\\period\n",
      "  copying pandas\\tests\\indexes\\period\\test_resolution.py -> build\\lib.win32-cpython-310\\pandas\\tests\\indexes\\period\n",
      "  copying pandas\\tests\\indexes\\period\\test_scalar_compat.py -> build\\lib.win32-cpython-310\\pandas\\tests\\indexes\\period\n",
      "  copying pandas\\tests\\indexes\\period\\test_searchsorted.py -> build\\lib.win32-cpython-310\\pandas\\tests\\indexes\\period\n",
      "  copying pandas\\tests\\indexes\\period\\test_setops.py -> build\\lib.win32-cpython-310\\pandas\\tests\\indexes\\period\n",
      "  copying pandas\\tests\\indexes\\period\\test_tools.py -> build\\lib.win32-cpython-310\\pandas\\tests\\indexes\\period\n",
      "  copying pandas\\tests\\indexes\\period\\__init__.py -> build\\lib.win32-cpython-310\\pandas\\tests\\indexes\\period\n",
      "  creating build\\lib.win32-cpython-310\\pandas\\tests\\indexes\\ranges\n",
      "  copying pandas\\tests\\indexes\\ranges\\test_constructors.py -> build\\lib.win32-cpython-310\\pandas\\tests\\indexes\\ranges\n",
      "  copying pandas\\tests\\indexes\\ranges\\test_indexing.py -> build\\lib.win32-cpython-310\\pandas\\tests\\indexes\\ranges\n",
      "  copying pandas\\tests\\indexes\\ranges\\test_join.py -> build\\lib.win32-cpython-310\\pandas\\tests\\indexes\\ranges\n",
      "  copying pandas\\tests\\indexes\\ranges\\test_range.py -> build\\lib.win32-cpython-310\\pandas\\tests\\indexes\\ranges\n",
      "  copying pandas\\tests\\indexes\\ranges\\test_setops.py -> build\\lib.win32-cpython-310\\pandas\\tests\\indexes\\ranges\n",
      "  copying pandas\\tests\\indexes\\ranges\\__init__.py -> build\\lib.win32-cpython-310\\pandas\\tests\\indexes\\ranges\n",
      "  creating build\\lib.win32-cpython-310\\pandas\\tests\\indexes\\timedeltas\n",
      "  copying pandas\\tests\\indexes\\timedeltas\\test_constructors.py -> build\\lib.win32-cpython-310\\pandas\\tests\\indexes\\timedeltas\n",
      "  copying pandas\\tests\\indexes\\timedeltas\\test_delete.py -> build\\lib.win32-cpython-310\\pandas\\tests\\indexes\\timedeltas\n",
      "  copying pandas\\tests\\indexes\\timedeltas\\test_formats.py -> build\\lib.win32-cpython-310\\pandas\\tests\\indexes\\timedeltas\n",
      "  copying pandas\\tests\\indexes\\timedeltas\\test_freq_attr.py -> build\\lib.win32-cpython-310\\pandas\\tests\\indexes\\timedeltas\n",
      "  copying pandas\\tests\\indexes\\timedeltas\\test_indexing.py -> build\\lib.win32-cpython-310\\pandas\\tests\\indexes\\timedeltas\n",
      "  copying pandas\\tests\\indexes\\timedeltas\\test_join.py -> build\\lib.win32-cpython-310\\pandas\\tests\\indexes\\timedeltas\n",
      "  copying pandas\\tests\\indexes\\timedeltas\\test_ops.py -> build\\lib.win32-cpython-310\\pandas\\tests\\indexes\\timedeltas\n",
      "  copying pandas\\tests\\indexes\\timedeltas\\test_pickle.py -> build\\lib.win32-cpython-310\\pandas\\tests\\indexes\\timedeltas\n",
      "  copying pandas\\tests\\indexes\\timedeltas\\test_scalar_compat.py -> build\\lib.win32-cpython-310\\pandas\\tests\\indexes\\timedeltas\n",
      "  copying pandas\\tests\\indexes\\timedeltas\\test_searchsorted.py -> build\\lib.win32-cpython-310\\pandas\\tests\\indexes\\timedeltas\n",
      "  copying pandas\\tests\\indexes\\timedeltas\\test_setops.py -> build\\lib.win32-cpython-310\\pandas\\tests\\indexes\\timedeltas\n",
      "  copying pandas\\tests\\indexes\\timedeltas\\test_timedelta.py -> build\\lib.win32-cpython-310\\pandas\\tests\\indexes\\timedeltas\n",
      "  copying pandas\\tests\\indexes\\timedeltas\\test_timedelta_range.py -> build\\lib.win32-cpython-310\\pandas\\tests\\indexes\\timedeltas\n",
      "  copying pandas\\tests\\indexes\\timedeltas\\__init__.py -> build\\lib.win32-cpython-310\\pandas\\tests\\indexes\\timedeltas\n",
      "  creating build\\lib.win32-cpython-310\\pandas\\tests\\indexes\\datetimes\\methods\n",
      "  copying pandas\\tests\\indexes\\datetimes\\methods\\test_astype.py -> build\\lib.win32-cpython-310\\pandas\\tests\\indexes\\datetimes\\methods\n",
      "  copying pandas\\tests\\indexes\\datetimes\\methods\\test_factorize.py -> build\\lib.win32-cpython-310\\pandas\\tests\\indexes\\datetimes\\methods\n",
      "  copying pandas\\tests\\indexes\\datetimes\\methods\\test_fillna.py -> build\\lib.win32-cpython-310\\pandas\\tests\\indexes\\datetimes\\methods\n",
      "  copying pandas\\tests\\indexes\\datetimes\\methods\\test_insert.py -> build\\lib.win32-cpython-310\\pandas\\tests\\indexes\\datetimes\\methods\n",
      "  copying pandas\\tests\\indexes\\datetimes\\methods\\test_isocalendar.py -> build\\lib.win32-cpython-310\\pandas\\tests\\indexes\\datetimes\\methods\n",
      "  copying pandas\\tests\\indexes\\datetimes\\methods\\test_repeat.py -> build\\lib.win32-cpython-310\\pandas\\tests\\indexes\\datetimes\\methods\n",
      "  copying pandas\\tests\\indexes\\datetimes\\methods\\test_shift.py -> build\\lib.win32-cpython-310\\pandas\\tests\\indexes\\datetimes\\methods\n",
      "  copying pandas\\tests\\indexes\\datetimes\\methods\\test_snap.py -> build\\lib.win32-cpython-310\\pandas\\tests\\indexes\\datetimes\\methods\n",
      "  copying pandas\\tests\\indexes\\datetimes\\methods\\test_to_frame.py -> build\\lib.win32-cpython-310\\pandas\\tests\\indexes\\datetimes\\methods\n",
      "  copying pandas\\tests\\indexes\\datetimes\\methods\\test_to_period.py -> build\\lib.win32-cpython-310\\pandas\\tests\\indexes\\datetimes\\methods\n",
      "  copying pandas\\tests\\indexes\\datetimes\\methods\\test_to_series.py -> build\\lib.win32-cpython-310\\pandas\\tests\\indexes\\datetimes\\methods\n",
      "  copying pandas\\tests\\indexes\\datetimes\\methods\\__init__.py -> build\\lib.win32-cpython-310\\pandas\\tests\\indexes\\datetimes\\methods\n",
      "  creating build\\lib.win32-cpython-310\\pandas\\tests\\indexes\\period\\methods\n",
      "  copying pandas\\tests\\indexes\\period\\methods\\test_asfreq.py -> build\\lib.win32-cpython-310\\pandas\\tests\\indexes\\period\\methods\n",
      "  copying pandas\\tests\\indexes\\period\\methods\\test_astype.py -> build\\lib.win32-cpython-310\\pandas\\tests\\indexes\\period\\methods\n",
      "  copying pandas\\tests\\indexes\\period\\methods\\test_factorize.py -> build\\lib.win32-cpython-310\\pandas\\tests\\indexes\\period\\methods\n",
      "  copying pandas\\tests\\indexes\\period\\methods\\test_fillna.py -> build\\lib.win32-cpython-310\\pandas\\tests\\indexes\\period\\methods\n",
      "  copying pandas\\tests\\indexes\\period\\methods\\test_insert.py -> build\\lib.win32-cpython-310\\pandas\\tests\\indexes\\period\\methods\n",
      "  copying pandas\\tests\\indexes\\period\\methods\\test_is_full.py -> build\\lib.win32-cpython-310\\pandas\\tests\\indexes\\period\\methods\n",
      "  copying pandas\\tests\\indexes\\period\\methods\\test_repeat.py -> build\\lib.win32-cpython-310\\pandas\\tests\\indexes\\period\\methods\n",
      "  copying pandas\\tests\\indexes\\period\\methods\\test_shift.py -> build\\lib.win32-cpython-310\\pandas\\tests\\indexes\\period\\methods\n",
      "  copying pandas\\tests\\indexes\\period\\methods\\test_to_timestamp.py -> build\\lib.win32-cpython-310\\pandas\\tests\\indexes\\period\\methods\n",
      "  copying pandas\\tests\\indexes\\period\\methods\\__init__.py -> build\\lib.win32-cpython-310\\pandas\\tests\\indexes\\period\\methods\n",
      "  creating build\\lib.win32-cpython-310\\pandas\\tests\\indexes\\timedeltas\\methods\n",
      "  copying pandas\\tests\\indexes\\timedeltas\\methods\\test_astype.py -> build\\lib.win32-cpython-310\\pandas\\tests\\indexes\\timedeltas\\methods\n",
      "  copying pandas\\tests\\indexes\\timedeltas\\methods\\test_factorize.py -> build\\lib.win32-cpython-310\\pandas\\tests\\indexes\\timedeltas\\methods\n",
      "  copying pandas\\tests\\indexes\\timedeltas\\methods\\test_fillna.py -> build\\lib.win32-cpython-310\\pandas\\tests\\indexes\\timedeltas\\methods\n",
      "  copying pandas\\tests\\indexes\\timedeltas\\methods\\test_insert.py -> build\\lib.win32-cpython-310\\pandas\\tests\\indexes\\timedeltas\\methods\n",
      "  copying pandas\\tests\\indexes\\timedeltas\\methods\\test_repeat.py -> build\\lib.win32-cpython-310\\pandas\\tests\\indexes\\timedeltas\\methods\n",
      "  copying pandas\\tests\\indexes\\timedeltas\\methods\\test_shift.py -> build\\lib.win32-cpython-310\\pandas\\tests\\indexes\\timedeltas\\methods\n",
      "  copying pandas\\tests\\indexes\\timedeltas\\methods\\__init__.py -> build\\lib.win32-cpython-310\\pandas\\tests\\indexes\\timedeltas\\methods\n",
      "  creating build\\lib.win32-cpython-310\\pandas\\tests\\indexing\\interval\n",
      "  copying pandas\\tests\\indexing\\interval\\test_interval.py -> build\\lib.win32-cpython-310\\pandas\\tests\\indexing\\interval\n",
      "  copying pandas\\tests\\indexing\\interval\\test_interval_new.py -> build\\lib.win32-cpython-310\\pandas\\tests\\indexing\\interval\n",
      "  copying pandas\\tests\\indexing\\interval\\__init__.py -> build\\lib.win32-cpython-310\\pandas\\tests\\indexing\\interval\n",
      "  creating build\\lib.win32-cpython-310\\pandas\\tests\\indexing\\multiindex\n",
      "  copying pandas\\tests\\indexing\\multiindex\\test_chaining_and_caching.py -> build\\lib.win32-cpython-310\\pandas\\tests\\indexing\\multiindex\n",
      "  copying pandas\\tests\\indexing\\multiindex\\test_datetime.py -> build\\lib.win32-cpython-310\\pandas\\tests\\indexing\\multiindex\n",
      "  copying pandas\\tests\\indexing\\multiindex\\test_getitem.py -> build\\lib.win32-cpython-310\\pandas\\tests\\indexing\\multiindex\n",
      "  copying pandas\\tests\\indexing\\multiindex\\test_iloc.py -> build\\lib.win32-cpython-310\\pandas\\tests\\indexing\\multiindex\n",
      "  copying pandas\\tests\\indexing\\multiindex\\test_indexing_slow.py -> build\\lib.win32-cpython-310\\pandas\\tests\\indexing\\multiindex\n",
      "  copying pandas\\tests\\indexing\\multiindex\\test_loc.py -> build\\lib.win32-cpython-310\\pandas\\tests\\indexing\\multiindex\n",
      "  copying pandas\\tests\\indexing\\multiindex\\test_multiindex.py -> build\\lib.win32-cpython-310\\pandas\\tests\\indexing\\multiindex\n",
      "  copying pandas\\tests\\indexing\\multiindex\\test_partial.py -> build\\lib.win32-cpython-310\\pandas\\tests\\indexing\\multiindex\n",
      "  copying pandas\\tests\\indexing\\multiindex\\test_setitem.py -> build\\lib.win32-cpython-310\\pandas\\tests\\indexing\\multiindex\n",
      "  copying pandas\\tests\\indexing\\multiindex\\test_slice.py -> build\\lib.win32-cpython-310\\pandas\\tests\\indexing\\multiindex\n",
      "  copying pandas\\tests\\indexing\\multiindex\\test_sorted.py -> build\\lib.win32-cpython-310\\pandas\\tests\\indexing\\multiindex\n",
      "  copying pandas\\tests\\indexing\\multiindex\\__init__.py -> build\\lib.win32-cpython-310\\pandas\\tests\\indexing\\multiindex\n",
      "  creating build\\lib.win32-cpython-310\\pandas\\tests\\io\\excel\n",
      "  copying pandas\\tests\\io\\excel\\conftest.py -> build\\lib.win32-cpython-310\\pandas\\tests\\io\\excel\n",
      "  copying pandas\\tests\\io\\excel\\test_odf.py -> build\\lib.win32-cpython-310\\pandas\\tests\\io\\excel\n",
      "  copying pandas\\tests\\io\\excel\\test_odswriter.py -> build\\lib.win32-cpython-310\\pandas\\tests\\io\\excel\n",
      "  copying pandas\\tests\\io\\excel\\test_openpyxl.py -> build\\lib.win32-cpython-310\\pandas\\tests\\io\\excel\n",
      "  copying pandas\\tests\\io\\excel\\test_readers.py -> build\\lib.win32-cpython-310\\pandas\\tests\\io\\excel\n",
      "  copying pandas\\tests\\io\\excel\\test_style.py -> build\\lib.win32-cpython-310\\pandas\\tests\\io\\excel\n",
      "  copying pandas\\tests\\io\\excel\\test_writers.py -> build\\lib.win32-cpython-310\\pandas\\tests\\io\\excel\n",
      "  copying pandas\\tests\\io\\excel\\test_xlrd.py -> build\\lib.win32-cpython-310\\pandas\\tests\\io\\excel\n",
      "  copying pandas\\tests\\io\\excel\\test_xlsxwriter.py -> build\\lib.win32-cpython-310\\pandas\\tests\\io\\excel\n",
      "  copying pandas\\tests\\io\\excel\\test_xlwt.py -> build\\lib.win32-cpython-310\\pandas\\tests\\io\\excel\n",
      "  copying pandas\\tests\\io\\excel\\__init__.py -> build\\lib.win32-cpython-310\\pandas\\tests\\io\\excel\n",
      "  creating build\\lib.win32-cpython-310\\pandas\\tests\\io\\formats\n",
      "  copying pandas\\tests\\io\\formats\\test_console.py -> build\\lib.win32-cpython-310\\pandas\\tests\\io\\formats\n",
      "  copying pandas\\tests\\io\\formats\\test_css.py -> build\\lib.win32-cpython-310\\pandas\\tests\\io\\formats\n",
      "  copying pandas\\tests\\io\\formats\\test_eng_formatting.py -> build\\lib.win32-cpython-310\\pandas\\tests\\io\\formats\n",
      "  copying pandas\\tests\\io\\formats\\test_format.py -> build\\lib.win32-cpython-310\\pandas\\tests\\io\\formats\n",
      "  copying pandas\\tests\\io\\formats\\test_info.py -> build\\lib.win32-cpython-310\\pandas\\tests\\io\\formats\n",
      "  copying pandas\\tests\\io\\formats\\test_printing.py -> build\\lib.win32-cpython-310\\pandas\\tests\\io\\formats\n",
      "  copying pandas\\tests\\io\\formats\\test_series_info.py -> build\\lib.win32-cpython-310\\pandas\\tests\\io\\formats\n",
      "  copying pandas\\tests\\io\\formats\\test_to_csv.py -> build\\lib.win32-cpython-310\\pandas\\tests\\io\\formats\n",
      "  copying pandas\\tests\\io\\formats\\test_to_excel.py -> build\\lib.win32-cpython-310\\pandas\\tests\\io\\formats\n",
      "  copying pandas\\tests\\io\\formats\\test_to_html.py -> build\\lib.win32-cpython-310\\pandas\\tests\\io\\formats\n",
      "  copying pandas\\tests\\io\\formats\\test_to_latex.py -> build\\lib.win32-cpython-310\\pandas\\tests\\io\\formats\n",
      "  copying pandas\\tests\\io\\formats\\test_to_markdown.py -> build\\lib.win32-cpython-310\\pandas\\tests\\io\\formats\n",
      "  copying pandas\\tests\\io\\formats\\test_to_string.py -> build\\lib.win32-cpython-310\\pandas\\tests\\io\\formats\n",
      "  copying pandas\\tests\\io\\formats\\__init__.py -> build\\lib.win32-cpython-310\\pandas\\tests\\io\\formats\n",
      "  creating build\\lib.win32-cpython-310\\pandas\\tests\\io\\json\n",
      "  copying pandas\\tests\\io\\json\\conftest.py -> build\\lib.win32-cpython-310\\pandas\\tests\\io\\json\n",
      "  copying pandas\\tests\\io\\json\\test_compression.py -> build\\lib.win32-cpython-310\\pandas\\tests\\io\\json\n",
      "  copying pandas\\tests\\io\\json\\test_deprecated_kwargs.py -> build\\lib.win32-cpython-310\\pandas\\tests\\io\\json\n",
      "  copying pandas\\tests\\io\\json\\test_json_table_schema.py -> build\\lib.win32-cpython-310\\pandas\\tests\\io\\json\n",
      "  copying pandas\\tests\\io\\json\\test_json_table_schema_ext_dtype.py -> build\\lib.win32-cpython-310\\pandas\\tests\\io\\json\n",
      "  copying pandas\\tests\\io\\json\\test_normalize.py -> build\\lib.win32-cpython-310\\pandas\\tests\\io\\json\n",
      "  copying pandas\\tests\\io\\json\\test_pandas.py -> build\\lib.win32-cpython-310\\pandas\\tests\\io\\json\n",
      "  copying pandas\\tests\\io\\json\\test_readlines.py -> build\\lib.win32-cpython-310\\pandas\\tests\\io\\json\n",
      "  copying pandas\\tests\\io\\json\\test_ujson.py -> build\\lib.win32-cpython-310\\pandas\\tests\\io\\json\n",
      "  copying pandas\\tests\\io\\json\\__init__.py -> build\\lib.win32-cpython-310\\pandas\\tests\\io\\json\n",
      "  creating build\\lib.win32-cpython-310\\pandas\\tests\\io\\parser\n",
      "  copying pandas\\tests\\io\\parser\\conftest.py -> build\\lib.win32-cpython-310\\pandas\\tests\\io\\parser\n",
      "  copying pandas\\tests\\io\\parser\\test_comment.py -> build\\lib.win32-cpython-310\\pandas\\tests\\io\\parser\n",
      "  copying pandas\\tests\\io\\parser\\test_compression.py -> build\\lib.win32-cpython-310\\pandas\\tests\\io\\parser\n",
      "  copying pandas\\tests\\io\\parser\\test_converters.py -> build\\lib.win32-cpython-310\\pandas\\tests\\io\\parser\n",
      "  copying pandas\\tests\\io\\parser\\test_c_parser_only.py -> build\\lib.win32-cpython-310\\pandas\\tests\\io\\parser\n",
      "  copying pandas\\tests\\io\\parser\\test_dialect.py -> build\\lib.win32-cpython-310\\pandas\\tests\\io\\parser\n",
      "  copying pandas\\tests\\io\\parser\\test_encoding.py -> build\\lib.win32-cpython-310\\pandas\\tests\\io\\parser\n",
      "  copying pandas\\tests\\io\\parser\\test_header.py -> build\\lib.win32-cpython-310\\pandas\\tests\\io\\parser\n",
      "  copying pandas\\tests\\io\\parser\\test_index_col.py -> build\\lib.win32-cpython-310\\pandas\\tests\\io\\parser\n",
      "  copying pandas\\tests\\io\\parser\\test_mangle_dupes.py -> build\\lib.win32-cpython-310\\pandas\\tests\\io\\parser\n",
      "  copying pandas\\tests\\io\\parser\\test_multi_thread.py -> build\\lib.win32-cpython-310\\pandas\\tests\\io\\parser\n",
      "  copying pandas\\tests\\io\\parser\\test_na_values.py -> build\\lib.win32-cpython-310\\pandas\\tests\\io\\parser\n",
      "  copying pandas\\tests\\io\\parser\\test_network.py -> build\\lib.win32-cpython-310\\pandas\\tests\\io\\parser\n",
      "  copying pandas\\tests\\io\\parser\\test_parse_dates.py -> build\\lib.win32-cpython-310\\pandas\\tests\\io\\parser\n",
      "  copying pandas\\tests\\io\\parser\\test_python_parser_only.py -> build\\lib.win32-cpython-310\\pandas\\tests\\io\\parser\n",
      "  copying pandas\\tests\\io\\parser\\test_quoting.py -> build\\lib.win32-cpython-310\\pandas\\tests\\io\\parser\n",
      "  copying pandas\\tests\\io\\parser\\test_read_fwf.py -> build\\lib.win32-cpython-310\\pandas\\tests\\io\\parser\n",
      "  copying pandas\\tests\\io\\parser\\test_skiprows.py -> build\\lib.win32-cpython-310\\pandas\\tests\\io\\parser\n",
      "  copying pandas\\tests\\io\\parser\\test_textreader.py -> build\\lib.win32-cpython-310\\pandas\\tests\\io\\parser\n",
      "  copying pandas\\tests\\io\\parser\\test_unsupported.py -> build\\lib.win32-cpython-310\\pandas\\tests\\io\\parser\n",
      "  copying pandas\\tests\\io\\parser\\__init__.py -> build\\lib.win32-cpython-310\\pandas\\tests\\io\\parser\n",
      "  creating build\\lib.win32-cpython-310\\pandas\\tests\\io\\pytables\n",
      "  copying pandas\\tests\\io\\pytables\\common.py -> build\\lib.win32-cpython-310\\pandas\\tests\\io\\pytables\n",
      "  copying pandas\\tests\\io\\pytables\\conftest.py -> build\\lib.win32-cpython-310\\pandas\\tests\\io\\pytables\n",
      "  copying pandas\\tests\\io\\pytables\\test_append.py -> build\\lib.win32-cpython-310\\pandas\\tests\\io\\pytables\n",
      "  copying pandas\\tests\\io\\pytables\\test_categorical.py -> build\\lib.win32-cpython-310\\pandas\\tests\\io\\pytables\n",
      "  copying pandas\\tests\\io\\pytables\\test_compat.py -> build\\lib.win32-cpython-310\\pandas\\tests\\io\\pytables\n",
      "  copying pandas\\tests\\io\\pytables\\test_complex.py -> build\\lib.win32-cpython-310\\pandas\\tests\\io\\pytables\n",
      "  copying pandas\\tests\\io\\pytables\\test_errors.py -> build\\lib.win32-cpython-310\\pandas\\tests\\io\\pytables\n",
      "  copying pandas\\tests\\io\\pytables\\test_file_handling.py -> build\\lib.win32-cpython-310\\pandas\\tests\\io\\pytables\n",
      "  copying pandas\\tests\\io\\pytables\\test_keys.py -> build\\lib.win32-cpython-310\\pandas\\tests\\io\\pytables\n",
      "  copying pandas\\tests\\io\\pytables\\test_put.py -> build\\lib.win32-cpython-310\\pandas\\tests\\io\\pytables\n",
      "  copying pandas\\tests\\io\\pytables\\test_pytables_missing.py -> build\\lib.win32-cpython-310\\pandas\\tests\\io\\pytables\n",
      "  copying pandas\\tests\\io\\pytables\\test_read.py -> build\\lib.win32-cpython-310\\pandas\\tests\\io\\pytables\n",
      "  copying pandas\\tests\\io\\pytables\\test_retain_attributes.py -> build\\lib.win32-cpython-310\\pandas\\tests\\io\\pytables\n",
      "  copying pandas\\tests\\io\\pytables\\test_round_trip.py -> build\\lib.win32-cpython-310\\pandas\\tests\\io\\pytables\n",
      "  copying pandas\\tests\\io\\pytables\\test_select.py -> build\\lib.win32-cpython-310\\pandas\\tests\\io\\pytables\n",
      "  copying pandas\\tests\\io\\pytables\\test_store.py -> build\\lib.win32-cpython-310\\pandas\\tests\\io\\pytables\n",
      "  copying pandas\\tests\\io\\pytables\\test_subclass.py -> build\\lib.win32-cpython-310\\pandas\\tests\\io\\pytables\n",
      "  copying pandas\\tests\\io\\pytables\\test_timezones.py -> build\\lib.win32-cpython-310\\pandas\\tests\\io\\pytables\n",
      "  copying pandas\\tests\\io\\pytables\\test_time_series.py -> build\\lib.win32-cpython-310\\pandas\\tests\\io\\pytables\n",
      "  copying pandas\\tests\\io\\pytables\\__init__.py -> build\\lib.win32-cpython-310\\pandas\\tests\\io\\pytables\n",
      "  creating build\\lib.win32-cpython-310\\pandas\\tests\\io\\sas\n",
      "  copying pandas\\tests\\io\\sas\\test_sas.py -> build\\lib.win32-cpython-310\\pandas\\tests\\io\\sas\n",
      "  copying pandas\\tests\\io\\sas\\test_sas7bdat.py -> build\\lib.win32-cpython-310\\pandas\\tests\\io\\sas\n",
      "  copying pandas\\tests\\io\\sas\\test_xport.py -> build\\lib.win32-cpython-310\\pandas\\tests\\io\\sas\n",
      "  copying pandas\\tests\\io\\sas\\__init__.py -> build\\lib.win32-cpython-310\\pandas\\tests\\io\\sas\n",
      "  creating build\\lib.win32-cpython-310\\pandas\\tests\\io\\xml\n",
      "  copying pandas\\tests\\io\\xml\\test_to_xml.py -> build\\lib.win32-cpython-310\\pandas\\tests\\io\\xml\n",
      "  copying pandas\\tests\\io\\xml\\test_xml.py -> build\\lib.win32-cpython-310\\pandas\\tests\\io\\xml\n",
      "  copying pandas\\tests\\io\\xml\\test_xml_dtypes.py -> build\\lib.win32-cpython-310\\pandas\\tests\\io\\xml\n",
      "  copying pandas\\tests\\io\\xml\\__init__.py -> build\\lib.win32-cpython-310\\pandas\\tests\\io\\xml\n",
      "  creating build\\lib.win32-cpython-310\\pandas\\tests\\io\\formats\\style\n",
      "  copying pandas\\tests\\io\\formats\\style\\test_bar.py -> build\\lib.win32-cpython-310\\pandas\\tests\\io\\formats\\style\n",
      "  copying pandas\\tests\\io\\formats\\style\\test_deprecated.py -> build\\lib.win32-cpython-310\\pandas\\tests\\io\\formats\\style\n",
      "  copying pandas\\tests\\io\\formats\\style\\test_exceptions.py -> build\\lib.win32-cpython-310\\pandas\\tests\\io\\formats\\style\n",
      "  copying pandas\\tests\\io\\formats\\style\\test_format.py -> build\\lib.win32-cpython-310\\pandas\\tests\\io\\formats\\style\n",
      "  copying pandas\\tests\\io\\formats\\style\\test_highlight.py -> build\\lib.win32-cpython-310\\pandas\\tests\\io\\formats\\style\n",
      "  copying pandas\\tests\\io\\formats\\style\\test_html.py -> build\\lib.win32-cpython-310\\pandas\\tests\\io\\formats\\style\n",
      "  copying pandas\\tests\\io\\formats\\style\\test_matplotlib.py -> build\\lib.win32-cpython-310\\pandas\\tests\\io\\formats\\style\n",
      "  copying pandas\\tests\\io\\formats\\style\\test_non_unique.py -> build\\lib.win32-cpython-310\\pandas\\tests\\io\\formats\\style\n",
      "  copying pandas\\tests\\io\\formats\\style\\test_style.py -> build\\lib.win32-cpython-310\\pandas\\tests\\io\\formats\\style\n",
      "  copying pandas\\tests\\io\\formats\\style\\test_tooltip.py -> build\\lib.win32-cpython-310\\pandas\\tests\\io\\formats\\style\n",
      "  copying pandas\\tests\\io\\formats\\style\\test_to_latex.py -> build\\lib.win32-cpython-310\\pandas\\tests\\io\\formats\\style\n",
      "  copying pandas\\tests\\io\\formats\\style\\test_to_string.py -> build\\lib.win32-cpython-310\\pandas\\tests\\io\\formats\\style\n",
      "  copying pandas\\tests\\io\\formats\\style\\__init__.py -> build\\lib.win32-cpython-310\\pandas\\tests\\io\\formats\\style\n",
      "  creating build\\lib.win32-cpython-310\\pandas\\tests\\io\\parser\\common\n",
      "  copying pandas\\tests\\io\\parser\\common\\test_chunksize.py -> build\\lib.win32-cpython-310\\pandas\\tests\\io\\parser\\common\n",
      "  copying pandas\\tests\\io\\parser\\common\\test_common_basic.py -> build\\lib.win32-cpython-310\\pandas\\tests\\io\\parser\\common\n",
      "  copying pandas\\tests\\io\\parser\\common\\test_data_list.py -> build\\lib.win32-cpython-310\\pandas\\tests\\io\\parser\\common\n",
      "  copying pandas\\tests\\io\\parser\\common\\test_decimal.py -> build\\lib.win32-cpython-310\\pandas\\tests\\io\\parser\\common\n",
      "  copying pandas\\tests\\io\\parser\\common\\test_file_buffer_url.py -> build\\lib.win32-cpython-310\\pandas\\tests\\io\\parser\\common\n",
      "  copying pandas\\tests\\io\\parser\\common\\test_float.py -> build\\lib.win32-cpython-310\\pandas\\tests\\io\\parser\\common\n",
      "  copying pandas\\tests\\io\\parser\\common\\test_index.py -> build\\lib.win32-cpython-310\\pandas\\tests\\io\\parser\\common\n",
      "  copying pandas\\tests\\io\\parser\\common\\test_inf.py -> build\\lib.win32-cpython-310\\pandas\\tests\\io\\parser\\common\n",
      "  copying pandas\\tests\\io\\parser\\common\\test_ints.py -> build\\lib.win32-cpython-310\\pandas\\tests\\io\\parser\\common\n",
      "  copying pandas\\tests\\io\\parser\\common\\test_iterator.py -> build\\lib.win32-cpython-310\\pandas\\tests\\io\\parser\\common\n",
      "  copying pandas\\tests\\io\\parser\\common\\test_read_errors.py -> build\\lib.win32-cpython-310\\pandas\\tests\\io\\parser\\common\n",
      "  copying pandas\\tests\\io\\parser\\common\\test_verbose.py -> build\\lib.win32-cpython-310\\pandas\\tests\\io\\parser\\common\n",
      "  copying pandas\\tests\\io\\parser\\common\\__init__.py -> build\\lib.win32-cpython-310\\pandas\\tests\\io\\parser\\common\n",
      "  creating build\\lib.win32-cpython-310\\pandas\\tests\\io\\parser\\dtypes\n",
      "  copying pandas\\tests\\io\\parser\\dtypes\\test_categorical.py -> build\\lib.win32-cpython-310\\pandas\\tests\\io\\parser\\dtypes\n",
      "  copying pandas\\tests\\io\\parser\\dtypes\\test_dtypes_basic.py -> build\\lib.win32-cpython-310\\pandas\\tests\\io\\parser\\dtypes\n",
      "  copying pandas\\tests\\io\\parser\\dtypes\\test_empty.py -> build\\lib.win32-cpython-310\\pandas\\tests\\io\\parser\\dtypes\n",
      "  copying pandas\\tests\\io\\parser\\dtypes\\__init__.py -> build\\lib.win32-cpython-310\\pandas\\tests\\io\\parser\\dtypes\n",
      "  creating build\\lib.win32-cpython-310\\pandas\\tests\\io\\parser\\usecols\n",
      "  copying pandas\\tests\\io\\parser\\usecols\\test_parse_dates.py -> build\\lib.win32-cpython-310\\pandas\\tests\\io\\parser\\usecols\n",
      "  copying pandas\\tests\\io\\parser\\usecols\\test_strings.py -> build\\lib.win32-cpython-310\\pandas\\tests\\io\\parser\\usecols\n",
      "  copying pandas\\tests\\io\\parser\\usecols\\test_usecols_basic.py -> build\\lib.win32-cpython-310\\pandas\\tests\\io\\parser\\usecols\n",
      "  copying pandas\\tests\\io\\parser\\usecols\\__init__.py -> build\\lib.win32-cpython-310\\pandas\\tests\\io\\parser\\usecols\n",
      "  creating build\\lib.win32-cpython-310\\pandas\\tests\\plotting\\frame\n",
      "  copying pandas\\tests\\plotting\\frame\\test_frame.py -> build\\lib.win32-cpython-310\\pandas\\tests\\plotting\\frame\n",
      "  copying pandas\\tests\\plotting\\frame\\test_frame_color.py -> build\\lib.win32-cpython-310\\pandas\\tests\\plotting\\frame\n",
      "  copying pandas\\tests\\plotting\\frame\\test_frame_groupby.py -> build\\lib.win32-cpython-310\\pandas\\tests\\plotting\\frame\n",
      "  copying pandas\\tests\\plotting\\frame\\test_frame_legend.py -> build\\lib.win32-cpython-310\\pandas\\tests\\plotting\\frame\n",
      "  copying pandas\\tests\\plotting\\frame\\test_frame_subplots.py -> build\\lib.win32-cpython-310\\pandas\\tests\\plotting\\frame\n",
      "  copying pandas\\tests\\plotting\\frame\\test_hist_box_by.py -> build\\lib.win32-cpython-310\\pandas\\tests\\plotting\\frame\n",
      "  copying pandas\\tests\\plotting\\frame\\__init__.py -> build\\lib.win32-cpython-310\\pandas\\tests\\plotting\\frame\n",
      "  creating build\\lib.win32-cpython-310\\pandas\\tests\\reshape\\concat\n",
      "  copying pandas\\tests\\reshape\\concat\\conftest.py -> build\\lib.win32-cpython-310\\pandas\\tests\\reshape\\concat\n",
      "  copying pandas\\tests\\reshape\\concat\\test_append.py -> build\\lib.win32-cpython-310\\pandas\\tests\\reshape\\concat\n",
      "  copying pandas\\tests\\reshape\\concat\\test_append_common.py -> build\\lib.win32-cpython-310\\pandas\\tests\\reshape\\concat\n",
      "  copying pandas\\tests\\reshape\\concat\\test_categorical.py -> build\\lib.win32-cpython-310\\pandas\\tests\\reshape\\concat\n",
      "  copying pandas\\tests\\reshape\\concat\\test_concat.py -> build\\lib.win32-cpython-310\\pandas\\tests\\reshape\\concat\n",
      "  copying pandas\\tests\\reshape\\concat\\test_dataframe.py -> build\\lib.win32-cpython-310\\pandas\\tests\\reshape\\concat\n",
      "  copying pandas\\tests\\reshape\\concat\\test_datetimes.py -> build\\lib.win32-cpython-310\\pandas\\tests\\reshape\\concat\n",
      "  copying pandas\\tests\\reshape\\concat\\test_empty.py -> build\\lib.win32-cpython-310\\pandas\\tests\\reshape\\concat\n",
      "  copying pandas\\tests\\reshape\\concat\\test_index.py -> build\\lib.win32-cpython-310\\pandas\\tests\\reshape\\concat\n",
      "  copying pandas\\tests\\reshape\\concat\\test_invalid.py -> build\\lib.win32-cpython-310\\pandas\\tests\\reshape\\concat\n",
      "  copying pandas\\tests\\reshape\\concat\\test_series.py -> build\\lib.win32-cpython-310\\pandas\\tests\\reshape\\concat\n",
      "  copying pandas\\tests\\reshape\\concat\\test_sort.py -> build\\lib.win32-cpython-310\\pandas\\tests\\reshape\\concat\n",
      "  copying pandas\\tests\\reshape\\concat\\__init__.py -> build\\lib.win32-cpython-310\\pandas\\tests\\reshape\\concat\n",
      "  creating build\\lib.win32-cpython-310\\pandas\\tests\\reshape\\merge\n",
      "  copying pandas\\tests\\reshape\\merge\\test_join.py -> build\\lib.win32-cpython-310\\pandas\\tests\\reshape\\merge\n",
      "  copying pandas\\tests\\reshape\\merge\\test_merge.py -> build\\lib.win32-cpython-310\\pandas\\tests\\reshape\\merge\n",
      "  copying pandas\\tests\\reshape\\merge\\test_merge_asof.py -> build\\lib.win32-cpython-310\\pandas\\tests\\reshape\\merge\n",
      "  copying pandas\\tests\\reshape\\merge\\test_merge_cross.py -> build\\lib.win32-cpython-310\\pandas\\tests\\reshape\\merge\n",
      "  copying pandas\\tests\\reshape\\merge\\test_merge_index_as_string.py -> build\\lib.win32-cpython-310\\pandas\\tests\\reshape\\merge\n",
      "  copying pandas\\tests\\reshape\\merge\\test_merge_ordered.py -> build\\lib.win32-cpython-310\\pandas\\tests\\reshape\\merge\n",
      "  copying pandas\\tests\\reshape\\merge\\test_multi.py -> build\\lib.win32-cpython-310\\pandas\\tests\\reshape\\merge\n",
      "  copying pandas\\tests\\reshape\\merge\\__init__.py -> build\\lib.win32-cpython-310\\pandas\\tests\\reshape\\merge\n",
      "  creating build\\lib.win32-cpython-310\\pandas\\tests\\scalar\\interval\n",
      "  copying pandas\\tests\\scalar\\interval\\test_arithmetic.py -> build\\lib.win32-cpython-310\\pandas\\tests\\scalar\\interval\n",
      "  copying pandas\\tests\\scalar\\interval\\test_interval.py -> build\\lib.win32-cpython-310\\pandas\\tests\\scalar\\interval\n",
      "  copying pandas\\tests\\scalar\\interval\\test_ops.py -> build\\lib.win32-cpython-310\\pandas\\tests\\scalar\\interval\n",
      "  copying pandas\\tests\\scalar\\interval\\__init__.py -> build\\lib.win32-cpython-310\\pandas\\tests\\scalar\\interval\n",
      "  creating build\\lib.win32-cpython-310\\pandas\\tests\\scalar\\period\n",
      "  copying pandas\\tests\\scalar\\period\\test_asfreq.py -> build\\lib.win32-cpython-310\\pandas\\tests\\scalar\\period\n",
      "  copying pandas\\tests\\scalar\\period\\test_period.py -> build\\lib.win32-cpython-310\\pandas\\tests\\scalar\\period\n",
      "  copying pandas\\tests\\scalar\\period\\__init__.py -> build\\lib.win32-cpython-310\\pandas\\tests\\scalar\\period\n",
      "  creating build\\lib.win32-cpython-310\\pandas\\tests\\scalar\\timedelta\n",
      "  copying pandas\\tests\\scalar\\timedelta\\test_arithmetic.py -> build\\lib.win32-cpython-310\\pandas\\tests\\scalar\\timedelta\n",
      "  copying pandas\\tests\\scalar\\timedelta\\test_constructors.py -> build\\lib.win32-cpython-310\\pandas\\tests\\scalar\\timedelta\n",
      "  copying pandas\\tests\\scalar\\timedelta\\test_formats.py -> build\\lib.win32-cpython-310\\pandas\\tests\\scalar\\timedelta\n",
      "  copying pandas\\tests\\scalar\\timedelta\\test_timedelta.py -> build\\lib.win32-cpython-310\\pandas\\tests\\scalar\\timedelta\n",
      "  copying pandas\\tests\\scalar\\timedelta\\__init__.py -> build\\lib.win32-cpython-310\\pandas\\tests\\scalar\\timedelta\n",
      "  creating build\\lib.win32-cpython-310\\pandas\\tests\\scalar\\timestamp\n",
      "  copying pandas\\tests\\scalar\\timestamp\\test_arithmetic.py -> build\\lib.win32-cpython-310\\pandas\\tests\\scalar\\timestamp\n",
      "  copying pandas\\tests\\scalar\\timestamp\\test_comparisons.py -> build\\lib.win32-cpython-310\\pandas\\tests\\scalar\\timestamp\n",
      "  copying pandas\\tests\\scalar\\timestamp\\test_constructors.py -> build\\lib.win32-cpython-310\\pandas\\tests\\scalar\\timestamp\n",
      "  copying pandas\\tests\\scalar\\timestamp\\test_formats.py -> build\\lib.win32-cpython-310\\pandas\\tests\\scalar\\timestamp\n",
      "  copying pandas\\tests\\scalar\\timestamp\\test_rendering.py -> build\\lib.win32-cpython-310\\pandas\\tests\\scalar\\timestamp\n",
      "  copying pandas\\tests\\scalar\\timestamp\\test_timestamp.py -> build\\lib.win32-cpython-310\\pandas\\tests\\scalar\\timestamp\n",
      "  copying pandas\\tests\\scalar\\timestamp\\test_timezones.py -> build\\lib.win32-cpython-310\\pandas\\tests\\scalar\\timestamp\n",
      "  copying pandas\\tests\\scalar\\timestamp\\test_unary_ops.py -> build\\lib.win32-cpython-310\\pandas\\tests\\scalar\\timestamp\n",
      "  copying pandas\\tests\\scalar\\timestamp\\__init__.py -> build\\lib.win32-cpython-310\\pandas\\tests\\scalar\\timestamp\n",
      "  creating build\\lib.win32-cpython-310\\pandas\\tests\\series\\accessors\n",
      "  copying pandas\\tests\\series\\accessors\\test_cat_accessor.py -> build\\lib.win32-cpython-310\\pandas\\tests\\series\\accessors\n",
      "  copying pandas\\tests\\series\\accessors\\test_dt_accessor.py -> build\\lib.win32-cpython-310\\pandas\\tests\\series\\accessors\n",
      "  copying pandas\\tests\\series\\accessors\\test_sparse_accessor.py -> build\\lib.win32-cpython-310\\pandas\\tests\\series\\accessors\n",
      "  copying pandas\\tests\\series\\accessors\\test_str_accessor.py -> build\\lib.win32-cpython-310\\pandas\\tests\\series\\accessors\n",
      "  copying pandas\\tests\\series\\accessors\\__init__.py -> build\\lib.win32-cpython-310\\pandas\\tests\\series\\accessors\n",
      "  creating build\\lib.win32-cpython-310\\pandas\\tests\\series\\indexing\n",
      "  copying pandas\\tests\\series\\indexing\\test_datetime.py -> build\\lib.win32-cpython-310\\pandas\\tests\\series\\indexing\n",
      "  copying pandas\\tests\\series\\indexing\\test_delitem.py -> build\\lib.win32-cpython-310\\pandas\\tests\\series\\indexing\n",
      "  copying pandas\\tests\\series\\indexing\\test_get.py -> build\\lib.win32-cpython-310\\pandas\\tests\\series\\indexing\n",
      "  copying pandas\\tests\\series\\indexing\\test_getitem.py -> build\\lib.win32-cpython-310\\pandas\\tests\\series\\indexing\n",
      "  copying pandas\\tests\\series\\indexing\\test_indexing.py -> build\\lib.win32-cpython-310\\pandas\\tests\\series\\indexing\n",
      "  copying pandas\\tests\\series\\indexing\\test_mask.py -> build\\lib.win32-cpython-310\\pandas\\tests\\series\\indexing\n",
      "  copying pandas\\tests\\series\\indexing\\test_setitem.py -> build\\lib.win32-cpython-310\\pandas\\tests\\series\\indexing\n",
      "  copying pandas\\tests\\series\\indexing\\test_set_value.py -> build\\lib.win32-cpython-310\\pandas\\tests\\series\\indexing\n",
      "  copying pandas\\tests\\series\\indexing\\test_take.py -> build\\lib.win32-cpython-310\\pandas\\tests\\series\\indexing\n",
      "  copying pandas\\tests\\series\\indexing\\test_where.py -> build\\lib.win32-cpython-310\\pandas\\tests\\series\\indexing\n",
      "  copying pandas\\tests\\series\\indexing\\test_xs.py -> build\\lib.win32-cpython-310\\pandas\\tests\\series\\indexing\n",
      "  copying pandas\\tests\\series\\indexing\\__init__.py -> build\\lib.win32-cpython-310\\pandas\\tests\\series\\indexing\n",
      "  creating build\\lib.win32-cpython-310\\pandas\\tests\\series\\methods\n",
      "  copying pandas\\tests\\series\\methods\\test_align.py -> build\\lib.win32-cpython-310\\pandas\\tests\\series\\methods\n",
      "  copying pandas\\tests\\series\\methods\\test_append.py -> build\\lib.win32-cpython-310\\pandas\\tests\\series\\methods\n",
      "  copying pandas\\tests\\series\\methods\\test_argsort.py -> build\\lib.win32-cpython-310\\pandas\\tests\\series\\methods\n",
      "  copying pandas\\tests\\series\\methods\\test_asof.py -> build\\lib.win32-cpython-310\\pandas\\tests\\series\\methods\n",
      "  copying pandas\\tests\\series\\methods\\test_astype.py -> build\\lib.win32-cpython-310\\pandas\\tests\\series\\methods\n",
      "  copying pandas\\tests\\series\\methods\\test_autocorr.py -> build\\lib.win32-cpython-310\\pandas\\tests\\series\\methods\n",
      "  copying pandas\\tests\\series\\methods\\test_between.py -> build\\lib.win32-cpython-310\\pandas\\tests\\series\\methods\n",
      "  copying pandas\\tests\\series\\methods\\test_clip.py -> build\\lib.win32-cpython-310\\pandas\\tests\\series\\methods\n",
      "  copying pandas\\tests\\series\\methods\\test_combine.py -> build\\lib.win32-cpython-310\\pandas\\tests\\series\\methods\n",
      "  copying pandas\\tests\\series\\methods\\test_combine_first.py -> build\\lib.win32-cpython-310\\pandas\\tests\\series\\methods\n",
      "  copying pandas\\tests\\series\\methods\\test_compare.py -> build\\lib.win32-cpython-310\\pandas\\tests\\series\\methods\n",
      "  copying pandas\\tests\\series\\methods\\test_convert.py -> build\\lib.win32-cpython-310\\pandas\\tests\\series\\methods\n",
      "  copying pandas\\tests\\series\\methods\\test_convert_dtypes.py -> build\\lib.win32-cpython-310\\pandas\\tests\\series\\methods\n",
      "  copying pandas\\tests\\series\\methods\\test_copy.py -> build\\lib.win32-cpython-310\\pandas\\tests\\series\\methods\n",
      "  copying pandas\\tests\\series\\methods\\test_count.py -> build\\lib.win32-cpython-310\\pandas\\tests\\series\\methods\n",
      "  copying pandas\\tests\\series\\methods\\test_cov_corr.py -> build\\lib.win32-cpython-310\\pandas\\tests\\series\\methods\n",
      "  copying pandas\\tests\\series\\methods\\test_describe.py -> build\\lib.win32-cpython-310\\pandas\\tests\\series\\methods\n",
      "  copying pandas\\tests\\series\\methods\\test_diff.py -> build\\lib.win32-cpython-310\\pandas\\tests\\series\\methods\n",
      "  copying pandas\\tests\\series\\methods\\test_drop.py -> build\\lib.win32-cpython-310\\pandas\\tests\\series\\methods\n",
      "  copying pandas\\tests\\series\\methods\\test_dropna.py -> build\\lib.win32-cpython-310\\pandas\\tests\\series\\methods\n",
      "  copying pandas\\tests\\series\\methods\\test_drop_duplicates.py -> build\\lib.win32-cpython-310\\pandas\\tests\\series\\methods\n",
      "  copying pandas\\tests\\series\\methods\\test_dtypes.py -> build\\lib.win32-cpython-310\\pandas\\tests\\series\\methods\n",
      "  copying pandas\\tests\\series\\methods\\test_duplicated.py -> build\\lib.win32-cpython-310\\pandas\\tests\\series\\methods\n",
      "  copying pandas\\tests\\series\\methods\\test_equals.py -> build\\lib.win32-cpython-310\\pandas\\tests\\series\\methods\n",
      "  copying pandas\\tests\\series\\methods\\test_explode.py -> build\\lib.win32-cpython-310\\pandas\\tests\\series\\methods\n",
      "  copying pandas\\tests\\series\\methods\\test_fillna.py -> build\\lib.win32-cpython-310\\pandas\\tests\\series\\methods\n",
      "  copying pandas\\tests\\series\\methods\\test_get_numeric_data.py -> build\\lib.win32-cpython-310\\pandas\\tests\\series\\methods\n",
      "  copying pandas\\tests\\series\\methods\\test_head_tail.py -> build\\lib.win32-cpython-310\\pandas\\tests\\series\\methods\n",
      "  copying pandas\\tests\\series\\methods\\test_infer_objects.py -> build\\lib.win32-cpython-310\\pandas\\tests\\series\\methods\n",
      "  copying pandas\\tests\\series\\methods\\test_interpolate.py -> build\\lib.win32-cpython-310\\pandas\\tests\\series\\methods\n",
      "  copying pandas\\tests\\series\\methods\\test_isin.py -> build\\lib.win32-cpython-310\\pandas\\tests\\series\\methods\n",
      "  copying pandas\\tests\\series\\methods\\test_isna.py -> build\\lib.win32-cpython-310\\pandas\\tests\\series\\methods\n",
      "  copying pandas\\tests\\series\\methods\\test_is_monotonic.py -> build\\lib.win32-cpython-310\\pandas\\tests\\series\\methods\n",
      "  copying pandas\\tests\\series\\methods\\test_is_unique.py -> build\\lib.win32-cpython-310\\pandas\\tests\\series\\methods\n",
      "  copying pandas\\tests\\series\\methods\\test_item.py -> build\\lib.win32-cpython-310\\pandas\\tests\\series\\methods\n",
      "  copying pandas\\tests\\series\\methods\\test_matmul.py -> build\\lib.win32-cpython-310\\pandas\\tests\\series\\methods\n",
      "  copying pandas\\tests\\series\\methods\\test_nlargest.py -> build\\lib.win32-cpython-310\\pandas\\tests\\series\\methods\n",
      "  copying pandas\\tests\\series\\methods\\test_nunique.py -> build\\lib.win32-cpython-310\\pandas\\tests\\series\\methods\n",
      "  copying pandas\\tests\\series\\methods\\test_pct_change.py -> build\\lib.win32-cpython-310\\pandas\\tests\\series\\methods\n",
      "  copying pandas\\tests\\series\\methods\\test_pop.py -> build\\lib.win32-cpython-310\\pandas\\tests\\series\\methods\n",
      "  copying pandas\\tests\\series\\methods\\test_quantile.py -> build\\lib.win32-cpython-310\\pandas\\tests\\series\\methods\n",
      "  copying pandas\\tests\\series\\methods\\test_rank.py -> build\\lib.win32-cpython-310\\pandas\\tests\\series\\methods\n",
      "  copying pandas\\tests\\series\\methods\\test_reindex.py -> build\\lib.win32-cpython-310\\pandas\\tests\\series\\methods\n",
      "  copying pandas\\tests\\series\\methods\\test_reindex_like.py -> build\\lib.win32-cpython-310\\pandas\\tests\\series\\methods\n",
      "  copying pandas\\tests\\series\\methods\\test_rename.py -> build\\lib.win32-cpython-310\\pandas\\tests\\series\\methods\n",
      "  copying pandas\\tests\\series\\methods\\test_rename_axis.py -> build\\lib.win32-cpython-310\\pandas\\tests\\series\\methods\n",
      "  copying pandas\\tests\\series\\methods\\test_repeat.py -> build\\lib.win32-cpython-310\\pandas\\tests\\series\\methods\n",
      "  copying pandas\\tests\\series\\methods\\test_replace.py -> build\\lib.win32-cpython-310\\pandas\\tests\\series\\methods\n",
      "  copying pandas\\tests\\series\\methods\\test_reset_index.py -> build\\lib.win32-cpython-310\\pandas\\tests\\series\\methods\n",
      "  copying pandas\\tests\\series\\methods\\test_round.py -> build\\lib.win32-cpython-310\\pandas\\tests\\series\\methods\n",
      "  copying pandas\\tests\\series\\methods\\test_searchsorted.py -> build\\lib.win32-cpython-310\\pandas\\tests\\series\\methods\n",
      "  copying pandas\\tests\\series\\methods\\test_set_name.py -> build\\lib.win32-cpython-310\\pandas\\tests\\series\\methods\n",
      "  copying pandas\\tests\\series\\methods\\test_sort_index.py -> build\\lib.win32-cpython-310\\pandas\\tests\\series\\methods\n",
      "  copying pandas\\tests\\series\\methods\\test_sort_values.py -> build\\lib.win32-cpython-310\\pandas\\tests\\series\\methods\n",
      "  copying pandas\\tests\\series\\methods\\test_to_csv.py -> build\\lib.win32-cpython-310\\pandas\\tests\\series\\methods\n",
      "  copying pandas\\tests\\series\\methods\\test_to_dict.py -> build\\lib.win32-cpython-310\\pandas\\tests\\series\\methods\n",
      "  copying pandas\\tests\\series\\methods\\test_to_frame.py -> build\\lib.win32-cpython-310\\pandas\\tests\\series\\methods\n",
      "  copying pandas\\tests\\series\\methods\\test_truncate.py -> build\\lib.win32-cpython-310\\pandas\\tests\\series\\methods\n",
      "  copying pandas\\tests\\series\\methods\\test_tz_localize.py -> build\\lib.win32-cpython-310\\pandas\\tests\\series\\methods\n",
      "  copying pandas\\tests\\series\\methods\\test_unique.py -> build\\lib.win32-cpython-310\\pandas\\tests\\series\\methods\n",
      "  copying pandas\\tests\\series\\methods\\test_unstack.py -> build\\lib.win32-cpython-310\\pandas\\tests\\series\\methods\n",
      "  copying pandas\\tests\\series\\methods\\test_update.py -> build\\lib.win32-cpython-310\\pandas\\tests\\series\\methods\n",
      "  copying pandas\\tests\\series\\methods\\test_values.py -> build\\lib.win32-cpython-310\\pandas\\tests\\series\\methods\n",
      "  copying pandas\\tests\\series\\methods\\test_value_counts.py -> build\\lib.win32-cpython-310\\pandas\\tests\\series\\methods\n",
      "  copying pandas\\tests\\series\\methods\\test_view.py -> build\\lib.win32-cpython-310\\pandas\\tests\\series\\methods\n",
      "  copying pandas\\tests\\series\\methods\\__init__.py -> build\\lib.win32-cpython-310\\pandas\\tests\\series\\methods\n",
      "  creating build\\lib.win32-cpython-310\\pandas\\tests\\tseries\\frequencies\n",
      "  copying pandas\\tests\\tseries\\frequencies\\test_frequencies.py -> build\\lib.win32-cpython-310\\pandas\\tests\\tseries\\frequencies\n",
      "  copying pandas\\tests\\tseries\\frequencies\\test_freq_code.py -> build\\lib.win32-cpython-310\\pandas\\tests\\tseries\\frequencies\n",
      "  copying pandas\\tests\\tseries\\frequencies\\test_inference.py -> build\\lib.win32-cpython-310\\pandas\\tests\\tseries\\frequencies\n",
      "  copying pandas\\tests\\tseries\\frequencies\\__init__.py -> build\\lib.win32-cpython-310\\pandas\\tests\\tseries\\frequencies\n",
      "  creating build\\lib.win32-cpython-310\\pandas\\tests\\tseries\\holiday\n",
      "  copying pandas\\tests\\tseries\\holiday\\test_calendar.py -> build\\lib.win32-cpython-310\\pandas\\tests\\tseries\\holiday\n",
      "  copying pandas\\tests\\tseries\\holiday\\test_federal.py -> build\\lib.win32-cpython-310\\pandas\\tests\\tseries\\holiday\n",
      "  copying pandas\\tests\\tseries\\holiday\\test_holiday.py -> build\\lib.win32-cpython-310\\pandas\\tests\\tseries\\holiday\n",
      "  copying pandas\\tests\\tseries\\holiday\\test_observance.py -> build\\lib.win32-cpython-310\\pandas\\tests\\tseries\\holiday\n",
      "  copying pandas\\tests\\tseries\\holiday\\__init__.py -> build\\lib.win32-cpython-310\\pandas\\tests\\tseries\\holiday\n",
      "  creating build\\lib.win32-cpython-310\\pandas\\tests\\tseries\\offsets\n",
      "  copying pandas\\tests\\tseries\\offsets\\common.py -> build\\lib.win32-cpython-310\\pandas\\tests\\tseries\\offsets\n",
      "  copying pandas\\tests\\tseries\\offsets\\conftest.py -> build\\lib.win32-cpython-310\\pandas\\tests\\tseries\\offsets\n",
      "  copying pandas\\tests\\tseries\\offsets\\test_business_day.py -> build\\lib.win32-cpython-310\\pandas\\tests\\tseries\\offsets\n",
      "  copying pandas\\tests\\tseries\\offsets\\test_business_hour.py -> build\\lib.win32-cpython-310\\pandas\\tests\\tseries\\offsets\n",
      "  copying pandas\\tests\\tseries\\offsets\\test_business_month.py -> build\\lib.win32-cpython-310\\pandas\\tests\\tseries\\offsets\n",
      "  copying pandas\\tests\\tseries\\offsets\\test_business_quarter.py -> build\\lib.win32-cpython-310\\pandas\\tests\\tseries\\offsets\n",
      "  copying pandas\\tests\\tseries\\offsets\\test_business_year.py -> build\\lib.win32-cpython-310\\pandas\\tests\\tseries\\offsets\n",
      "  copying pandas\\tests\\tseries\\offsets\\test_custom_business_day.py -> build\\lib.win32-cpython-310\\pandas\\tests\\tseries\\offsets\n",
      "  copying pandas\\tests\\tseries\\offsets\\test_custom_business_hour.py -> build\\lib.win32-cpython-310\\pandas\\tests\\tseries\\offsets\n",
      "  copying pandas\\tests\\tseries\\offsets\\test_custom_business_month.py -> build\\lib.win32-cpython-310\\pandas\\tests\\tseries\\offsets\n",
      "  copying pandas\\tests\\tseries\\offsets\\test_dst.py -> build\\lib.win32-cpython-310\\pandas\\tests\\tseries\\offsets\n",
      "  copying pandas\\tests\\tseries\\offsets\\test_easter.py -> build\\lib.win32-cpython-310\\pandas\\tests\\tseries\\offsets\n",
      "  copying pandas\\tests\\tseries\\offsets\\test_fiscal.py -> build\\lib.win32-cpython-310\\pandas\\tests\\tseries\\offsets\n",
      "  copying pandas\\tests\\tseries\\offsets\\test_index.py -> build\\lib.win32-cpython-310\\pandas\\tests\\tseries\\offsets\n",
      "  copying pandas\\tests\\tseries\\offsets\\test_month.py -> build\\lib.win32-cpython-310\\pandas\\tests\\tseries\\offsets\n",
      "  copying pandas\\tests\\tseries\\offsets\\test_offsets.py -> build\\lib.win32-cpython-310\\pandas\\tests\\tseries\\offsets\n",
      "  copying pandas\\tests\\tseries\\offsets\\test_offsets_properties.py -> build\\lib.win32-cpython-310\\pandas\\tests\\tseries\\offsets\n",
      "  copying pandas\\tests\\tseries\\offsets\\test_quarter.py -> build\\lib.win32-cpython-310\\pandas\\tests\\tseries\\offsets\n",
      "  copying pandas\\tests\\tseries\\offsets\\test_ticks.py -> build\\lib.win32-cpython-310\\pandas\\tests\\tseries\\offsets\n",
      "  copying pandas\\tests\\tseries\\offsets\\test_week.py -> build\\lib.win32-cpython-310\\pandas\\tests\\tseries\\offsets\n",
      "  copying pandas\\tests\\tseries\\offsets\\test_year.py -> build\\lib.win32-cpython-310\\pandas\\tests\\tseries\\offsets\n",
      "  copying pandas\\tests\\tseries\\offsets\\__init__.py -> build\\lib.win32-cpython-310\\pandas\\tests\\tseries\\offsets\n",
      "  creating build\\lib.win32-cpython-310\\pandas\\tests\\window\\moments\n",
      "  copying pandas\\tests\\window\\moments\\conftest.py -> build\\lib.win32-cpython-310\\pandas\\tests\\window\\moments\n",
      "  copying pandas\\tests\\window\\moments\\test_moments_consistency_ewm.py -> build\\lib.win32-cpython-310\\pandas\\tests\\window\\moments\n",
      "  copying pandas\\tests\\window\\moments\\test_moments_consistency_expanding.py -> build\\lib.win32-cpython-310\\pandas\\tests\\window\\moments\n",
      "  copying pandas\\tests\\window\\moments\\test_moments_consistency_rolling.py -> build\\lib.win32-cpython-310\\pandas\\tests\\window\\moments\n",
      "  copying pandas\\tests\\window\\moments\\__init__.py -> build\\lib.win32-cpython-310\\pandas\\tests\\window\\moments\n",
      "  creating build\\lib.win32-cpython-310\\pandas\\util\\version\n",
      "  copying pandas\\util\\version\\__init__.py -> build\\lib.win32-cpython-310\\pandas\\util\\version\n",
      "  creating build\\lib.win32-cpython-310\\pandas\\_libs\\tslibs\n",
      "  copying pandas\\_libs\\tslibs\\__init__.py -> build\\lib.win32-cpython-310\\pandas\\_libs\\tslibs\n",
      "  creating build\\lib.win32-cpython-310\\pandas\\_libs\\window\n",
      "  copying pandas\\_libs\\window\\__init__.py -> build\\lib.win32-cpython-310\\pandas\\_libs\\window\n",
      "  running egg_info\n",
      "  writing pandas.egg-info\\PKG-INFO\n",
      "  writing dependency_links to pandas.egg-info\\dependency_links.txt\n",
      "  writing entry points to pandas.egg-info\\entry_points.txt\n",
      "  writing requirements to pandas.egg-info\\requires.txt\n",
      "  writing top-level names to pandas.egg-info\\top_level.txt\n",
      "  reading manifest file 'pandas.egg-info\\SOURCES.txt'\n",
      "  reading manifest template 'MANIFEST.in'\n",
      "  no previously-included directories found matching 'doc\\build'\n",
      "  warning: no previously-included files matching '*.bz2' found anywhere in distribution\n",
      "  warning: no previously-included files matching '*.csv' found anywhere in distribution\n",
      "  warning: no previously-included files matching '*.dta' found anywhere in distribution\n",
      "  warning: no previously-included files matching '*.feather' found anywhere in distribution\n",
      "  warning: no previously-included files matching '*.tar' found anywhere in distribution\n",
      "  warning: no previously-included files matching '*.gz' found anywhere in distribution\n",
      "  warning: no previously-included files matching '*.h5' found anywhere in distribution\n",
      "  warning: no previously-included files matching '*.html' found anywhere in distribution\n",
      "  warning: no previously-included files matching '*.json' found anywhere in distribution\n",
      "  warning: no previously-included files matching '*.jsonl' found anywhere in distribution\n",
      "  warning: no previously-included files matching '*.msgpack' found anywhere in distribution\n",
      "  warning: no previously-included files matching '*.pdf' found anywhere in distribution\n",
      "  warning: no previously-included files matching '*.pickle' found anywhere in distribution\n",
      "  warning: no previously-included files matching '*.png' found anywhere in distribution\n",
      "  warning: no previously-included files matching '*.pptx' found anywhere in distribution\n",
      "  warning: no previously-included files matching '*.ods' found anywhere in distribution\n",
      "  warning: no previously-included files matching '*.odt' found anywhere in distribution\n",
      "  warning: no previously-included files matching '*.orc' found anywhere in distribution\n",
      "  warning: no previously-included files matching '*.sas7bdat' found anywhere in distribution\n",
      "  warning: no previously-included files matching '*.sav' found anywhere in distribution\n",
      "  warning: no previously-included files matching '*.so' found anywhere in distribution\n",
      "  warning: no previously-included files matching '*.xls' found anywhere in distribution\n",
      "  warning: no previously-included files matching '*.xlsb' found anywhere in distribution\n",
      "  warning: no previously-included files matching '*.xlsm' found anywhere in distribution\n",
      "  warning: no previously-included files matching '*.xlsx' found anywhere in distribution\n",
      "  warning: no previously-included files matching '*.xpt' found anywhere in distribution\n",
      "  warning: no previously-included files matching '*.cpt' found anywhere in distribution\n",
      "  warning: no previously-included files matching '*.xz' found anywhere in distribution\n",
      "  warning: no previously-included files matching '*.zip' found anywhere in distribution\n",
      "  warning: no previously-included files matching '*.zst' found anywhere in distribution\n",
      "  warning: no previously-included files matching '*~' found anywhere in distribution\n",
      "  warning: no previously-included files matching '.DS_Store' found anywhere in distribution\n",
      "  warning: no previously-included files matching '.git*' found anywhere in distribution\n",
      "  warning: no previously-included files matching '#*' found anywhere in distribution\n",
      "  warning: no previously-included files matching '*.py[ocd]' found anywhere in distribution\n",
      "  no previously-included directories found matching 'pandas\\tests\\io\\parser\\data'\n",
      "  adding license file 'LICENSE'\n",
      "  writing manifest file 'pandas.egg-info\\SOURCES.txt'\n",
      "  C:\\Users\\euzoe\\AppData\\Local\\Temp\\pip-build-env-748x5wh8\\overlay\\Lib\\site-packages\\setuptools\\command\\build_py.py:202: SetuptoolsDeprecationWarning:     Installing 'pandas._libs.src' as data is deprecated, please list it in `packages`.\n",
      "      !!\n",
      "  \n",
      "  \n",
      "      ############################\n",
      "      # Package would be ignored #\n",
      "      ############################\n",
      "      Python recognizes 'pandas._libs.src' as an importable package,\n",
      "      but it is not listed in the `packages` configuration of setuptools.\n",
      "  \n",
      "      'pandas._libs.src' has been automatically added to the distribution only\n",
      "      because it may contain data files, but this behavior is likely to change\n",
      "      in future versions of setuptools (and therefore is considered deprecated).\n",
      "  \n",
      "      Please make sure that 'pandas._libs.src' is included as a package by using\n",
      "      the `packages` configuration field or the proper discovery methods\n",
      "      (for example by using `find_namespace_packages(...)`/`find_namespace:`\n",
      "      instead of `find_packages(...)`/`find:`).\n",
      "  \n",
      "      You can read more about \"package discovery\" and \"data files\" on setuptools\n",
      "      documentation page.\n",
      "  \n",
      "  \n",
      "  !!\n",
      "  \n",
      "    check.warn(importable)\n",
      "  C:\\Users\\euzoe\\AppData\\Local\\Temp\\pip-build-env-748x5wh8\\overlay\\Lib\\site-packages\\setuptools\\command\\build_py.py:202: SetuptoolsDeprecationWarning:     Installing 'pandas._libs.src.headers' as data is deprecated, please list it in `packages`.\n",
      "      !!\n",
      "  \n",
      "  \n",
      "      ############################\n",
      "      # Package would be ignored #\n",
      "      ############################\n",
      "      Python recognizes 'pandas._libs.src.headers' as an importable package,\n",
      "      but it is not listed in the `packages` configuration of setuptools.\n",
      "  \n",
      "      'pandas._libs.src.headers' has been automatically added to the distribution only\n",
      "      because it may contain data files, but this behavior is likely to change\n",
      "      in future versions of setuptools (and therefore is considered deprecated).\n",
      "  \n",
      "      Please make sure that 'pandas._libs.src.headers' is included as a package by using\n",
      "      the `packages` configuration field or the proper discovery methods\n",
      "      (for example by using `find_namespace_packages(...)`/`find_namespace:`\n",
      "      instead of `find_packages(...)`/`find:`).\n",
      "  \n",
      "      You can read more about \"package discovery\" and \"data files\" on setuptools\n",
      "      documentation page.\n",
      "  \n",
      "  \n",
      "  !!\n",
      "  \n",
      "    check.warn(importable)\n",
      "  C:\\Users\\euzoe\\AppData\\Local\\Temp\\pip-build-env-748x5wh8\\overlay\\Lib\\site-packages\\setuptools\\command\\build_py.py:202: SetuptoolsDeprecationWarning:     Installing 'pandas._libs.src.klib' as data is deprecated, please list it in `packages`.\n",
      "      !!\n",
      "  \n",
      "  \n",
      "      ############################\n",
      "      # Package would be ignored #\n",
      "      ############################\n",
      "      Python recognizes 'pandas._libs.src.klib' as an importable package,\n",
      "      but it is not listed in the `packages` configuration of setuptools.\n",
      "  \n",
      "      'pandas._libs.src.klib' has been automatically added to the distribution only\n",
      "      because it may contain data files, but this behavior is likely to change\n",
      "      in future versions of setuptools (and therefore is considered deprecated).\n",
      "  \n",
      "      Please make sure that 'pandas._libs.src.klib' is included as a package by using\n",
      "      the `packages` configuration field or the proper discovery methods\n",
      "      (for example by using `find_namespace_packages(...)`/`find_namespace:`\n",
      "      instead of `find_packages(...)`/`find:`).\n",
      "  \n",
      "      You can read more about \"package discovery\" and \"data files\" on setuptools\n",
      "      documentation page.\n",
      "  \n",
      "  \n",
      "  !!\n",
      "  \n",
      "    check.warn(importable)\n",
      "  C:\\Users\\euzoe\\AppData\\Local\\Temp\\pip-build-env-748x5wh8\\overlay\\Lib\\site-packages\\setuptools\\command\\build_py.py:202: SetuptoolsDeprecationWarning:     Installing 'pandas._libs.src.parser' as data is deprecated, please list it in `packages`.\n",
      "      !!\n",
      "  \n",
      "  \n",
      "      ############################\n",
      "      # Package would be ignored #\n",
      "      ############################\n",
      "      Python recognizes 'pandas._libs.src.parser' as an importable package,\n",
      "      but it is not listed in the `packages` configuration of setuptools.\n",
      "  \n",
      "      'pandas._libs.src.parser' has been automatically added to the distribution only\n",
      "      because it may contain data files, but this behavior is likely to change\n",
      "      in future versions of setuptools (and therefore is considered deprecated).\n",
      "  \n",
      "      Please make sure that 'pandas._libs.src.parser' is included as a package by using\n",
      "      the `packages` configuration field or the proper discovery methods\n",
      "      (for example by using `find_namespace_packages(...)`/`find_namespace:`\n",
      "      instead of `find_packages(...)`/`find:`).\n",
      "  \n",
      "      You can read more about \"package discovery\" and \"data files\" on setuptools\n",
      "      documentation page.\n",
      "  \n",
      "  \n",
      "  !!\n",
      "  \n",
      "    check.warn(importable)\n",
      "  C:\\Users\\euzoe\\AppData\\Local\\Temp\\pip-build-env-748x5wh8\\overlay\\Lib\\site-packages\\setuptools\\command\\build_py.py:202: SetuptoolsDeprecationWarning:     Installing 'pandas._libs.src.ujson.lib' as data is deprecated, please list it in `packages`.\n",
      "      !!\n",
      "  \n",
      "  \n",
      "      ############################\n",
      "      # Package would be ignored #\n",
      "      ############################\n",
      "      Python recognizes 'pandas._libs.src.ujson.lib' as an importable package,\n",
      "      but it is not listed in the `packages` configuration of setuptools.\n",
      "  \n",
      "      'pandas._libs.src.ujson.lib' has been automatically added to the distribution only\n",
      "      because it may contain data files, but this behavior is likely to change\n",
      "      in future versions of setuptools (and therefore is considered deprecated).\n",
      "  \n",
      "      Please make sure that 'pandas._libs.src.ujson.lib' is included as a package by using\n",
      "      the `packages` configuration field or the proper discovery methods\n",
      "      (for example by using `find_namespace_packages(...)`/`find_namespace:`\n",
      "      instead of `find_packages(...)`/`find:`).\n",
      "  \n",
      "      You can read more about \"package discovery\" and \"data files\" on setuptools\n",
      "      documentation page.\n",
      "  \n",
      "  \n",
      "  !!\n",
      "  \n",
      "    check.warn(importable)\n",
      "  C:\\Users\\euzoe\\AppData\\Local\\Temp\\pip-build-env-748x5wh8\\overlay\\Lib\\site-packages\\setuptools\\command\\build_py.py:202: SetuptoolsDeprecationWarning:     Installing 'pandas._libs.src.ujson.python' as data is deprecated, please list it in `packages`.\n",
      "      !!\n",
      "  \n",
      "  \n",
      "      ############################\n",
      "      # Package would be ignored #\n",
      "      ############################\n",
      "      Python recognizes 'pandas._libs.src.ujson.python' as an importable package,\n",
      "      but it is not listed in the `packages` configuration of setuptools.\n",
      "  \n",
      "      'pandas._libs.src.ujson.python' has been automatically added to the distribution only\n",
      "      because it may contain data files, but this behavior is likely to change\n",
      "      in future versions of setuptools (and therefore is considered deprecated).\n",
      "  \n",
      "      Please make sure that 'pandas._libs.src.ujson.python' is included as a package by using\n",
      "      the `packages` configuration field or the proper discovery methods\n",
      "      (for example by using `find_namespace_packages(...)`/`find_namespace:`\n",
      "      instead of `find_packages(...)`/`find:`).\n",
      "  \n",
      "      You can read more about \"package discovery\" and \"data files\" on setuptools\n",
      "      documentation page.\n",
      "  \n",
      "  \n",
      "  !!\n",
      "  \n",
      "    check.warn(importable)\n",
      "  C:\\Users\\euzoe\\AppData\\Local\\Temp\\pip-build-env-748x5wh8\\overlay\\Lib\\site-packages\\setuptools\\command\\build_py.py:202: SetuptoolsDeprecationWarning:     Installing 'pandas._libs.tslibs.src.datetime' as data is deprecated, please list it in `packages`.\n",
      "      !!\n",
      "  \n",
      "  \n",
      "      ############################\n",
      "      # Package would be ignored #\n",
      "      ############################\n",
      "      Python recognizes 'pandas._libs.tslibs.src.datetime' as an importable package,\n",
      "      but it is not listed in the `packages` configuration of setuptools.\n",
      "  \n",
      "      'pandas._libs.tslibs.src.datetime' has been automatically added to the distribution only\n",
      "      because it may contain data files, but this behavior is likely to change\n",
      "      in future versions of setuptools (and therefore is considered deprecated).\n",
      "  \n"
     ]
    },
    {
     "name": "stderr",
     "output_type": "stream",
     "text": [
      "      Please make sure that 'pandas._libs.tslibs.src.datetime' is included as a package by using\n",
      "      the `packages` configuration field or the proper discovery methods\n",
      "      (for example by using `find_namespace_packages(...)`/`find_namespace:`\n",
      "      instead of `find_packages(...)`/`find:`).\n",
      "  \n",
      "      You can read more about \"package discovery\" and \"data files\" on setuptools\n",
      "      documentation page.\n",
      "  \n",
      "  \n",
      "  !!\n",
      "  \n",
      "    check.warn(importable)\n",
      "  C:\\Users\\euzoe\\AppData\\Local\\Temp\\pip-build-env-748x5wh8\\overlay\\Lib\\site-packages\\setuptools\\command\\build_py.py:202: SetuptoolsDeprecationWarning:     Installing 'pandas.io.formats.templates' as data is deprecated, please list it in `packages`.\n",
      "      !!\n",
      "  \n",
      "  \n",
      "      ############################\n",
      "      # Package would be ignored #\n",
      "      ############################\n",
      "      Python recognizes 'pandas.io.formats.templates' as an importable package,\n",
      "      but it is not listed in the `packages` configuration of setuptools.\n",
      "  \n",
      "      'pandas.io.formats.templates' has been automatically added to the distribution only\n",
      "      because it may contain data files, but this behavior is likely to change\n",
      "      in future versions of setuptools (and therefore is considered deprecated).\n",
      "  \n",
      "      Please make sure that 'pandas.io.formats.templates' is included as a package by using\n",
      "      the `packages` configuration field or the proper discovery methods\n",
      "      (for example by using `find_namespace_packages(...)`/`find_namespace:`\n",
      "      instead of `find_packages(...)`/`find:`).\n",
      "  \n",
      "      You can read more about \"package discovery\" and \"data files\" on setuptools\n",
      "      documentation page.\n",
      "  \n",
      "  \n",
      "  !!\n",
      "  \n",
      "    check.warn(importable)\n",
      "  C:\\Users\\euzoe\\AppData\\Local\\Temp\\pip-build-env-748x5wh8\\overlay\\Lib\\site-packages\\setuptools\\command\\build_py.py:202: SetuptoolsDeprecationWarning:     Installing 'pandas.tests.io.data' as data is deprecated, please list it in `packages`.\n",
      "      !!\n",
      "  \n",
      "  \n",
      "      ############################\n",
      "      # Package would be ignored #\n",
      "      ############################\n",
      "      Python recognizes 'pandas.tests.io.data' as an importable package,\n",
      "      but it is not listed in the `packages` configuration of setuptools.\n",
      "  \n",
      "      'pandas.tests.io.data' has been automatically added to the distribution only\n",
      "      because it may contain data files, but this behavior is likely to change\n",
      "      in future versions of setuptools (and therefore is considered deprecated).\n",
      "  \n",
      "      Please make sure that 'pandas.tests.io.data' is included as a package by using\n",
      "      the `packages` configuration field or the proper discovery methods\n",
      "      (for example by using `find_namespace_packages(...)`/`find_namespace:`\n",
      "      instead of `find_packages(...)`/`find:`).\n",
      "  \n",
      "      You can read more about \"package discovery\" and \"data files\" on setuptools\n",
      "      documentation page.\n",
      "  \n",
      "  \n",
      "  !!\n",
      "  \n",
      "    check.warn(importable)\n",
      "  C:\\Users\\euzoe\\AppData\\Local\\Temp\\pip-build-env-748x5wh8\\overlay\\Lib\\site-packages\\setuptools\\command\\build_py.py:202: SetuptoolsDeprecationWarning:     Installing 'pandas.tests.io.data.fixed_width' as data is deprecated, please list it in `packages`.\n",
      "      !!\n",
      "  \n",
      "  \n",
      "      ############################\n",
      "      # Package would be ignored #\n",
      "      ############################\n",
      "      Python recognizes 'pandas.tests.io.data.fixed_width' as an importable package,\n",
      "      but it is not listed in the `packages` configuration of setuptools.\n",
      "  \n",
      "      'pandas.tests.io.data.fixed_width' has been automatically added to the distribution only\n",
      "      because it may contain data files, but this behavior is likely to change\n",
      "      in future versions of setuptools (and therefore is considered deprecated).\n",
      "  \n",
      "      Please make sure that 'pandas.tests.io.data.fixed_width' is included as a package by using\n",
      "      the `packages` configuration field or the proper discovery methods\n",
      "      (for example by using `find_namespace_packages(...)`/`find_namespace:`\n",
      "      instead of `find_packages(...)`/`find:`).\n",
      "  \n",
      "      You can read more about \"package discovery\" and \"data files\" on setuptools\n",
      "      documentation page.\n",
      "  \n",
      "  \n",
      "  !!\n",
      "  \n",
      "    check.warn(importable)\n",
      "  C:\\Users\\euzoe\\AppData\\Local\\Temp\\pip-build-env-748x5wh8\\overlay\\Lib\\site-packages\\setuptools\\command\\build_py.py:202: SetuptoolsDeprecationWarning:     Installing 'pandas.tests.io.data.legacy_pickle' as data is deprecated, please list it in `packages`.\n",
      "      !!\n",
      "  \n",
      "  \n",
      "      ############################\n",
      "      # Package would be ignored #\n",
      "      ############################\n",
      "      Python recognizes 'pandas.tests.io.data.legacy_pickle' as an importable package,\n",
      "      but it is not listed in the `packages` configuration of setuptools.\n",
      "  \n",
      "      'pandas.tests.io.data.legacy_pickle' has been automatically added to the distribution only\n",
      "      because it may contain data files, but this behavior is likely to change\n",
      "      in future versions of setuptools (and therefore is considered deprecated).\n",
      "  \n",
      "      Please make sure that 'pandas.tests.io.data.legacy_pickle' is included as a package by using\n",
      "      the `packages` configuration field or the proper discovery methods\n",
      "      (for example by using `find_namespace_packages(...)`/`find_namespace:`\n",
      "      instead of `find_packages(...)`/`find:`).\n",
      "  \n",
      "      You can read more about \"package discovery\" and \"data files\" on setuptools\n",
      "      documentation page.\n",
      "  \n",
      "  \n",
      "  !!\n",
      "  \n",
      "    check.warn(importable)\n",
      "  C:\\Users\\euzoe\\AppData\\Local\\Temp\\pip-build-env-748x5wh8\\overlay\\Lib\\site-packages\\setuptools\\command\\build_py.py:202: SetuptoolsDeprecationWarning:     Installing 'pandas.tests.io.data.parquet' as data is deprecated, please list it in `packages`.\n",
      "      !!\n",
      "  \n",
      "  \n",
      "      ############################\n",
      "      # Package would be ignored #\n",
      "      ############################\n",
      "      Python recognizes 'pandas.tests.io.data.parquet' as an importable package,\n",
      "      but it is not listed in the `packages` configuration of setuptools.\n",
      "  \n",
      "      'pandas.tests.io.data.parquet' has been automatically added to the distribution only\n",
      "      because it may contain data files, but this behavior is likely to change\n",
      "      in future versions of setuptools (and therefore is considered deprecated).\n",
      "  \n",
      "      Please make sure that 'pandas.tests.io.data.parquet' is included as a package by using\n",
      "      the `packages` configuration field or the proper discovery methods\n",
      "      (for example by using `find_namespace_packages(...)`/`find_namespace:`\n",
      "      instead of `find_packages(...)`/`find:`).\n",
      "  \n",
      "      You can read more about \"package discovery\" and \"data files\" on setuptools\n",
      "      documentation page.\n",
      "  \n",
      "  \n",
      "  !!\n",
      "  \n",
      "    check.warn(importable)\n",
      "  C:\\Users\\euzoe\\AppData\\Local\\Temp\\pip-build-env-748x5wh8\\overlay\\Lib\\site-packages\\setuptools\\command\\build_py.py:202: SetuptoolsDeprecationWarning:     Installing 'pandas.tests.io.data.pickle' as data is deprecated, please list it in `packages`.\n",
      "      !!\n",
      "  \n",
      "  \n",
      "      ############################\n",
      "      # Package would be ignored #\n",
      "      ############################\n",
      "      Python recognizes 'pandas.tests.io.data.pickle' as an importable package,\n",
      "      but it is not listed in the `packages` configuration of setuptools.\n",
      "  \n",
      "      'pandas.tests.io.data.pickle' has been automatically added to the distribution only\n",
      "      because it may contain data files, but this behavior is likely to change\n",
      "      in future versions of setuptools (and therefore is considered deprecated).\n",
      "  \n",
      "      Please make sure that 'pandas.tests.io.data.pickle' is included as a package by using\n",
      "      the `packages` configuration field or the proper discovery methods\n",
      "      (for example by using `find_namespace_packages(...)`/`find_namespace:`\n",
      "      instead of `find_packages(...)`/`find:`).\n",
      "  \n",
      "      You can read more about \"package discovery\" and \"data files\" on setuptools\n",
      "      documentation page.\n",
      "  \n",
      "  \n",
      "  !!\n",
      "  \n",
      "    check.warn(importable)\n",
      "  C:\\Users\\euzoe\\AppData\\Local\\Temp\\pip-build-env-748x5wh8\\overlay\\Lib\\site-packages\\setuptools\\command\\build_py.py:202: SetuptoolsDeprecationWarning:     Installing 'pandas.tests.io.data.xml' as data is deprecated, please list it in `packages`.\n",
      "      !!\n",
      "  \n",
      "  \n",
      "      ############################\n",
      "      # Package would be ignored #\n",
      "      ############################\n",
      "      Python recognizes 'pandas.tests.io.data.xml' as an importable package,\n",
      "      but it is not listed in the `packages` configuration of setuptools.\n",
      "  \n",
      "      'pandas.tests.io.data.xml' has been automatically added to the distribution only\n",
      "      because it may contain data files, but this behavior is likely to change\n",
      "      in future versions of setuptools (and therefore is considered deprecated).\n",
      "  \n",
      "      Please make sure that 'pandas.tests.io.data.xml' is included as a package by using\n",
      "      the `packages` configuration field or the proper discovery methods\n",
      "      (for example by using `find_namespace_packages(...)`/`find_namespace:`\n",
      "      instead of `find_packages(...)`/`find:`).\n",
      "  \n",
      "      You can read more about \"package discovery\" and \"data files\" on setuptools\n",
      "      documentation page.\n",
      "  \n",
      "  \n",
      "  !!\n",
      "  \n",
      "    check.warn(importable)\n",
      "  copying pandas\\_libs\\algos.pxd -> build\\lib.win32-cpython-310\\pandas\\_libs\n",
      "  copying pandas\\_libs\\algos.pyi -> build\\lib.win32-cpython-310\\pandas\\_libs\n",
      "  copying pandas\\_libs\\algos.pyx -> build\\lib.win32-cpython-310\\pandas\\_libs\n",
      "  copying pandas\\_libs\\algos_common_helper.pxi.in -> build\\lib.win32-cpython-310\\pandas\\_libs\n",
      "  copying pandas\\_libs\\algos_take_helper.pxi.in -> build\\lib.win32-cpython-310\\pandas\\_libs\n",
      "  copying pandas\\_libs\\arrays.pxd -> build\\lib.win32-cpython-310\\pandas\\_libs\n",
      "  copying pandas\\_libs\\arrays.pyi -> build\\lib.win32-cpython-310\\pandas\\_libs\n",
      "  copying pandas\\_libs\\arrays.pyx -> build\\lib.win32-cpython-310\\pandas\\_libs\n",
      "  copying pandas\\_libs\\dtypes.pxd -> build\\lib.win32-cpython-310\\pandas\\_libs\n",
      "  copying pandas\\_libs\\groupby.pyi -> build\\lib.win32-cpython-310\\pandas\\_libs\n",
      "  copying pandas\\_libs\\groupby.pyx -> build\\lib.win32-cpython-310\\pandas\\_libs\n",
      "  copying pandas\\_libs\\hashing.pyi -> build\\lib.win32-cpython-310\\pandas\\_libs\n",
      "  copying pandas\\_libs\\hashing.pyx -> build\\lib.win32-cpython-310\\pandas\\_libs\n",
      "  copying pandas\\_libs\\hashtable.pxd -> build\\lib.win32-cpython-310\\pandas\\_libs\n",
      "  copying pandas\\_libs\\hashtable.pyi -> build\\lib.win32-cpython-310\\pandas\\_libs\n",
      "  copying pandas\\_libs\\hashtable.pyx -> build\\lib.win32-cpython-310\\pandas\\_libs\n",
      "  copying pandas\\_libs\\hashtable_class_helper.pxi.in -> build\\lib.win32-cpython-310\\pandas\\_libs\n",
      "  copying pandas\\_libs\\hashtable_func_helper.pxi.in -> build\\lib.win32-cpython-310\\pandas\\_libs\n",
      "  copying pandas\\_libs\\index.pyi -> build\\lib.win32-cpython-310\\pandas\\_libs\n",
      "  copying pandas\\_libs\\index.pyx -> build\\lib.win32-cpython-310\\pandas\\_libs\n",
      "  copying pandas\\_libs\\index_class_helper.pxi.in -> build\\lib.win32-cpython-310\\pandas\\_libs\n",
      "  copying pandas\\_libs\\indexing.pyi -> build\\lib.win32-cpython-310\\pandas\\_libs\n",
      "  copying pandas\\_libs\\indexing.pyx -> build\\lib.win32-cpython-310\\pandas\\_libs\n",
      "  copying pandas\\_libs\\internals.pyi -> build\\lib.win32-cpython-310\\pandas\\_libs\n",
      "  copying pandas\\_libs\\internals.pyx -> build\\lib.win32-cpython-310\\pandas\\_libs\n",
      "  copying pandas\\_libs\\interval.pyi -> build\\lib.win32-cpython-310\\pandas\\_libs\n",
      "  copying pandas\\_libs\\interval.pyx -> build\\lib.win32-cpython-310\\pandas\\_libs\n",
      "  copying pandas\\_libs\\intervaltree.pxi.in -> build\\lib.win32-cpython-310\\pandas\\_libs\n",
      "  copying pandas\\_libs\\join.pyi -> build\\lib.win32-cpython-310\\pandas\\_libs\n",
      "  copying pandas\\_libs\\join.pyx -> build\\lib.win32-cpython-310\\pandas\\_libs\n",
      "  copying pandas\\_libs\\json.pyi -> build\\lib.win32-cpython-310\\pandas\\_libs\n",
      "  copying pandas\\_libs\\khash.pxd -> build\\lib.win32-cpython-310\\pandas\\_libs\n",
      "  copying pandas\\_libs\\khash_for_primitive_helper.pxi.in -> build\\lib.win32-cpython-310\\pandas\\_libs\n",
      "  copying pandas\\_libs\\lib.pxd -> build\\lib.win32-cpython-310\\pandas\\_libs\n",
      "  copying pandas\\_libs\\lib.pyi -> build\\lib.win32-cpython-310\\pandas\\_libs\n",
      "  copying pandas\\_libs\\lib.pyx -> build\\lib.win32-cpython-310\\pandas\\_libs\n",
      "  copying pandas\\_libs\\missing.pxd -> build\\lib.win32-cpython-310\\pandas\\_libs\n",
      "  copying pandas\\_libs\\missing.pyi -> build\\lib.win32-cpython-310\\pandas\\_libs\n",
      "  copying pandas\\_libs\\missing.pyx -> build\\lib.win32-cpython-310\\pandas\\_libs\n",
      "  copying pandas\\_libs\\ops.pyi -> build\\lib.win32-cpython-310\\pandas\\_libs\n",
      "  copying pandas\\_libs\\ops.pyx -> build\\lib.win32-cpython-310\\pandas\\_libs\n",
      "  copying pandas\\_libs\\ops_dispatch.pyi -> build\\lib.win32-cpython-310\\pandas\\_libs\n",
      "  copying pandas\\_libs\\ops_dispatch.pyx -> build\\lib.win32-cpython-310\\pandas\\_libs\n",
      "  copying pandas\\_libs\\parsers.pyi -> build\\lib.win32-cpython-310\\pandas\\_libs\n",
      "  copying pandas\\_libs\\parsers.pyx -> build\\lib.win32-cpython-310\\pandas\\_libs\n",
      "  copying pandas\\_libs\\properties.pyi -> build\\lib.win32-cpython-310\\pandas\\_libs\n",
      "  copying pandas\\_libs\\properties.pyx -> build\\lib.win32-cpython-310\\pandas\\_libs\n",
      "  copying pandas\\_libs\\reduction.pyi -> build\\lib.win32-cpython-310\\pandas\\_libs\n",
      "  copying pandas\\_libs\\reduction.pyx -> build\\lib.win32-cpython-310\\pandas\\_libs\n",
      "  copying pandas\\_libs\\reshape.pyi -> build\\lib.win32-cpython-310\\pandas\\_libs\n",
      "  copying pandas\\_libs\\reshape.pyx -> build\\lib.win32-cpython-310\\pandas\\_libs\n",
      "  copying pandas\\_libs\\sparse.pyi -> build\\lib.win32-cpython-310\\pandas\\_libs\n",
      "  copying pandas\\_libs\\sparse.pyx -> build\\lib.win32-cpython-310\\pandas\\_libs\n",
      "  copying pandas\\_libs\\sparse_op_helper.pxi.in -> build\\lib.win32-cpython-310\\pandas\\_libs\n",
      "  copying pandas\\_libs\\testing.pyi -> build\\lib.win32-cpython-310\\pandas\\_libs\n",
      "  copying pandas\\_libs\\testing.pyx -> build\\lib.win32-cpython-310\\pandas\\_libs\n",
      "  copying pandas\\_libs\\tslib.pyi -> build\\lib.win32-cpython-310\\pandas\\_libs\n",
      "  copying pandas\\_libs\\tslib.pyx -> build\\lib.win32-cpython-310\\pandas\\_libs\n",
      "  copying pandas\\_libs\\util.pxd -> build\\lib.win32-cpython-310\\pandas\\_libs\n",
      "  copying pandas\\_libs\\writers.pyi -> build\\lib.win32-cpython-310\\pandas\\_libs\n",
      "  copying pandas\\_libs\\writers.pyx -> build\\lib.win32-cpython-310\\pandas\\_libs\n",
      "  creating build\\lib.win32-cpython-310\\pandas\\io\\formats\\templates\n",
      "  copying pandas\\io\\formats\\templates\\html.tpl -> build\\lib.win32-cpython-310\\pandas\\io\\formats\\templates\n",
      "  copying pandas\\io\\formats\\templates\\html_style.tpl -> build\\lib.win32-cpython-310\\pandas\\io\\formats\\templates\n",
      "  copying pandas\\io\\formats\\templates\\html_table.tpl -> build\\lib.win32-cpython-310\\pandas\\io\\formats\\templates\n",
      "  copying pandas\\io\\formats\\templates\\latex.tpl -> build\\lib.win32-cpython-310\\pandas\\io\\formats\\templates\n",
      "  copying pandas\\io\\formats\\templates\\latex_longtable.tpl -> build\\lib.win32-cpython-310\\pandas\\io\\formats\\templates\n",
      "  copying pandas\\io\\formats\\templates\\latex_table.tpl -> build\\lib.win32-cpython-310\\pandas\\io\\formats\\templates\n",
      "  copying pandas\\io\\formats\\templates\\string.tpl -> build\\lib.win32-cpython-310\\pandas\\io\\formats\\templates\n",
      "  copying pandas\\io\\sas\\_sas.pyi -> build\\lib.win32-cpython-310\\pandas\\io\\sas\n",
      "  copying pandas\\io\\sas\\sas.pyx -> build\\lib.win32-cpython-310\\pandas\\io\\sas\n",
      "  creating build\\lib.win32-cpython-310\\pandas\\tests\\io\\data\n",
      "  copying pandas\\tests\\io\\data\\gbq_fake_job.txt -> build\\lib.win32-cpython-310\\pandas\\tests\\io\\data\n"
     ]
    },
    {
     "name": "stderr",
     "output_type": "stream",
     "text": [
      "  creating build\\lib.win32-cpython-310\\pandas\\tests\\io\\data\\fixed_width\n",
      "  copying pandas\\tests\\io\\data\\fixed_width\\fixed_width_format.txt -> build\\lib.win32-cpython-310\\pandas\\tests\\io\\data\\fixed_width\n",
      "  creating build\\lib.win32-cpython-310\\pandas\\tests\\io\\data\\legacy_pickle\n",
      "  creating build\\lib.win32-cpython-310\\pandas\\tests\\io\\data\\legacy_pickle\\1.2.4\n",
      "  copying pandas\\tests\\io\\data\\legacy_pickle\\1.2.4\\empty_frame_v1_2_4-GH#42345.pkl -> build\\lib.win32-cpython-310\\pandas\\tests\\io\\data\\legacy_pickle\\1.2.4\n",
      "  creating build\\lib.win32-cpython-310\\pandas\\tests\\io\\data\\parquet\n",
      "  copying pandas\\tests\\io\\data\\parquet\\simple.parquet -> build\\lib.win32-cpython-310\\pandas\\tests\\io\\data\\parquet\n",
      "  creating build\\lib.win32-cpython-310\\pandas\\tests\\io\\data\\pickle\n",
      "  copying pandas\\tests\\io\\data\\pickle\\test_mi_py27.pkl -> build\\lib.win32-cpython-310\\pandas\\tests\\io\\data\\pickle\n",
      "  copying pandas\\tests\\io\\data\\pickle\\test_py27.pkl -> build\\lib.win32-cpython-310\\pandas\\tests\\io\\data\\pickle\n",
      "  creating build\\lib.win32-cpython-310\\pandas\\tests\\io\\data\\xml\n",
      "  copying pandas\\tests\\io\\data\\xml\\baby_names.xml -> build\\lib.win32-cpython-310\\pandas\\tests\\io\\data\\xml\n",
      "  copying pandas\\tests\\io\\data\\xml\\books.xml -> build\\lib.win32-cpython-310\\pandas\\tests\\io\\data\\xml\n",
      "  copying pandas\\tests\\io\\data\\xml\\cta_rail_lines.kml -> build\\lib.win32-cpython-310\\pandas\\tests\\io\\data\\xml\n",
      "  copying pandas\\tests\\io\\data\\xml\\doc_ch_utf.xml -> build\\lib.win32-cpython-310\\pandas\\tests\\io\\data\\xml\n",
      "  copying pandas\\tests\\io\\data\\xml\\flatten_doc.xsl -> build\\lib.win32-cpython-310\\pandas\\tests\\io\\data\\xml\n",
      "  copying pandas\\tests\\io\\data\\xml\\row_field_output.xsl -> build\\lib.win32-cpython-310\\pandas\\tests\\io\\data\\xml\n",
      "  copying pandas\\_libs\\tslibs\\base.pxd -> build\\lib.win32-cpython-310\\pandas\\_libs\\tslibs\n",
      "  copying pandas\\_libs\\tslibs\\base.pyx -> build\\lib.win32-cpython-310\\pandas\\_libs\\tslibs\n",
      "  copying pandas\\_libs\\tslibs\\ccalendar.pxd -> build\\lib.win32-cpython-310\\pandas\\_libs\\tslibs\n",
      "  copying pandas\\_libs\\tslibs\\ccalendar.pyi -> build\\lib.win32-cpython-310\\pandas\\_libs\\tslibs\n",
      "  copying pandas\\_libs\\tslibs\\ccalendar.pyx -> build\\lib.win32-cpython-310\\pandas\\_libs\\tslibs\n",
      "  copying pandas\\_libs\\tslibs\\conversion.pxd -> build\\lib.win32-cpython-310\\pandas\\_libs\\tslibs\n",
      "  copying pandas\\_libs\\tslibs\\conversion.pyi -> build\\lib.win32-cpython-310\\pandas\\_libs\\tslibs\n",
      "  copying pandas\\_libs\\tslibs\\conversion.pyx -> build\\lib.win32-cpython-310\\pandas\\_libs\\tslibs\n",
      "  copying pandas\\_libs\\tslibs\\dtypes.pxd -> build\\lib.win32-cpython-310\\pandas\\_libs\\tslibs\n",
      "  copying pandas\\_libs\\tslibs\\dtypes.pyi -> build\\lib.win32-cpython-310\\pandas\\_libs\\tslibs\n",
      "  copying pandas\\_libs\\tslibs\\dtypes.pyx -> build\\lib.win32-cpython-310\\pandas\\_libs\\tslibs\n",
      "  copying pandas\\_libs\\tslibs\\fields.pyi -> build\\lib.win32-cpython-310\\pandas\\_libs\\tslibs\n",
      "  copying pandas\\_libs\\tslibs\\fields.pyx -> build\\lib.win32-cpython-310\\pandas\\_libs\\tslibs\n",
      "  copying pandas\\_libs\\tslibs\\nattype.pxd -> build\\lib.win32-cpython-310\\pandas\\_libs\\tslibs\n",
      "  copying pandas\\_libs\\tslibs\\nattype.pyi -> build\\lib.win32-cpython-310\\pandas\\_libs\\tslibs\n",
      "  copying pandas\\_libs\\tslibs\\nattype.pyx -> build\\lib.win32-cpython-310\\pandas\\_libs\\tslibs\n",
      "  copying pandas\\_libs\\tslibs\\np_datetime.pxd -> build\\lib.win32-cpython-310\\pandas\\_libs\\tslibs\n",
      "  copying pandas\\_libs\\tslibs\\np_datetime.pyi -> build\\lib.win32-cpython-310\\pandas\\_libs\\tslibs\n",
      "  copying pandas\\_libs\\tslibs\\np_datetime.pyx -> build\\lib.win32-cpython-310\\pandas\\_libs\\tslibs\n",
      "  copying pandas\\_libs\\tslibs\\offsets.pxd -> build\\lib.win32-cpython-310\\pandas\\_libs\\tslibs\n",
      "  copying pandas\\_libs\\tslibs\\offsets.pyi -> build\\lib.win32-cpython-310\\pandas\\_libs\\tslibs\n",
      "  copying pandas\\_libs\\tslibs\\offsets.pyx -> build\\lib.win32-cpython-310\\pandas\\_libs\\tslibs\n",
      "  copying pandas\\_libs\\tslibs\\parsing.pxd -> build\\lib.win32-cpython-310\\pandas\\_libs\\tslibs\n",
      "  copying pandas\\_libs\\tslibs\\parsing.pyi -> build\\lib.win32-cpython-310\\pandas\\_libs\\tslibs\n",
      "  copying pandas\\_libs\\tslibs\\parsing.pyx -> build\\lib.win32-cpython-310\\pandas\\_libs\\tslibs\n",
      "  copying pandas\\_libs\\tslibs\\period.pxd -> build\\lib.win32-cpython-310\\pandas\\_libs\\tslibs\n",
      "  copying pandas\\_libs\\tslibs\\period.pyi -> build\\lib.win32-cpython-310\\pandas\\_libs\\tslibs\n",
      "  copying pandas\\_libs\\tslibs\\period.pyx -> build\\lib.win32-cpython-310\\pandas\\_libs\\tslibs\n",
      "  copying pandas\\_libs\\tslibs\\strptime.pyi -> build\\lib.win32-cpython-310\\pandas\\_libs\\tslibs\n",
      "  copying pandas\\_libs\\tslibs\\strptime.pyx -> build\\lib.win32-cpython-310\\pandas\\_libs\\tslibs\n",
      "  copying pandas\\_libs\\tslibs\\timedeltas.pxd -> build\\lib.win32-cpython-310\\pandas\\_libs\\tslibs\n",
      "  copying pandas\\_libs\\tslibs\\timedeltas.pyi -> build\\lib.win32-cpython-310\\pandas\\_libs\\tslibs\n",
      "  copying pandas\\_libs\\tslibs\\timedeltas.pyx -> build\\lib.win32-cpython-310\\pandas\\_libs\\tslibs\n",
      "  copying pandas\\_libs\\tslibs\\timestamps.pxd -> build\\lib.win32-cpython-310\\pandas\\_libs\\tslibs\n",
      "  copying pandas\\_libs\\tslibs\\timestamps.pyi -> build\\lib.win32-cpython-310\\pandas\\_libs\\tslibs\n",
      "  copying pandas\\_libs\\tslibs\\timestamps.pyx -> build\\lib.win32-cpython-310\\pandas\\_libs\\tslibs\n",
      "  copying pandas\\_libs\\tslibs\\timezones.pxd -> build\\lib.win32-cpython-310\\pandas\\_libs\\tslibs\n",
      "  copying pandas\\_libs\\tslibs\\timezones.pyi -> build\\lib.win32-cpython-310\\pandas\\_libs\\tslibs\n",
      "  copying pandas\\_libs\\tslibs\\timezones.pyx -> build\\lib.win32-cpython-310\\pandas\\_libs\\tslibs\n",
      "  copying pandas\\_libs\\tslibs\\tzconversion.pxd -> build\\lib.win32-cpython-310\\pandas\\_libs\\tslibs\n",
      "  copying pandas\\_libs\\tslibs\\tzconversion.pyi -> build\\lib.win32-cpython-310\\pandas\\_libs\\tslibs\n",
      "  copying pandas\\_libs\\tslibs\\tzconversion.pyx -> build\\lib.win32-cpython-310\\pandas\\_libs\\tslibs\n",
      "  copying pandas\\_libs\\tslibs\\util.pxd -> build\\lib.win32-cpython-310\\pandas\\_libs\\tslibs\n",
      "  copying pandas\\_libs\\tslibs\\vectorized.pyi -> build\\lib.win32-cpython-310\\pandas\\_libs\\tslibs\n",
      "  copying pandas\\_libs\\tslibs\\vectorized.pyx -> build\\lib.win32-cpython-310\\pandas\\_libs\\tslibs\n",
      "  copying pandas\\_libs\\window\\aggregations.pyi -> build\\lib.win32-cpython-310\\pandas\\_libs\\window\n",
      "  copying pandas\\_libs\\window\\aggregations.pyx -> build\\lib.win32-cpython-310\\pandas\\_libs\\window\n",
      "  copying pandas\\_libs\\window\\indexers.pyi -> build\\lib.win32-cpython-310\\pandas\\_libs\\window\n",
      "  copying pandas\\_libs\\window\\indexers.pyx -> build\\lib.win32-cpython-310\\pandas\\_libs\\window\n",
      "  UPDATING build\\lib.win32-cpython-310\\pandas/_version.py\n",
      "  set build\\lib.win32-cpython-310\\pandas/_version.py to '1.5.2'\n",
      "  running build_ext\n",
      "  building 'pandas._libs.algos' extension\n",
      "  error: Microsoft Visual C++ 14.0 or greater is required. Get it with \"Microsoft C++ Build Tools\": https://visualstudio.microsoft.com/visual-cpp-build-tools/\n",
      "  [end of output]\n",
      "  \n",
      "  note: This error originates from a subprocess, and is likely not a problem with pip.\n",
      "  ERROR: Failed building wheel for pandas\n",
      "ERROR: Could not build wheels for pandas, which is required to install pyproject.toml-based projects\n"
     ]
    }
   ],
   "source": [
    "pip install pandas"
   ]
  },
  {
   "cell_type": "code",
   "execution_count": 3,
   "id": "a7fc491c-88bd-43ca-8b52-18e3e56735c4",
   "metadata": {},
   "outputs": [
    {
     "data": {
      "text/plain": [
       "True"
      ]
     },
     "execution_count": 3,
     "metadata": {},
     "output_type": "execute_result"
    }
   ],
   "source": [
    "fname = Path(r\"C:\\Users\\euzoe\\OneDrive\\Desktop\\DATA ANALYSIS\\FIRST\\archive\\netflix_titles.csv\")\n",
    "fname.is_file()"
   ]
  },
  {
   "cell_type": "code",
   "execution_count": 4,
   "id": "58acbbf3-9898-447a-ad42-4578c5b57bfd",
   "metadata": {},
   "outputs": [],
   "source": [
    "df = pd.read_csv(fname)"
   ]
  },
  {
   "cell_type": "code",
   "execution_count": 6,
   "id": "6f9b4413-8459-448d-b595-eafd49f782c2",
   "metadata": {},
   "outputs": [
    {
     "data": {
      "text/html": [
       "<div>\n",
       "<style scoped>\n",
       "    .dataframe tbody tr th:only-of-type {\n",
       "        vertical-align: middle;\n",
       "    }\n",
       "\n",
       "    .dataframe tbody tr th {\n",
       "        vertical-align: top;\n",
       "    }\n",
       "\n",
       "    .dataframe thead th {\n",
       "        text-align: right;\n",
       "    }\n",
       "</style>\n",
       "<table border=\"1\" class=\"dataframe\">\n",
       "  <thead>\n",
       "    <tr style=\"text-align: right;\">\n",
       "      <th></th>\n",
       "      <th>show_id</th>\n",
       "      <th>type</th>\n",
       "      <th>title</th>\n",
       "      <th>director</th>\n",
       "      <th>cast</th>\n",
       "      <th>country</th>\n",
       "      <th>date_added</th>\n",
       "      <th>release_year</th>\n",
       "      <th>rating</th>\n",
       "      <th>duration</th>\n",
       "      <th>listed_in</th>\n",
       "      <th>description</th>\n",
       "    </tr>\n",
       "  </thead>\n",
       "  <tbody>\n",
       "    <tr>\n",
       "      <th>0</th>\n",
       "      <td>s1</td>\n",
       "      <td>Movie</td>\n",
       "      <td>Dick Johnson Is Dead</td>\n",
       "      <td>Kirsten Johnson</td>\n",
       "      <td>NaN</td>\n",
       "      <td>United States</td>\n",
       "      <td>September 25, 2021</td>\n",
       "      <td>2020</td>\n",
       "      <td>PG-13</td>\n",
       "      <td>90 min</td>\n",
       "      <td>Documentaries</td>\n",
       "      <td>As her father nears the end of his life, filmm...</td>\n",
       "    </tr>\n",
       "    <tr>\n",
       "      <th>1</th>\n",
       "      <td>s2</td>\n",
       "      <td>TV Show</td>\n",
       "      <td>Blood &amp; Water</td>\n",
       "      <td>NaN</td>\n",
       "      <td>Ama Qamata, Khosi Ngema, Gail Mabalane, Thaban...</td>\n",
       "      <td>South Africa</td>\n",
       "      <td>September 24, 2021</td>\n",
       "      <td>2021</td>\n",
       "      <td>TV-MA</td>\n",
       "      <td>2 Seasons</td>\n",
       "      <td>International TV Shows, TV Dramas, TV Mysteries</td>\n",
       "      <td>After crossing paths at a party, a Cape Town t...</td>\n",
       "    </tr>\n",
       "    <tr>\n",
       "      <th>2</th>\n",
       "      <td>s3</td>\n",
       "      <td>TV Show</td>\n",
       "      <td>Ganglands</td>\n",
       "      <td>Julien Leclercq</td>\n",
       "      <td>Sami Bouajila, Tracy Gotoas, Samuel Jouy, Nabi...</td>\n",
       "      <td>NaN</td>\n",
       "      <td>September 24, 2021</td>\n",
       "      <td>2021</td>\n",
       "      <td>TV-MA</td>\n",
       "      <td>1 Season</td>\n",
       "      <td>Crime TV Shows, International TV Shows, TV Act...</td>\n",
       "      <td>To protect his family from a powerful drug lor...</td>\n",
       "    </tr>\n",
       "    <tr>\n",
       "      <th>3</th>\n",
       "      <td>s4</td>\n",
       "      <td>TV Show</td>\n",
       "      <td>Jailbirds New Orleans</td>\n",
       "      <td>NaN</td>\n",
       "      <td>NaN</td>\n",
       "      <td>NaN</td>\n",
       "      <td>September 24, 2021</td>\n",
       "      <td>2021</td>\n",
       "      <td>TV-MA</td>\n",
       "      <td>1 Season</td>\n",
       "      <td>Docuseries, Reality TV</td>\n",
       "      <td>Feuds, flirtations and toilet talk go down amo...</td>\n",
       "    </tr>\n",
       "    <tr>\n",
       "      <th>4</th>\n",
       "      <td>s5</td>\n",
       "      <td>TV Show</td>\n",
       "      <td>Kota Factory</td>\n",
       "      <td>NaN</td>\n",
       "      <td>Mayur More, Jitendra Kumar, Ranjan Raj, Alam K...</td>\n",
       "      <td>India</td>\n",
       "      <td>September 24, 2021</td>\n",
       "      <td>2021</td>\n",
       "      <td>TV-MA</td>\n",
       "      <td>2 Seasons</td>\n",
       "      <td>International TV Shows, Romantic TV Shows, TV ...</td>\n",
       "      <td>In a city of coaching centers known to train I...</td>\n",
       "    </tr>\n",
       "  </tbody>\n",
       "</table>\n",
       "</div>"
      ],
      "text/plain": [
       "  show_id     type                  title         director  \\\n",
       "0      s1    Movie   Dick Johnson Is Dead  Kirsten Johnson   \n",
       "1      s2  TV Show          Blood & Water              NaN   \n",
       "2      s3  TV Show              Ganglands  Julien Leclercq   \n",
       "3      s4  TV Show  Jailbirds New Orleans              NaN   \n",
       "4      s5  TV Show           Kota Factory              NaN   \n",
       "\n",
       "                                                cast        country  \\\n",
       "0                                                NaN  United States   \n",
       "1  Ama Qamata, Khosi Ngema, Gail Mabalane, Thaban...   South Africa   \n",
       "2  Sami Bouajila, Tracy Gotoas, Samuel Jouy, Nabi...            NaN   \n",
       "3                                                NaN            NaN   \n",
       "4  Mayur More, Jitendra Kumar, Ranjan Raj, Alam K...          India   \n",
       "\n",
       "           date_added  release_year rating   duration  \\\n",
       "0  September 25, 2021          2020  PG-13     90 min   \n",
       "1  September 24, 2021          2021  TV-MA  2 Seasons   \n",
       "2  September 24, 2021          2021  TV-MA   1 Season   \n",
       "3  September 24, 2021          2021  TV-MA   1 Season   \n",
       "4  September 24, 2021          2021  TV-MA  2 Seasons   \n",
       "\n",
       "                                           listed_in  \\\n",
       "0                                      Documentaries   \n",
       "1    International TV Shows, TV Dramas, TV Mysteries   \n",
       "2  Crime TV Shows, International TV Shows, TV Act...   \n",
       "3                             Docuseries, Reality TV   \n",
       "4  International TV Shows, Romantic TV Shows, TV ...   \n",
       "\n",
       "                                         description  \n",
       "0  As her father nears the end of his life, filmm...  \n",
       "1  After crossing paths at a party, a Cape Town t...  \n",
       "2  To protect his family from a powerful drug lor...  \n",
       "3  Feuds, flirtations and toilet talk go down amo...  \n",
       "4  In a city of coaching centers known to train I...  "
      ]
     },
     "execution_count": 6,
     "metadata": {},
     "output_type": "execute_result"
    }
   ],
   "source": [
    "df.head()"
   ]
  },
  {
   "cell_type": "code",
   "execution_count": 10,
   "id": "667c8c4b-9e21-44f0-b2f7-68218caffd8c",
   "metadata": {},
   "outputs": [
    {
     "data": {
      "text/plain": [
       "Index(['show_id', 'type', 'title', 'director', 'cast', 'country', 'date_added',\n",
       "       'release_year', 'rating', 'duration', 'listed_in', 'description'],\n",
       "      dtype='object')"
      ]
     },
     "execution_count": 10,
     "metadata": {},
     "output_type": "execute_result"
    }
   ],
   "source": [
    "df.columns"
   ]
  },
  {
   "cell_type": "code",
   "execution_count": null,
   "id": "67df6487-14ee-4c00-b589-ee5ef64f5aa2",
   "metadata": {},
   "outputs": [],
   "source": [
    "#the country with highest view on netflix "
   ]
  },
  {
   "cell_type": "code",
   "execution_count": 11,
   "id": "2e73c0fc-7c07-44ae-8067-467b84e445c3",
   "metadata": {},
   "outputs": [],
   "source": [
    "import statistics"
   ]
  },
  {
   "cell_type": "code",
   "execution_count": 15,
   "id": "13bf6018-fab7-4f5b-ae42-55cd83989936",
   "metadata": {},
   "outputs": [],
   "source": [
    "df_mode = statistics.mode(df['country'])"
   ]
  },
  {
   "cell_type": "code",
   "execution_count": 16,
   "id": "a8208202-98d4-4a94-b351-e17a8eb997f1",
   "metadata": {},
   "outputs": [
    {
     "data": {
      "text/plain": [
       "'United States'"
      ]
     },
     "execution_count": 16,
     "metadata": {},
     "output_type": "execute_result"
    }
   ],
   "source": [
    "df_mode"
   ]
  },
  {
   "cell_type": "code",
   "execution_count": 17,
   "id": "7ceef03d-6410-49cc-be62-25c86c85c528",
   "metadata": {},
   "outputs": [
    {
     "data": {
      "text/plain": [
       "0       United States\n",
       "1        South Africa\n",
       "2                 NaN\n",
       "3                 NaN\n",
       "4               India\n",
       "            ...      \n",
       "8802    United States\n",
       "8803              NaN\n",
       "8804    United States\n",
       "8805    United States\n",
       "8806            India\n",
       "Name: country, Length: 8807, dtype: object"
      ]
     },
     "execution_count": 17,
     "metadata": {},
     "output_type": "execute_result"
    }
   ],
   "source": [
    "df['country']"
   ]
  },
  {
   "cell_type": "code",
   "execution_count": 20,
   "id": "6eddbed5-9067-4bd1-89c0-0cb76d42b133",
   "metadata": {},
   "outputs": [
    {
     "data": {
      "text/plain": [
       "8802    United States\n",
       "8803              NaN\n",
       "8804    United States\n",
       "8805    United States\n",
       "8806            India\n",
       "Name: country, dtype: object"
      ]
     },
     "execution_count": 20,
     "metadata": {},
     "output_type": "execute_result"
    }
   ],
   "source": [
    "df['country'].tail()"
   ]
  },
  {
   "cell_type": "code",
   "execution_count": null,
   "id": "10b88183-4b3e-4dfe-9628-90fa89be7e21",
   "metadata": {},
   "outputs": [],
   "source": [
    "#the first five countries with highest views on netflix "
   ]
  },
  {
   "cell_type": "code",
   "execution_count": 25,
   "id": "84e6f185-da7e-4a4f-9769-673216d6d5b1",
   "metadata": {},
   "outputs": [
    {
     "data": {
      "text/plain": [
       "United States                             2818\n",
       "India                                      972\n",
       "United Kingdom                             419\n",
       "Japan                                      245\n",
       "South Korea                                199\n",
       "                                          ... \n",
       "Romania, Bulgaria, Hungary                   1\n",
       "Uruguay, Guatemala                           1\n",
       "France, Senegal, Belgium                     1\n",
       "Mexico, United States, Spain, Colombia       1\n",
       "United Arab Emirates, Jordan                 1\n",
       "Name: country, Length: 748, dtype: int64"
      ]
     },
     "execution_count": 25,
     "metadata": {},
     "output_type": "execute_result"
    }
   ],
   "source": [
    "df['country'].value_counts()"
   ]
  },
  {
   "cell_type": "code",
   "execution_count": 99,
   "id": "1833426b-46e2-4815-a276-7dd1ee8e5fe3",
   "metadata": {},
   "outputs": [],
   "source": [
    "top_5=df['country'].value_counts().head(5)"
   ]
  },
  {
   "cell_type": "code",
   "execution_count": 40,
   "id": "8eee4c00-e923-440f-b4a9-c4ebdd1df112",
   "metadata": {},
   "outputs": [],
   "source": [
    "import seaborn as sns"
   ]
  },
  {
   "cell_type": "code",
   "execution_count": 41,
   "id": "fb6ecbed-19d7-479f-9493-136c949bd2c1",
   "metadata": {},
   "outputs": [],
   "source": [
    "import plotly.express as px"
   ]
  },
  {
   "cell_type": "code",
   "execution_count": 100,
   "id": "b40b8c45-dbea-47dd-a48c-f2a8d70e94e2",
   "metadata": {},
   "outputs": [
    {
     "data": {
      "text/plain": [
       "United States     2818\n",
       "India              972\n",
       "United Kingdom     419\n",
       "Japan              245\n",
       "South Korea        199\n",
       "Name: country, dtype: int64"
      ]
     },
     "execution_count": 100,
     "metadata": {},
     "output_type": "execute_result"
    }
   ],
   "source": [
    "top_5"
   ]
  },
  {
   "cell_type": "code",
   "execution_count": 96,
   "id": "2c8e697c-b094-4bc3-9be4-01917be43ab6",
   "metadata": {},
   "outputs": [
    {
     "data": {
      "application/vnd.plotly.v1+json": {
       "config": {
        "plotlyServerURL": "https://plot.ly"
       },
       "data": [
        {
         "alignmentgroup": "True",
         "hovertemplate": "index=%{x}<br>country=%{y}<extra></extra>",
         "legendgroup": "",
         "marker": {
          "color": "#636efa",
          "pattern": {
           "shape": ""
          }
         },
         "name": "",
         "offsetgroup": "",
         "orientation": "v",
         "showlegend": false,
         "textposition": "auto",
         "type": "bar",
         "x": [
          "United States",
          "India",
          "United Kingdom",
          "Japan",
          "South Korea"
         ],
         "xaxis": "x",
         "y": [
          2818,
          972,
          419,
          245,
          199
         ],
         "yaxis": "y"
        }
       ],
       "layout": {
        "autosize": true,
        "barmode": "relative",
        "legend": {
         "tracegroupgap": 0
        },
        "margin": {
         "t": 60
        },
        "template": {
         "data": {
          "bar": [
           {
            "error_x": {
             "color": "#2a3f5f"
            },
            "error_y": {
             "color": "#2a3f5f"
            },
            "marker": {
             "line": {
              "color": "#E5ECF6",
              "width": 0.5
             },
             "pattern": {
              "fillmode": "overlay",
              "size": 10,
              "solidity": 0.2
             }
            },
            "type": "bar"
           }
          ],
          "barpolar": [
           {
            "marker": {
             "line": {
              "color": "#E5ECF6",
              "width": 0.5
             },
             "pattern": {
              "fillmode": "overlay",
              "size": 10,
              "solidity": 0.2
             }
            },
            "type": "barpolar"
           }
          ],
          "carpet": [
           {
            "aaxis": {
             "endlinecolor": "#2a3f5f",
             "gridcolor": "white",
             "linecolor": "white",
             "minorgridcolor": "white",
             "startlinecolor": "#2a3f5f"
            },
            "baxis": {
             "endlinecolor": "#2a3f5f",
             "gridcolor": "white",
             "linecolor": "white",
             "minorgridcolor": "white",
             "startlinecolor": "#2a3f5f"
            },
            "type": "carpet"
           }
          ],
          "choropleth": [
           {
            "colorbar": {
             "outlinewidth": 0,
             "ticks": ""
            },
            "type": "choropleth"
           }
          ],
          "contour": [
           {
            "colorbar": {
             "outlinewidth": 0,
             "ticks": ""
            },
            "colorscale": [
             [
              0,
              "#0d0887"
             ],
             [
              0.1111111111111111,
              "#46039f"
             ],
             [
              0.2222222222222222,
              "#7201a8"
             ],
             [
              0.3333333333333333,
              "#9c179e"
             ],
             [
              0.4444444444444444,
              "#bd3786"
             ],
             [
              0.5555555555555556,
              "#d8576b"
             ],
             [
              0.6666666666666666,
              "#ed7953"
             ],
             [
              0.7777777777777778,
              "#fb9f3a"
             ],
             [
              0.8888888888888888,
              "#fdca26"
             ],
             [
              1,
              "#f0f921"
             ]
            ],
            "type": "contour"
           }
          ],
          "contourcarpet": [
           {
            "colorbar": {
             "outlinewidth": 0,
             "ticks": ""
            },
            "type": "contourcarpet"
           }
          ],
          "heatmap": [
           {
            "colorbar": {
             "outlinewidth": 0,
             "ticks": ""
            },
            "colorscale": [
             [
              0,
              "#0d0887"
             ],
             [
              0.1111111111111111,
              "#46039f"
             ],
             [
              0.2222222222222222,
              "#7201a8"
             ],
             [
              0.3333333333333333,
              "#9c179e"
             ],
             [
              0.4444444444444444,
              "#bd3786"
             ],
             [
              0.5555555555555556,
              "#d8576b"
             ],
             [
              0.6666666666666666,
              "#ed7953"
             ],
             [
              0.7777777777777778,
              "#fb9f3a"
             ],
             [
              0.8888888888888888,
              "#fdca26"
             ],
             [
              1,
              "#f0f921"
             ]
            ],
            "type": "heatmap"
           }
          ],
          "heatmapgl": [
           {
            "colorbar": {
             "outlinewidth": 0,
             "ticks": ""
            },
            "colorscale": [
             [
              0,
              "#0d0887"
             ],
             [
              0.1111111111111111,
              "#46039f"
             ],
             [
              0.2222222222222222,
              "#7201a8"
             ],
             [
              0.3333333333333333,
              "#9c179e"
             ],
             [
              0.4444444444444444,
              "#bd3786"
             ],
             [
              0.5555555555555556,
              "#d8576b"
             ],
             [
              0.6666666666666666,
              "#ed7953"
             ],
             [
              0.7777777777777778,
              "#fb9f3a"
             ],
             [
              0.8888888888888888,
              "#fdca26"
             ],
             [
              1,
              "#f0f921"
             ]
            ],
            "type": "heatmapgl"
           }
          ],
          "histogram": [
           {
            "marker": {
             "pattern": {
              "fillmode": "overlay",
              "size": 10,
              "solidity": 0.2
             }
            },
            "type": "histogram"
           }
          ],
          "histogram2d": [
           {
            "colorbar": {
             "outlinewidth": 0,
             "ticks": ""
            },
            "colorscale": [
             [
              0,
              "#0d0887"
             ],
             [
              0.1111111111111111,
              "#46039f"
             ],
             [
              0.2222222222222222,
              "#7201a8"
             ],
             [
              0.3333333333333333,
              "#9c179e"
             ],
             [
              0.4444444444444444,
              "#bd3786"
             ],
             [
              0.5555555555555556,
              "#d8576b"
             ],
             [
              0.6666666666666666,
              "#ed7953"
             ],
             [
              0.7777777777777778,
              "#fb9f3a"
             ],
             [
              0.8888888888888888,
              "#fdca26"
             ],
             [
              1,
              "#f0f921"
             ]
            ],
            "type": "histogram2d"
           }
          ],
          "histogram2dcontour": [
           {
            "colorbar": {
             "outlinewidth": 0,
             "ticks": ""
            },
            "colorscale": [
             [
              0,
              "#0d0887"
             ],
             [
              0.1111111111111111,
              "#46039f"
             ],
             [
              0.2222222222222222,
              "#7201a8"
             ],
             [
              0.3333333333333333,
              "#9c179e"
             ],
             [
              0.4444444444444444,
              "#bd3786"
             ],
             [
              0.5555555555555556,
              "#d8576b"
             ],
             [
              0.6666666666666666,
              "#ed7953"
             ],
             [
              0.7777777777777778,
              "#fb9f3a"
             ],
             [
              0.8888888888888888,
              "#fdca26"
             ],
             [
              1,
              "#f0f921"
             ]
            ],
            "type": "histogram2dcontour"
           }
          ],
          "mesh3d": [
           {
            "colorbar": {
             "outlinewidth": 0,
             "ticks": ""
            },
            "type": "mesh3d"
           }
          ],
          "parcoords": [
           {
            "line": {
             "colorbar": {
              "outlinewidth": 0,
              "ticks": ""
             }
            },
            "type": "parcoords"
           }
          ],
          "pie": [
           {
            "automargin": true,
            "type": "pie"
           }
          ],
          "scatter": [
           {
            "marker": {
             "colorbar": {
              "outlinewidth": 0,
              "ticks": ""
             }
            },
            "type": "scatter"
           }
          ],
          "scatter3d": [
           {
            "line": {
             "colorbar": {
              "outlinewidth": 0,
              "ticks": ""
             }
            },
            "marker": {
             "colorbar": {
              "outlinewidth": 0,
              "ticks": ""
             }
            },
            "type": "scatter3d"
           }
          ],
          "scattercarpet": [
           {
            "marker": {
             "colorbar": {
              "outlinewidth": 0,
              "ticks": ""
             }
            },
            "type": "scattercarpet"
           }
          ],
          "scattergeo": [
           {
            "marker": {
             "colorbar": {
              "outlinewidth": 0,
              "ticks": ""
             }
            },
            "type": "scattergeo"
           }
          ],
          "scattergl": [
           {
            "marker": {
             "colorbar": {
              "outlinewidth": 0,
              "ticks": ""
             }
            },
            "type": "scattergl"
           }
          ],
          "scattermapbox": [
           {
            "marker": {
             "colorbar": {
              "outlinewidth": 0,
              "ticks": ""
             }
            },
            "type": "scattermapbox"
           }
          ],
          "scatterpolar": [
           {
            "marker": {
             "colorbar": {
              "outlinewidth": 0,
              "ticks": ""
             }
            },
            "type": "scatterpolar"
           }
          ],
          "scatterpolargl": [
           {
            "marker": {
             "colorbar": {
              "outlinewidth": 0,
              "ticks": ""
             }
            },
            "type": "scatterpolargl"
           }
          ],
          "scatterternary": [
           {
            "marker": {
             "colorbar": {
              "outlinewidth": 0,
              "ticks": ""
             }
            },
            "type": "scatterternary"
           }
          ],
          "surface": [
           {
            "colorbar": {
             "outlinewidth": 0,
             "ticks": ""
            },
            "colorscale": [
             [
              0,
              "#0d0887"
             ],
             [
              0.1111111111111111,
              "#46039f"
             ],
             [
              0.2222222222222222,
              "#7201a8"
             ],
             [
              0.3333333333333333,
              "#9c179e"
             ],
             [
              0.4444444444444444,
              "#bd3786"
             ],
             [
              0.5555555555555556,
              "#d8576b"
             ],
             [
              0.6666666666666666,
              "#ed7953"
             ],
             [
              0.7777777777777778,
              "#fb9f3a"
             ],
             [
              0.8888888888888888,
              "#fdca26"
             ],
             [
              1,
              "#f0f921"
             ]
            ],
            "type": "surface"
           }
          ],
          "table": [
           {
            "cells": {
             "fill": {
              "color": "#EBF0F8"
             },
             "line": {
              "color": "white"
             }
            },
            "header": {
             "fill": {
              "color": "#C8D4E3"
             },
             "line": {
              "color": "white"
             }
            },
            "type": "table"
           }
          ]
         },
         "layout": {
          "annotationdefaults": {
           "arrowcolor": "#2a3f5f",
           "arrowhead": 0,
           "arrowwidth": 1
          },
          "autotypenumbers": "strict",
          "coloraxis": {
           "colorbar": {
            "outlinewidth": 0,
            "ticks": ""
           }
          },
          "colorscale": {
           "diverging": [
            [
             0,
             "#8e0152"
            ],
            [
             0.1,
             "#c51b7d"
            ],
            [
             0.2,
             "#de77ae"
            ],
            [
             0.3,
             "#f1b6da"
            ],
            [
             0.4,
             "#fde0ef"
            ],
            [
             0.5,
             "#f7f7f7"
            ],
            [
             0.6,
             "#e6f5d0"
            ],
            [
             0.7,
             "#b8e186"
            ],
            [
             0.8,
             "#7fbc41"
            ],
            [
             0.9,
             "#4d9221"
            ],
            [
             1,
             "#276419"
            ]
           ],
           "sequential": [
            [
             0,
             "#0d0887"
            ],
            [
             0.1111111111111111,
             "#46039f"
            ],
            [
             0.2222222222222222,
             "#7201a8"
            ],
            [
             0.3333333333333333,
             "#9c179e"
            ],
            [
             0.4444444444444444,
             "#bd3786"
            ],
            [
             0.5555555555555556,
             "#d8576b"
            ],
            [
             0.6666666666666666,
             "#ed7953"
            ],
            [
             0.7777777777777778,
             "#fb9f3a"
            ],
            [
             0.8888888888888888,
             "#fdca26"
            ],
            [
             1,
             "#f0f921"
            ]
           ],
           "sequentialminus": [
            [
             0,
             "#0d0887"
            ],
            [
             0.1111111111111111,
             "#46039f"
            ],
            [
             0.2222222222222222,
             "#7201a8"
            ],
            [
             0.3333333333333333,
             "#9c179e"
            ],
            [
             0.4444444444444444,
             "#bd3786"
            ],
            [
             0.5555555555555556,
             "#d8576b"
            ],
            [
             0.6666666666666666,
             "#ed7953"
            ],
            [
             0.7777777777777778,
             "#fb9f3a"
            ],
            [
             0.8888888888888888,
             "#fdca26"
            ],
            [
             1,
             "#f0f921"
            ]
           ]
          },
          "colorway": [
           "#636efa",
           "#EF553B",
           "#00cc96",
           "#ab63fa",
           "#FFA15A",
           "#19d3f3",
           "#FF6692",
           "#B6E880",
           "#FF97FF",
           "#FECB52"
          ],
          "font": {
           "color": "#2a3f5f"
          },
          "geo": {
           "bgcolor": "white",
           "lakecolor": "white",
           "landcolor": "#E5ECF6",
           "showlakes": true,
           "showland": true,
           "subunitcolor": "white"
          },
          "hoverlabel": {
           "align": "left"
          },
          "hovermode": "closest",
          "mapbox": {
           "style": "light"
          },
          "paper_bgcolor": "white",
          "plot_bgcolor": "#E5ECF6",
          "polar": {
           "angularaxis": {
            "gridcolor": "white",
            "linecolor": "white",
            "ticks": ""
           },
           "bgcolor": "#E5ECF6",
           "radialaxis": {
            "gridcolor": "white",
            "linecolor": "white",
            "ticks": ""
           }
          },
          "scene": {
           "xaxis": {
            "backgroundcolor": "#E5ECF6",
            "gridcolor": "white",
            "gridwidth": 2,
            "linecolor": "white",
            "showbackground": true,
            "ticks": "",
            "zerolinecolor": "white"
           },
           "yaxis": {
            "backgroundcolor": "#E5ECF6",
            "gridcolor": "white",
            "gridwidth": 2,
            "linecolor": "white",
            "showbackground": true,
            "ticks": "",
            "zerolinecolor": "white"
           },
           "zaxis": {
            "backgroundcolor": "#E5ECF6",
            "gridcolor": "white",
            "gridwidth": 2,
            "linecolor": "white",
            "showbackground": true,
            "ticks": "",
            "zerolinecolor": "white"
           }
          },
          "shapedefaults": {
           "line": {
            "color": "#2a3f5f"
           }
          },
          "ternary": {
           "aaxis": {
            "gridcolor": "white",
            "linecolor": "white",
            "ticks": ""
           },
           "baxis": {
            "gridcolor": "white",
            "linecolor": "white",
            "ticks": ""
           },
           "bgcolor": "#E5ECF6",
           "caxis": {
            "gridcolor": "white",
            "linecolor": "white",
            "ticks": ""
           }
          },
          "title": {
           "x": 0.05
          },
          "xaxis": {
           "automargin": true,
           "gridcolor": "white",
           "linecolor": "white",
           "ticks": "",
           "title": {
            "standoff": 15
           },
           "zerolinecolor": "white",
           "zerolinewidth": 2
          },
          "yaxis": {
           "automargin": true,
           "gridcolor": "white",
           "linecolor": "white",
           "ticks": "",
           "title": {
            "standoff": 15
           },
           "zerolinecolor": "white",
           "zerolinewidth": 2
          }
         }
        },
        "xaxis": {
         "anchor": "y",
         "autorange": true,
         "domain": [
          0,
          1
         ],
         "range": [
          -0.5,
          4.5
         ],
         "title": {
          "text": "index"
         },
         "type": "category"
        },
        "yaxis": {
         "anchor": "x",
         "autorange": true,
         "domain": [
          0,
          1
         ],
         "range": [
          0,
          2966.315789473684
         ],
         "title": {
          "text": "country"
         },
         "type": "linear"
        }
       }
      },
      "image/png": "[encoded data removed]",
      "text/html": [
       "<div>                            <div id=\"e8b41a1b-61f9-444e-b0a3-80d975217adf\" class=\"plotly-graph-div\" style=\"height:525px; width:100%;\"></div>            <script type=\"text/javascript\">                require([\"plotly\"], function(Plotly) {                    window.PLOTLYENV=window.PLOTLYENV || {};                                    if (document.getElementById(\"e8b41a1b-61f9-444e-b0a3-80d975217adf\")) {                    Plotly.newPlot(                        \"e8b41a1b-61f9-444e-b0a3-80d975217adf\",                        [{\"alignmentgroup\":\"True\",\"hovertemplate\":\"index=%{x}<br>country=%{y}<extra></extra>\",\"legendgroup\":\"\",\"marker\":{\"color\":\"#636efa\",\"pattern\":{\"shape\":\"\"}},\"name\":\"\",\"offsetgroup\":\"\",\"orientation\":\"v\",\"showlegend\":false,\"textposition\":\"auto\",\"x\":[\"United States\",\"India\",\"United Kingdom\",\"Japan\",\"South Korea\"],\"xaxis\":\"x\",\"y\":[2818,972,419,245,199],\"yaxis\":\"y\",\"type\":\"bar\"}],                        {\"template\":{\"data\":{\"bar\":[{\"error_x\":{\"color\":\"#2a3f5f\"},\"error_y\":{\"color\":\"#2a3f5f\"},\"marker\":{\"line\":{\"color\":\"#E5ECF6\",\"width\":0.5},\"pattern\":{\"fillmode\":\"overlay\",\"size\":10,\"solidity\":0.2}},\"type\":\"bar\"}],\"barpolar\":[{\"marker\":{\"line\":{\"color\":\"#E5ECF6\",\"width\":0.5},\"pattern\":{\"fillmode\":\"overlay\",\"size\":10,\"solidity\":0.2}},\"type\":\"barpolar\"}],\"carpet\":[{\"aaxis\":{\"endlinecolor\":\"#2a3f5f\",\"gridcolor\":\"white\",\"linecolor\":\"white\",\"minorgridcolor\":\"white\",\"startlinecolor\":\"#2a3f5f\"},\"baxis\":{\"endlinecolor\":\"#2a3f5f\",\"gridcolor\":\"white\",\"linecolor\":\"white\",\"minorgridcolor\":\"white\",\"startlinecolor\":\"#2a3f5f\"},\"type\":\"carpet\"}],\"choropleth\":[{\"colorbar\":{\"outlinewidth\":0,\"ticks\":\"\"},\"type\":\"choropleth\"}],\"contour\":[{\"colorbar\":{\"outlinewidth\":0,\"ticks\":\"\"},\"colorscale\":[[0.0,\"#0d0887\"],[0.1111111111111111,\"#46039f\"],[0.2222222222222222,\"#7201a8\"],[0.3333333333333333,\"#9c179e\"],[0.4444444444444444,\"#bd3786\"],[0.5555555555555556,\"#d8576b\"],[0.6666666666666666,\"#ed7953\"],[0.7777777777777778,\"#fb9f3a\"],[0.8888888888888888,\"#fdca26\"],[1.0,\"#f0f921\"]],\"type\":\"contour\"}],\"contourcarpet\":[{\"colorbar\":{\"outlinewidth\":0,\"ticks\":\"\"},\"type\":\"contourcarpet\"}],\"heatmap\":[{\"colorbar\":{\"outlinewidth\":0,\"ticks\":\"\"},\"colorscale\":[[0.0,\"#0d0887\"],[0.1111111111111111,\"#46039f\"],[0.2222222222222222,\"#7201a8\"],[0.3333333333333333,\"#9c179e\"],[0.4444444444444444,\"#bd3786\"],[0.5555555555555556,\"#d8576b\"],[0.6666666666666666,\"#ed7953\"],[0.7777777777777778,\"#fb9f3a\"],[0.8888888888888888,\"#fdca26\"],[1.0,\"#f0f921\"]],\"type\":\"heatmap\"}],\"heatmapgl\":[{\"colorbar\":{\"outlinewidth\":0,\"ticks\":\"\"},\"colorscale\":[[0.0,\"#0d0887\"],[0.1111111111111111,\"#46039f\"],[0.2222222222222222,\"#7201a8\"],[0.3333333333333333,\"#9c179e\"],[0.4444444444444444,\"#bd3786\"],[0.5555555555555556,\"#d8576b\"],[0.6666666666666666,\"#ed7953\"],[0.7777777777777778,\"#fb9f3a\"],[0.8888888888888888,\"#fdca26\"],[1.0,\"#f0f921\"]],\"type\":\"heatmapgl\"}],\"histogram\":[{\"marker\":{\"pattern\":{\"fillmode\":\"overlay\",\"size\":10,\"solidity\":0.2}},\"type\":\"histogram\"}],\"histogram2d\":[{\"colorbar\":{\"outlinewidth\":0,\"ticks\":\"\"},\"colorscale\":[[0.0,\"#0d0887\"],[0.1111111111111111,\"#46039f\"],[0.2222222222222222,\"#7201a8\"],[0.3333333333333333,\"#9c179e\"],[0.4444444444444444,\"#bd3786\"],[0.5555555555555556,\"#d8576b\"],[0.6666666666666666,\"#ed7953\"],[0.7777777777777778,\"#fb9f3a\"],[0.8888888888888888,\"#fdca26\"],[1.0,\"#f0f921\"]],\"type\":\"histogram2d\"}],\"histogram2dcontour\":[{\"colorbar\":{\"outlinewidth\":0,\"ticks\":\"\"},\"colorscale\":[[0.0,\"#0d0887\"],[0.1111111111111111,\"#46039f\"],[0.2222222222222222,\"#7201a8\"],[0.3333333333333333,\"#9c179e\"],[0.4444444444444444,\"#bd3786\"],[0.5555555555555556,\"#d8576b\"],[0.6666666666666666,\"#ed7953\"],[0.7777777777777778,\"#fb9f3a\"],[0.8888888888888888,\"#fdca26\"],[1.0,\"#f0f921\"]],\"type\":\"histogram2dcontour\"}],\"mesh3d\":[{\"colorbar\":{\"outlinewidth\":0,\"ticks\":\"\"},\"type\":\"mesh3d\"}],\"parcoords\":[{\"line\":{\"colorbar\":{\"outlinewidth\":0,\"ticks\":\"\"}},\"type\":\"parcoords\"}],\"pie\":[{\"automargin\":true,\"type\":\"pie\"}],\"scatter\":[{\"marker\":{\"colorbar\":{\"outlinewidth\":0,\"ticks\":\"\"}},\"type\":\"scatter\"}],\"scatter3d\":[{\"line\":{\"colorbar\":{\"outlinewidth\":0,\"ticks\":\"\"}},\"marker\":{\"colorbar\":{\"outlinewidth\":0,\"ticks\":\"\"}},\"type\":\"scatter3d\"}],\"scattercarpet\":[{\"marker\":{\"colorbar\":{\"outlinewidth\":0,\"ticks\":\"\"}},\"type\":\"scattercarpet\"}],\"scattergeo\":[{\"marker\":{\"colorbar\":{\"outlinewidth\":0,\"ticks\":\"\"}},\"type\":\"scattergeo\"}],\"scattergl\":[{\"marker\":{\"colorbar\":{\"outlinewidth\":0,\"ticks\":\"\"}},\"type\":\"scattergl\"}],\"scattermapbox\":[{\"marker\":{\"colorbar\":{\"outlinewidth\":0,\"ticks\":\"\"}},\"type\":\"scattermapbox\"}],\"scatterpolar\":[{\"marker\":{\"colorbar\":{\"outlinewidth\":0,\"ticks\":\"\"}},\"type\":\"scatterpolar\"}],\"scatterpolargl\":[{\"marker\":{\"colorbar\":{\"outlinewidth\":0,\"ticks\":\"\"}},\"type\":\"scatterpolargl\"}],\"scatterternary\":[{\"marker\":{\"colorbar\":{\"outlinewidth\":0,\"ticks\":\"\"}},\"type\":\"scatterternary\"}],\"surface\":[{\"colorbar\":{\"outlinewidth\":0,\"ticks\":\"\"},\"colorscale\":[[0.0,\"#0d0887\"],[0.1111111111111111,\"#46039f\"],[0.2222222222222222,\"#7201a8\"],[0.3333333333333333,\"#9c179e\"],[0.4444444444444444,\"#bd3786\"],[0.5555555555555556,\"#d8576b\"],[0.6666666666666666,\"#ed7953\"],[0.7777777777777778,\"#fb9f3a\"],[0.8888888888888888,\"#fdca26\"],[1.0,\"#f0f921\"]],\"type\":\"surface\"}],\"table\":[{\"cells\":{\"fill\":{\"color\":\"#EBF0F8\"},\"line\":{\"color\":\"white\"}},\"header\":{\"fill\":{\"color\":\"#C8D4E3\"},\"line\":{\"color\":\"white\"}},\"type\":\"table\"}]},\"layout\":{\"annotationdefaults\":{\"arrowcolor\":\"#2a3f5f\",\"arrowhead\":0,\"arrowwidth\":1},\"autotypenumbers\":\"strict\",\"coloraxis\":{\"colorbar\":{\"outlinewidth\":0,\"ticks\":\"\"}},\"colorscale\":{\"diverging\":[[0,\"#8e0152\"],[0.1,\"#c51b7d\"],[0.2,\"#de77ae\"],[0.3,\"#f1b6da\"],[0.4,\"#fde0ef\"],[0.5,\"#f7f7f7\"],[0.6,\"#e6f5d0\"],[0.7,\"#b8e186\"],[0.8,\"#7fbc41\"],[0.9,\"#4d9221\"],[1,\"#276419\"]],\"sequential\":[[0.0,\"#0d0887\"],[0.1111111111111111,\"#46039f\"],[0.2222222222222222,\"#7201a8\"],[0.3333333333333333,\"#9c179e\"],[0.4444444444444444,\"#bd3786\"],[0.5555555555555556,\"#d8576b\"],[0.6666666666666666,\"#ed7953\"],[0.7777777777777778,\"#fb9f3a\"],[0.8888888888888888,\"#fdca26\"],[1.0,\"#f0f921\"]],\"sequentialminus\":[[0.0,\"#0d0887\"],[0.1111111111111111,\"#46039f\"],[0.2222222222222222,\"#7201a8\"],[0.3333333333333333,\"#9c179e\"],[0.4444444444444444,\"#bd3786\"],[0.5555555555555556,\"#d8576b\"],[0.6666666666666666,\"#ed7953\"],[0.7777777777777778,\"#fb9f3a\"],[0.8888888888888888,\"#fdca26\"],[1.0,\"#f0f921\"]]},\"colorway\":[\"#636efa\",\"#EF553B\",\"#00cc96\",\"#ab63fa\",\"#FFA15A\",\"#19d3f3\",\"#FF6692\",\"#B6E880\",\"#FF97FF\",\"#FECB52\"],\"font\":{\"color\":\"#2a3f5f\"},\"geo\":{\"bgcolor\":\"white\",\"lakecolor\":\"white\",\"landcolor\":\"#E5ECF6\",\"showlakes\":true,\"showland\":true,\"subunitcolor\":\"white\"},\"hoverlabel\":{\"align\":\"left\"},\"hovermode\":\"closest\",\"mapbox\":{\"style\":\"light\"},\"paper_bgcolor\":\"white\",\"plot_bgcolor\":\"#E5ECF6\",\"polar\":{\"angularaxis\":{\"gridcolor\":\"white\",\"linecolor\":\"white\",\"ticks\":\"\"},\"bgcolor\":\"#E5ECF6\",\"radialaxis\":{\"gridcolor\":\"white\",\"linecolor\":\"white\",\"ticks\":\"\"}},\"scene\":{\"xaxis\":{\"backgroundcolor\":\"#E5ECF6\",\"gridcolor\":\"white\",\"gridwidth\":2,\"linecolor\":\"white\",\"showbackground\":true,\"ticks\":\"\",\"zerolinecolor\":\"white\"},\"yaxis\":{\"backgroundcolor\":\"#E5ECF6\",\"gridcolor\":\"white\",\"gridwidth\":2,\"linecolor\":\"white\",\"showbackground\":true,\"ticks\":\"\",\"zerolinecolor\":\"white\"},\"zaxis\":{\"backgroundcolor\":\"#E5ECF6\",\"gridcolor\":\"white\",\"gridwidth\":2,\"linecolor\":\"white\",\"showbackground\":true,\"ticks\":\"\",\"zerolinecolor\":\"white\"}},\"shapedefaults\":{\"line\":{\"color\":\"#2a3f5f\"}},\"ternary\":{\"aaxis\":{\"gridcolor\":\"white\",\"linecolor\":\"white\",\"ticks\":\"\"},\"baxis\":{\"gridcolor\":\"white\",\"linecolor\":\"white\",\"ticks\":\"\"},\"bgcolor\":\"#E5ECF6\",\"caxis\":{\"gridcolor\":\"white\",\"linecolor\":\"white\",\"ticks\":\"\"}},\"title\":{\"x\":0.05},\"xaxis\":{\"automargin\":true,\"gridcolor\":\"white\",\"linecolor\":\"white\",\"ticks\":\"\",\"title\":{\"standoff\":15},\"zerolinecolor\":\"white\",\"zerolinewidth\":2},\"yaxis\":{\"automargin\":true,\"gridcolor\":\"white\",\"linecolor\":\"white\",\"ticks\":\"\",\"title\":{\"standoff\":15},\"zerolinecolor\":\"white\",\"zerolinewidth\":2}}},\"xaxis\":{\"anchor\":\"y\",\"domain\":[0.0,1.0],\"title\":{\"text\":\"index\"}},\"yaxis\":{\"anchor\":\"x\",\"domain\":[0.0,1.0],\"title\":{\"text\":\"country\"}},\"legend\":{\"tracegroupgap\":0},\"margin\":{\"t\":60},\"barmode\":\"relative\"},                        {\"responsive\": true}                    ).then(function(){\n",
       "                            \n",
       "var gd = document.getElementById('e8b41a1b-61f9-444e-b0a3-80d975217adf');\n",
       "var x = new MutationObserver(function (mutations, observer) {{\n",
       "        var display = window.getComputedStyle(gd).display;\n",
       "        if (!display || display === 'none') {{\n",
       "            console.log([gd, 'removed!']);\n",
       "            Plotly.purge(gd);\n",
       "            observer.disconnect();\n",
       "        }}\n",
       "}});\n",
       "\n",
       "// Listen for the removal of the full notebook cells\n",
       "var notebookContainer = gd.closest('#notebook-container');\n",
       "if (notebookContainer) {{\n",
       "    x.observe(notebookContainer, {childList: true});\n",
       "}}\n",
       "\n",
       "// Listen for the clearing of the current output cell\n",
       "var outputEl = gd.closest('.output');\n",
       "if (outputEl) {{\n",
       "    x.observe(outputEl, {childList: true});\n",
       "}}\n",
       "\n",
       "                        })                };                });            </script>        </div>"
      ]
     },
     "metadata": {},
     "output_type": "display_data"
    }
   ],
   "source": [
    "fig=px.bar(top_5, y='country')\n",
    "fig.show()"
   ]
  },
  {
   "cell_type": "code",
   "execution_count": null,
   "id": "676102b9-9fba-45de-8db5-2bc1d69db3e4",
   "metadata": {},
   "outputs": [],
   "source": []
  },
  {
   "cell_type": "code",
   "execution_count": null,
   "id": "56a62461-ae05-4393-a1f7-35d19f413528",
   "metadata": {},
   "outputs": [],
   "source": [
    "#does netflix have more focus on tv shows than movies in recent years"
   ]
  },
  {
   "cell_type": "code",
   "execution_count": 94,
   "id": "4be4aae2-8cd6-49d5-a28e-75205cd1f94e",
   "metadata": {},
   "outputs": [],
   "source": [
    "recent=df['type'].value_counts()"
   ]
  },
  {
   "cell_type": "code",
   "execution_count": 95,
   "id": "5f85c390-4066-4c4d-ae16-1e8bccad4817",
   "metadata": {},
   "outputs": [
    {
     "data": {
      "application/vnd.plotly.v1+json": {
       "config": {
        "plotlyServerURL": "https://plot.ly"
       },
       "data": [
        {
         "alignmentgroup": "True",
         "hovertemplate": "index=%{x}<br>type=%{y}<extra></extra>",
         "legendgroup": "",
         "marker": {
          "color": "#636efa",
          "pattern": {
           "shape": ""
          }
         },
         "name": "",
         "offsetgroup": "",
         "orientation": "v",
         "showlegend": false,
         "textposition": "auto",
         "type": "bar",
         "x": [
          "Movie",
          "TV Show"
         ],
         "xaxis": "x",
         "y": [
          6131,
          2676
         ],
         "yaxis": "y"
        }
       ],
       "layout": {
        "autosize": true,
        "barmode": "relative",
        "legend": {
         "tracegroupgap": 0
        },
        "margin": {
         "t": 60
        },
        "template": {
         "data": {
          "bar": [
           {
            "error_x": {
             "color": "#2a3f5f"
            },
            "error_y": {
             "color": "#2a3f5f"
            },
            "marker": {
             "line": {
              "color": "#E5ECF6",
              "width": 0.5
             },
             "pattern": {
              "fillmode": "overlay",
              "size": 10,
              "solidity": 0.2
             }
            },
            "type": "bar"
           }
          ],
          "barpolar": [
           {
            "marker": {
             "line": {
              "color": "#E5ECF6",
              "width": 0.5
             },
             "pattern": {
              "fillmode": "overlay",
              "size": 10,
              "solidity": 0.2
             }
            },
            "type": "barpolar"
           }
          ],
          "carpet": [
           {
            "aaxis": {
             "endlinecolor": "#2a3f5f",
             "gridcolor": "white",
             "linecolor": "white",
             "minorgridcolor": "white",
             "startlinecolor": "#2a3f5f"
            },
            "baxis": {
             "endlinecolor": "#2a3f5f",
             "gridcolor": "white",
             "linecolor": "white",
             "minorgridcolor": "white",
             "startlinecolor": "#2a3f5f"
            },
            "type": "carpet"
           }
          ],
          "choropleth": [
           {
            "colorbar": {
             "outlinewidth": 0,
             "ticks": ""
            },
            "type": "choropleth"
           }
          ],
          "contour": [
           {
            "colorbar": {
             "outlinewidth": 0,
             "ticks": ""
            },
            "colorscale": [
             [
              0,
              "#0d0887"
             ],
             [
              0.1111111111111111,
              "#46039f"
             ],
             [
              0.2222222222222222,
              "#7201a8"
             ],
             [
              0.3333333333333333,
              "#9c179e"
             ],
             [
              0.4444444444444444,
              "#bd3786"
             ],
             [
              0.5555555555555556,
              "#d8576b"
             ],
             [
              0.6666666666666666,
              "#ed7953"
             ],
             [
              0.7777777777777778,
              "#fb9f3a"
             ],
             [
              0.8888888888888888,
              "#fdca26"
             ],
             [
              1,
              "#f0f921"
             ]
            ],
            "type": "contour"
           }
          ],
          "contourcarpet": [
           {
            "colorbar": {
             "outlinewidth": 0,
             "ticks": ""
            },
            "type": "contourcarpet"
           }
          ],
          "heatmap": [
           {
            "colorbar": {
             "outlinewidth": 0,
             "ticks": ""
            },
            "colorscale": [
             [
              0,
              "#0d0887"
             ],
             [
              0.1111111111111111,
              "#46039f"
             ],
             [
              0.2222222222222222,
              "#7201a8"
             ],
             [
              0.3333333333333333,
              "#9c179e"
             ],
             [
              0.4444444444444444,
              "#bd3786"
             ],
             [
              0.5555555555555556,
              "#d8576b"
             ],
             [
              0.6666666666666666,
              "#ed7953"
             ],
             [
              0.7777777777777778,
              "#fb9f3a"
             ],
             [
              0.8888888888888888,
              "#fdca26"
             ],
             [
              1,
              "#f0f921"
             ]
            ],
            "type": "heatmap"
           }
          ],
          "heatmapgl": [
           {
            "colorbar": {
             "outlinewidth": 0,
             "ticks": ""
            },
            "colorscale": [
             [
              0,
              "#0d0887"
             ],
             [
              0.1111111111111111,
              "#46039f"
             ],
             [
              0.2222222222222222,
              "#7201a8"
             ],
             [
              0.3333333333333333,
              "#9c179e"
             ],
             [
              0.4444444444444444,
              "#bd3786"
             ],
             [
              0.5555555555555556,
              "#d8576b"
             ],
             [
              0.6666666666666666,
              "#ed7953"
             ],
             [
              0.7777777777777778,
              "#fb9f3a"
             ],
             [
              0.8888888888888888,
              "#fdca26"
             ],
             [
              1,
              "#f0f921"
             ]
            ],
            "type": "heatmapgl"
           }
          ],
          "histogram": [
           {
            "marker": {
             "pattern": {
              "fillmode": "overlay",
              "size": 10,
              "solidity": 0.2
             }
            },
            "type": "histogram"
           }
          ],
          "histogram2d": [
           {
            "colorbar": {
             "outlinewidth": 0,
             "ticks": ""
            },
            "colorscale": [
             [
              0,
              "#0d0887"
             ],
             [
              0.1111111111111111,
              "#46039f"
             ],
             [
              0.2222222222222222,
              "#7201a8"
             ],
             [
              0.3333333333333333,
              "#9c179e"
             ],
             [
              0.4444444444444444,
              "#bd3786"
             ],
             [
              0.5555555555555556,
              "#d8576b"
             ],
             [
              0.6666666666666666,
              "#ed7953"
             ],
             [
              0.7777777777777778,
              "#fb9f3a"
             ],
             [
              0.8888888888888888,
              "#fdca26"
             ],
             [
              1,
              "#f0f921"
             ]
            ],
            "type": "histogram2d"
           }
          ],
          "histogram2dcontour": [
           {
            "colorbar": {
             "outlinewidth": 0,
             "ticks": ""
            },
            "colorscale": [
             [
              0,
              "#0d0887"
             ],
             [
              0.1111111111111111,
              "#46039f"
             ],
             [
              0.2222222222222222,
              "#7201a8"
             ],
             [
              0.3333333333333333,
              "#9c179e"
             ],
             [
              0.4444444444444444,
              "#bd3786"
             ],
             [
              0.5555555555555556,
              "#d8576b"
             ],
             [
              0.6666666666666666,
              "#ed7953"
             ],
             [
              0.7777777777777778,
              "#fb9f3a"
             ],
             [
              0.8888888888888888,
              "#fdca26"
             ],
             [
              1,
              "#f0f921"
             ]
            ],
            "type": "histogram2dcontour"
           }
          ],
          "mesh3d": [
           {
            "colorbar": {
             "outlinewidth": 0,
             "ticks": ""
            },
            "type": "mesh3d"
           }
          ],
          "parcoords": [
           {
            "line": {
             "colorbar": {
              "outlinewidth": 0,
              "ticks": ""
             }
            },
            "type": "parcoords"
           }
          ],
          "pie": [
           {
            "automargin": true,
            "type": "pie"
           }
          ],
          "scatter": [
           {
            "marker": {
             "colorbar": {
              "outlinewidth": 0,
              "ticks": ""
             }
            },
            "type": "scatter"
           }
          ],
          "scatter3d": [
           {
            "line": {
             "colorbar": {
              "outlinewidth": 0,
              "ticks": ""
             }
            },
            "marker": {
             "colorbar": {
              "outlinewidth": 0,
              "ticks": ""
             }
            },
            "type": "scatter3d"
           }
          ],
          "scattercarpet": [
           {
            "marker": {
             "colorbar": {
              "outlinewidth": 0,
              "ticks": ""
             }
            },
            "type": "scattercarpet"
           }
          ],
          "scattergeo": [
           {
            "marker": {
             "colorbar": {
              "outlinewidth": 0,
              "ticks": ""
             }
            },
            "type": "scattergeo"
           }
          ],
          "scattergl": [
           {
            "marker": {
             "colorbar": {
              "outlinewidth": 0,
              "ticks": ""
             }
            },
            "type": "scattergl"
           }
          ],
          "scattermapbox": [
           {
            "marker": {
             "colorbar": {
              "outlinewidth": 0,
              "ticks": ""
             }
            },
            "type": "scattermapbox"
           }
          ],
          "scatterpolar": [
           {
            "marker": {
             "colorbar": {
              "outlinewidth": 0,
              "ticks": ""
             }
            },
            "type": "scatterpolar"
           }
          ],
          "scatterpolargl": [
           {
            "marker": {
             "colorbar": {
              "outlinewidth": 0,
              "ticks": ""
             }
            },
            "type": "scatterpolargl"
           }
          ],
          "scatterternary": [
           {
            "marker": {
             "colorbar": {
              "outlinewidth": 0,
              "ticks": ""
             }
            },
            "type": "scatterternary"
           }
          ],
          "surface": [
           {
            "colorbar": {
             "outlinewidth": 0,
             "ticks": ""
            },
            "colorscale": [
             [
              0,
              "#0d0887"
             ],
             [
              0.1111111111111111,
              "#46039f"
             ],
             [
              0.2222222222222222,
              "#7201a8"
             ],
             [
              0.3333333333333333,
              "#9c179e"
             ],
             [
              0.4444444444444444,
              "#bd3786"
             ],
             [
              0.5555555555555556,
              "#d8576b"
             ],
             [
              0.6666666666666666,
              "#ed7953"
             ],
             [
              0.7777777777777778,
              "#fb9f3a"
             ],
             [
              0.8888888888888888,
              "#fdca26"
             ],
             [
              1,
              "#f0f921"
             ]
            ],
            "type": "surface"
           }
          ],
          "table": [
           {
            "cells": {
             "fill": {
              "color": "#EBF0F8"
             },
             "line": {
              "color": "white"
             }
            },
            "header": {
             "fill": {
              "color": "#C8D4E3"
             },
             "line": {
              "color": "white"
             }
            },
            "type": "table"
           }
          ]
         },
         "layout": {
          "annotationdefaults": {
           "arrowcolor": "#2a3f5f",
           "arrowhead": 0,
           "arrowwidth": 1
          },
          "autotypenumbers": "strict",
          "coloraxis": {
           "colorbar": {
            "outlinewidth": 0,
            "ticks": ""
           }
          },
          "colorscale": {
           "diverging": [
            [
             0,
             "#8e0152"
            ],
            [
             0.1,
             "#c51b7d"
            ],
            [
             0.2,
             "#de77ae"
            ],
            [
             0.3,
             "#f1b6da"
            ],
            [
             0.4,
             "#fde0ef"
            ],
            [
             0.5,
             "#f7f7f7"
            ],
            [
             0.6,
             "#e6f5d0"
            ],
            [
             0.7,
             "#b8e186"
            ],
            [
             0.8,
             "#7fbc41"
            ],
            [
             0.9,
             "#4d9221"
            ],
            [
             1,
             "#276419"
            ]
           ],
           "sequential": [
            [
             0,
             "#0d0887"
            ],
            [
             0.1111111111111111,
             "#46039f"
            ],
            [
             0.2222222222222222,
             "#7201a8"
            ],
            [
             0.3333333333333333,
             "#9c179e"
            ],
            [
             0.4444444444444444,
             "#bd3786"
            ],
            [
             0.5555555555555556,
             "#d8576b"
            ],
            [
             0.6666666666666666,
             "#ed7953"
            ],
            [
             0.7777777777777778,
             "#fb9f3a"
            ],
            [
             0.8888888888888888,
             "#fdca26"
            ],
            [
             1,
             "#f0f921"
            ]
           ],
           "sequentialminus": [
            [
             0,
             "#0d0887"
            ],
            [
             0.1111111111111111,
             "#46039f"
            ],
            [
             0.2222222222222222,
             "#7201a8"
            ],
            [
             0.3333333333333333,
             "#9c179e"
            ],
            [
             0.4444444444444444,
             "#bd3786"
            ],
            [
             0.5555555555555556,
             "#d8576b"
            ],
            [
             0.6666666666666666,
             "#ed7953"
            ],
            [
             0.7777777777777778,
             "#fb9f3a"
            ],
            [
             0.8888888888888888,
             "#fdca26"
            ],
            [
             1,
             "#f0f921"
            ]
           ]
          },
          "colorway": [
           "#636efa",
           "#EF553B",
           "#00cc96",
           "#ab63fa",
           "#FFA15A",
           "#19d3f3",
           "#FF6692",
           "#B6E880",
           "#FF97FF",
           "#FECB52"
          ],
          "font": {
           "color": "#2a3f5f"
          },
          "geo": {
           "bgcolor": "white",
           "lakecolor": "white",
           "landcolor": "#E5ECF6",
           "showlakes": true,
           "showland": true,
           "subunitcolor": "white"
          },
          "hoverlabel": {
           "align": "left"
          },
          "hovermode": "closest",
          "mapbox": {
           "style": "light"
          },
          "paper_bgcolor": "white",
          "plot_bgcolor": "#E5ECF6",
          "polar": {
           "angularaxis": {
            "gridcolor": "white",
            "linecolor": "white",
            "ticks": ""
           },
           "bgcolor": "#E5ECF6",
           "radialaxis": {
            "gridcolor": "white",
            "linecolor": "white",
            "ticks": ""
           }
          },
          "scene": {
           "xaxis": {
            "backgroundcolor": "#E5ECF6",
            "gridcolor": "white",
            "gridwidth": 2,
            "linecolor": "white",
            "showbackground": true,
            "ticks": "",
            "zerolinecolor": "white"
           },
           "yaxis": {
            "backgroundcolor": "#E5ECF6",
            "gridcolor": "white",
            "gridwidth": 2,
            "linecolor": "white",
            "showbackground": true,
            "ticks": "",
            "zerolinecolor": "white"
           },
           "zaxis": {
            "backgroundcolor": "#E5ECF6",
            "gridcolor": "white",
            "gridwidth": 2,
            "linecolor": "white",
            "showbackground": true,
            "ticks": "",
            "zerolinecolor": "white"
           }
          },
          "shapedefaults": {
           "line": {
            "color": "#2a3f5f"
           }
          },
          "ternary": {
           "aaxis": {
            "gridcolor": "white",
            "linecolor": "white",
            "ticks": ""
           },
           "baxis": {
            "gridcolor": "white",
            "linecolor": "white",
            "ticks": ""
           },
           "bgcolor": "#E5ECF6",
           "caxis": {
            "gridcolor": "white",
            "linecolor": "white",
            "ticks": ""
           }
          },
          "title": {
           "x": 0.05
          },
          "xaxis": {
           "automargin": true,
           "gridcolor": "white",
           "linecolor": "white",
           "ticks": "",
           "title": {
            "standoff": 15
           },
           "zerolinecolor": "white",
           "zerolinewidth": 2
          },
          "yaxis": {
           "automargin": true,
           "gridcolor": "white",
           "linecolor": "white",
           "ticks": "",
           "title": {
            "standoff": 15
           },
           "zerolinecolor": "white",
           "zerolinewidth": 2
          }
         }
        },
        "xaxis": {
         "anchor": "y",
         "autorange": true,
         "domain": [
          0,
          1
         ],
         "range": [
          -0.5,
          1.5
         ],
         "title": {
          "text": "index"
         },
         "type": "category"
        },
        "yaxis": {
         "anchor": "x",
         "autorange": true,
         "domain": [
          0,
          1
         ],
         "range": [
          0,
          6453.684210526316
         ],
         "title": {
          "text": "type"
         },
         "type": "linear"
        }
       }
      },
      "image/png": "[encoded data removed]",
      "text/html": [
       "<div>                            <div id=\"110e8de7-ee7e-4e1d-bd01-6baefe0fa80e\" class=\"plotly-graph-div\" style=\"height:525px; width:100%;\"></div>            <script type=\"text/javascript\">                require([\"plotly\"], function(Plotly) {                    window.PLOTLYENV=window.PLOTLYENV || {};                                    if (document.getElementById(\"110e8de7-ee7e-4e1d-bd01-6baefe0fa80e\")) {                    Plotly.newPlot(                        \"110e8de7-ee7e-4e1d-bd01-6baefe0fa80e\",                        [{\"alignmentgroup\":\"True\",\"hovertemplate\":\"index=%{x}<br>type=%{y}<extra></extra>\",\"legendgroup\":\"\",\"marker\":{\"color\":\"#636efa\",\"pattern\":{\"shape\":\"\"}},\"name\":\"\",\"offsetgroup\":\"\",\"orientation\":\"v\",\"showlegend\":false,\"textposition\":\"auto\",\"x\":[\"Movie\",\"TV Show\"],\"xaxis\":\"x\",\"y\":[6131,2676],\"yaxis\":\"y\",\"type\":\"bar\"}],                        {\"template\":{\"data\":{\"bar\":[{\"error_x\":{\"color\":\"#2a3f5f\"},\"error_y\":{\"color\":\"#2a3f5f\"},\"marker\":{\"line\":{\"color\":\"#E5ECF6\",\"width\":0.5},\"pattern\":{\"fillmode\":\"overlay\",\"size\":10,\"solidity\":0.2}},\"type\":\"bar\"}],\"barpolar\":[{\"marker\":{\"line\":{\"color\":\"#E5ECF6\",\"width\":0.5},\"pattern\":{\"fillmode\":\"overlay\",\"size\":10,\"solidity\":0.2}},\"type\":\"barpolar\"}],\"carpet\":[{\"aaxis\":{\"endlinecolor\":\"#2a3f5f\",\"gridcolor\":\"white\",\"linecolor\":\"white\",\"minorgridcolor\":\"white\",\"startlinecolor\":\"#2a3f5f\"},\"baxis\":{\"endlinecolor\":\"#2a3f5f\",\"gridcolor\":\"white\",\"linecolor\":\"white\",\"minorgridcolor\":\"white\",\"startlinecolor\":\"#2a3f5f\"},\"type\":\"carpet\"}],\"choropleth\":[{\"colorbar\":{\"outlinewidth\":0,\"ticks\":\"\"},\"type\":\"choropleth\"}],\"contour\":[{\"colorbar\":{\"outlinewidth\":0,\"ticks\":\"\"},\"colorscale\":[[0.0,\"#0d0887\"],[0.1111111111111111,\"#46039f\"],[0.2222222222222222,\"#7201a8\"],[0.3333333333333333,\"#9c179e\"],[0.4444444444444444,\"#bd3786\"],[0.5555555555555556,\"#d8576b\"],[0.6666666666666666,\"#ed7953\"],[0.7777777777777778,\"#fb9f3a\"],[0.8888888888888888,\"#fdca26\"],[1.0,\"#f0f921\"]],\"type\":\"contour\"}],\"contourcarpet\":[{\"colorbar\":{\"outlinewidth\":0,\"ticks\":\"\"},\"type\":\"contourcarpet\"}],\"heatmap\":[{\"colorbar\":{\"outlinewidth\":0,\"ticks\":\"\"},\"colorscale\":[[0.0,\"#0d0887\"],[0.1111111111111111,\"#46039f\"],[0.2222222222222222,\"#7201a8\"],[0.3333333333333333,\"#9c179e\"],[0.4444444444444444,\"#bd3786\"],[0.5555555555555556,\"#d8576b\"],[0.6666666666666666,\"#ed7953\"],[0.7777777777777778,\"#fb9f3a\"],[0.8888888888888888,\"#fdca26\"],[1.0,\"#f0f921\"]],\"type\":\"heatmap\"}],\"heatmapgl\":[{\"colorbar\":{\"outlinewidth\":0,\"ticks\":\"\"},\"colorscale\":[[0.0,\"#0d0887\"],[0.1111111111111111,\"#46039f\"],[0.2222222222222222,\"#7201a8\"],[0.3333333333333333,\"#9c179e\"],[0.4444444444444444,\"#bd3786\"],[0.5555555555555556,\"#d8576b\"],[0.6666666666666666,\"#ed7953\"],[0.7777777777777778,\"#fb9f3a\"],[0.8888888888888888,\"#fdca26\"],[1.0,\"#f0f921\"]],\"type\":\"heatmapgl\"}],\"histogram\":[{\"marker\":{\"pattern\":{\"fillmode\":\"overlay\",\"size\":10,\"solidity\":0.2}},\"type\":\"histogram\"}],\"histogram2d\":[{\"colorbar\":{\"outlinewidth\":0,\"ticks\":\"\"},\"colorscale\":[[0.0,\"#0d0887\"],[0.1111111111111111,\"#46039f\"],[0.2222222222222222,\"#7201a8\"],[0.3333333333333333,\"#9c179e\"],[0.4444444444444444,\"#bd3786\"],[0.5555555555555556,\"#d8576b\"],[0.6666666666666666,\"#ed7953\"],[0.7777777777777778,\"#fb9f3a\"],[0.8888888888888888,\"#fdca26\"],[1.0,\"#f0f921\"]],\"type\":\"histogram2d\"}],\"histogram2dcontour\":[{\"colorbar\":{\"outlinewidth\":0,\"ticks\":\"\"},\"colorscale\":[[0.0,\"#0d0887\"],[0.1111111111111111,\"#46039f\"],[0.2222222222222222,\"#7201a8\"],[0.3333333333333333,\"#9c179e\"],[0.4444444444444444,\"#bd3786\"],[0.5555555555555556,\"#d8576b\"],[0.6666666666666666,\"#ed7953\"],[0.7777777777777778,\"#fb9f3a\"],[0.8888888888888888,\"#fdca26\"],[1.0,\"#f0f921\"]],\"type\":\"histogram2dcontour\"}],\"mesh3d\":[{\"colorbar\":{\"outlinewidth\":0,\"ticks\":\"\"},\"type\":\"mesh3d\"}],\"parcoords\":[{\"line\":{\"colorbar\":{\"outlinewidth\":0,\"ticks\":\"\"}},\"type\":\"parcoords\"}],\"pie\":[{\"automargin\":true,\"type\":\"pie\"}],\"scatter\":[{\"marker\":{\"colorbar\":{\"outlinewidth\":0,\"ticks\":\"\"}},\"type\":\"scatter\"}],\"scatter3d\":[{\"line\":{\"colorbar\":{\"outlinewidth\":0,\"ticks\":\"\"}},\"marker\":{\"colorbar\":{\"outlinewidth\":0,\"ticks\":\"\"}},\"type\":\"scatter3d\"}],\"scattercarpet\":[{\"marker\":{\"colorbar\":{\"outlinewidth\":0,\"ticks\":\"\"}},\"type\":\"scattercarpet\"}],\"scattergeo\":[{\"marker\":{\"colorbar\":{\"outlinewidth\":0,\"ticks\":\"\"}},\"type\":\"scattergeo\"}],\"scattergl\":[{\"marker\":{\"colorbar\":{\"outlinewidth\":0,\"ticks\":\"\"}},\"type\":\"scattergl\"}],\"scattermapbox\":[{\"marker\":{\"colorbar\":{\"outlinewidth\":0,\"ticks\":\"\"}},\"type\":\"scattermapbox\"}],\"scatterpolar\":[{\"marker\":{\"colorbar\":{\"outlinewidth\":0,\"ticks\":\"\"}},\"type\":\"scatterpolar\"}],\"scatterpolargl\":[{\"marker\":{\"colorbar\":{\"outlinewidth\":0,\"ticks\":\"\"}},\"type\":\"scatterpolargl\"}],\"scatterternary\":[{\"marker\":{\"colorbar\":{\"outlinewidth\":0,\"ticks\":\"\"}},\"type\":\"scatterternary\"}],\"surface\":[{\"colorbar\":{\"outlinewidth\":0,\"ticks\":\"\"},\"colorscale\":[[0.0,\"#0d0887\"],[0.1111111111111111,\"#46039f\"],[0.2222222222222222,\"#7201a8\"],[0.3333333333333333,\"#9c179e\"],[0.4444444444444444,\"#bd3786\"],[0.5555555555555556,\"#d8576b\"],[0.6666666666666666,\"#ed7953\"],[0.7777777777777778,\"#fb9f3a\"],[0.8888888888888888,\"#fdca26\"],[1.0,\"#f0f921\"]],\"type\":\"surface\"}],\"table\":[{\"cells\":{\"fill\":{\"color\":\"#EBF0F8\"},\"line\":{\"color\":\"white\"}},\"header\":{\"fill\":{\"color\":\"#C8D4E3\"},\"line\":{\"color\":\"white\"}},\"type\":\"table\"}]},\"layout\":{\"annotationdefaults\":{\"arrowcolor\":\"#2a3f5f\",\"arrowhead\":0,\"arrowwidth\":1},\"autotypenumbers\":\"strict\",\"coloraxis\":{\"colorbar\":{\"outlinewidth\":0,\"ticks\":\"\"}},\"colorscale\":{\"diverging\":[[0,\"#8e0152\"],[0.1,\"#c51b7d\"],[0.2,\"#de77ae\"],[0.3,\"#f1b6da\"],[0.4,\"#fde0ef\"],[0.5,\"#f7f7f7\"],[0.6,\"#e6f5d0\"],[0.7,\"#b8e186\"],[0.8,\"#7fbc41\"],[0.9,\"#4d9221\"],[1,\"#276419\"]],\"sequential\":[[0.0,\"#0d0887\"],[0.1111111111111111,\"#46039f\"],[0.2222222222222222,\"#7201a8\"],[0.3333333333333333,\"#9c179e\"],[0.4444444444444444,\"#bd3786\"],[0.5555555555555556,\"#d8576b\"],[0.6666666666666666,\"#ed7953\"],[0.7777777777777778,\"#fb9f3a\"],[0.8888888888888888,\"#fdca26\"],[1.0,\"#f0f921\"]],\"sequentialminus\":[[0.0,\"#0d0887\"],[0.1111111111111111,\"#46039f\"],[0.2222222222222222,\"#7201a8\"],[0.3333333333333333,\"#9c179e\"],[0.4444444444444444,\"#bd3786\"],[0.5555555555555556,\"#d8576b\"],[0.6666666666666666,\"#ed7953\"],[0.7777777777777778,\"#fb9f3a\"],[0.8888888888888888,\"#fdca26\"],[1.0,\"#f0f921\"]]},\"colorway\":[\"#636efa\",\"#EF553B\",\"#00cc96\",\"#ab63fa\",\"#FFA15A\",\"#19d3f3\",\"#FF6692\",\"#B6E880\",\"#FF97FF\",\"#FECB52\"],\"font\":{\"color\":\"#2a3f5f\"},\"geo\":{\"bgcolor\":\"white\",\"lakecolor\":\"white\",\"landcolor\":\"#E5ECF6\",\"showlakes\":true,\"showland\":true,\"subunitcolor\":\"white\"},\"hoverlabel\":{\"align\":\"left\"},\"hovermode\":\"closest\",\"mapbox\":{\"style\":\"light\"},\"paper_bgcolor\":\"white\",\"plot_bgcolor\":\"#E5ECF6\",\"polar\":{\"angularaxis\":{\"gridcolor\":\"white\",\"linecolor\":\"white\",\"ticks\":\"\"},\"bgcolor\":\"#E5ECF6\",\"radialaxis\":{\"gridcolor\":\"white\",\"linecolor\":\"white\",\"ticks\":\"\"}},\"scene\":{\"xaxis\":{\"backgroundcolor\":\"#E5ECF6\",\"gridcolor\":\"white\",\"gridwidth\":2,\"linecolor\":\"white\",\"showbackground\":true,\"ticks\":\"\",\"zerolinecolor\":\"white\"},\"yaxis\":{\"backgroundcolor\":\"#E5ECF6\",\"gridcolor\":\"white\",\"gridwidth\":2,\"linecolor\":\"white\",\"showbackground\":true,\"ticks\":\"\",\"zerolinecolor\":\"white\"},\"zaxis\":{\"backgroundcolor\":\"#E5ECF6\",\"gridcolor\":\"white\",\"gridwidth\":2,\"linecolor\":\"white\",\"showbackground\":true,\"ticks\":\"\",\"zerolinecolor\":\"white\"}},\"shapedefaults\":{\"line\":{\"color\":\"#2a3f5f\"}},\"ternary\":{\"aaxis\":{\"gridcolor\":\"white\",\"linecolor\":\"white\",\"ticks\":\"\"},\"baxis\":{\"gridcolor\":\"white\",\"linecolor\":\"white\",\"ticks\":\"\"},\"bgcolor\":\"#E5ECF6\",\"caxis\":{\"gridcolor\":\"white\",\"linecolor\":\"white\",\"ticks\":\"\"}},\"title\":{\"x\":0.05},\"xaxis\":{\"automargin\":true,\"gridcolor\":\"white\",\"linecolor\":\"white\",\"ticks\":\"\",\"title\":{\"standoff\":15},\"zerolinecolor\":\"white\",\"zerolinewidth\":2},\"yaxis\":{\"automargin\":true,\"gridcolor\":\"white\",\"linecolor\":\"white\",\"ticks\":\"\",\"title\":{\"standoff\":15},\"zerolinecolor\":\"white\",\"zerolinewidth\":2}}},\"xaxis\":{\"anchor\":\"y\",\"domain\":[0.0,1.0],\"title\":{\"text\":\"index\"}},\"yaxis\":{\"anchor\":\"x\",\"domain\":[0.0,1.0],\"title\":{\"text\":\"type\"}},\"legend\":{\"tracegroupgap\":0},\"margin\":{\"t\":60},\"barmode\":\"relative\"},                        {\"responsive\": true}                    ).then(function(){\n",
       "                            \n",
       "var gd = document.getElementById('110e8de7-ee7e-4e1d-bd01-6baefe0fa80e');\n",
       "var x = new MutationObserver(function (mutations, observer) {{\n",
       "        var display = window.getComputedStyle(gd).display;\n",
       "        if (!display || display === 'none') {{\n",
       "            console.log([gd, 'removed!']);\n",
       "            Plotly.purge(gd);\n",
       "            observer.disconnect();\n",
       "        }}\n",
       "}});\n",
       "\n",
       "// Listen for the removal of the full notebook cells\n",
       "var notebookContainer = gd.closest('#notebook-container');\n",
       "if (notebookContainer) {{\n",
       "    x.observe(notebookContainer, {childList: true});\n",
       "}}\n",
       "\n",
       "// Listen for the clearing of the current output cell\n",
       "var outputEl = gd.closest('.output');\n",
       "if (outputEl) {{\n",
       "    x.observe(outputEl, {childList: true});\n",
       "}}\n",
       "\n",
       "                        })                };                });            </script>        </div>"
      ]
     },
     "metadata": {},
     "output_type": "display_data"
    }
   ],
   "source": [
    "fig=px.bar(recent, y='type')\n",
    "fig.show()"
   ]
  },
  {
   "cell_type": "code",
   "execution_count": 37,
   "id": "2f548430-341e-4cb4-a633-2c24f8419556",
   "metadata": {},
   "outputs": [],
   "source": []
  },
  {
   "cell_type": "code",
   "execution_count": null,
   "id": "9ba3e495-87bf-4e9b-b401-770a3f9f5f65",
   "metadata": {},
   "outputs": [],
   "source": []
  },
  {
   "cell_type": "code",
   "execution_count": null,
   "id": "db598297-f0eb-479b-afcc-3719cffcfba2",
   "metadata": {},
   "outputs": [],
   "source": []
  }
 ],
 "metadata": {
  "kernelspec": {
   "display_name": "Python 3 (ipykernel)",
   "language": "python",
   "name": "python3"
  },
  "language_info": {
   "codemirror_mode": {
    "name": "ipython",
    "version": 3
   },
   "file_extension": ".py",
   "mimetype": "text/x-python",
   "name": "python",
   "nbconvert_exporter": "python",
   "pygments_lexer": "ipython3",
   "version": "3.10.0"
  }
 },
 "nbformat": 4,
 "nbformat_minor": 5
}
