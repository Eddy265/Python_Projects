{
 "cells": [
  {
   "attachments": {},
   "cell_type": "markdown",
   "metadata": {},
   "source": [
    "# Project - Cleaning the Expanded Immobilien Scout 24 Dataset\n",
    "\n",
    "--- \n",
    "Data cleaning is an essential step in the data analysis process. It involves identifying and addressing errors, inconsistencies, and missing values in the data. In this project, we will be working with a dataset of Berlin flats. The goal of this project is to clean and prepare the data so that it can be used for further analysis.\n",
    "\n",
    "The dataset contains information on various attributes of Berlin flats such as Region, rent, Year of construction, Condition of the flats etc. However, as with any real-world dataset, it is likely that the data will contain errors, inconsistencies, and missing values. Our task is to identify and correct these issues so that the data is accurate and reliable.\n",
    "\n",
    "The data cleaning process will involve several steps such as identifying and handling missing values, removing duplicate data, removing strings and correcting errors. We will also perform data transformation and feature engineering to make the data more useful for analysis. It is expected that the data cleaning process will take a significant amount of time and effort, but the end result will be a clean and well-prepared dataset that can be used for further analysis.\n",
    "\n",
    "In this project, we will be using the pandas and Numpy library for data manipulation and cleaning. The techniques used in this project will be applicable to any dataset, making it a valuable skill for any data analyst or scientist.\n",
    "\n",
    "Let's begin by importing the dataset and getting an overview of the data and the kind of issues we will be dealing with."
   ]
  },
  {
   "cell_type": "code",
   "execution_count": 21,
   "metadata": {},
   "outputs": [],
   "source": [
    "import numpy as np\n",
    "import pandas as pd\n",
    "import plotly.express as px\n",
    "\n",
    "df = pd.read_csv (r\"C:/Users/euzoe/OneDrive/Desktop/DATA_ANALYSIS/DATASETS/Berlin_Flats.csv\")\n",
    "pd.set_option('display.max_columns', 20)"
   ]
  },
  {
   "attachments": {},
   "cell_type": "markdown",
   "metadata": {},
   "source": [
    "Drop columns not needed"
   ]
  },
  {
   "cell_type": "code",
   "execution_count": 22,
   "metadata": {},
   "outputs": [
    {
     "data": {
      "text/plain": [
       "(764, 20)"
      ]
     },
     "execution_count": 22,
     "metadata": {},
     "output_type": "execute_result"
    }
   ],
   "source": [
    "df.drop(columns=['tags'], inplace=True)\n",
    "df.shape"
   ]
  },
  {
   "attachments": {},
   "cell_type": "markdown",
   "metadata": {},
   "source": [
    "Before cleaning, print out how many missing values."
   ]
  },
  {
   "cell_type": "code",
   "execution_count": 24,
   "metadata": {},
   "outputs": [
    {
     "data": {
      "text/plain": [
       "region                   0\n",
       "condition                0\n",
       "rooms                    0\n",
       "rent                     0\n",
       "year_construction        0\n",
       "space                    0\n",
       "cold_rent              338\n",
       "utilities              338\n",
       "heating_costs          338\n",
       "security_deposit       379\n",
       "parking_space          674\n",
       "renovated_date         569\n",
       "property_condition     263\n",
       "furnishing             319\n",
       "heating_type           249\n",
       "energy_sources         270\n",
       "energy_certificate     313\n",
       "type_of_certificate    297\n",
       "energy_requirement     438\n",
       "efficiency_class       513\n",
       "dtype: int64"
      ]
     },
     "execution_count": 24,
     "metadata": {},
     "output_type": "execute_result"
    }
   ],
   "source": [
    "#Inspect\n",
    "df.isnull().sum()"
   ]
  },
  {
   "attachments": {},
   "cell_type": "markdown",
   "metadata": {},
   "source": [
    "# Clean ``heating_type``"
   ]
  },
  {
   "cell_type": "code",
   "execution_count": 25,
   "metadata": {},
   "outputs": [
    {
     "data": {
      "text/plain": [
       "array(['Underfloor Heating', 'Central Heating', nan, 'District Heating',\n",
       "       'Floor Heating', 'Gas Heating', 'CHP Plants',\n",
       "       'Wood Pellet Heating'], dtype=object)"
      ]
     },
     "execution_count": 25,
     "metadata": {},
     "output_type": "execute_result"
    }
   ],
   "source": [
    "df.heating_type.unique()"
   ]
  },
  {
   "cell_type": "code",
   "execution_count": 26,
   "metadata": {},
   "outputs": [
    {
     "data": {
      "text/html": [
       "<div>\n",
       "<style scoped>\n",
       "    .dataframe tbody tr th:only-of-type {\n",
       "        vertical-align: middle;\n",
       "    }\n",
       "\n",
       "    .dataframe tbody tr th {\n",
       "        vertical-align: top;\n",
       "    }\n",
       "\n",
       "    .dataframe thead th {\n",
       "        text-align: right;\n",
       "    }\n",
       "</style>\n",
       "<table border=\"1\" class=\"dataframe\">\n",
       "  <thead>\n",
       "    <tr style=\"text-align: right;\">\n",
       "      <th></th>\n",
       "      <th>region</th>\n",
       "      <th>condition</th>\n",
       "      <th>rooms</th>\n",
       "      <th>rent</th>\n",
       "      <th>year_construction</th>\n",
       "      <th>space</th>\n",
       "      <th>cold_rent</th>\n",
       "      <th>utilities</th>\n",
       "      <th>heating_costs</th>\n",
       "      <th>security_deposit</th>\n",
       "      <th>parking_space</th>\n",
       "      <th>renovated_date</th>\n",
       "      <th>property_condition</th>\n",
       "      <th>furnishing</th>\n",
       "      <th>heating_type</th>\n",
       "      <th>energy_sources</th>\n",
       "      <th>energy_certificate</th>\n",
       "      <th>type_of_certificate</th>\n",
       "      <th>energy_requirement</th>\n",
       "      <th>efficiency_class</th>\n",
       "    </tr>\n",
       "  </thead>\n",
       "  <tbody>\n",
       "    <tr>\n",
       "      <th>3</th>\n",
       "      <td>Wilmersdorf</td>\n",
       "      <td>well_kept</td>\n",
       "      <td>4.0</td>\n",
       "      <td>1830.22</td>\n",
       "      <td>1900</td>\n",
       "      <td>171.18</td>\n",
       "      <td>NaN</td>\n",
       "      <td>NaN</td>\n",
       "      <td>NaN</td>\n",
       "      <td>NaN</td>\n",
       "      <td>NaN</td>\n",
       "      <td>NaN</td>\n",
       "      <td>NaN</td>\n",
       "      <td>NaN</td>\n",
       "      <td>NaN</td>\n",
       "      <td>NaN</td>\n",
       "      <td>NaN</td>\n",
       "      <td>NaN</td>\n",
       "      <td>NaN</td>\n",
       "      <td>NaN</td>\n",
       "    </tr>\n",
       "    <tr>\n",
       "      <th>6</th>\n",
       "      <td>Mitte</td>\n",
       "      <td>mint_condition</td>\n",
       "      <td>2.0</td>\n",
       "      <td>1509.45</td>\n",
       "      <td>2015</td>\n",
       "      <td>61.61</td>\n",
       "      <td>NaN</td>\n",
       "      <td>NaN</td>\n",
       "      <td>NaN</td>\n",
       "      <td>NaN</td>\n",
       "      <td>NaN</td>\n",
       "      <td>NaN</td>\n",
       "      <td>NaN</td>\n",
       "      <td>NaN</td>\n",
       "      <td>NaN</td>\n",
       "      <td>NaN</td>\n",
       "      <td>NaN</td>\n",
       "      <td>NaN</td>\n",
       "      <td>NaN</td>\n",
       "      <td>NaN</td>\n",
       "    </tr>\n",
       "    <tr>\n",
       "      <th>16</th>\n",
       "      <td>Friedrichsfelde</td>\n",
       "      <td>first_time_use</td>\n",
       "      <td>3.5</td>\n",
       "      <td>1429.10</td>\n",
       "      <td>2020</td>\n",
       "      <td>82.05</td>\n",
       "      <td>1.169,14€</td>\n",
       "      <td>+164,09€</td>\n",
       "      <td>+95,87€</td>\n",
       "      <td>3507.42</td>\n",
       "      <td>NaN</td>\n",
       "      <td>NaN</td>\n",
       "      <td>New</td>\n",
       "      <td>Gehobene Qualität</td>\n",
       "      <td>NaN</td>\n",
       "      <td>Fernwärme</td>\n",
       "      <td>NaN</td>\n",
       "      <td>Bedarfsausweis</td>\n",
       "      <td>40 kWh/(m²*a)</td>\n",
       "      <td>NaN</td>\n",
       "    </tr>\n",
       "  </tbody>\n",
       "</table>\n",
       "</div>"
      ],
      "text/plain": [
       "             region       condition  rooms     rent  year_construction  \\\n",
       "3       Wilmersdorf       well_kept    4.0  1830.22               1900   \n",
       "6             Mitte  mint_condition    2.0  1509.45               2015   \n",
       "16  Friedrichsfelde  first_time_use    3.5  1429.10               2020   \n",
       "\n",
       "     space  cold_rent utilities heating_costs security_deposit parking_space  \\\n",
       "3   171.18        NaN       NaN           NaN              NaN           NaN   \n",
       "6    61.61        NaN       NaN           NaN              NaN           NaN   \n",
       "16   82.05  1.169,14€  +164,09€       +95,87€          3507.42           NaN   \n",
       "\n",
       "    renovated_date property_condition         furnishing heating_type  \\\n",
       "3              NaN                NaN                NaN          NaN   \n",
       "6              NaN                NaN                NaN          NaN   \n",
       "16             NaN                New  Gehobene Qualität          NaN   \n",
       "\n",
       "   energy_sources energy_certificate type_of_certificate energy_requirement  \\\n",
       "3             NaN                NaN                 NaN                NaN   \n",
       "6             NaN                NaN                 NaN                NaN   \n",
       "16      Fernwärme                NaN      Bedarfsausweis      40 kWh/(m²*a)   \n",
       "\n",
       "   efficiency_class  \n",
       "3               NaN  \n",
       "6               NaN  \n",
       "16              NaN  "
      ]
     },
     "execution_count": 26,
     "metadata": {},
     "output_type": "execute_result"
    }
   ],
   "source": [
    "df[df.heating_type.isnull()].head(3)"
   ]
  },
  {
   "attachments": {},
   "cell_type": "markdown",
   "metadata": {},
   "source": [
    "Fill Na with 'Not Provided'"
   ]
  },
  {
   "cell_type": "code",
   "execution_count": 27,
   "metadata": {},
   "outputs": [
    {
     "data": {
      "text/html": [
       "<div>\n",
       "<style scoped>\n",
       "    .dataframe tbody tr th:only-of-type {\n",
       "        vertical-align: middle;\n",
       "    }\n",
       "\n",
       "    .dataframe tbody tr th {\n",
       "        vertical-align: top;\n",
       "    }\n",
       "\n",
       "    .dataframe thead th {\n",
       "        text-align: right;\n",
       "    }\n",
       "</style>\n",
       "<table border=\"1\" class=\"dataframe\">\n",
       "  <thead>\n",
       "    <tr style=\"text-align: right;\">\n",
       "      <th></th>\n",
       "      <th>region</th>\n",
       "      <th>condition</th>\n",
       "      <th>rooms</th>\n",
       "      <th>rent</th>\n",
       "      <th>year_construction</th>\n",
       "      <th>space</th>\n",
       "      <th>cold_rent</th>\n",
       "      <th>utilities</th>\n",
       "      <th>heating_costs</th>\n",
       "      <th>security_deposit</th>\n",
       "      <th>parking_space</th>\n",
       "      <th>renovated_date</th>\n",
       "      <th>property_condition</th>\n",
       "      <th>furnishing</th>\n",
       "      <th>heating_type</th>\n",
       "      <th>energy_sources</th>\n",
       "      <th>energy_certificate</th>\n",
       "      <th>type_of_certificate</th>\n",
       "      <th>energy_requirement</th>\n",
       "      <th>efficiency_class</th>\n",
       "    </tr>\n",
       "  </thead>\n",
       "  <tbody>\n",
       "    <tr>\n",
       "      <th>761</th>\n",
       "      <td>Wilmersdorf</td>\n",
       "      <td>mint_condition</td>\n",
       "      <td>4.0</td>\n",
       "      <td>2750.0</td>\n",
       "      <td>2017</td>\n",
       "      <td>110.00</td>\n",
       "      <td>NaN</td>\n",
       "      <td>NaN</td>\n",
       "      <td>NaN</td>\n",
       "      <td>NaN</td>\n",
       "      <td>NaN</td>\n",
       "      <td>NaN</td>\n",
       "      <td>NaN</td>\n",
       "      <td>NaN</td>\n",
       "      <td>Not provided</td>\n",
       "      <td>NaN</td>\n",
       "      <td>NaN</td>\n",
       "      <td>NaN</td>\n",
       "      <td>NaN</td>\n",
       "      <td>NaN</td>\n",
       "    </tr>\n",
       "    <tr>\n",
       "      <th>762</th>\n",
       "      <td>Köpenick</td>\n",
       "      <td>well_kept</td>\n",
       "      <td>2.0</td>\n",
       "      <td>1259.0</td>\n",
       "      <td>2017</td>\n",
       "      <td>91.20</td>\n",
       "      <td>NaN</td>\n",
       "      <td>NaN</td>\n",
       "      <td>NaN</td>\n",
       "      <td>NaN</td>\n",
       "      <td>NaN</td>\n",
       "      <td>2017.0</td>\n",
       "      <td>Groomed</td>\n",
       "      <td>Gehobene Qualität</td>\n",
       "      <td>Underfloor Heating</td>\n",
       "      <td>Wärmelieferung Energieausweis liegt vor</td>\n",
       "      <td>liegt vor</td>\n",
       "      <td>Bedarfsausweis</td>\n",
       "      <td>66 kWh/(m²*a)</td>\n",
       "      <td>B</td>\n",
       "    </tr>\n",
       "    <tr>\n",
       "      <th>763</th>\n",
       "      <td>Neukölln</td>\n",
       "      <td>fully_renovated</td>\n",
       "      <td>2.0</td>\n",
       "      <td>888.0</td>\n",
       "      <td>1990</td>\n",
       "      <td>68.48</td>\n",
       "      <td>NaN</td>\n",
       "      <td>NaN</td>\n",
       "      <td>NaN</td>\n",
       "      <td>NaN</td>\n",
       "      <td>NaN</td>\n",
       "      <td>NaN</td>\n",
       "      <td>NaN</td>\n",
       "      <td>NaN</td>\n",
       "      <td>Not provided</td>\n",
       "      <td>NaN</td>\n",
       "      <td>NaN</td>\n",
       "      <td>NaN</td>\n",
       "      <td>NaN</td>\n",
       "      <td>NaN</td>\n",
       "    </tr>\n",
       "  </tbody>\n",
       "</table>\n",
       "</div>"
      ],
      "text/plain": [
       "          region        condition  rooms    rent  year_construction   space  \\\n",
       "761  Wilmersdorf   mint_condition    4.0  2750.0               2017  110.00   \n",
       "762     Köpenick        well_kept    2.0  1259.0               2017   91.20   \n",
       "763     Neukölln  fully_renovated    2.0   888.0               1990   68.48   \n",
       "\n",
       "    cold_rent utilities heating_costs security_deposit parking_space  \\\n",
       "761       NaN       NaN           NaN              NaN           NaN   \n",
       "762       NaN       NaN           NaN              NaN           NaN   \n",
       "763       NaN       NaN           NaN              NaN           NaN   \n",
       "\n",
       "     renovated_date property_condition         furnishing        heating_type  \\\n",
       "761             NaN                NaN                NaN        Not provided   \n",
       "762          2017.0            Groomed  Gehobene Qualität  Underfloor Heating   \n",
       "763             NaN                NaN                NaN        Not provided   \n",
       "\n",
       "                              energy_sources energy_certificate  \\\n",
       "761                                      NaN                NaN   \n",
       "762  Wärmelieferung Energieausweis liegt vor          liegt vor   \n",
       "763                                      NaN                NaN   \n",
       "\n",
       "    type_of_certificate energy_requirement efficiency_class  \n",
       "761                 NaN                NaN              NaN  \n",
       "762      Bedarfsausweis      66 kWh/(m²*a)                B  \n",
       "763                 NaN                NaN              NaN  "
      ]
     },
     "execution_count": 27,
     "metadata": {},
     "output_type": "execute_result"
    }
   ],
   "source": [
    "df.fillna({'heating_type': 'Not provided'}, inplace=True)\n",
    "df.tail(3)"
   ]
  },
  {
   "cell_type": "code",
   "execution_count": 28,
   "metadata": {},
   "outputs": [
    {
     "data": {
      "text/plain": [
       "region                   0\n",
       "condition                0\n",
       "rooms                    0\n",
       "rent                     0\n",
       "year_construction        0\n",
       "space                    0\n",
       "cold_rent              338\n",
       "utilities              338\n",
       "heating_costs          338\n",
       "security_deposit       379\n",
       "parking_space          674\n",
       "renovated_date         569\n",
       "property_condition     263\n",
       "furnishing             319\n",
       "heating_type             0\n",
       "energy_sources         270\n",
       "energy_certificate     313\n",
       "type_of_certificate    297\n",
       "energy_requirement     438\n",
       "efficiency_class       513\n",
       "dtype: int64"
      ]
     },
     "execution_count": 28,
     "metadata": {},
     "output_type": "execute_result"
    }
   ],
   "source": [
    "#Inspect\n",
    "df.isnull().sum()"
   ]
  },
  {
   "cell_type": "code",
   "execution_count": 29,
   "metadata": {},
   "outputs": [
    {
     "data": {
      "application/vnd.plotly.v1+json": {
       "config": {
        "plotlyServerURL": "https://plot.ly"
       },
       "data": [
        {
         "alignmentgroup": "True",
         "hovertemplate": "index=%{x}<br>heating_type=%{y}<extra></extra>",
         "legendgroup": "",
         "marker": {
          "color": "#636efa",
          "pattern": {
           "shape": ""
          }
         },
         "name": "",
         "offsetgroup": "",
         "orientation": "v",
         "showlegend": false,
         "textposition": "auto",
         "type": "bar",
         "x": [
          "Not provided",
          "Central Heating",
          "District Heating",
          "Underfloor Heating",
          "Floor Heating",
          "Gas Heating",
          "CHP Plants",
          "Wood Pellet Heating"
         ],
         "xaxis": "x",
         "y": [
          249,
          201,
          149,
          127,
          24,
          10,
          2,
          2
         ],
         "yaxis": "y"
        }
       ],
       "layout": {
        "barmode": "relative",
        "legend": {
         "tracegroupgap": 0
        },
        "margin": {
         "t": 60
        },
        "template": {
         "data": {
          "bar": [
           {
            "error_x": {
             "color": "#2a3f5f"
            },
            "error_y": {
             "color": "#2a3f5f"
            },
            "marker": {
             "line": {
              "color": "#E5ECF6",
              "width": 0.5
             },
             "pattern": {
              "fillmode": "overlay",
              "size": 10,
              "solidity": 0.2
             }
            },
            "type": "bar"
           }
          ],
          "barpolar": [
           {
            "marker": {
             "line": {
              "color": "#E5ECF6",
              "width": 0.5
             },
             "pattern": {
              "fillmode": "overlay",
              "size": 10,
              "solidity": 0.2
             }
            },
            "type": "barpolar"
           }
          ],
          "carpet": [
           {
            "aaxis": {
             "endlinecolor": "#2a3f5f",
             "gridcolor": "white",
             "linecolor": "white",
             "minorgridcolor": "white",
             "startlinecolor": "#2a3f5f"
            },
            "baxis": {
             "endlinecolor": "#2a3f5f",
             "gridcolor": "white",
             "linecolor": "white",
             "minorgridcolor": "white",
             "startlinecolor": "#2a3f5f"
            },
            "type": "carpet"
           }
          ],
          "choropleth": [
           {
            "colorbar": {
             "outlinewidth": 0,
             "ticks": ""
            },
            "type": "choropleth"
           }
          ],
          "contour": [
           {
            "colorbar": {
             "outlinewidth": 0,
             "ticks": ""
            },
            "colorscale": [
             [
              0,
              "#0d0887"
             ],
             [
              0.1111111111111111,
              "#46039f"
             ],
             [
              0.2222222222222222,
              "#7201a8"
             ],
             [
              0.3333333333333333,
              "#9c179e"
             ],
             [
              0.4444444444444444,
              "#bd3786"
             ],
             [
              0.5555555555555556,
              "#d8576b"
             ],
             [
              0.6666666666666666,
              "#ed7953"
             ],
             [
              0.7777777777777778,
              "#fb9f3a"
             ],
             [
              0.8888888888888888,
              "#fdca26"
             ],
             [
              1,
              "#f0f921"
             ]
            ],
            "type": "contour"
           }
          ],
          "contourcarpet": [
           {
            "colorbar": {
             "outlinewidth": 0,
             "ticks": ""
            },
            "type": "contourcarpet"
           }
          ],
          "heatmap": [
           {
            "colorbar": {
             "outlinewidth": 0,
             "ticks": ""
            },
            "colorscale": [
             [
              0,
              "#0d0887"
             ],
             [
              0.1111111111111111,
              "#46039f"
             ],
             [
              0.2222222222222222,
              "#7201a8"
             ],
             [
              0.3333333333333333,
              "#9c179e"
             ],
             [
              0.4444444444444444,
              "#bd3786"
             ],
             [
              0.5555555555555556,
              "#d8576b"
             ],
             [
              0.6666666666666666,
              "#ed7953"
             ],
             [
              0.7777777777777778,
              "#fb9f3a"
             ],
             [
              0.8888888888888888,
              "#fdca26"
             ],
             [
              1,
              "#f0f921"
             ]
            ],
            "type": "heatmap"
           }
          ],
          "heatmapgl": [
           {
            "colorbar": {
             "outlinewidth": 0,
             "ticks": ""
            },
            "colorscale": [
             [
              0,
              "#0d0887"
             ],
             [
              0.1111111111111111,
              "#46039f"
             ],
             [
              0.2222222222222222,
              "#7201a8"
             ],
             [
              0.3333333333333333,
              "#9c179e"
             ],
             [
              0.4444444444444444,
              "#bd3786"
             ],
             [
              0.5555555555555556,
              "#d8576b"
             ],
             [
              0.6666666666666666,
              "#ed7953"
             ],
             [
              0.7777777777777778,
              "#fb9f3a"
             ],
             [
              0.8888888888888888,
              "#fdca26"
             ],
             [
              1,
              "#f0f921"
             ]
            ],
            "type": "heatmapgl"
           }
          ],
          "histogram": [
           {
            "marker": {
             "pattern": {
              "fillmode": "overlay",
              "size": 10,
              "solidity": 0.2
             }
            },
            "type": "histogram"
           }
          ],
          "histogram2d": [
           {
            "colorbar": {
             "outlinewidth": 0,
             "ticks": ""
            },
            "colorscale": [
             [
              0,
              "#0d0887"
             ],
             [
              0.1111111111111111,
              "#46039f"
             ],
             [
              0.2222222222222222,
              "#7201a8"
             ],
             [
              0.3333333333333333,
              "#9c179e"
             ],
             [
              0.4444444444444444,
              "#bd3786"
             ],
             [
              0.5555555555555556,
              "#d8576b"
             ],
             [
              0.6666666666666666,
              "#ed7953"
             ],
             [
              0.7777777777777778,
              "#fb9f3a"
             ],
             [
              0.8888888888888888,
              "#fdca26"
             ],
             [
              1,
              "#f0f921"
             ]
            ],
            "type": "histogram2d"
           }
          ],
          "histogram2dcontour": [
           {
            "colorbar": {
             "outlinewidth": 0,
             "ticks": ""
            },
            "colorscale": [
             [
              0,
              "#0d0887"
             ],
             [
              0.1111111111111111,
              "#46039f"
             ],
             [
              0.2222222222222222,
              "#7201a8"
             ],
             [
              0.3333333333333333,
              "#9c179e"
             ],
             [
              0.4444444444444444,
              "#bd3786"
             ],
             [
              0.5555555555555556,
              "#d8576b"
             ],
             [
              0.6666666666666666,
              "#ed7953"
             ],
             [
              0.7777777777777778,
              "#fb9f3a"
             ],
             [
              0.8888888888888888,
              "#fdca26"
             ],
             [
              1,
              "#f0f921"
             ]
            ],
            "type": "histogram2dcontour"
           }
          ],
          "mesh3d": [
           {
            "colorbar": {
             "outlinewidth": 0,
             "ticks": ""
            },
            "type": "mesh3d"
           }
          ],
          "parcoords": [
           {
            "line": {
             "colorbar": {
              "outlinewidth": 0,
              "ticks": ""
             }
            },
            "type": "parcoords"
           }
          ],
          "pie": [
           {
            "automargin": true,
            "type": "pie"
           }
          ],
          "scatter": [
           {
            "fillpattern": {
             "fillmode": "overlay",
             "size": 10,
             "solidity": 0.2
            },
            "type": "scatter"
           }
          ],
          "scatter3d": [
           {
            "line": {
             "colorbar": {
              "outlinewidth": 0,
              "ticks": ""
             }
            },
            "marker": {
             "colorbar": {
              "outlinewidth": 0,
              "ticks": ""
             }
            },
            "type": "scatter3d"
           }
          ],
          "scattercarpet": [
           {
            "marker": {
             "colorbar": {
              "outlinewidth": 0,
              "ticks": ""
             }
            },
            "type": "scattercarpet"
           }
          ],
          "scattergeo": [
           {
            "marker": {
             "colorbar": {
              "outlinewidth": 0,
              "ticks": ""
             }
            },
            "type": "scattergeo"
           }
          ],
          "scattergl": [
           {
            "marker": {
             "colorbar": {
              "outlinewidth": 0,
              "ticks": ""
             }
            },
            "type": "scattergl"
           }
          ],
          "scattermapbox": [
           {
            "marker": {
             "colorbar": {
              "outlinewidth": 0,
              "ticks": ""
             }
            },
            "type": "scattermapbox"
           }
          ],
          "scatterpolar": [
           {
            "marker": {
             "colorbar": {
              "outlinewidth": 0,
              "ticks": ""
             }
            },
            "type": "scatterpolar"
           }
          ],
          "scatterpolargl": [
           {
            "marker": {
             "colorbar": {
              "outlinewidth": 0,
              "ticks": ""
             }
            },
            "type": "scatterpolargl"
           }
          ],
          "scatterternary": [
           {
            "marker": {
             "colorbar": {
              "outlinewidth": 0,
              "ticks": ""
             }
            },
            "type": "scatterternary"
           }
          ],
          "surface": [
           {
            "colorbar": {
             "outlinewidth": 0,
             "ticks": ""
            },
            "colorscale": [
             [
              0,
              "#0d0887"
             ],
             [
              0.1111111111111111,
              "#46039f"
             ],
             [
              0.2222222222222222,
              "#7201a8"
             ],
             [
              0.3333333333333333,
              "#9c179e"
             ],
             [
              0.4444444444444444,
              "#bd3786"
             ],
             [
              0.5555555555555556,
              "#d8576b"
             ],
             [
              0.6666666666666666,
              "#ed7953"
             ],
             [
              0.7777777777777778,
              "#fb9f3a"
             ],
             [
              0.8888888888888888,
              "#fdca26"
             ],
             [
              1,
              "#f0f921"
             ]
            ],
            "type": "surface"
           }
          ],
          "table": [
           {
            "cells": {
             "fill": {
              "color": "#EBF0F8"
             },
             "line": {
              "color": "white"
             }
            },
            "header": {
             "fill": {
              "color": "#C8D4E3"
             },
             "line": {
              "color": "white"
             }
            },
            "type": "table"
           }
          ]
         },
         "layout": {
          "annotationdefaults": {
           "arrowcolor": "#2a3f5f",
           "arrowhead": 0,
           "arrowwidth": 1
          },
          "autotypenumbers": "strict",
          "coloraxis": {
           "colorbar": {
            "outlinewidth": 0,
            "ticks": ""
           }
          },
          "colorscale": {
           "diverging": [
            [
             0,
             "#8e0152"
            ],
            [
             0.1,
             "#c51b7d"
            ],
            [
             0.2,
             "#de77ae"
            ],
            [
             0.3,
             "#f1b6da"
            ],
            [
             0.4,
             "#fde0ef"
            ],
            [
             0.5,
             "#f7f7f7"
            ],
            [
             0.6,
             "#e6f5d0"
            ],
            [
             0.7,
             "#b8e186"
            ],
            [
             0.8,
             "#7fbc41"
            ],
            [
             0.9,
             "#4d9221"
            ],
            [
             1,
             "#276419"
            ]
           ],
           "sequential": [
            [
             0,
             "#0d0887"
            ],
            [
             0.1111111111111111,
             "#46039f"
            ],
            [
             0.2222222222222222,
             "#7201a8"
            ],
            [
             0.3333333333333333,
             "#9c179e"
            ],
            [
             0.4444444444444444,
             "#bd3786"
            ],
            [
             0.5555555555555556,
             "#d8576b"
            ],
            [
             0.6666666666666666,
             "#ed7953"
            ],
            [
             0.7777777777777778,
             "#fb9f3a"
            ],
            [
             0.8888888888888888,
             "#fdca26"
            ],
            [
             1,
             "#f0f921"
            ]
           ],
           "sequentialminus": [
            [
             0,
             "#0d0887"
            ],
            [
             0.1111111111111111,
             "#46039f"
            ],
            [
             0.2222222222222222,
             "#7201a8"
            ],
            [
             0.3333333333333333,
             "#9c179e"
            ],
            [
             0.4444444444444444,
             "#bd3786"
            ],
            [
             0.5555555555555556,
             "#d8576b"
            ],
            [
             0.6666666666666666,
             "#ed7953"
            ],
            [
             0.7777777777777778,
             "#fb9f3a"
            ],
            [
             0.8888888888888888,
             "#fdca26"
            ],
            [
             1,
             "#f0f921"
            ]
           ]
          },
          "colorway": [
           "#636efa",
           "#EF553B",
           "#00cc96",
           "#ab63fa",
           "#FFA15A",
           "#19d3f3",
           "#FF6692",
           "#B6E880",
           "#FF97FF",
           "#FECB52"
          ],
          "font": {
           "color": "#2a3f5f"
          },
          "geo": {
           "bgcolor": "white",
           "lakecolor": "white",
           "landcolor": "#E5ECF6",
           "showlakes": true,
           "showland": true,
           "subunitcolor": "white"
          },
          "hoverlabel": {
           "align": "left"
          },
          "hovermode": "closest",
          "mapbox": {
           "style": "light"
          },
          "paper_bgcolor": "white",
          "plot_bgcolor": "#E5ECF6",
          "polar": {
           "angularaxis": {
            "gridcolor": "white",
            "linecolor": "white",
            "ticks": ""
           },
           "bgcolor": "#E5ECF6",
           "radialaxis": {
            "gridcolor": "white",
            "linecolor": "white",
            "ticks": ""
           }
          },
          "scene": {
           "xaxis": {
            "backgroundcolor": "#E5ECF6",
            "gridcolor": "white",
            "gridwidth": 2,
            "linecolor": "white",
            "showbackground": true,
            "ticks": "",
            "zerolinecolor": "white"
           },
           "yaxis": {
            "backgroundcolor": "#E5ECF6",
            "gridcolor": "white",
            "gridwidth": 2,
            "linecolor": "white",
            "showbackground": true,
            "ticks": "",
            "zerolinecolor": "white"
           },
           "zaxis": {
            "backgroundcolor": "#E5ECF6",
            "gridcolor": "white",
            "gridwidth": 2,
            "linecolor": "white",
            "showbackground": true,
            "ticks": "",
            "zerolinecolor": "white"
           }
          },
          "shapedefaults": {
           "line": {
            "color": "#2a3f5f"
           }
          },
          "ternary": {
           "aaxis": {
            "gridcolor": "white",
            "linecolor": "white",
            "ticks": ""
           },
           "baxis": {
            "gridcolor": "white",
            "linecolor": "white",
            "ticks": ""
           },
           "bgcolor": "#E5ECF6",
           "caxis": {
            "gridcolor": "white",
            "linecolor": "white",
            "ticks": ""
           }
          },
          "title": {
           "x": 0.05
          },
          "xaxis": {
           "automargin": true,
           "gridcolor": "white",
           "linecolor": "white",
           "ticks": "",
           "title": {
            "standoff": 15
           },
           "zerolinecolor": "white",
           "zerolinewidth": 2
          },
          "yaxis": {
           "automargin": true,
           "gridcolor": "white",
           "linecolor": "white",
           "ticks": "",
           "title": {
            "standoff": 15
           },
           "zerolinecolor": "white",
           "zerolinewidth": 2
          }
         }
        },
        "xaxis": {
         "anchor": "y",
         "domain": [
          0,
          1
         ],
         "title": {
          "text": "index"
         }
        },
        "yaxis": {
         "anchor": "x",
         "domain": [
          0,
          1
         ],
         "title": {
          "text": "heating_type"
         }
        }
       }
      }
     },
     "metadata": {},
     "output_type": "display_data"
    }
   ],
   "source": [
    "# Visualize\n",
    "px.bar(df.heating_type.value_counts().reset_index(), x='index', y='heating_type')\n"
   ]
  },
  {
   "attachments": {},
   "cell_type": "markdown",
   "metadata": {},
   "source": [
    "# 2. Clean ``renovated_date``\n",
    "\n",
    "Explanation: The approach is to fill the missing renovated_year with the mode renovated year in each of the regions. This approach was chosen because it would be logical to assume that the missing values would contain more of the highest occured renovated year in each region."
   ]
  },
  {
   "cell_type": "code",
   "execution_count": 30,
   "metadata": {},
   "outputs": [
    {
     "data": {
      "text/plain": [
       "NaN       569\n",
       "2019.0    121\n",
       "2020.0     26\n",
       "2016.0     13\n",
       "2017.0     12\n",
       "2018.0     11\n",
       "2015.0      4\n",
       "2011.0      2\n",
       "1995.0      2\n",
       "2014.0      1\n",
       "2010.0      1\n",
       "2006.0      1\n",
       "2012.0      1\n",
       "Name: renovated_date, dtype: int64"
      ]
     },
     "execution_count": 30,
     "metadata": {},
     "output_type": "execute_result"
    }
   ],
   "source": [
    "df.renovated_date.value_counts(dropna=False)"
   ]
  },
  {
   "cell_type": "code",
   "execution_count": 32,
   "metadata": {},
   "outputs": [
    {
     "data": {
      "text/plain": [
       "195"
      ]
     },
     "execution_count": 32,
     "metadata": {},
     "output_type": "execute_result"
    }
   ],
   "source": [
    "df.renovated_date.notnull().sum()"
   ]
  },
  {
   "cell_type": "code",
   "execution_count": 33,
   "metadata": {},
   "outputs": [
    {
     "data": {
      "text/plain": [
       "569"
      ]
     },
     "execution_count": 33,
     "metadata": {},
     "output_type": "execute_result"
    }
   ],
   "source": [
    "df.renovated_date.isnull().sum()"
   ]
  },
  {
   "cell_type": "code",
   "execution_count": 34,
   "metadata": {},
   "outputs": [
    {
     "data": {
      "text/plain": [
       "array(['Mitte', 'Kreuzberg', 'Köpenick', 'Wilmersdorf', 'Charlottenburg',\n",
       "       'Friedrichsfelde', 'Tiergarten', 'Prenzlauer', 'Wedding',\n",
       "       'Neukölln'], dtype=object)"
      ]
     },
     "execution_count": 34,
     "metadata": {},
     "output_type": "execute_result"
    }
   ],
   "source": [
    "df.region.unique()"
   ]
  },
  {
   "cell_type": "code",
   "execution_count": 35,
   "metadata": {},
   "outputs": [
    {
     "data": {
      "text/plain": [
       "Tiergarten         171\n",
       "Mitte              153\n",
       "Charlottenburg      79\n",
       "Neukölln            59\n",
       "Köpenick            55\n",
       "Wilmersdorf         53\n",
       "Prenzlauer          53\n",
       "Friedrichsfelde     52\n",
       "Kreuzberg           47\n",
       "Wedding             42\n",
       "Name: region, dtype: int64"
      ]
     },
     "execution_count": 35,
     "metadata": {},
     "output_type": "execute_result"
    }
   ],
   "source": [
    "df.region.value_counts()"
   ]
  },
  {
   "attachments": {},
   "cell_type": "markdown",
   "metadata": {},
   "source": [
    "Calculate the frequency of renovated_date in each regions\n",
    "\n",
    "---\n",
    "\n"
   ]
  },
  {
   "cell_type": "code",
   "execution_count": 36,
   "metadata": {},
   "outputs": [],
   "source": [
    "df1 = df[['region','renovated_date']]"
   ]
  },
  {
   "cell_type": "code",
   "execution_count": 37,
   "metadata": {},
   "outputs": [
    {
     "data": {
      "text/html": [
       "<div>\n",
       "<style scoped>\n",
       "    .dataframe tbody tr th:only-of-type {\n",
       "        vertical-align: middle;\n",
       "    }\n",
       "\n",
       "    .dataframe tbody tr th {\n",
       "        vertical-align: top;\n",
       "    }\n",
       "\n",
       "    .dataframe thead th {\n",
       "        text-align: right;\n",
       "    }\n",
       "</style>\n",
       "<table border=\"1\" class=\"dataframe\">\n",
       "  <thead>\n",
       "    <tr style=\"text-align: right;\">\n",
       "      <th></th>\n",
       "      <th>region</th>\n",
       "      <th>renovated_date</th>\n",
       "      <th>Count</th>\n",
       "    </tr>\n",
       "  </thead>\n",
       "  <tbody>\n",
       "    <tr>\n",
       "      <th>0</th>\n",
       "      <td>Charlottenburg</td>\n",
       "      <td>2019.0</td>\n",
       "      <td>5</td>\n",
       "    </tr>\n",
       "    <tr>\n",
       "      <th>1</th>\n",
       "      <td>Kreuzberg</td>\n",
       "      <td>2019.0</td>\n",
       "      <td>4</td>\n",
       "    </tr>\n",
       "    <tr>\n",
       "      <th>2</th>\n",
       "      <td>Köpenick</td>\n",
       "      <td>2019.0</td>\n",
       "      <td>9</td>\n",
       "    </tr>\n",
       "    <tr>\n",
       "      <th>3</th>\n",
       "      <td>Mitte</td>\n",
       "      <td>2020.0</td>\n",
       "      <td>7</td>\n",
       "    </tr>\n",
       "    <tr>\n",
       "      <th>4</th>\n",
       "      <td>Neukölln</td>\n",
       "      <td>2019.0</td>\n",
       "      <td>7</td>\n",
       "    </tr>\n",
       "    <tr>\n",
       "      <th>5</th>\n",
       "      <td>Prenzlauer</td>\n",
       "      <td>2019.0</td>\n",
       "      <td>8</td>\n",
       "    </tr>\n",
       "    <tr>\n",
       "      <th>6</th>\n",
       "      <td>Tiergarten</td>\n",
       "      <td>2019.0</td>\n",
       "      <td>74</td>\n",
       "    </tr>\n",
       "    <tr>\n",
       "      <th>7</th>\n",
       "      <td>Wedding</td>\n",
       "      <td>2018.0</td>\n",
       "      <td>2</td>\n",
       "    </tr>\n",
       "    <tr>\n",
       "      <th>8</th>\n",
       "      <td>Wilmersdorf</td>\n",
       "      <td>2019.0</td>\n",
       "      <td>8</td>\n",
       "    </tr>\n",
       "  </tbody>\n",
       "</table>\n",
       "</div>"
      ],
      "text/plain": [
       "           region  renovated_date  Count\n",
       "0  Charlottenburg          2019.0      5\n",
       "1       Kreuzberg          2019.0      4\n",
       "2        Köpenick          2019.0      9\n",
       "3           Mitte          2020.0      7\n",
       "4        Neukölln          2019.0      7\n",
       "5      Prenzlauer          2019.0      8\n",
       "6      Tiergarten          2019.0     74\n",
       "7         Wedding          2018.0      2\n",
       "8     Wilmersdorf          2019.0      8"
      ]
     },
     "execution_count": 37,
     "metadata": {},
     "output_type": "execute_result"
    }
   ],
   "source": [
    "df2 = df1.groupby(['region','renovated_date']).size().reset_index()\n",
    "df2.rename(columns={0:\"Count\"},inplace=True)\n",
    "df3 = df2.sort_values(['region','Count'],ascending = [True,False])\n",
    "df4 = df3.groupby('region').head(1).reset_index(drop=True)\n",
    "df4"
   ]
  },
  {
   "attachments": {},
   "cell_type": "markdown",
   "metadata": {},
   "source": [
    "All the renovated date in Friedrichsfelde are missing"
   ]
  },
  {
   "cell_type": "code",
   "execution_count": 38,
   "metadata": {},
   "outputs": [
    {
     "data": {
      "text/html": [
       "<div>\n",
       "<style scoped>\n",
       "    .dataframe tbody tr th:only-of-type {\n",
       "        vertical-align: middle;\n",
       "    }\n",
       "\n",
       "    .dataframe tbody tr th {\n",
       "        vertical-align: top;\n",
       "    }\n",
       "\n",
       "    .dataframe thead th {\n",
       "        text-align: right;\n",
       "    }\n",
       "</style>\n",
       "<table border=\"1\" class=\"dataframe\">\n",
       "  <thead>\n",
       "    <tr style=\"text-align: right;\">\n",
       "      <th></th>\n",
       "      <th>region</th>\n",
       "      <th>condition</th>\n",
       "      <th>rooms</th>\n",
       "      <th>rent</th>\n",
       "      <th>year_construction</th>\n",
       "      <th>space</th>\n",
       "      <th>cold_rent</th>\n",
       "      <th>utilities</th>\n",
       "      <th>heating_costs</th>\n",
       "      <th>security_deposit</th>\n",
       "      <th>parking_space</th>\n",
       "      <th>renovated_date</th>\n",
       "      <th>property_condition</th>\n",
       "      <th>furnishing</th>\n",
       "      <th>heating_type</th>\n",
       "      <th>energy_sources</th>\n",
       "      <th>energy_certificate</th>\n",
       "      <th>type_of_certificate</th>\n",
       "      <th>energy_requirement</th>\n",
       "      <th>efficiency_class</th>\n",
       "    </tr>\n",
       "  </thead>\n",
       "  <tbody>\n",
       "    <tr>\n",
       "      <th>8</th>\n",
       "      <td>Friedrichsfelde</td>\n",
       "      <td>well_kept</td>\n",
       "      <td>2.0</td>\n",
       "      <td>561.93</td>\n",
       "      <td>1971</td>\n",
       "      <td>62.40</td>\n",
       "      <td>391,93€</td>\n",
       "      <td>+110€</td>\n",
       "      <td>+60€</td>\n",
       "      <td>Drei</td>\n",
       "      <td>NaN</td>\n",
       "      <td>NaN</td>\n",
       "      <td>Groomed</td>\n",
       "      <td>Normale Qualität</td>\n",
       "      <td>District Heating</td>\n",
       "      <td>Fernwärme Energieausweis liegt vor</td>\n",
       "      <td>liegt vor</td>\n",
       "      <td>Verbrauchsausweis Energie­ver­brauchs­kennwert...</td>\n",
       "      <td>NaN</td>\n",
       "      <td>NaN</td>\n",
       "    </tr>\n",
       "    <tr>\n",
       "      <th>16</th>\n",
       "      <td>Friedrichsfelde</td>\n",
       "      <td>first_time_use</td>\n",
       "      <td>3.5</td>\n",
       "      <td>1429.10</td>\n",
       "      <td>2020</td>\n",
       "      <td>82.05</td>\n",
       "      <td>1.169,14€</td>\n",
       "      <td>+164,09€</td>\n",
       "      <td>+95,87€</td>\n",
       "      <td>3507.42</td>\n",
       "      <td>NaN</td>\n",
       "      <td>NaN</td>\n",
       "      <td>New</td>\n",
       "      <td>Gehobene Qualität</td>\n",
       "      <td>Not provided</td>\n",
       "      <td>Fernwärme</td>\n",
       "      <td>NaN</td>\n",
       "      <td>Bedarfsausweis</td>\n",
       "      <td>40 kWh/(m²*a)</td>\n",
       "      <td>NaN</td>\n",
       "    </tr>\n",
       "    <tr>\n",
       "      <th>18</th>\n",
       "      <td>Friedrichsfelde</td>\n",
       "      <td>first_time_use</td>\n",
       "      <td>2.0</td>\n",
       "      <td>868.06</td>\n",
       "      <td>2020</td>\n",
       "      <td>49.19</td>\n",
       "      <td>713,26€</td>\n",
       "      <td>+98,38€</td>\n",
       "      <td>+56,42€</td>\n",
       "      <td>2139.78</td>\n",
       "      <td>NaN</td>\n",
       "      <td>NaN</td>\n",
       "      <td>New</td>\n",
       "      <td>Gehobene Qualität</td>\n",
       "      <td>Not provided</td>\n",
       "      <td>Fernwärme</td>\n",
       "      <td>NaN</td>\n",
       "      <td>Bedarfsausweis</td>\n",
       "      <td>40 kWh/(m²*a)</td>\n",
       "      <td>NaN</td>\n",
       "    </tr>\n",
       "    <tr>\n",
       "      <th>67</th>\n",
       "      <td>Friedrichsfelde</td>\n",
       "      <td>first_time_use</td>\n",
       "      <td>4.0</td>\n",
       "      <td>1598.00</td>\n",
       "      <td>2016</td>\n",
       "      <td>118.00</td>\n",
       "      <td>1.298€</td>\n",
       "      <td>+300€</td>\n",
       "      <td>nicht</td>\n",
       "      <td>2600,00</td>\n",
       "      <td>0€</td>\n",
       "      <td>NaN</td>\n",
       "      <td>New</td>\n",
       "      <td>Gehobene Qualität</td>\n",
       "      <td>Underfloor Heating</td>\n",
       "      <td>Fernwärme Energieausweis liegt vor</td>\n",
       "      <td>liegt vor</td>\n",
       "      <td>NaN</td>\n",
       "      <td>NaN</td>\n",
       "      <td>NaN</td>\n",
       "    </tr>\n",
       "    <tr>\n",
       "      <th>169</th>\n",
       "      <td>Friedrichsfelde</td>\n",
       "      <td>well_kept</td>\n",
       "      <td>2.0</td>\n",
       "      <td>496.13</td>\n",
       "      <td>1971</td>\n",
       "      <td>55.00</td>\n",
       "      <td>NaN</td>\n",
       "      <td>NaN</td>\n",
       "      <td>NaN</td>\n",
       "      <td>NaN</td>\n",
       "      <td>NaN</td>\n",
       "      <td>NaN</td>\n",
       "      <td>NaN</td>\n",
       "      <td>NaN</td>\n",
       "      <td>Not provided</td>\n",
       "      <td>NaN</td>\n",
       "      <td>NaN</td>\n",
       "      <td>NaN</td>\n",
       "      <td>NaN</td>\n",
       "      <td>NaN</td>\n",
       "    </tr>\n",
       "  </tbody>\n",
       "</table>\n",
       "</div>"
      ],
      "text/plain": [
       "              region       condition  rooms     rent  year_construction  \\\n",
       "8    Friedrichsfelde       well_kept    2.0   561.93               1971   \n",
       "16   Friedrichsfelde  first_time_use    3.5  1429.10               2020   \n",
       "18   Friedrichsfelde  first_time_use    2.0   868.06               2020   \n",
       "67   Friedrichsfelde  first_time_use    4.0  1598.00               2016   \n",
       "169  Friedrichsfelde       well_kept    2.0   496.13               1971   \n",
       "\n",
       "      space  cold_rent utilities heating_costs security_deposit parking_space  \\\n",
       "8     62.40    391,93€     +110€          +60€             Drei           NaN   \n",
       "16    82.05  1.169,14€  +164,09€       +95,87€          3507.42           NaN   \n",
       "18    49.19    713,26€   +98,38€       +56,42€          2139.78           NaN   \n",
       "67   118.00     1.298€     +300€         nicht          2600,00            0€   \n",
       "169   55.00        NaN       NaN           NaN              NaN           NaN   \n",
       "\n",
       "     renovated_date property_condition         furnishing        heating_type  \\\n",
       "8               NaN            Groomed   Normale Qualität    District Heating   \n",
       "16              NaN                New  Gehobene Qualität        Not provided   \n",
       "18              NaN                New  Gehobene Qualität        Not provided   \n",
       "67              NaN                New  Gehobene Qualität  Underfloor Heating   \n",
       "169             NaN                NaN                NaN        Not provided   \n",
       "\n",
       "                         energy_sources energy_certificate  \\\n",
       "8    Fernwärme Energieausweis liegt vor          liegt vor   \n",
       "16                            Fernwärme                NaN   \n",
       "18                            Fernwärme                NaN   \n",
       "67   Fernwärme Energieausweis liegt vor          liegt vor   \n",
       "169                                 NaN                NaN   \n",
       "\n",
       "                                   type_of_certificate energy_requirement  \\\n",
       "8    Verbrauchsausweis Energie­ver­brauchs­kennwert...                NaN   \n",
       "16                                      Bedarfsausweis      40 kWh/(m²*a)   \n",
       "18                                      Bedarfsausweis      40 kWh/(m²*a)   \n",
       "67                                                 NaN                NaN   \n",
       "169                                                NaN                NaN   \n",
       "\n",
       "    efficiency_class  \n",
       "8                NaN  \n",
       "16               NaN  \n",
       "18               NaN  \n",
       "67               NaN  \n",
       "169              NaN  "
      ]
     },
     "execution_count": 38,
     "metadata": {},
     "output_type": "execute_result"
    }
   ],
   "source": [
    "df[df['region']=='Friedrichsfelde'].head()"
   ]
  },
  {
   "attachments": {},
   "cell_type": "markdown",
   "metadata": {},
   "source": [
    "convert the mode renovated year in each region into a list to be used in a function"
   ]
  },
  {
   "cell_type": "code",
   "execution_count": 39,
   "metadata": {},
   "outputs": [
    {
     "data": {
      "text/plain": [
       "[('Charlottenburg', 2019.0),\n",
       " ('Kreuzberg', 2019.0),\n",
       " ('Köpenick', 2019.0),\n",
       " ('Mitte', 2020.0),\n",
       " ('Neukölln', 2019.0),\n",
       " ('Prenzlauer', 2019.0),\n",
       " ('Tiergarten', 2019.0),\n",
       " ('Wedding', 2018.0),\n",
       " ('Wilmersdorf', 2019.0)]"
      ]
     },
     "execution_count": 39,
     "metadata": {},
     "output_type": "execute_result"
    }
   ],
   "source": [
    "list_region = [(i[0],i[1]) for i in df4.values]\n",
    "list_region"
   ]
  },
  {
   "attachments": {},
   "cell_type": "markdown",
   "metadata": {},
   "source": [
    "def a function to fill the missing renovated year with the mode in each region "
   ]
  },
  {
   "cell_type": "code",
   "execution_count": 40,
   "metadata": {},
   "outputs": [],
   "source": [
    "df['renovated_date'] = df['renovated_date'].fillna(0.0)"
   ]
  },
  {
   "cell_type": "code",
   "execution_count": 41,
   "metadata": {},
   "outputs": [],
   "source": [
    "def get_date(row):\n",
    "  if row['renovated_date'] == 0.0:\n",
    "    for i in list_region:\n",
    "      if i[0] == row['region']:\n",
    "        return i[1]\n",
    "  return row['renovated_date']"
   ]
  },
  {
   "cell_type": "code",
   "execution_count": 42,
   "metadata": {},
   "outputs": [],
   "source": [
    "df['renovated_date'] = df.apply(get_date,axis=1)"
   ]
  },
  {
   "cell_type": "code",
   "execution_count": 43,
   "metadata": {},
   "outputs": [
    {
     "data": {
      "text/plain": [
       "2019.0    472\n",
       "2020.0    154\n",
       "0.0        52\n",
       "2018.0     49\n",
       "2016.0     13\n",
       "2017.0     12\n",
       "2015.0      4\n",
       "2011.0      2\n",
       "1995.0      2\n",
       "2014.0      1\n",
       "2010.0      1\n",
       "2006.0      1\n",
       "2012.0      1\n",
       "Name: renovated_date, dtype: int64"
      ]
     },
     "execution_count": 43,
     "metadata": {},
     "output_type": "execute_result"
    }
   ],
   "source": [
    "df['renovated_date'].value_counts(dropna=False)"
   ]
  },
  {
   "attachments": {},
   "cell_type": "markdown",
   "metadata": {},
   "source": [
    "Fill the the region 'Friedrichsfelde', which has no renovated year with the year 2018 "
   ]
  },
  {
   "cell_type": "code",
   "execution_count": 44,
   "metadata": {},
   "outputs": [],
   "source": [
    "def f(row):\n",
    "  if row['renovated_date'] == 0.0:\n",
    "    return 2018.0\n",
    "  return row['renovated_date']\n",
    "  "
   ]
  },
  {
   "cell_type": "code",
   "execution_count": 45,
   "metadata": {},
   "outputs": [],
   "source": [
    "df['renovated_date'] = df.apply(f,axis=1)"
   ]
  },
  {
   "attachments": {},
   "cell_type": "markdown",
   "metadata": {},
   "source": [
    "# Completed renovated_year column, filled with the mode of each region. "
   ]
  },
  {
   "cell_type": "code",
   "execution_count": 46,
   "metadata": {},
   "outputs": [
    {
     "data": {
      "text/plain": [
       "2019.0    472\n",
       "2020.0    154\n",
       "2018.0    101\n",
       "2016.0     13\n",
       "2017.0     12\n",
       "2015.0      4\n",
       "2011.0      2\n",
       "1995.0      2\n",
       "2014.0      1\n",
       "2010.0      1\n",
       "2006.0      1\n",
       "2012.0      1\n",
       "Name: renovated_date, dtype: int64"
      ]
     },
     "execution_count": 46,
     "metadata": {},
     "output_type": "execute_result"
    }
   ],
   "source": [
    "df['renovated_date'].value_counts()"
   ]
  },
  {
   "attachments": {},
   "cell_type": "markdown",
   "metadata": {},
   "source": [
    "# 3. Clean `parking_space`"
   ]
  },
  {
   "cell_type": "code",
   "execution_count": 47,
   "metadata": {},
   "outputs": [
    {
     "data": {
      "text/plain": [
       "NaN       674\n",
       "120€       20\n",
       "150€       18\n",
       "100€       14\n",
       "130€        5\n",
       "90€         5\n",
       "350€        5\n",
       "0€          4\n",
       "280€        3\n",
       "220€        2\n",
       "75€         2\n",
       "200€        2\n",
       "60€         1\n",
       "119€        1\n",
       "70€         1\n",
       "110€        1\n",
       "145€        1\n",
       "166,6€      1\n",
       "180€        1\n",
       "250€        1\n",
       "149€        1\n",
       "140€        1\n",
       "Name: parking_space, dtype: int64"
      ]
     },
     "execution_count": 47,
     "metadata": {},
     "output_type": "execute_result"
    }
   ],
   "source": [
    "df.parking_space.value_counts(dropna=False)"
   ]
  },
  {
   "attachments": {},
   "cell_type": "markdown",
   "metadata": {},
   "source": [
    "Calculate the mean of the non null values"
   ]
  },
  {
   "cell_type": "code",
   "execution_count": 51,
   "metadata": {},
   "outputs": [
    {
     "data": {
      "text/plain": [
       "139"
      ]
     },
     "execution_count": 51,
     "metadata": {},
     "output_type": "execute_result"
    }
   ],
   "source": [
    "hh = df[['parking_space']]\n",
    "g = hh[hh['parking_space'].notna()]\n",
    "f = sum([float(i[0].replace(\"€\",\"\").replace(\",\",\".\")) for i in g.values])/len([float(i[0].replace(\"€\",\"\").replace(\",\",\".\")) for i in g.values])\n",
    "f = int(f)\n",
    "f"
   ]
  },
  {
   "attachments": {},
   "cell_type": "markdown",
   "metadata": {},
   "source": [
    "Fill na with the mean"
   ]
  },
  {
   "cell_type": "code",
   "execution_count": 52,
   "metadata": {},
   "outputs": [
    {
     "data": {
      "text/plain": [
       "139       674\n",
       "120€       20\n",
       "150€       18\n",
       "100€       14\n",
       "130€        5\n",
       "90€         5\n",
       "350€        5\n",
       "0€          4\n",
       "280€        3\n",
       "220€        2\n",
       "75€         2\n",
       "200€        2\n",
       "60€         1\n",
       "119€        1\n",
       "70€         1\n",
       "110€        1\n",
       "145€        1\n",
       "166,6€      1\n",
       "180€        1\n",
       "250€        1\n",
       "149€        1\n",
       "140€        1\n",
       "Name: parking_space, dtype: int64"
      ]
     },
     "execution_count": 52,
     "metadata": {},
     "output_type": "execute_result"
    }
   ],
   "source": [
    "df['parking_space'] = df['parking_space'].fillna(f)\n",
    "df.parking_space.value_counts()"
   ]
  },
  {
   "attachments": {},
   "cell_type": "markdown",
   "metadata": {},
   "source": [
    "Remove € symbol"
   ]
  },
  {
   "cell_type": "code",
   "execution_count": 53,
   "metadata": {},
   "outputs": [],
   "source": [
    "def convert(row):\n",
    "  if type(row['parking_space']) != int:\n",
    "    return float(row['parking_space'].replace(\"€\",\"\").replace(\",\",\".\"))\n",
    "  return row['parking_space']"
   ]
  },
  {
   "cell_type": "code",
   "execution_count": 54,
   "metadata": {},
   "outputs": [],
   "source": [
    "df['parking_space'] = df.apply(convert,axis=1)"
   ]
  },
  {
   "cell_type": "code",
   "execution_count": 55,
   "metadata": {},
   "outputs": [
    {
     "data": {
      "text/plain": [
       "139.0    674\n",
       "120.0     20\n",
       "150.0     18\n",
       "100.0     14\n",
       "130.0      5\n",
       "90.0       5\n",
       "350.0      5\n",
       "0.0        4\n",
       "280.0      3\n",
       "220.0      2\n",
       "75.0       2\n",
       "200.0      2\n",
       "60.0       1\n",
       "119.0      1\n",
       "70.0       1\n",
       "110.0      1\n",
       "145.0      1\n",
       "166.6      1\n",
       "180.0      1\n",
       "250.0      1\n",
       "149.0      1\n",
       "140.0      1\n",
       "Name: parking_space, dtype: int64"
      ]
     },
     "execution_count": 55,
     "metadata": {},
     "output_type": "execute_result"
    }
   ],
   "source": [
    "df.parking_space.value_counts()"
   ]
  },
  {
   "attachments": {},
   "cell_type": "markdown",
   "metadata": {},
   "source": [
    "# 4. Clean `utilities`\n"
   ]
  },
  {
   "cell_type": "code",
   "execution_count": 56,
   "metadata": {},
   "outputs": [
    {
     "data": {
      "text/plain": [
       "NaN         338\n",
       "+250€        16\n",
       "+200€        14\n",
       "+120€        10\n",
       "keine         9\n",
       "           ... \n",
       "+200,13€      1\n",
       "+560€         1\n",
       "+410€         1\n",
       "+356€         1\n",
       "+63€          1\n",
       "Name: utilities, Length: 262, dtype: int64"
      ]
     },
     "execution_count": 56,
     "metadata": {},
     "output_type": "execute_result"
    }
   ],
   "source": [
    "df.utilities.value_counts(dropna=False)"
   ]
  },
  {
   "attachments": {},
   "cell_type": "markdown",
   "metadata": {},
   "source": [
    "Replace the string 'Keine' with 0"
   ]
  },
  {
   "cell_type": "code",
   "execution_count": 57,
   "metadata": {},
   "outputs": [],
   "source": [
    "df['utilities'] = df.apply(lambda row: \"0\" if row['utilities'] == \"keine\" else row['utilities'],axis=1)"
   ]
  },
  {
   "cell_type": "code",
   "execution_count": 58,
   "metadata": {},
   "outputs": [
    {
     "data": {
      "text/plain": [
       "+250€       16\n",
       "+200€       14\n",
       "+120€       10\n",
       "0            9\n",
       "+350€        7\n",
       "            ..\n",
       "+200,13€     1\n",
       "+560€        1\n",
       "+410€        1\n",
       "+356€        1\n",
       "+63€         1\n",
       "Name: utilities, Length: 261, dtype: int64"
      ]
     },
     "execution_count": 58,
     "metadata": {},
     "output_type": "execute_result"
    }
   ],
   "source": [
    "df.utilities.value_counts()"
   ]
  },
  {
   "attachments": {},
   "cell_type": "markdown",
   "metadata": {},
   "source": [
    "Calculate the mean of not na values"
   ]
  },
  {
   "cell_type": "code",
   "execution_count": 59,
   "metadata": {},
   "outputs": [],
   "source": [
    "a = df[['utilities']]\n",
    "c = a[a['utilities'].notna()]\n",
    "ut = sum([float(i[0].replace(\"€\",\"\").replace('.', '').replace(\",\",\".\").replace('+', '')) for i in c.values])/len([float(i[0].replace(\"€\",\"\").replace('.', '').replace(\",\",\".\").replace('+', '')) for i in c.values])"
   ]
  },
  {
   "cell_type": "code",
   "execution_count": 60,
   "metadata": {},
   "outputs": [
    {
     "data": {
      "text/plain": [
       "223"
      ]
     },
     "execution_count": 60,
     "metadata": {},
     "output_type": "execute_result"
    }
   ],
   "source": [
    "ut=int(ut)\n",
    "ut"
   ]
  },
  {
   "attachments": {},
   "cell_type": "markdown",
   "metadata": {},
   "source": [
    "Fill Na with the mean"
   ]
  },
  {
   "cell_type": "code",
   "execution_count": 61,
   "metadata": {},
   "outputs": [],
   "source": [
    "df['utilities'] = df['utilities'].fillna(ut)"
   ]
  },
  {
   "cell_type": "code",
   "execution_count": 62,
   "metadata": {},
   "outputs": [],
   "source": [
    "def convert(row):\n",
    "  if type(row['utilities']) != int:\n",
    "    return float(row['utilities'].replace(\"€\",\"\").replace('.', '').replace(\",\",\".\").replace('+', ''))\n",
    "  return row['utilities']"
   ]
  },
  {
   "cell_type": "code",
   "execution_count": 63,
   "metadata": {},
   "outputs": [],
   "source": [
    "df['utilities'] = df.apply(convert,axis=1)"
   ]
  },
  {
   "cell_type": "code",
   "execution_count": 64,
   "metadata": {},
   "outputs": [
    {
     "data": {
      "text/plain": [
       "223.00    338\n",
       "250.00     16\n",
       "200.00     14\n",
       "0.00       14\n",
       "120.00     10\n",
       "         ... \n",
       "200.13      1\n",
       "560.00      1\n",
       "410.00      1\n",
       "356.00      1\n",
       "63.00       1\n",
       "Name: utilities, Length: 261, dtype: int64"
      ]
     },
     "execution_count": 64,
     "metadata": {},
     "output_type": "execute_result"
    }
   ],
   "source": [
    "df.utilities.value_counts()"
   ]
  },
  {
   "attachments": {},
   "cell_type": "markdown",
   "metadata": {},
   "source": [
    "# 5. Clean `energy_requirement`\n"
   ]
  },
  {
   "cell_type": "code",
   "execution_count": 65,
   "metadata": {},
   "outputs": [
    {
     "data": {
      "text/plain": [
       "NaN                 438\n",
       "66,2 kWh/(m²*a)      26\n",
       "61 kWh/(m²*a)        21\n",
       "75,9 kWh/(m²*a)      20\n",
       "74,6 kWh/(m²*a)      15\n",
       "                   ... \n",
       "56,88 kWh/(m²*a)      1\n",
       "139 kWh/(m²*a)        1\n",
       "148,7 kWh/(m²*a)      1\n",
       "70,3 kWh/(m²*a)       1\n",
       "51,43 kWh/(m²*a)      1\n",
       "Name: energy_requirement, Length: 114, dtype: int64"
      ]
     },
     "execution_count": 65,
     "metadata": {},
     "output_type": "execute_result"
    }
   ],
   "source": [
    "df.energy_requirement.value_counts(dropna=False)"
   ]
  },
  {
   "attachments": {},
   "cell_type": "markdown",
   "metadata": {},
   "source": [
    "Remove string kWh/(m²*a)"
   ]
  },
  {
   "cell_type": "code",
   "execution_count": 67,
   "metadata": {},
   "outputs": [
    {
     "data": {
      "text/plain": [
       "str"
      ]
     },
     "execution_count": 67,
     "metadata": {},
     "output_type": "execute_result"
    }
   ],
   "source": [
    "type(str(np.nan))"
   ]
  },
  {
   "cell_type": "code",
   "execution_count": 71,
   "metadata": {},
   "outputs": [],
   "source": [
    "def remove_strings(value, strings_to_remove):\n",
    "    \"\"\"\n",
    "    Remove strings in <strings_to_remove> from <value>. \n",
    "    Removes Euro/euro strings by default. \n",
    "    Assumes that each string occurs only once.\n",
    "    \"\"\"\n",
    "    \n",
    "    # return NaN if value is missing\n",
    "    if pd.isna(value): return np.nan\n",
    "    \n",
    "    # cast to string so that string methods work\n",
    "    value = str(value)\n",
    "    \n",
    "    # remove different strings\n",
    "    for string in strings_to_remove:\n",
    "        value = value.lower().replace(string, '').strip()\n",
    "    \n",
    "    return value"
   ]
  },
  {
   "cell_type": "code",
   "execution_count": 72,
   "metadata": {},
   "outputs": [],
   "source": [
    "df['energy_requirement'] = df.energy_requirement.apply(remove_strings, args=(['kh/(m²*a)', 'w'],)).astype(str)"
   ]
  },
  {
   "cell_type": "code",
   "execution_count": 73,
   "metadata": {},
   "outputs": [
    {
     "data": {
      "text/plain": [
       "array(['nan', '81,6', '64,2', '66,2', '40', '51', '81', '58', '80', '50',\n",
       "       '102', '113', '68', '16,3', '76,9', '79', '149', '74', '66,7',\n",
       "       '61', '118,2', '70', '45,7', '61,7', '60', '116', '35,61', '53',\n",
       "       '36,61', '34,6', '42,6', '101,19', '61,9', '128,1', '54,9', '69',\n",
       "       '59,8', '67', '66', '113,7', '74,6', '65,99', '150,4', '70,3',\n",
       "       '40,41', '148,7', '170', '62,2', '228', '134,5', '76', '77,3',\n",
       "       '139', '59', '80,5', '56,88', '76,4', '42,8', '28', '54', '70,8',\n",
       "       '65', '135,9', '163,5', '118', '82,4', '132', '87,8', '158,6',\n",
       "       '160,8', '155,5', '70,4', '72', '64,1', '30', '62,8', '39,5',\n",
       "       '49,5', '71,4', '125', '23,3', '104,6', '92', '236,68', '38,5',\n",
       "       '112', '59,9', '31,4', '157,7', '52,2', '49,2', '48', '100', '55',\n",
       "       '103', '64,3', '52', '49', '239,2', '60,1', '59,1', '119', '75,9',\n",
       "       '237,7', '47', '22,8', '42', '62', '71,9', '79,9', '44,5', '83,3',\n",
       "       '151,8', '51,43'], dtype=object)"
      ]
     },
     "execution_count": 73,
     "metadata": {},
     "output_type": "execute_result"
    }
   ],
   "source": [
    "df.energy_requirement.unique()"
   ]
  },
  {
   "attachments": {},
   "cell_type": "markdown",
   "metadata": {},
   "source": [
    "Replace ',' with '.'"
   ]
  },
  {
   "cell_type": "code",
   "execution_count": 74,
   "metadata": {},
   "outputs": [],
   "source": [
    "def convert_string_to_float(value):\n",
    "    return value.replace(\",\", \".\")\n",
    "\n",
    "def convert_decimal(value):\n",
    "    if pd.isna(value):\n",
    "        return np.nan       \n",
    "\n",
    "    try:                               \n",
    "        return float(value)\n",
    "    except:\n",
    "        return convert_string_to_float(value)"
   ]
  },
  {
   "cell_type": "code",
   "execution_count": 75,
   "metadata": {},
   "outputs": [],
   "source": [
    "df['energy_requirement'] = df.energy_requirement.apply(convert_decimal)"
   ]
  },
  {
   "cell_type": "code",
   "execution_count": 76,
   "metadata": {},
   "outputs": [
    {
     "data": {
      "text/plain": [
       "array([nan, '81.6', '64.2', '66.2', 40.0, 51.0, 81.0, 58.0, 80.0, 50.0,\n",
       "       102.0, 113.0, 68.0, '16.3', '76.9', 79.0, 149.0, 74.0, '66.7',\n",
       "       61.0, '118.2', 70.0, '45.7', '61.7', 60.0, 116.0, '35.61', 53.0,\n",
       "       '36.61', '34.6', '42.6', '101.19', '61.9', '128.1', '54.9', 69.0,\n",
       "       '59.8', 67.0, 66.0, '113.7', '74.6', '65.99', '150.4', '70.3',\n",
       "       '40.41', '148.7', 170.0, '62.2', 228.0, '134.5', 76.0, '77.3',\n",
       "       139.0, 59.0, '80.5', '56.88', '76.4', '42.8', 28.0, 54.0, '70.8',\n",
       "       65.0, '135.9', '163.5', 118.0, '82.4', 132.0, '87.8', '158.6',\n",
       "       '160.8', '155.5', '70.4', 72.0, '64.1', 30.0, '62.8', '39.5',\n",
       "       '49.5', '71.4', 125.0, '23.3', '104.6', 92.0, '236.68', '38.5',\n",
       "       112.0, '59.9', '31.4', '157.7', '52.2', '49.2', 48.0, 100.0, 55.0,\n",
       "       103.0, '64.3', 52.0, 49.0, '239.2', '60.1', '59.1', 119.0, '75.9',\n",
       "       '237.7', 47.0, '22.8', 42.0, 62.0, '71.9', '79.9', '44.5', '83.3',\n",
       "       '151.8', '51.43'], dtype=object)"
      ]
     },
     "execution_count": 76,
     "metadata": {},
     "output_type": "execute_result"
    }
   ],
   "source": [
    "df['energy_requirement'].unique()"
   ]
  },
  {
   "cell_type": "code",
   "execution_count": 77,
   "metadata": {},
   "outputs": [
    {
     "data": {
      "text/plain": [
       "66.2     26\n",
       "61.0     21\n",
       "75.9     20\n",
       "74.6     15\n",
       "30.0     13\n",
       "         ..\n",
       "139.0     1\n",
       "148.7     1\n",
       "70.3      1\n",
       "150.4     1\n",
       "51.43     1\n",
       "Name: energy_requirement, Length: 113, dtype: int64"
      ]
     },
     "execution_count": 77,
     "metadata": {},
     "output_type": "execute_result"
    }
   ],
   "source": [
    "df.energy_requirement.value_counts()"
   ]
  },
  {
   "cell_type": "code",
   "execution_count": 78,
   "metadata": {},
   "outputs": [
    {
     "data": {
      "text/plain": [
       "438"
      ]
     },
     "execution_count": 78,
     "metadata": {},
     "output_type": "execute_result"
    }
   ],
   "source": [
    "df['energy_requirement'].isnull().sum()"
   ]
  },
  {
   "attachments": {},
   "cell_type": "markdown",
   "metadata": {},
   "source": [
    "Convert value from object to float"
   ]
  },
  {
   "cell_type": "code",
   "execution_count": 79,
   "metadata": {},
   "outputs": [],
   "source": [
    "def is_float(value):\n",
    "    try:\n",
    "        float(value)\n",
    "        return True\n",
    "    except:\n",
    "        return False\n",
    "def convert_to_float(value):\n",
    "    if is_float(value):\n",
    "        return float(value)\n",
    "    else:\n",
    "        return np.nan"
   ]
  },
  {
   "cell_type": "code",
   "execution_count": 80,
   "metadata": {},
   "outputs": [],
   "source": [
    "df['energy_requirement']=df.energy_requirement.apply(convert_to_float)"
   ]
  },
  {
   "cell_type": "code",
   "execution_count": 81,
   "metadata": {},
   "outputs": [
    {
     "data": {
      "text/plain": [
       "0       NaN\n",
       "1       NaN\n",
       "2       NaN\n",
       "3       NaN\n",
       "4       NaN\n",
       "       ... \n",
       "759    61.0\n",
       "760     NaN\n",
       "761     NaN\n",
       "762    66.0\n",
       "763     NaN\n",
       "Name: energy_requirement, Length: 764, dtype: float64"
      ]
     },
     "execution_count": 81,
     "metadata": {},
     "output_type": "execute_result"
    }
   ],
   "source": [
    "df.energy_requirement"
   ]
  },
  {
   "attachments": {},
   "cell_type": "markdown",
   "metadata": {},
   "source": [
    "Calculate the mean of the non null values"
   ]
  },
  {
   "cell_type": "code",
   "execution_count": 83,
   "metadata": {},
   "outputs": [
    {
     "data": {
      "text/plain": [
       "79"
      ]
     },
     "execution_count": 83,
     "metadata": {},
     "output_type": "execute_result"
    }
   ],
   "source": [
    "energy = df[['energy_requirement']]\n",
    "ave = energy[energy['energy_requirement'].notna()].mean()\n",
    "ave=ave.round(2)\n",
    "ave=int(ave)\n",
    "ave"
   ]
  },
  {
   "attachments": {},
   "cell_type": "markdown",
   "metadata": {},
   "source": [
    "Fill the missing value with mean"
   ]
  },
  {
   "cell_type": "code",
   "execution_count": 84,
   "metadata": {},
   "outputs": [],
   "source": [
    "df['energy_requirement']=df['energy_requirement'].fillna(ave)"
   ]
  },
  {
   "cell_type": "code",
   "execution_count": 85,
   "metadata": {},
   "outputs": [
    {
     "data": {
      "text/plain": [
       "79.00     441\n",
       "66.20      26\n",
       "61.00      21\n",
       "75.90      20\n",
       "74.60      15\n",
       "         ... \n",
       "56.88       1\n",
       "139.00      1\n",
       "148.70      1\n",
       "70.30       1\n",
       "51.43       1\n",
       "Name: energy_requirement, Length: 113, dtype: int64"
      ]
     },
     "execution_count": 85,
     "metadata": {},
     "output_type": "execute_result"
    }
   ],
   "source": [
    "df['energy_requirement'].value_counts(dropna=False)"
   ]
  },
  {
   "cell_type": "code",
   "execution_count": 86,
   "metadata": {},
   "outputs": [
    {
     "data": {
      "text/plain": [
       "0"
      ]
     },
     "execution_count": 86,
     "metadata": {},
     "output_type": "execute_result"
    }
   ],
   "source": [
    "df['energy_requirement'].isnull().sum()"
   ]
  }
 ],
 "metadata": {
  "kernelspec": {
   "display_name": "eddy",
   "language": "python",
   "name": "python3"
  },
  "language_info": {
   "codemirror_mode": {
    "name": "ipython",
    "version": 3
   },
   "file_extension": ".py",
   "mimetype": "text/x-python",
   "name": "python",
   "nbconvert_exporter": "python",
   "pygments_lexer": "ipython3",
   "version": "3.10.8"
  },
  "orig_nbformat": 4,
  "vscode": {
   "interpreter": {
    "hash": "8b27381977d9bf96b4aa66956efad735350e3c8dfc5e4228929c8483f8a239fc"
   }
  }
 },
 "nbformat": 4,
 "nbformat_minor": 2
}
