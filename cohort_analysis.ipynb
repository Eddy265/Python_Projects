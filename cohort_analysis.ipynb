{
 "cells": [
  {
   "attachments": {},
   "cell_type": "markdown",
   "metadata": {},
   "source": [
    "# COHORT ANALYSIS\n",
    "Cohort analysis is a powerful tool used to understand customer behavior and identify patterns in customer \n",
    "behavior over time. It helps to segment customers based on their acquisition date or any other relevant \n",
    "criteria and then track their behavior over time. This type of analysis is particularly useful for businesses \n",
    "that have a recurring revenue model, such as subscription-based services, and it can be used to identify key \n",
    "metrics such as customer retention, lifetime value, and churn rate.\n",
    "The main goal of cohort analysis is to identify trends and patterns in customer behavior, which can then be used \n",
    "to inform marketing, product development, and customer service strategies. For example, if a business finds that \n",
    "customers who joined in a certain month have higher retention rates than those who joined in other months, they \n",
    "might focus their marketing efforts on acquiring more customers in that month. Similarly, if they find that customers \n",
    "who join at a certain age have higher lifetime value than those who join at other ages, they might focus on targeting \n",
    "that age group in their marketing efforts.\n",
    "Overall, the cohort analysis is a powerful tool to gain insights into customer behavior and improve the business \n",
    "performance. It can be used to identify patterns and trends in customer behavior over time, and then use that information \n",
    "to inform business decisions and improve the customer experience."
   ]
  },
  {
   "cell_type": "code",
   "execution_count": 22,
   "metadata": {},
   "outputs": [
    {
     "data": {
      "text/plain": [
       "True"
      ]
     },
     "execution_count": 22,
     "metadata": {},
     "output_type": "execute_result"
    }
   ],
   "source": [
    "import pandas as pd\n",
    "from pathlib import Path\n",
    "fname = Path(r\"C:\\Users\\euzoe\\OneDrive\\Desktop\\DATA_ANALYSIS\\DATASETS\\Customer_Behaviour.csv\")\n",
    "fname.is_file()"
   ]
  },
  {
   "cell_type": "code",
   "execution_count": 23,
   "metadata": {},
   "outputs": [],
   "source": [
    "customer_df = pd.read_csv(fname)\n",
    "customer_df['date'] = pd.to_datetime(customer_df['date'])\n"
   ]
  },
  {
   "cell_type": "code",
   "execution_count": 24,
   "metadata": {},
   "outputs": [],
   "source": [
    "customer_df[\"acquisition_month\"] = customer_df['date'].dt.month\n"
   ]
  },
  {
   "cell_type": "code",
   "execution_count": 25,
   "metadata": {},
   "outputs": [],
   "source": [
    "import numpy as np\n",
    "customer_df[\"purchase_month\"] = customer_df['date'].apply(lambda x: x.month + np.random.randint(1, 13))"
   ]
  },
  {
   "cell_type": "code",
   "execution_count": 26,
   "metadata": {},
   "outputs": [
    {
     "ename": "ValueError",
     "evalue": "cannot join with no overlapping index names",
     "output_type": "error",
     "traceback": [
      "\u001b[1;31m---------------------------------------------------------------------------\u001b[0m",
      "\u001b[1;31mValueError\u001b[0m                                Traceback (most recent call last)",
      "Cell \u001b[1;32mIn[26], line 3\u001b[0m\n\u001b[0;32m      1\u001b[0m \u001b[39m# calculate retention rate by gender\u001b[39;00m\n\u001b[0;32m      2\u001b[0m cohort_size \u001b[39m=\u001b[39m customer_df\u001b[39m.\u001b[39mgroupby([\u001b[39m'\u001b[39m\u001b[39macquisition_month\u001b[39m\u001b[39m'\u001b[39m,\u001b[39m'\u001b[39m\u001b[39mgender\u001b[39m\u001b[39m'\u001b[39m])\u001b[39m.\u001b[39msize()\n\u001b[1;32m----> 3\u001b[0m retention \u001b[39m=\u001b[39m customer_df\u001b[39m.\u001b[39;49mgroupby([\u001b[39m'\u001b[39;49m\u001b[39macquisition_month\u001b[39;49m\u001b[39m'\u001b[39;49m,\u001b[39m'\u001b[39;49m\u001b[39mgender\u001b[39;49m\u001b[39m'\u001b[39;49m,\u001b[39m'\u001b[39;49m\u001b[39mpurchase_month\u001b[39;49m\u001b[39m'\u001b[39;49m])\u001b[39m.\u001b[39;49msize()\u001b[39m.\u001b[39;49munstack() \u001b[39m/\u001b[39;49m cohort_size\n\u001b[0;32m      4\u001b[0m \u001b[39m# visualize retention rate using heatmap\u001b[39;00m\n\u001b[0;32m      5\u001b[0m sns\u001b[39m.\u001b[39mheatmap(retention\u001b[39m.\u001b[39mT, annot\u001b[39m=\u001b[39m\u001b[39mTrue\u001b[39;00m, fmt\u001b[39m=\u001b[39m\u001b[39m'\u001b[39m\u001b[39m.0\u001b[39m\u001b[39m%\u001b[39m\u001b[39m'\u001b[39m, cmap\u001b[39m=\u001b[39m\u001b[39m'\u001b[39m\u001b[39mRdYlGn\u001b[39m\u001b[39m'\u001b[39m)\n",
      "File \u001b[1;32mc:\\Users\\euzoe\\ANACONDA\\envs\\eddy\\lib\\site-packages\\pandas\\core\\ops\\common.py:72\u001b[0m, in \u001b[0;36m_unpack_zerodim_and_defer.<locals>.new_method\u001b[1;34m(self, other)\u001b[0m\n\u001b[0;32m     68\u001b[0m             \u001b[39mreturn\u001b[39;00m \u001b[39mNotImplemented\u001b[39m\n\u001b[0;32m     70\u001b[0m other \u001b[39m=\u001b[39m item_from_zerodim(other)\n\u001b[1;32m---> 72\u001b[0m \u001b[39mreturn\u001b[39;00m method(\u001b[39mself\u001b[39;49m, other)\n",
      "File \u001b[1;32mc:\\Users\\euzoe\\ANACONDA\\envs\\eddy\\lib\\site-packages\\pandas\\core\\arraylike.py:126\u001b[0m, in \u001b[0;36mOpsMixin.__truediv__\u001b[1;34m(self, other)\u001b[0m\n\u001b[0;32m    124\u001b[0m \u001b[39m@unpack_zerodim_and_defer\u001b[39m(\u001b[39m\"\u001b[39m\u001b[39m__truediv__\u001b[39m\u001b[39m\"\u001b[39m)\n\u001b[0;32m    125\u001b[0m \u001b[39mdef\u001b[39;00m \u001b[39m__truediv__\u001b[39m(\u001b[39mself\u001b[39m, other):\n\u001b[1;32m--> 126\u001b[0m     \u001b[39mreturn\u001b[39;00m \u001b[39mself\u001b[39;49m\u001b[39m.\u001b[39;49m_arith_method(other, operator\u001b[39m.\u001b[39;49mtruediv)\n",
      "File \u001b[1;32mc:\\Users\\euzoe\\ANACONDA\\envs\\eddy\\lib\\site-packages\\pandas\\core\\frame.py:7589\u001b[0m, in \u001b[0;36mDataFrame._arith_method\u001b[1;34m(self, other, op)\u001b[0m\n\u001b[0;32m   7586\u001b[0m axis \u001b[39m=\u001b[39m \u001b[39m1\u001b[39m  \u001b[39m# only relevant for Series other case\u001b[39;00m\n\u001b[0;32m   7587\u001b[0m other \u001b[39m=\u001b[39m ops\u001b[39m.\u001b[39mmaybe_prepare_scalar_for_op(other, (\u001b[39mself\u001b[39m\u001b[39m.\u001b[39mshape[axis],))\n\u001b[1;32m-> 7589\u001b[0m \u001b[39mself\u001b[39m, other \u001b[39m=\u001b[39m ops\u001b[39m.\u001b[39;49malign_method_FRAME(\u001b[39mself\u001b[39;49m, other, axis, flex\u001b[39m=\u001b[39;49m\u001b[39mTrue\u001b[39;49;00m, level\u001b[39m=\u001b[39;49m\u001b[39mNone\u001b[39;49;00m)\n\u001b[0;32m   7591\u001b[0m new_data \u001b[39m=\u001b[39m \u001b[39mself\u001b[39m\u001b[39m.\u001b[39m_dispatch_frame_op(other, op, axis\u001b[39m=\u001b[39maxis)\n\u001b[0;32m   7592\u001b[0m \u001b[39mreturn\u001b[39;00m \u001b[39mself\u001b[39m\u001b[39m.\u001b[39m_construct_result(new_data)\n",
      "File \u001b[1;32mc:\\Users\\euzoe\\ANACONDA\\envs\\eddy\\lib\\site-packages\\pandas\\core\\ops\\__init__.py:307\u001b[0m, in \u001b[0;36malign_method_FRAME\u001b[1;34m(left, right, axis, flex, level)\u001b[0m\n\u001b[0;32m    297\u001b[0m         \u001b[39mif\u001b[39;00m \u001b[39mnot\u001b[39;00m left\u001b[39m.\u001b[39maxes[axis]\u001b[39m.\u001b[39mequals(right\u001b[39m.\u001b[39mindex):\n\u001b[0;32m    298\u001b[0m             warnings\u001b[39m.\u001b[39mwarn(\n\u001b[0;32m    299\u001b[0m                 \u001b[39m\"\u001b[39m\u001b[39mAutomatic reindexing on DataFrame vs Series comparisons \u001b[39m\u001b[39m\"\u001b[39m\n\u001b[0;32m    300\u001b[0m                 \u001b[39m\"\u001b[39m\u001b[39mis deprecated and will raise ValueError in a future version. \u001b[39m\u001b[39m\"\u001b[39m\n\u001b[1;32m   (...)\u001b[0m\n\u001b[0;32m    304\u001b[0m                 stacklevel\u001b[39m=\u001b[39mfind_stack_level(),\n\u001b[0;32m    305\u001b[0m             )\n\u001b[1;32m--> 307\u001b[0m     left, right \u001b[39m=\u001b[39m left\u001b[39m.\u001b[39;49malign(\n\u001b[0;32m    308\u001b[0m         right, join\u001b[39m=\u001b[39;49m\u001b[39m\"\u001b[39;49m\u001b[39mouter\u001b[39;49m\u001b[39m\"\u001b[39;49m, axis\u001b[39m=\u001b[39;49maxis, level\u001b[39m=\u001b[39;49mlevel, copy\u001b[39m=\u001b[39;49m\u001b[39mFalse\u001b[39;49;00m\n\u001b[0;32m    309\u001b[0m     )\n\u001b[0;32m    310\u001b[0m     right \u001b[39m=\u001b[39m _maybe_align_series_as_frame(left, right, axis)\n\u001b[0;32m    312\u001b[0m \u001b[39mreturn\u001b[39;00m left, right\n",
      "File \u001b[1;32mc:\\Users\\euzoe\\ANACONDA\\envs\\eddy\\lib\\site-packages\\pandas\\core\\frame.py:5087\u001b[0m, in \u001b[0;36mDataFrame.align\u001b[1;34m(self, other, join, axis, level, copy, fill_value, method, limit, fill_axis, broadcast_axis)\u001b[0m\n\u001b[0;32m   5073\u001b[0m \u001b[39m@doc\u001b[39m(NDFrame\u001b[39m.\u001b[39malign, \u001b[39m*\u001b[39m\u001b[39m*\u001b[39m_shared_doc_kwargs)\n\u001b[0;32m   5074\u001b[0m \u001b[39mdef\u001b[39;00m \u001b[39malign\u001b[39m(\n\u001b[0;32m   5075\u001b[0m     \u001b[39mself\u001b[39m,\n\u001b[1;32m   (...)\u001b[0m\n\u001b[0;32m   5085\u001b[0m     broadcast_axis: Axis \u001b[39m|\u001b[39m \u001b[39mNone\u001b[39;00m \u001b[39m=\u001b[39m \u001b[39mNone\u001b[39;00m,\n\u001b[0;32m   5086\u001b[0m ) \u001b[39m-\u001b[39m\u001b[39m>\u001b[39m DataFrame:\n\u001b[1;32m-> 5087\u001b[0m     \u001b[39mreturn\u001b[39;00m \u001b[39msuper\u001b[39;49m()\u001b[39m.\u001b[39;49malign(\n\u001b[0;32m   5088\u001b[0m         other,\n\u001b[0;32m   5089\u001b[0m         join\u001b[39m=\u001b[39;49mjoin,\n\u001b[0;32m   5090\u001b[0m         axis\u001b[39m=\u001b[39;49maxis,\n\u001b[0;32m   5091\u001b[0m         level\u001b[39m=\u001b[39;49mlevel,\n\u001b[0;32m   5092\u001b[0m         copy\u001b[39m=\u001b[39;49mcopy,\n\u001b[0;32m   5093\u001b[0m         fill_value\u001b[39m=\u001b[39;49mfill_value,\n\u001b[0;32m   5094\u001b[0m         method\u001b[39m=\u001b[39;49mmethod,\n\u001b[0;32m   5095\u001b[0m         limit\u001b[39m=\u001b[39;49mlimit,\n\u001b[0;32m   5096\u001b[0m         fill_axis\u001b[39m=\u001b[39;49mfill_axis,\n\u001b[0;32m   5097\u001b[0m         broadcast_axis\u001b[39m=\u001b[39;49mbroadcast_axis,\n\u001b[0;32m   5098\u001b[0m     )\n",
      "File \u001b[1;32mc:\\Users\\euzoe\\ANACONDA\\envs\\eddy\\lib\\site-packages\\pandas\\core\\generic.py:9452\u001b[0m, in \u001b[0;36mNDFrame.align\u001b[1;34m(self, other, join, axis, level, copy, fill_value, method, limit, fill_axis, broadcast_axis)\u001b[0m\n\u001b[0;32m   9440\u001b[0m     \u001b[39mreturn\u001b[39;00m \u001b[39mself\u001b[39m\u001b[39m.\u001b[39m_align_frame(\n\u001b[0;32m   9441\u001b[0m         other,\n\u001b[0;32m   9442\u001b[0m         join\u001b[39m=\u001b[39mjoin,\n\u001b[1;32m   (...)\u001b[0m\n\u001b[0;32m   9449\u001b[0m         fill_axis\u001b[39m=\u001b[39mfill_axis,\n\u001b[0;32m   9450\u001b[0m     )\n\u001b[0;32m   9451\u001b[0m \u001b[39melif\u001b[39;00m \u001b[39misinstance\u001b[39m(other, ABCSeries):\n\u001b[1;32m-> 9452\u001b[0m     \u001b[39mreturn\u001b[39;00m \u001b[39mself\u001b[39;49m\u001b[39m.\u001b[39;49m_align_series(\n\u001b[0;32m   9453\u001b[0m         other,\n\u001b[0;32m   9454\u001b[0m         join\u001b[39m=\u001b[39;49mjoin,\n\u001b[0;32m   9455\u001b[0m         axis\u001b[39m=\u001b[39;49maxis,\n\u001b[0;32m   9456\u001b[0m         level\u001b[39m=\u001b[39;49mlevel,\n\u001b[0;32m   9457\u001b[0m         copy\u001b[39m=\u001b[39;49mcopy,\n\u001b[0;32m   9458\u001b[0m         fill_value\u001b[39m=\u001b[39;49mfill_value,\n\u001b[0;32m   9459\u001b[0m         method\u001b[39m=\u001b[39;49mmethod,\n\u001b[0;32m   9460\u001b[0m         limit\u001b[39m=\u001b[39;49mlimit,\n\u001b[0;32m   9461\u001b[0m         fill_axis\u001b[39m=\u001b[39;49mfill_axis,\n\u001b[0;32m   9462\u001b[0m     )\n\u001b[0;32m   9463\u001b[0m \u001b[39melse\u001b[39;00m:  \u001b[39m# pragma: no cover\u001b[39;00m\n\u001b[0;32m   9464\u001b[0m     \u001b[39mraise\u001b[39;00m \u001b[39mTypeError\u001b[39;00m(\u001b[39mf\u001b[39m\u001b[39m\"\u001b[39m\u001b[39munsupported type: \u001b[39m\u001b[39m{\u001b[39;00m\u001b[39mtype\u001b[39m(other)\u001b[39m}\u001b[39;00m\u001b[39m\"\u001b[39m)\n",
      "File \u001b[1;32mc:\\Users\\euzoe\\ANACONDA\\envs\\eddy\\lib\\site-packages\\pandas\\core\\generic.py:9581\u001b[0m, in \u001b[0;36mNDFrame._align_series\u001b[1;34m(self, other, join, axis, level, copy, fill_value, method, limit, fill_axis)\u001b[0m\n\u001b[0;32m   9579\u001b[0m lidx, ridx \u001b[39m=\u001b[39m \u001b[39mNone\u001b[39;00m, \u001b[39mNone\u001b[39;00m\n\u001b[0;32m   9580\u001b[0m \u001b[39mif\u001b[39;00m \u001b[39mnot\u001b[39;00m join_index\u001b[39m.\u001b[39mequals(other\u001b[39m.\u001b[39mindex):\n\u001b[1;32m-> 9581\u001b[0m     join_index, lidx, ridx \u001b[39m=\u001b[39m join_index\u001b[39m.\u001b[39;49mjoin(\n\u001b[0;32m   9582\u001b[0m         other\u001b[39m.\u001b[39;49mindex, how\u001b[39m=\u001b[39;49mjoin, level\u001b[39m=\u001b[39;49mlevel, return_indexers\u001b[39m=\u001b[39;49m\u001b[39mTrue\u001b[39;49;00m\n\u001b[0;32m   9583\u001b[0m     )\n\u001b[0;32m   9585\u001b[0m \u001b[39mif\u001b[39;00m lidx \u001b[39mis\u001b[39;00m \u001b[39mnot\u001b[39;00m \u001b[39mNone\u001b[39;00m:\n\u001b[0;32m   9586\u001b[0m     bm_axis \u001b[39m=\u001b[39m \u001b[39mself\u001b[39m\u001b[39m.\u001b[39m_get_block_manager_axis(\u001b[39m1\u001b[39m)\n",
      "File \u001b[1;32mc:\\Users\\euzoe\\ANACONDA\\envs\\eddy\\lib\\site-packages\\pandas\\util\\_decorators.py:331\u001b[0m, in \u001b[0;36mdeprecate_nonkeyword_arguments.<locals>.decorate.<locals>.wrapper\u001b[1;34m(*args, **kwargs)\u001b[0m\n\u001b[0;32m    325\u001b[0m \u001b[39mif\u001b[39;00m \u001b[39mlen\u001b[39m(args) \u001b[39m>\u001b[39m num_allow_args:\n\u001b[0;32m    326\u001b[0m     warnings\u001b[39m.\u001b[39mwarn(\n\u001b[0;32m    327\u001b[0m         msg\u001b[39m.\u001b[39mformat(arguments\u001b[39m=\u001b[39m_format_argument_list(allow_args)),\n\u001b[0;32m    328\u001b[0m         \u001b[39mFutureWarning\u001b[39;00m,\n\u001b[0;32m    329\u001b[0m         stacklevel\u001b[39m=\u001b[39mfind_stack_level(),\n\u001b[0;32m    330\u001b[0m     )\n\u001b[1;32m--> 331\u001b[0m \u001b[39mreturn\u001b[39;00m func(\u001b[39m*\u001b[39margs, \u001b[39m*\u001b[39m\u001b[39m*\u001b[39mkwargs)\n",
      "File \u001b[1;32mc:\\Users\\euzoe\\ANACONDA\\envs\\eddy\\lib\\site-packages\\pandas\\core\\indexes\\base.py:229\u001b[0m, in \u001b[0;36m_maybe_return_indexers.<locals>.join\u001b[1;34m(self, other, how, level, return_indexers, sort)\u001b[0m\n\u001b[0;32m    220\u001b[0m \u001b[39m@functools\u001b[39m\u001b[39m.\u001b[39mwraps(meth)\n\u001b[0;32m    221\u001b[0m \u001b[39mdef\u001b[39;00m \u001b[39mjoin\u001b[39m(\n\u001b[0;32m    222\u001b[0m     \u001b[39mself\u001b[39m,\n\u001b[1;32m   (...)\u001b[0m\n\u001b[0;32m    227\u001b[0m     sort: \u001b[39mbool\u001b[39m \u001b[39m=\u001b[39m \u001b[39mFalse\u001b[39;00m,\n\u001b[0;32m    228\u001b[0m ):\n\u001b[1;32m--> 229\u001b[0m     join_index, lidx, ridx \u001b[39m=\u001b[39m meth(\u001b[39mself\u001b[39;49m, other, how\u001b[39m=\u001b[39;49mhow, level\u001b[39m=\u001b[39;49mlevel, sort\u001b[39m=\u001b[39;49msort)\n\u001b[0;32m    230\u001b[0m     \u001b[39mif\u001b[39;00m \u001b[39mnot\u001b[39;00m return_indexers:\n\u001b[0;32m    231\u001b[0m         \u001b[39mreturn\u001b[39;00m join_index\n",
      "File \u001b[1;32mc:\\Users\\euzoe\\ANACONDA\\envs\\eddy\\lib\\site-packages\\pandas\\core\\indexes\\base.py:4658\u001b[0m, in \u001b[0;36mIndex.join\u001b[1;34m(self, other, how, level, return_indexers, sort)\u001b[0m\n\u001b[0;32m   4656\u001b[0m         \u001b[39mpass\u001b[39;00m\n\u001b[0;32m   4657\u001b[0m     \u001b[39melse\u001b[39;00m:\n\u001b[1;32m-> 4658\u001b[0m         \u001b[39mreturn\u001b[39;00m \u001b[39mself\u001b[39;49m\u001b[39m.\u001b[39;49m_join_multi(other, how\u001b[39m=\u001b[39;49mhow)\n\u001b[0;32m   4660\u001b[0m \u001b[39m# join on the level\u001b[39;00m\n\u001b[0;32m   4661\u001b[0m \u001b[39mif\u001b[39;00m level \u001b[39mis\u001b[39;00m \u001b[39mnot\u001b[39;00m \u001b[39mNone\u001b[39;00m \u001b[39mand\u001b[39;00m (\u001b[39mself\u001b[39m\u001b[39m.\u001b[39m_is_multi \u001b[39mor\u001b[39;00m other\u001b[39m.\u001b[39m_is_multi):\n",
      "File \u001b[1;32mc:\\Users\\euzoe\\ANACONDA\\envs\\eddy\\lib\\site-packages\\pandas\\core\\indexes\\base.py:4782\u001b[0m, in \u001b[0;36mIndex._join_multi\u001b[1;34m(self, other, how)\u001b[0m\n\u001b[0;32m   4780\u001b[0m \u001b[39m# need at least 1 in common\u001b[39;00m\n\u001b[0;32m   4781\u001b[0m \u001b[39mif\u001b[39;00m \u001b[39mnot\u001b[39;00m overlap:\n\u001b[1;32m-> 4782\u001b[0m     \u001b[39mraise\u001b[39;00m \u001b[39mValueError\u001b[39;00m(\u001b[39m\"\u001b[39m\u001b[39mcannot join with no overlapping index names\u001b[39m\u001b[39m\"\u001b[39m)\n\u001b[0;32m   4784\u001b[0m \u001b[39mif\u001b[39;00m \u001b[39misinstance\u001b[39m(\u001b[39mself\u001b[39m, MultiIndex) \u001b[39mand\u001b[39;00m \u001b[39misinstance\u001b[39m(other, MultiIndex):\n\u001b[0;32m   4785\u001b[0m \n\u001b[0;32m   4786\u001b[0m     \u001b[39m# Drop the non-matching levels from left and right respectively\u001b[39;00m\n\u001b[0;32m   4787\u001b[0m     ldrop_names \u001b[39m=\u001b[39m \u001b[39msorted\u001b[39m(self_names \u001b[39m-\u001b[39m overlap, key\u001b[39m=\u001b[39mself_names_order)\n",
      "\u001b[1;31mValueError\u001b[0m: cannot join with no overlapping index names"
     ]
    }
   ],
   "source": [
    "# calculate retention rate by gender\n",
    "cohort_size = customer_df.groupby(['acquisition_month','gender']).size()\n",
    "retention = customer_df.groupby(['acquisition_month','gender','purchase_month']).size().unstack() / cohort_size\n",
    "# visualize retention rate using heatmap\n",
    "sns.heatmap(retention.T, annot=True, fmt='.0%', cmap='RdYlGn')\n",
    "plt.show()\n"
   ]
  }
 ],
 "metadata": {
  "kernelspec": {
   "display_name": "eddy",
   "language": "python",
   "name": "python3"
  },
  "language_info": {
   "codemirror_mode": {
    "name": "ipython",
    "version": 3
   },
   "file_extension": ".py",
   "mimetype": "text/x-python",
   "name": "python",
   "nbconvert_exporter": "python",
   "pygments_lexer": "ipython3",
   "version": "3.10.8 | packaged by conda-forge | (main, Nov 24 2022, 14:07:00) [MSC v.1916 64 bit (AMD64)]"
  },
  "orig_nbformat": 4,
  "vscode": {
   "interpreter": {
    "hash": "8b27381977d9bf96b4aa66956efad735350e3c8dfc5e4228929c8483f8a239fc"
   }
  }
 },
 "nbformat": 4,
 "nbformat_minor": 2
}
