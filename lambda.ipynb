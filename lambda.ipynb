{
 "cells": [
  {
   "cell_type": "code",
   "execution_count": 12,
   "id": "8f05b75d-c6f0-400e-88f7-1c8caaf66066",
   "metadata": {},
   "outputs": [
    {
     "name": "stdout",
     "output_type": "stream",
     "text": [
      "Collecting qrcode\n",
      "  Downloading qrcode-7.3.1.tar.gz (43 kB)\n",
      "Requirement already satisfied: colorama in c:\\users\\euzoe\\anaconda\\lib\\site-packages (from qrcode) (0.4.4)\n",
      "Building wheels for collected packages: qrcode\n",
      "  Building wheel for qrcode (setup.py): started\n",
      "  Building wheel for qrcode (setup.py): finished with status 'done'\n",
      "  Created wheel for qrcode: filename=qrcode-7.3.1-py3-none-any.whl size=40401 sha256=e23f4fcba574232df797b8fe2621f1a40757526cb4d260d5c3a5c7883196b837\n",
      "  Stored in directory: c:\\users\\euzoe\\appdata\\local\\pip\\cache\\wheels\\93\\54\\16\\55cec87f8d902ed84b94ab8fdb7e89ae1158c06e130bc83b03\n",
      "Successfully built qrcode\n",
      "Installing collected packages: qrcode\n",
      "Successfully installed qrcode-7.3.1\n",
      "Note: you may need to restart the kernel to use updated packages.\n"
     ]
    }
   ],
   "source": [
    "pip install qrcode"
   ]
  },
  {
   "cell_type": "code",
   "execution_count": 30,
   "id": "976cf1fa-fbb0-4523-8d72-12c6472a5584",
   "metadata": {},
   "outputs": [
    {
     "name": "stdout",
     "output_type": "stream",
     "text": [
      "Requirement already satisfied: pillow in c:\\users\\euzoe\\anaconda\\lib\\site-packages (8.4.0)\n",
      "Note: you may need to restart the kernel to use updated packages.\n"
     ]
    }
   ],
   "source": [
    "pip install pillow"
   ]
  },
  {
   "cell_type": "code",
   "execution_count": 88,
   "id": "e894b938-d378-4f16-afbc-30077df51437",
   "metadata": {},
   "outputs": [
    {
     "name": "stdout",
     "output_type": "stream",
     "text": [
      "Requirement already satisfied: requests in c:\\users\\euzoe\\anaconda\\lib\\site-packages (2.26.0)\n",
      "Requirement already satisfied: charset-normalizer~=2.0.0 in c:\\users\\euzoe\\anaconda\\lib\\site-packages (from requests) (2.0.4)\n",
      "Requirement already satisfied: certifi>=2017.4.17 in c:\\users\\euzoe\\anaconda\\lib\\site-packages (from requests) (2021.10.8)\n",
      "Requirement already satisfied: idna<4,>=2.5 in c:\\users\\euzoe\\anaconda\\lib\\site-packages (from requests) (3.2)\n",
      "Requirement already satisfied: urllib3<1.27,>=1.21.1 in c:\\users\\euzoe\\anaconda\\lib\\site-packages (from requests) (1.26.7)\n",
      "Note: you may need to restart the kernel to use updated packages.\n"
     ]
    }
   ],
   "source": [
    "pip install requests"
   ]
  },
  {
   "cell_type": "code",
   "execution_count": 1,
   "id": "c28760c8-6967-41f4-ab3c-e0b8f33fdb9b",
   "metadata": {},
   "outputs": [],
   "source": [
    "import requests\n",
    "from bs4 import BeautifulSoup as bs\n",
    "import json\n",
    "import random\n",
    "import os.path"
   ]
  },
  {
   "cell_type": "code",
   "execution_count": 87,
   "id": "0743ecbe-ff75-433c-a20b-e414f6712d12",
   "metadata": {},
   "outputs": [],
   "source": [
    "import qrcode\n",
    "img=qrcode.make('https://product-image.juniqe-production.juniqe.com/media/catalog/product/seo-cache/x800/265/97/265-97-101P/You-Are-Loved-Mottos-by-Sinan-Saydik-Poster.jpg')\n",
    "img.save('myQRcode.png')\n",
    "img.show()"
   ]
  },
  {
   "cell_type": "code",
   "execution_count": 24,
   "id": "38e41a4b-b882-46d7-b5b9-3ccfffea6b8b",
   "metadata": {},
   "outputs": [],
   "source": [
    "def convert(miles):\n",
    "    return 1.6*miles"
   ]
  },
  {
   "cell_type": "code",
   "execution_count": 25,
   "id": "f76af910-c127-4981-b584-81fa856adca2",
   "metadata": {},
   "outputs": [
    {
     "data": {
      "text/plain": [
       "9.600000000000001"
      ]
     },
     "execution_count": 25,
     "metadata": {},
     "output_type": "execute_result"
    }
   ],
   "source": [
    "convert(6)"
   ]
  },
  {
   "cell_type": "code",
   "execution_count": 26,
   "id": "584efaa6-e360-4894-ab97-da006cfd5c64",
   "metadata": {},
   "outputs": [
    {
     "data": {
      "text/plain": [
       "110.4"
      ]
     },
     "execution_count": 26,
     "metadata": {},
     "output_type": "execute_result"
    }
   ],
   "source": [
    "convert(69)"
   ]
  },
  {
   "cell_type": "code",
   "execution_count": 27,
   "id": "1773bfb3-bb03-44d3-9252-ebba06ed9582",
   "metadata": {},
   "outputs": [],
   "source": [
    "a=lambda num: num+58"
   ]
  },
  {
   "cell_type": "code",
   "execution_count": 28,
   "id": "cfb77240-fbcc-4438-962b-3d30ca50461b",
   "metadata": {},
   "outputs": [
    {
     "data": {
      "text/plain": [
       "60"
      ]
     },
     "execution_count": 28,
     "metadata": {},
     "output_type": "execute_result"
    }
   ],
   "source": [
    "a(2)"
   ]
  },
  {
   "cell_type": "code",
   "execution_count": 33,
   "id": "27213433-5ded-4ca9-888b-c78576c3af8a",
   "metadata": {},
   "outputs": [],
   "source": [
    "add=lambda y,x: y*x "
   ]
  },
  {
   "cell_type": "code",
   "execution_count": 34,
   "id": "9a26de50-41e6-445f-bf03-aa595e441c24",
   "metadata": {},
   "outputs": [
    {
     "data": {
      "text/plain": [
       "48"
      ]
     },
     "execution_count": 34,
     "metadata": {},
     "output_type": "execute_result"
    }
   ],
   "source": [
    "add(6,8)"
   ]
  },
  {
   "cell_type": "code",
   "execution_count": 43,
   "id": "be59599e-fa87-4993-92a8-93f99109fba4",
   "metadata": {},
   "outputs": [],
   "source": [
    "km=(lambda x: x*1.6)"
   ]
  },
  {
   "cell_type": "code",
   "execution_count": 72,
   "id": "b4b90972-2274-4d76-9417-08a877a5209e",
   "metadata": {},
   "outputs": [
    {
     "name": "stdout",
     "output_type": "stream",
     "text": [
      "104000.0 km\n"
     ]
    }
   ],
   "source": [
    "print(km(65000),\"km\")"
   ]
  },
  {
   "cell_type": "code",
   "execution_count": 49,
   "id": "c4ad6454-09aa-4f5f-a913-6a9fb9cbf784",
   "metadata": {},
   "outputs": [],
   "source": [
    "mx=lambda x,y: x if x>y else y #lambda"
   ]
  },
  {
   "cell_type": "code",
   "execution_count": 50,
   "id": "33de7613-9b8e-47b9-b9df-6e3a86ea594c",
   "metadata": {},
   "outputs": [
    {
     "data": {
      "text/plain": [
       "8"
      ]
     },
     "execution_count": 50,
     "metadata": {},
     "output_type": "execute_result"
    }
   ],
   "source": [
    "mx(4,8)"
   ]
  },
  {
   "cell_type": "code",
   "execution_count": 67,
   "id": "3273dd30-a630-4649-94ae-452fd754eaa0",
   "metadata": {},
   "outputs": [
    {
     "name": "stdout",
     "output_type": "stream",
     "text": [
      "here is the new list\n",
      " [16, 64, 81, 49, 64, 36]\n"
     ]
    }
   ],
   "source": [
    "n=[4,8,9,7,8,6]\n",
    "print(\"here is the new list\\n\",list(map(lambda x: x**2,n))) #map function"
   ]
  },
  {
   "cell_type": "code",
   "execution_count": 64,
   "id": "f3ffe369-9e39-4c35-90da-275ca367a60f",
   "metadata": {},
   "outputs": [
    {
     "name": "stdout",
     "output_type": "stream",
     "text": [
      "Hello\n",
      "World!\n"
     ]
    }
   ],
   "source": [
    "print(\"Hello\\nWorld!\")"
   ]
  },
  {
   "cell_type": "code",
   "execution_count": 69,
   "id": "970f3c1f-e3a1-438d-9182-9db0ce1ebec6",
   "metadata": {},
   "outputs": [
    {
     "name": "stdout",
     "output_type": "stream",
     "text": [
      "here is the new list\n",
      " [16, 64, 81, 49, 64, 36]\n"
     ]
    }
   ],
   "source": [
    "print(\"here is the new list\\n\",[x**2 for x in n])"
   ]
  },
  {
   "cell_type": "code",
   "execution_count": 77,
   "id": "e526e452-e758-4564-95af-7c5254dc59ba",
   "metadata": {},
   "outputs": [
    {
     "name": "stdout",
     "output_type": "stream",
     "text": [
      "here is the new list\n",
      " [8, 9, 7, 8]\n"
     ]
    }
   ],
   "source": [
    "print(\"here is the new list\\n\", [x for x in n if x>6])"
   ]
  },
  {
   "cell_type": "code",
   "execution_count": 82,
   "id": "99be52b0-1926-4b25-b33d-473b85cd8d6c",
   "metadata": {},
   "outputs": [],
   "source": [
    "from functools import reduce"
   ]
  },
  {
   "cell_type": "code",
   "execution_count": 84,
   "id": "43af6a1d-df7e-48bd-9508-4e706c3cc903",
   "metadata": {},
   "outputs": [],
   "source": [
    "n1=[4,3,2,1]"
   ]
  },
  {
   "cell_type": "code",
   "execution_count": 85,
   "id": "82f82e87-77ab-4310-a4a2-a1ca5f9e61e2",
   "metadata": {},
   "outputs": [
    {
     "name": "stdout",
     "output_type": "stream",
     "text": [
      "24\n"
     ]
    }
   ],
   "source": [
    "print(reduce(lambda x,y: x*y,n1))"
   ]
  },
  {
   "cell_type": "code",
   "execution_count": 3,
   "id": "1fdbd1d8-4a54-4e71-b668-948bc0f9c287",
   "metadata": {},
   "outputs": [
    {
     "name": "stdout",
     "output_type": "stream",
     "text": [
      "Requirement already satisfied: instaloader in c:\\users\\euzoe\\anaconda\\lib\\site-packages (4.8.4)\n",
      "Requirement already satisfied: requests>=2.4 in c:\\users\\euzoe\\anaconda\\lib\\site-packages (from instaloader) (2.26.0)\n",
      "Requirement already satisfied: idna<4,>=2.5 in c:\\users\\euzoe\\anaconda\\lib\\site-packages (from requests>=2.4->instaloader) (3.2)\n",
      "Requirement already satisfied: charset-normalizer~=2.0.0 in c:\\users\\euzoe\\anaconda\\lib\\site-packages (from requests>=2.4->instaloader) (2.0.4)\n",
      "Requirement already satisfied: urllib3<1.27,>=1.21.1 in c:\\users\\euzoe\\anaconda\\lib\\site-packages (from requests>=2.4->instaloader) (1.26.7)\n",
      "Requirement already satisfied: certifi>=2017.4.17 in c:\\users\\euzoe\\anaconda\\lib\\site-packages (from requests>=2.4->instaloader) (2021.10.8)\n",
      "Note: you may need to restart the kernel to use updated packages.\n"
     ]
    }
   ],
   "source": [
    "pip install instaloader"
   ]
  },
  {
   "cell_type": "code",
   "execution_count": null,
   "id": "2450ec80-ae2e-4fb3-a15a-1bbd7e698c3f",
   "metadata": {},
   "outputs": [],
   "source": [
    "import instaloader\n",
    " \n",
    "ig = instaloader.Instaloader()\n",
    "dp = input(\"IG DP : \")\n",
    " \n",
    "ig.download_profile(dp , profile_pic_only=True)"
   ]
  },
  {
   "cell_type": "code",
   "execution_count": null,
   "id": "32eec5a2-9fbf-4ed1-8ab3-d78979e7fdc9",
   "metadata": {},
   "outputs": [],
   "source": []
  }
 ],
 "metadata": {
  "kernelspec": {
   "display_name": "Python 3 (ipykernel)",
   "language": "python",
   "name": "python3"
  },
  "language_info": {
   "codemirror_mode": {
    "name": "ipython",
    "version": 3
   },
   "file_extension": ".py",
   "mimetype": "text/x-python",
   "name": "python",
   "nbconvert_exporter": "python",
   "pygments_lexer": "ipython3",
   "version": "3.9.7"
  }
 },
 "nbformat": 4,
 "nbformat_minor": 5
}
