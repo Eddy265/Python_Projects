{
 "cells": [
  {
   "cell_type": "code",
   "execution_count": 4,
   "id": "67b19a43-6287-457d-9e76-a0970b67fce3",
   "metadata": {},
   "outputs": [],
   "source": [
    "import pandas as pd\n",
    "from pathlib import Path\n",
    "import statistics\n",
    "import matplotlib.pyplot as plt\n",
    "import numpy as np\n",
    "pd.plotting.register_matplotlib_converters()\n",
    "import matplotlib.pyplot as plt\n",
    "%matplotlib inline\n",
    "import seaborn as sns\n",
    "from datetime import timedelta\n",
    "import plotly.express as px"
   ]
  },
  {
   "cell_type": "code",
   "execution_count": null,
   "id": "dc376e5c-1b16-49aa-b950-ef96236d0167",
   "metadata": {},
   "outputs": [],
   "source": [
    "nums=[1,2,3,4,5,6,7,8,9,10]"
   ]
  },
  {
   "cell_type": "code",
   "execution_count": 6,
   "id": "690162c7-1a40-45fa-8e3d-de147fc82177",
   "metadata": {},
   "outputs": [],
   "source": [
    "s=90\n",
    "u='jk'\n",
    "z='tzz'"
   ]
  },
  {
   "cell_type": "code",
   "execution_count": null,
   "id": "6ce50186-0fc9-448c-9774-547479987495",
   "metadata": {},
   "outputs": [],
   "source": []
  },
  {
   "cell_type": "code",
   "execution_count": 19,
   "id": "8be7a00c-c175-43be-9166-465e9c3e3dc7",
   "metadata": {},
   "outputs": [],
   "source": [
    "la=list(map(lambda x: x**x, nums))"
   ]
  },
  {
   "cell_type": "code",
   "execution_count": 20,
   "id": "48d0c2eb-17d4-4552-8e1e-17e01f6555ce",
   "metadata": {},
   "outputs": [
    {
     "data": {
      "text/plain": [
       "[1, 4, 27, 256, 3125, 46656, 823543, 16777216, 387420489, 10000000000]"
      ]
     },
     "execution_count": 20,
     "metadata": {},
     "output_type": "execute_result"
    }
   ],
   "source": [
    "la"
   ]
  },
  {
   "cell_type": "code",
   "execution_count": 15,
   "id": "57b5ee14-9361-43a2-984b-ec4c587719a6",
   "metadata": {},
   "outputs": [],
   "source": [
    " k=lambda x: x*8"
   ]
  },
  {
   "cell_type": "code",
   "execution_count": 16,
   "id": "383b8dfa-d71d-46f4-b516-6477d22fd21d",
   "metadata": {},
   "outputs": [
    {
     "data": {
      "text/plain": [
       "40"
      ]
     },
     "execution_count": 16,
     "metadata": {},
     "output_type": "execute_result"
    }
   ],
   "source": [
    "k(5)"
   ]
  },
  {
   "cell_type": "code",
   "execution_count": 48,
   "id": "d4dab5f7-8135-478c-b7eb-f710fc578b22",
   "metadata": {},
   "outputs": [],
   "source": [
    "def funct(x):\n",
    "    for x in nums:\n",
    "        print (x**x)"
   ]
  },
  {
   "cell_type": "code",
   "execution_count": 52,
   "id": "06fb7dda-7248-44f9-b8b5-4139628aab73",
   "metadata": {},
   "outputs": [
    {
     "name": "stdout",
     "output_type": "stream",
     "text": [
      "1\n",
      "4\n",
      "27\n",
      "256\n",
      "3125\n",
      "46656\n",
      "823543\n",
      "16777216\n",
      "387420489\n",
      "10000000000\n"
     ]
    }
   ],
   "source": [
    "funct(nums)"
   ]
  },
  {
   "cell_type": "code",
   "execution_count": 56,
   "id": "f2f8ab32-6dc2-4f13-9dc9-ce37b2e0807d",
   "metadata": {},
   "outputs": [
    {
     "data": {
      "text/plain": [
       "(0, 1, 2, 3, 4, 5, 6, 7, 8, 9, 10)"
      ]
     },
     "execution_count": 56,
     "metadata": {},
     "output_type": "execute_result"
    }
   ],
   "source": [
    "num=tuple(range(11))\n",
    "num"
   ]
  },
  {
   "cell_type": "code",
   "execution_count": 58,
   "id": "d8802055-5a2a-4460-be1f-3f41371fd0d8",
   "metadata": {},
   "outputs": [
    {
     "data": {
      "text/plain": [
       "[1, 4, 9, 16, 25, 36, 49, 64, 81, 100]"
      ]
     },
     "execution_count": 58,
     "metadata": {},
     "output_type": "execute_result"
    }
   ],
   "source": [
    "my_list=[n*n for n in nums]\n",
    "my_list"
   ]
  },
  {
   "cell_type": "code",
   "execution_count": 1,
   "id": "65453711-8232-4c14-9908-56fb833d6ad0",
   "metadata": {},
   "outputs": [],
   "source": [
    "my_list=[]\n",
    "for letter in 'abcd':\n",
    "    for n in range(4):\n",
    "        for t in 'efgh':\n",
    "            my_list.append((letter, n,t))\n",
    "my_list"
   ]
  },
  {
   "cell_type": "code",
   "execution_count": 75,
   "id": "ae5d8f52-6a66-483c-813f-9b6fbc862a29",
   "metadata": {},
   "outputs": [],
   "source": [
    "# A simple generator function\n",
    "def my_gen():\n",
    "    n = 1\n",
    "    print('This is printed first')\n",
    "    # Generator function contains yield statements\n",
    "    yield  n\n",
    "\n",
    "    n += 1\n",
    "    print('This is printed second')\n",
    "    yield n\n",
    "\n",
    "    n += 1\n",
    "    print('This is printed at last')\n",
    "    yield n"
   ]
  },
  {
   "cell_type": "code",
   "execution_count": 76,
   "id": "89f6bf64-1a1a-4d05-8ecb-fa40c88a5a4a",
   "metadata": {},
   "outputs": [
    {
     "name": "stdout",
     "output_type": "stream",
     "text": [
      "This is printed first\n",
      "This is printed second\n",
      "This is printed at last\n",
      "[1, 2, 3]\n"
     ]
    }
   ],
   "source": [
    "print(list(my_gen()))"
   ]
  },
  {
   "cell_type": "code",
   "execution_count": 77,
   "id": "4aaa9036-8dff-43e7-9622-31c6b62b897c",
   "metadata": {},
   "outputs": [
    {
     "name": "stdout",
     "output_type": "stream",
     "text": [
      "This is printed first\n",
      "1\n",
      "This is printed second\n",
      "2\n",
      "This is printed at last\n",
      "3\n"
     ]
    }
   ],
   "source": [
    "# Using for loop\n",
    "for item in my_gen():\n",
    "    print(item)"
   ]
  },
  {
   "cell_type": "code",
   "execution_count": 82,
   "id": "cc133b1d-9ae0-4ff9-a34c-a254b93d32a8",
   "metadata": {},
   "outputs": [
    {
     "data": {
      "text/plain": [
       "[(2, 'come, now okay, here, ok')]"
      ]
     },
     "execution_count": 82,
     "metadata": {},
     "output_type": "execute_result"
    }
   ],
   "source": [
    "ok"
   ]
  },
  {
   "cell_type": "code",
   "execution_count": 95,
   "id": "eeeb15b8-17a9-4259-a0f7-f3ec4e3a23ba",
   "metadata": {},
   "outputs": [
    {
     "name": "stdout",
     "output_type": "stream",
     "text": [
      "Share of websites in English: 0.54\n"
     ]
    }
   ],
   "source": [
    "english_web_share = 0.539\n",
    "print('Share of websites in English: {:.2f}'.format(english_web_share)) "
   ]
  },
  {
   "cell_type": "code",
   "execution_count": 89,
   "id": "b89e2a75-ed59-4856-9f51-ef43371df283",
   "metadata": {},
   "outputs": [
    {
     "name": "stdout",
     "output_type": "stream",
     "text": [
      "Number of people who speak Chinese: 1107 million\n"
     ]
    }
   ],
   "source": [
    "chinese_speakers = 1107\n",
    "print('Number of people who speak Chinese:', chinese_speakers, 'million') "
   ]
  },
  {
   "cell_type": "code",
   "execution_count": 96,
   "id": "812ce07c-4c62-472c-9df8-3231d9cf23ca",
   "metadata": {},
   "outputs": [
    {
     "name": "stdout",
     "output_type": "stream",
     "text": [
      "Share of websites in English: 0.54\n",
      "Share of websites in English: 53.90%\n"
     ]
    }
   ],
   "source": [
    "#Yandex\n",
    "#format()\n",
    "\n",
    "english_web_share = 0.539\n",
    "print('Share of websites in English: {:.2f}'.format(english_web_share)) \n",
    "print('Share of websites in English: {:.2%}'.format(english_web_share)) "
   ]
  },
  {
   "cell_type": "code",
   "execution_count": 97,
   "id": "2c948c3c-498a-4403-9620-4f11fca0cb2f",
   "metadata": {},
   "outputs": [
    {
     "name": "stdout",
     "output_type": "stream",
     "text": [
      "Number of people who speak Chinese:1107 million\n"
     ]
    }
   ],
   "source": [
    "chinese_speakers = 1107\n",
    "print('Number of people who speak Chinese:{} million'.format(chinese_speakers)) "
   ]
  },
  {
   "cell_type": "code",
   "execution_count": 98,
   "id": "873f3366-f435-4938-b9d3-3a6e31def091",
   "metadata": {},
   "outputs": [
    {
     "name": "stdout",
     "output_type": "stream",
     "text": [
      "EmojiXpress\n",
      "-----------\n",
      "2260000 messages\n",
      "19100000 messages\n",
      "25600000 messages\n",
      "233000000 messages\n",
      "15200000 messages\n",
      "22700000 messages\n",
      "64599999 messages\n",
      "87500000 messages\n",
      "6810000 messages\n",
      "6000000 messages\n",
      "-----------\n"
     ]
    }
   ],
   "source": [
    "#loop\n",
    "\n",
    "emojixpress = [2.26, 19.1, 25.6, 233, 15.2, 22.7, 64.6, 87.5, 6.81, 6]\n",
    "\n",
    "print('EmojiXpress')\n",
    "print('-----------')\n",
    "\n",
    "for x in emojixpress:\n",
    "    count = int(x * 1000000)\n",
    "    print('{} messages'.format(count))\n",
    "\n",
    "print('-----------') "
   ]
  },
  {
   "cell_type": "code",
   "execution_count": 99,
   "id": "44761d60-95a5-4e76-97e8-8eb77e93b4c4",
   "metadata": {},
   "outputs": [
    {
     "name": "stdout",
     "output_type": "stream",
     "text": [
      "Twitter emoji share:\n",
      "36.8%\n",
      "63.2%\n",
      "0.0%\n",
      "\n",
      "Total emojis: 237.3 million\n"
     ]
    }
   ],
   "source": [
    "#let's find the sum of the first three emojis in the Twitter, mil. column and then calculate the share of each emoji in this sum. \n",
    "#Then we'll print the shares as percentages to one decimal place and print the header along with the sum.\n",
    "\n",
    "twitter = [87.3, 150, 0]\n",
    "twitter_sum=sum(twitter)\n",
    "print(\"Twitter emoji share:\")\n",
    "for x in twitter:\n",
    "    count=x/twitter_sum\n",
    "    print('{:.1%}'.format(count))\n",
    "print()\n",
    "print('Total emojis: {} million'.format(twitter_sum))"
   ]
  },
  {
   "cell_type": "code",
   "execution_count": 100,
   "id": "6c27f4f7-80dd-4841-8aac-8c4d1abd3da2",
   "metadata": {},
   "outputs": [
    {
     "name": "stdout",
     "output_type": "stream",
     "text": [
      "295.16\n"
     ]
    }
   ],
   "source": [
    "emojixpress = [2.26, 19.1, 25.6, 233.0, 15.2]\n",
    "\n",
    "total = 0\n",
    "total += emojixpress[0]\n",
    "\n",
    "total += emojixpress[1]\n",
    "\n",
    "total += emojixpress[2]\n",
    "\n",
    "total += emojixpress[3]\n",
    "\n",
    "total += emojixpress[4]\n",
    "\n",
    "\n",
    "print('{:.2f}'.format(total))"
   ]
  },
  {
   "cell_type": "code",
   "execution_count": 101,
   "id": "542afb3e-f4ec-46a8-9f12-c41428dab20f",
   "metadata": {},
   "outputs": [
    {
     "name": "stdout",
     "output_type": "stream",
     "text": [
      "295.16\n"
     ]
    }
   ],
   "source": [
    "#or\n",
    "emojixpress = [2.26, 19.1, 25.6, 233.0, 15.2]\n",
    "total=sum(emojixpress)\n",
    "print('{:.2f}'.format(total))"
   ]
  },
  {
   "cell_type": "code",
   "execution_count": 102,
   "id": "3e8d00f6-4ae7-467c-9383-5908e48138e0",
   "metadata": {},
   "outputs": [
    {
     "name": "stdout",
     "output_type": "stream",
     "text": [
      "295.16\n"
     ]
    }
   ],
   "source": [
    "#or\n",
    "emojixpress = [2.26, 19.1, 25.6, 233.0, 15.2]\n",
    "total=0\n",
    "for x in emojixpress:\n",
    "    total+=x\n",
    "print('{:.2f}'.format(total))"
   ]
  },
  {
   "cell_type": "code",
   "execution_count": null,
   "id": "c8fdaa27-59f0-4a68-bbfb-cfe5bc5c47b2",
   "metadata": {},
   "outputs": [],
   "source": [
    "#Ways to Round Values in Pandas DataFrame column\n",
    "df['DataFrame column'].round(decimals = number of decimal places needed)"
   ]
  },
  {
   "cell_type": "code",
   "execution_count": null,
   "id": "137c8fa2-ffff-42cc-bcb6-d2ff6b085ab8",
   "metadata": {},
   "outputs": [],
   "source": [
    "#Round columns up to two decimal or more\n",
    "df.style.format({'Ratio': '{: .2f}', 'Emojixpress_mil': '{: .2f}', 'IG_mil': '{: .2f}', 'Twitter_mil': '{: .2f}'})"
   ]
  },
  {
   "cell_type": "code",
   "execution_count": 2,
   "id": "2bb45745-83c8-4f4f-8d4e-8a0b4521befd",
   "metadata": {},
   "outputs": [],
   "source": [
    "#Data types\n",
    "#1. Series (one dimensional data-only rows)\n",
    "#2. DataFrame (two dimensional data type-rows and columns)\n",
    "\n",
    "#Using Dictionary to create a table\n",
    "#here, the keys becomes the column while the values becomes the rows\n",
    "\n",
    "people={'First_name': ['Edwin', 'Jennifer', 'Sandra'], 'Last_name': \n",
    "        ['Uzoefuna', 'Ikediashi', 'Ikediashi'], 'Email': ['euzoefuna@rocketmail.com', 'Jenniferikediashi@yahoo.com', 'Sandraikediashi@yahoo.com']}"
   ]
  },
  {
   "cell_type": "code",
   "execution_count": 3,
   "id": "df86459b-233c-47fa-8406-421e39168506",
   "metadata": {},
   "outputs": [
    {
     "data": {
      "text/plain": [
       "dict"
      ]
     },
     "execution_count": 3,
     "metadata": {},
     "output_type": "execute_result"
    }
   ],
   "source": [
    "type(people)"
   ]
  },
  {
   "cell_type": "code",
   "execution_count": 6,
   "id": "3200e16c-0d9e-4022-a20f-848aa25478ac",
   "metadata": {},
   "outputs": [],
   "source": [
    "#Convert the table to a datafram using pandas\n",
    "import pandas as pd"
   ]
  },
  {
   "cell_type": "code",
   "execution_count": 7,
   "id": "962d33c2-3406-4cf1-a6eb-a1f2d4d4666e",
   "metadata": {},
   "outputs": [],
   "source": [
    "df_people=pd.DataFrame(people)"
   ]
  },
  {
   "cell_type": "code",
   "execution_count": 8,
   "id": "d52e8f31-d316-45a3-b757-604ebe7fa5d9",
   "metadata": {},
   "outputs": [],
   "source": [
    "#to set the number of columns and rows to display at default. this is useful in a big dataset\n",
    "pd.set_option('display.max_columns', 3)\n",
    "pd.set_option('display.max_rows', 3)"
   ]
  },
  {
   "cell_type": "code",
   "execution_count": 9,
   "id": "ab0921ba-970b-4d22-8e3a-58a66d4eed2c",
   "metadata": {},
   "outputs": [
    {
     "data": {
      "text/html": [
       "<div>\n",
       "<style scoped>\n",
       "    .dataframe tbody tr th:only-of-type {\n",
       "        vertical-align: middle;\n",
       "    }\n",
       "\n",
       "    .dataframe tbody tr th {\n",
       "        vertical-align: top;\n",
       "    }\n",
       "\n",
       "    .dataframe thead th {\n",
       "        text-align: right;\n",
       "    }\n",
       "</style>\n",
       "<table border=\"1\" class=\"dataframe\">\n",
       "  <thead>\n",
       "    <tr style=\"text-align: right;\">\n",
       "      <th></th>\n",
       "      <th>First_name</th>\n",
       "      <th>Last_name</th>\n",
       "      <th>Email</th>\n",
       "    </tr>\n",
       "  </thead>\n",
       "  <tbody>\n",
       "    <tr>\n",
       "      <th>0</th>\n",
       "      <td>Edwin</td>\n",
       "      <td>Uzoefuna</td>\n",
       "      <td>euzoefuna@rocketmail.com</td>\n",
       "    </tr>\n",
       "    <tr>\n",
       "      <th>1</th>\n",
       "      <td>Jennifer</td>\n",
       "      <td>Ikediashi</td>\n",
       "      <td>Jenniferikediashi@yahoo.com</td>\n",
       "    </tr>\n",
       "    <tr>\n",
       "      <th>2</th>\n",
       "      <td>Sandra</td>\n",
       "      <td>Ikediashi</td>\n",
       "      <td>Sandraikediashi@yahoo.com</td>\n",
       "    </tr>\n",
       "  </tbody>\n",
       "</table>\n",
       "</div>"
      ],
      "text/plain": [
       "  First_name  Last_name                        Email\n",
       "0      Edwin   Uzoefuna     euzoefuna@rocketmail.com\n",
       "1   Jennifer  Ikediashi  Jenniferikediashi@yahoo.com\n",
       "2     Sandra  Ikediashi    Sandraikediashi@yahoo.com"
      ]
     },
     "execution_count": 9,
     "metadata": {},
     "output_type": "execute_result"
    }
   ],
   "source": [
    "df_people "
   ]
  },
  {
   "cell_type": "code",
   "execution_count": 10,
   "id": "573152d9-58ce-489e-a6d8-39dcadd71051",
   "metadata": {},
   "outputs": [
    {
     "data": {
      "text/html": [
       "<div>\n",
       "<style scoped>\n",
       "    .dataframe tbody tr th:only-of-type {\n",
       "        vertical-align: middle;\n",
       "    }\n",
       "\n",
       "    .dataframe tbody tr th {\n",
       "        vertical-align: top;\n",
       "    }\n",
       "\n",
       "    .dataframe thead th {\n",
       "        text-align: right;\n",
       "    }\n",
       "</style>\n",
       "<table border=\"1\" class=\"dataframe\">\n",
       "  <thead>\n",
       "    <tr style=\"text-align: right;\">\n",
       "      <th></th>\n",
       "      <th>First_name</th>\n",
       "      <th>Last_name</th>\n",
       "      <th>Email</th>\n",
       "    </tr>\n",
       "  </thead>\n",
       "  <tbody>\n",
       "    <tr>\n",
       "      <th>0</th>\n",
       "      <td>Edwin</td>\n",
       "      <td>Uzoefuna</td>\n",
       "      <td>euzoefuna@rocketmail.com</td>\n",
       "    </tr>\n",
       "    <tr>\n",
       "      <th>1</th>\n",
       "      <td>Jennifer</td>\n",
       "      <td>Ikediashi</td>\n",
       "      <td>Jenniferikediashi@yahoo.com</td>\n",
       "    </tr>\n",
       "  </tbody>\n",
       "</table>\n",
       "</div>"
      ],
      "text/plain": [
       "  First_name  Last_name                        Email\n",
       "0      Edwin   Uzoefuna     euzoefuna@rocketmail.com\n",
       "1   Jennifer  Ikediashi  Jenniferikediashi@yahoo.com"
      ]
     },
     "execution_count": 10,
     "metadata": {},
     "output_type": "execute_result"
    }
   ],
   "source": [
    "df_people[: 2]"
   ]
  },
  {
   "cell_type": "code",
   "execution_count": 11,
   "id": "7f2dc991-e633-4ba4-9552-2113236935d7",
   "metadata": {},
   "outputs": [
    {
     "data": {
      "text/plain": [
       "0       euzoefuna@rocketmail.com\n",
       "1    Jenniferikediashi@yahoo.com\n",
       "2      Sandraikediashi@yahoo.com\n",
       "Name: Email, dtype: object"
      ]
     },
     "execution_count": 11,
     "metadata": {},
     "output_type": "execute_result"
    }
   ],
   "source": [
    "df_people.Email"
   ]
  },
  {
   "cell_type": "code",
   "execution_count": 12,
   "id": "54cc2b25-88d5-4faf-9036-b8c927c37091",
   "metadata": {},
   "outputs": [
    {
     "data": {
      "text/plain": [
       "pandas.core.series.Series"
      ]
     },
     "execution_count": 12,
     "metadata": {},
     "output_type": "execute_result"
    }
   ],
   "source": [
    "type(df_people.Email)"
   ]
  },
  {
   "cell_type": "code",
   "execution_count": 13,
   "id": "526d0369-96b3-400f-bd25-47d0fdf725a9",
   "metadata": {},
   "outputs": [
    {
     "data": {
      "text/plain": [
       "pandas.core.frame.DataFrame"
      ]
     },
     "execution_count": 13,
     "metadata": {},
     "output_type": "execute_result"
    }
   ],
   "source": [
    "type(df_people)"
   ]
  },
  {
   "cell_type": "code",
   "execution_count": 17,
   "id": "e5a99cac-068f-454d-ab1a-b65a6a6fa900",
   "metadata": {},
   "outputs": [
    {
     "name": "stdout",
     "output_type": "stream",
     "text": [
      "  First_name  Last_name                        Email\n",
      "0      Edwin   Uzoefuna     euzoefuna@rocketmail.com\n",
      "1   Jennifer  Ikediashi  Jenniferikediashi@yahoo.com\n"
     ]
    }
   ],
   "source": [
    "print(df_people[: 2])"
   ]
  },
  {
   "cell_type": "code",
   "execution_count": 37,
   "id": "9f3bc6f6-1d3e-422b-8f8f-7f68298ca359",
   "metadata": {},
   "outputs": [
    {
     "data": {
      "text/html": [
       "<div>\n",
       "<style scoped>\n",
       "    .dataframe tbody tr th:only-of-type {\n",
       "        vertical-align: middle;\n",
       "    }\n",
       "\n",
       "    .dataframe tbody tr th {\n",
       "        vertical-align: top;\n",
       "    }\n",
       "\n",
       "    .dataframe thead th {\n",
       "        text-align: right;\n",
       "    }\n",
       "</style>\n",
       "<table border=\"1\" class=\"dataframe\">\n",
       "  <thead>\n",
       "    <tr style=\"text-align: right;\">\n",
       "      <th></th>\n",
       "      <th>Last_name</th>\n",
       "      <th>Email</th>\n",
       "    </tr>\n",
       "  </thead>\n",
       "  <tbody>\n",
       "    <tr>\n",
       "      <th>0</th>\n",
       "      <td>Uzoefuna</td>\n",
       "      <td>euzoefuna@rocketmail.com</td>\n",
       "    </tr>\n",
       "    <tr>\n",
       "      <th>1</th>\n",
       "      <td>Ikediashi</td>\n",
       "      <td>Jenniferikediashi@yahoo.com</td>\n",
       "    </tr>\n",
       "    <tr>\n",
       "      <th>2</th>\n",
       "      <td>Ikediashi</td>\n",
       "      <td>Sandraikediashi@yahoo.com</td>\n",
       "    </tr>\n",
       "  </tbody>\n",
       "</table>\n",
       "</div>"
      ],
      "text/plain": [
       "   Last_name                        Email\n",
       "0   Uzoefuna     euzoefuna@rocketmail.com\n",
       "1  Ikediashi  Jenniferikediashi@yahoo.com\n",
       "2  Ikediashi    Sandraikediashi@yahoo.com"
      ]
     },
     "execution_count": 37,
     "metadata": {},
     "output_type": "execute_result"
    }
   ],
   "source": [
    "#to access two columns, use double square brackets\n",
    "df_people[['Last_name', 'Email']]"
   ]
  },
  {
   "cell_type": "code",
   "execution_count": 38,
   "id": "597a5c81-5959-46fd-876c-da19b9de31c1",
   "metadata": {},
   "outputs": [
    {
     "data": {
      "text/plain": [
       "Index(['First_name', 'Last_name', 'Email'], dtype='object')"
      ]
     },
     "execution_count": 38,
     "metadata": {},
     "output_type": "execute_result"
    }
   ],
   "source": [
    "#to see all columns, use df_people.columns\n",
    "df_people.columns\n",
    "\n",
    "##to access two columns, use double square brackets\n",
    "df_people[['Last_name', 'Email']]"
   ]
  },
  {
   "cell_type": "code",
   "execution_count": 41,
   "id": "efbba285-625a-4ddb-9497-f5252cc39133",
   "metadata": {},
   "outputs": [
    {
     "data": {
      "text/plain": [
       "First_name                       Edwin\n",
       "Last_name                     Uzoefuna\n",
       "Email         euzoefuna@rocketmail.com\n",
       "Name: 0, dtype: object"
      ]
     },
     "execution_count": 41,
     "metadata": {},
     "output_type": "execute_result"
    }
   ],
   "source": [
    "#to see some rows, use loc/iloc\n",
    "#iloc accesses the rows and columns based on the integar values \n",
    "#loc accesses the rows based on the index value/label name and the column based on the column name\n",
    "#example\n",
    "\n",
    "df_people.iloc[0]"
   ]
  },
  {
   "cell_type": "code",
   "execution_count": 42,
   "id": "7ac529d6-1e2c-49bb-be40-a26a5f53d1db",
   "metadata": {},
   "outputs": [
    {
     "data": {
      "text/html": [
       "<div>\n",
       "<style scoped>\n",
       "    .dataframe tbody tr th:only-of-type {\n",
       "        vertical-align: middle;\n",
       "    }\n",
       "\n",
       "    .dataframe tbody tr th {\n",
       "        vertical-align: top;\n",
       "    }\n",
       "\n",
       "    .dataframe thead th {\n",
       "        text-align: right;\n",
       "    }\n",
       "</style>\n",
       "<table border=\"1\" class=\"dataframe\">\n",
       "  <thead>\n",
       "    <tr style=\"text-align: right;\">\n",
       "      <th></th>\n",
       "      <th>First_name</th>\n",
       "      <th>Last_name</th>\n",
       "      <th>Email</th>\n",
       "    </tr>\n",
       "  </thead>\n",
       "  <tbody>\n",
       "    <tr>\n",
       "      <th>0</th>\n",
       "      <td>Edwin</td>\n",
       "      <td>Uzoefuna</td>\n",
       "      <td>euzoefuna@rocketmail.com</td>\n",
       "    </tr>\n",
       "    <tr>\n",
       "      <th>1</th>\n",
       "      <td>Jennifer</td>\n",
       "      <td>Ikediashi</td>\n",
       "      <td>Jenniferikediashi@yahoo.com</td>\n",
       "    </tr>\n",
       "  </tbody>\n",
       "</table>\n",
       "</div>"
      ],
      "text/plain": [
       "  First_name  Last_name                        Email\n",
       "0      Edwin   Uzoefuna     euzoefuna@rocketmail.com\n",
       "1   Jennifer  Ikediashi  Jenniferikediashi@yahoo.com"
      ]
     },
     "execution_count": 42,
     "metadata": {},
     "output_type": "execute_result"
    }
   ],
   "source": [
    "#to select two rows using iloc, use double square brackets\n",
    "\n",
    "df_people.iloc[[0, 1]]"
   ]
  },
  {
   "cell_type": "code",
   "execution_count": 47,
   "id": "07fae6c9-0c9f-4db9-9277-4e84ff44f359",
   "metadata": {},
   "outputs": [
    {
     "data": {
      "text/html": [
       "<div>\n",
       "<style scoped>\n",
       "    .dataframe tbody tr th:only-of-type {\n",
       "        vertical-align: middle;\n",
       "    }\n",
       "\n",
       "    .dataframe tbody tr th {\n",
       "        vertical-align: top;\n",
       "    }\n",
       "\n",
       "    .dataframe thead th {\n",
       "        text-align: right;\n",
       "    }\n",
       "</style>\n",
       "<table border=\"1\" class=\"dataframe\">\n",
       "  <thead>\n",
       "    <tr style=\"text-align: right;\">\n",
       "      <th></th>\n",
       "      <th>First_name</th>\n",
       "      <th>Email</th>\n",
       "    </tr>\n",
       "  </thead>\n",
       "  <tbody>\n",
       "    <tr>\n",
       "      <th>0</th>\n",
       "      <td>Edwin</td>\n",
       "      <td>euzoefuna@rocketmail.com</td>\n",
       "    </tr>\n",
       "    <tr>\n",
       "      <th>1</th>\n",
       "      <td>Jennifer</td>\n",
       "      <td>Jenniferikediashi@yahoo.com</td>\n",
       "    </tr>\n",
       "  </tbody>\n",
       "</table>\n",
       "</div>"
      ],
      "text/plain": [
       "  First_name                        Email\n",
       "0      Edwin     euzoefuna@rocketmail.com\n",
       "1   Jennifer  Jenniferikediashi@yahoo.com"
      ]
     },
     "execution_count": 47,
     "metadata": {},
     "output_type": "execute_result"
    }
   ],
   "source": [
    "#to select rows and columns of a particular data using iloc\n",
    "df_people.iloc[[0, 1], [0,2]]"
   ]
  },
  {
   "cell_type": "code",
   "execution_count": 56,
   "id": "cbb52025-36b6-402e-9c06-b8e851e0e12a",
   "metadata": {},
   "outputs": [
    {
     "data": {
      "text/plain": [
       "0     euzoefuna@rocketmail.com\n",
       "2    Sandraikediashi@yahoo.com\n",
       "Name: Email, dtype: object"
      ]
     },
     "execution_count": 56,
     "metadata": {},
     "output_type": "execute_result"
    }
   ],
   "source": [
    "#using loc\n",
    "df_people.loc[[0,2], 'Email']"
   ]
  },
  {
   "cell_type": "code",
   "execution_count": 57,
   "id": "cb79e12c-8c76-404d-a94f-dbcf52cc6fdc",
   "metadata": {},
   "outputs": [
    {
     "data": {
      "text/html": [
       "<div>\n",
       "<style scoped>\n",
       "    .dataframe tbody tr th:only-of-type {\n",
       "        vertical-align: middle;\n",
       "    }\n",
       "\n",
       "    .dataframe tbody tr th {\n",
       "        vertical-align: top;\n",
       "    }\n",
       "\n",
       "    .dataframe thead th {\n",
       "        text-align: right;\n",
       "    }\n",
       "</style>\n",
       "<table border=\"1\" class=\"dataframe\">\n",
       "  <thead>\n",
       "    <tr style=\"text-align: right;\">\n",
       "      <th></th>\n",
       "      <th>Email</th>\n",
       "      <th>First_name</th>\n",
       "    </tr>\n",
       "  </thead>\n",
       "  <tbody>\n",
       "    <tr>\n",
       "      <th>0</th>\n",
       "      <td>euzoefuna@rocketmail.com</td>\n",
       "      <td>Edwin</td>\n",
       "    </tr>\n",
       "    <tr>\n",
       "      <th>2</th>\n",
       "      <td>Sandraikediashi@yahoo.com</td>\n",
       "      <td>Sandra</td>\n",
       "    </tr>\n",
       "  </tbody>\n",
       "</table>\n",
       "</div>"
      ],
      "text/plain": [
       "                       Email First_name\n",
       "0   euzoefuna@rocketmail.com      Edwin\n",
       "2  Sandraikediashi@yahoo.com     Sandra"
      ]
     },
     "execution_count": 57,
     "metadata": {},
     "output_type": "execute_result"
    }
   ],
   "source": [
    "df_people.loc[[0,2], ['Email','First_name']]"
   ]
  },
  {
   "cell_type": "code",
   "execution_count": null,
   "id": "5afeb9be-b702-40f2-89cb-26541331d201",
   "metadata": {},
   "outputs": [],
   "source": [
    "#slicing\n",
    "#you can only slice using loc. using index numbers for rows and label/column name for column"
   ]
  },
  {
   "cell_type": "code",
   "execution_count": 70,
   "id": "4b65d477-90a7-485d-93e1-b1fa2636a733",
   "metadata": {},
   "outputs": [
    {
     "data": {
      "text/html": [
       "<div>\n",
       "<style scoped>\n",
       "    .dataframe tbody tr th:only-of-type {\n",
       "        vertical-align: middle;\n",
       "    }\n",
       "\n",
       "    .dataframe tbody tr th {\n",
       "        vertical-align: top;\n",
       "    }\n",
       "\n",
       "    .dataframe thead th {\n",
       "        text-align: right;\n",
       "    }\n",
       "</style>\n",
       "<table border=\"1\" class=\"dataframe\">\n",
       "  <thead>\n",
       "    <tr style=\"text-align: right;\">\n",
       "      <th></th>\n",
       "      <th>First_name</th>\n",
       "      <th>Last_name</th>\n",
       "      <th>Email</th>\n",
       "    </tr>\n",
       "  </thead>\n",
       "  <tbody>\n",
       "    <tr>\n",
       "      <th>0</th>\n",
       "      <td>Edwin</td>\n",
       "      <td>Uzoefuna</td>\n",
       "      <td>euzoefuna@rocketmail.com</td>\n",
       "    </tr>\n",
       "    <tr>\n",
       "      <th>1</th>\n",
       "      <td>Jennifer</td>\n",
       "      <td>Ikediashi</td>\n",
       "      <td>Jenniferikediashi@yahoo.com</td>\n",
       "    </tr>\n",
       "    <tr>\n",
       "      <th>2</th>\n",
       "      <td>Sandra</td>\n",
       "      <td>Ikediashi</td>\n",
       "      <td>Sandraikediashi@yahoo.com</td>\n",
       "    </tr>\n",
       "  </tbody>\n",
       "</table>\n",
       "</div>"
      ],
      "text/plain": [
       "  First_name  Last_name                        Email\n",
       "0      Edwin   Uzoefuna     euzoefuna@rocketmail.com\n",
       "1   Jennifer  Ikediashi  Jenniferikediashi@yahoo.com\n",
       "2     Sandra  Ikediashi    Sandraikediashi@yahoo.com"
      ]
     },
     "execution_count": 70,
     "metadata": {},
     "output_type": "execute_result"
    }
   ],
   "source": [
    "df_people.loc[0:2]"
   ]
  },
  {
   "cell_type": "code",
   "execution_count": 83,
   "id": "f23a6628-401f-483c-8b65-a01340daca80",
   "metadata": {},
   "outputs": [
    {
     "data": {
      "text/html": [
       "<div>\n",
       "<style scoped>\n",
       "    .dataframe tbody tr th:only-of-type {\n",
       "        vertical-align: middle;\n",
       "    }\n",
       "\n",
       "    .dataframe tbody tr th {\n",
       "        vertical-align: top;\n",
       "    }\n",
       "\n",
       "    .dataframe thead th {\n",
       "        text-align: right;\n",
       "    }\n",
       "</style>\n",
       "<table border=\"1\" class=\"dataframe\">\n",
       "  <thead>\n",
       "    <tr style=\"text-align: right;\">\n",
       "      <th></th>\n",
       "      <th>First_name</th>\n",
       "      <th>Last_name</th>\n",
       "    </tr>\n",
       "  </thead>\n",
       "  <tbody>\n",
       "    <tr>\n",
       "      <th>0</th>\n",
       "      <td>Edwin</td>\n",
       "      <td>Uzoefuna</td>\n",
       "    </tr>\n",
       "    <tr>\n",
       "      <th>1</th>\n",
       "      <td>Jennifer</td>\n",
       "      <td>Ikediashi</td>\n",
       "    </tr>\n",
       "    <tr>\n",
       "      <th>2</th>\n",
       "      <td>Sandra</td>\n",
       "      <td>Ikediashi</td>\n",
       "    </tr>\n",
       "  </tbody>\n",
       "</table>\n",
       "</div>"
      ],
      "text/plain": [
       "  First_name  Last_name\n",
       "0      Edwin   Uzoefuna\n",
       "1   Jennifer  Ikediashi\n",
       "2     Sandra  Ikediashi"
      ]
     },
     "execution_count": 83,
     "metadata": {},
     "output_type": "execute_result"
    }
   ],
   "source": [
    "df_people.loc[0:2, 'First_name':'Last_name']"
   ]
  },
  {
   "cell_type": "code",
   "execution_count": 98,
   "id": "15cb2877-6ca8-47f1-81ac-fbf5019cf09c",
   "metadata": {},
   "outputs": [],
   "source": [
    "#how to set, reset and use indices\n",
    "#in this eg, lets set the email address as the index of this dataframe\n",
    "\n",
    "df_people.set_index('Email', inplace=True)"
   ]
  },
  {
   "cell_type": "code",
   "execution_count": 99,
   "id": "47f83b79-f69e-405a-a12a-898e07a30a6a",
   "metadata": {},
   "outputs": [
    {
     "data": {
      "text/html": [
       "<div>\n",
       "<style scoped>\n",
       "    .dataframe tbody tr th:only-of-type {\n",
       "        vertical-align: middle;\n",
       "    }\n",
       "\n",
       "    .dataframe tbody tr th {\n",
       "        vertical-align: top;\n",
       "    }\n",
       "\n",
       "    .dataframe thead th {\n",
       "        text-align: right;\n",
       "    }\n",
       "</style>\n",
       "<table border=\"1\" class=\"dataframe\">\n",
       "  <thead>\n",
       "    <tr style=\"text-align: right;\">\n",
       "      <th></th>\n",
       "      <th>First_name</th>\n",
       "      <th>Last_name</th>\n",
       "    </tr>\n",
       "    <tr>\n",
       "      <th>Email</th>\n",
       "      <th></th>\n",
       "      <th></th>\n",
       "    </tr>\n",
       "  </thead>\n",
       "  <tbody>\n",
       "    <tr>\n",
       "      <th>euzoefuna@rocketmail.com</th>\n",
       "      <td>Edwin</td>\n",
       "      <td>Uzoefuna</td>\n",
       "    </tr>\n",
       "    <tr>\n",
       "      <th>Jenniferikediashi@yahoo.com</th>\n",
       "      <td>Jennifer</td>\n",
       "      <td>Ikediashi</td>\n",
       "    </tr>\n",
       "    <tr>\n",
       "      <th>Sandraikediashi@yahoo.com</th>\n",
       "      <td>Sandra</td>\n",
       "      <td>Ikediashi</td>\n",
       "    </tr>\n",
       "  </tbody>\n",
       "</table>\n",
       "</div>"
      ],
      "text/plain": [
       "                            First_name  Last_name\n",
       "Email                                            \n",
       "euzoefuna@rocketmail.com         Edwin   Uzoefuna\n",
       "Jenniferikediashi@yahoo.com   Jennifer  Ikediashi\n",
       "Sandraikediashi@yahoo.com       Sandra  Ikediashi"
      ]
     },
     "execution_count": 99,
     "metadata": {},
     "output_type": "execute_result"
    }
   ],
   "source": [
    "df_people"
   ]
  },
  {
   "cell_type": "code",
   "execution_count": 100,
   "id": "1d333648-bcda-4af7-af25-a6efa4b14040",
   "metadata": {},
   "outputs": [
    {
     "data": {
      "text/plain": [
       "First_name     Jennifer\n",
       "Last_name     Ikediashi\n",
       "Name: Jenniferikediashi@yahoo.com, dtype: object"
      ]
     },
     "execution_count": 100,
     "metadata": {},
     "output_type": "execute_result"
    }
   ],
   "source": [
    "#access a row now using loc\n",
    "\n",
    "df_people.loc['Jenniferikediashi@yahoo.com']"
   ]
  },
  {
   "cell_type": "code",
   "execution_count": 101,
   "id": "fdd2c8d8-f6f6-4134-83ea-4f697ee4dc9f",
   "metadata": {},
   "outputs": [
    {
     "data": {
      "text/plain": [
       "'Jennifer'"
      ]
     },
     "execution_count": 101,
     "metadata": {},
     "output_type": "execute_result"
    }
   ],
   "source": [
    "#access a row and a column now using loc\n",
    "\n",
    "df_people.loc['Jenniferikediashi@yahoo.com', 'First_name']"
   ]
  },
  {
   "cell_type": "code",
   "execution_count": 87,
   "id": "47c4227a-c171-4801-9667-1652e96def61",
   "metadata": {},
   "outputs": [],
   "source": [
    "#reset the index to default by using reset_index() function\n",
    "\n",
    "df_people.reset_index(inplace=True)"
   ]
  },
  {
   "cell_type": "code",
   "execution_count": 88,
   "id": "e3d60ea8-3ab6-4db9-9d6e-25149d0321a4",
   "metadata": {},
   "outputs": [
    {
     "data": {
      "text/html": [
       "<div>\n",
       "<style scoped>\n",
       "    .dataframe tbody tr th:only-of-type {\n",
       "        vertical-align: middle;\n",
       "    }\n",
       "\n",
       "    .dataframe tbody tr th {\n",
       "        vertical-align: top;\n",
       "    }\n",
       "\n",
       "    .dataframe thead th {\n",
       "        text-align: right;\n",
       "    }\n",
       "</style>\n",
       "<table border=\"1\" class=\"dataframe\">\n",
       "  <thead>\n",
       "    <tr style=\"text-align: right;\">\n",
       "      <th></th>\n",
       "      <th>Email</th>\n",
       "      <th>First_name</th>\n",
       "      <th>Last_name</th>\n",
       "    </tr>\n",
       "  </thead>\n",
       "  <tbody>\n",
       "    <tr>\n",
       "      <th>0</th>\n",
       "      <td>euzoefuna@rocketmail.com</td>\n",
       "      <td>Edwin</td>\n",
       "      <td>Uzoefuna</td>\n",
       "    </tr>\n",
       "    <tr>\n",
       "      <th>1</th>\n",
       "      <td>Jenniferikediashi@yahoo.com</td>\n",
       "      <td>Jennifer</td>\n",
       "      <td>Ikediashi</td>\n",
       "    </tr>\n",
       "    <tr>\n",
       "      <th>2</th>\n",
       "      <td>Sandraikediashi@yahoo.com</td>\n",
       "      <td>Sandra</td>\n",
       "      <td>Ikediashi</td>\n",
       "    </tr>\n",
       "  </tbody>\n",
       "</table>\n",
       "</div>"
      ],
      "text/plain": [
       "                         Email First_name  Last_name\n",
       "0     euzoefuna@rocketmail.com      Edwin   Uzoefuna\n",
       "1  Jenniferikediashi@yahoo.com   Jennifer  Ikediashi\n",
       "2    Sandraikediashi@yahoo.com     Sandra  Ikediashi"
      ]
     },
     "execution_count": 88,
     "metadata": {},
     "output_type": "execute_result"
    }
   ],
   "source": [
    "df_people"
   ]
  },
  {
   "cell_type": "code",
   "execution_count": null,
   "id": "eea5d745-abed-45ce-99cf-4ab524a79fb3",
   "metadata": {},
   "outputs": [],
   "source": [
    "#set the index to a particular column while reading the csv dataset\n",
    "df=pd.read_csv('C:/Users/euzoe/OneDrive/Desktop/DATA ANALYSIS/MY_PROJECTS/survey_results_public.csv', index_col='ResponseId')"
   ]
  },
  {
   "cell_type": "code",
   "execution_count": null,
   "id": "42d46dc0-a1cd-4d63-b3dd-c1e39b78bfdb",
   "metadata": {},
   "outputs": [],
   "source": []
  },
  {
   "cell_type": "code",
   "execution_count": 102,
   "id": "8d0dcede-4740-470e-8909-44ce85dc855f",
   "metadata": {},
   "outputs": [
    {
     "data": {
      "text/plain": [
       "Email\n",
       "euzoefuna@rocketmail.com       False\n",
       "Jenniferikediashi@yahoo.com     True\n",
       "Sandraikediashi@yahoo.com       True\n",
       "Name: Last_name, dtype: bool"
      ]
     },
     "execution_count": 102,
     "metadata": {},
     "output_type": "execute_result"
    }
   ],
   "source": [
    "#Filtering - Using Conditionals to Filter Rows and Columns\n",
    "\n",
    "#filter out last names = ikediashi\n",
    "df_people ['Last_name']=='Ikediashi'"
   ]
  },
  {
   "cell_type": "code",
   "execution_count": 115,
   "id": "5ef1c8e1-09d2-400f-b03e-8f0f9d9166aa",
   "metadata": {},
   "outputs": [],
   "source": [
    "filt=df_people ['Last_name']=='Ikediashi'"
   ]
  },
  {
   "cell_type": "code",
   "execution_count": 116,
   "id": "927f3728-aeec-4b86-ac7b-1a80af37c5cd",
   "metadata": {},
   "outputs": [
    {
     "data": {
      "text/html": [
       "<div>\n",
       "<style scoped>\n",
       "    .dataframe tbody tr th:only-of-type {\n",
       "        vertical-align: middle;\n",
       "    }\n",
       "\n",
       "    .dataframe tbody tr th {\n",
       "        vertical-align: top;\n",
       "    }\n",
       "\n",
       "    .dataframe thead th {\n",
       "        text-align: right;\n",
       "    }\n",
       "</style>\n",
       "<table border=\"1\" class=\"dataframe\">\n",
       "  <thead>\n",
       "    <tr style=\"text-align: right;\">\n",
       "      <th></th>\n",
       "      <th>First_name</th>\n",
       "      <th>Last_name</th>\n",
       "    </tr>\n",
       "    <tr>\n",
       "      <th>Email</th>\n",
       "      <th></th>\n",
       "      <th></th>\n",
       "    </tr>\n",
       "  </thead>\n",
       "  <tbody>\n",
       "    <tr>\n",
       "      <th>Jenniferikediashi@yahoo.com</th>\n",
       "      <td>Jennifer</td>\n",
       "      <td>Ikediashi</td>\n",
       "    </tr>\n",
       "    <tr>\n",
       "      <th>Sandraikediashi@yahoo.com</th>\n",
       "      <td>Sandra</td>\n",
       "      <td>Ikediashi</td>\n",
       "    </tr>\n",
       "  </tbody>\n",
       "</table>\n",
       "</div>"
      ],
      "text/plain": [
       "                            First_name  Last_name\n",
       "Email                                            \n",
       "Jenniferikediashi@yahoo.com   Jennifer  Ikediashi\n",
       "Sandraikediashi@yahoo.com       Sandra  Ikediashi"
      ]
     },
     "execution_count": 116,
     "metadata": {},
     "output_type": "execute_result"
    }
   ],
   "source": [
    "df_people[filt]"
   ]
  },
  {
   "cell_type": "code",
   "execution_count": 110,
   "id": "07fcf277-fbb5-4fb6-b4d3-e70f04b1400d",
   "metadata": {},
   "outputs": [
    {
     "data": {
      "text/html": [
       "<div>\n",
       "<style scoped>\n",
       "    .dataframe tbody tr th:only-of-type {\n",
       "        vertical-align: middle;\n",
       "    }\n",
       "\n",
       "    .dataframe tbody tr th {\n",
       "        vertical-align: top;\n",
       "    }\n",
       "\n",
       "    .dataframe thead th {\n",
       "        text-align: right;\n",
       "    }\n",
       "</style>\n",
       "<table border=\"1\" class=\"dataframe\">\n",
       "  <thead>\n",
       "    <tr style=\"text-align: right;\">\n",
       "      <th></th>\n",
       "      <th>First_name</th>\n",
       "      <th>Last_name</th>\n",
       "    </tr>\n",
       "    <tr>\n",
       "      <th>Email</th>\n",
       "      <th></th>\n",
       "      <th></th>\n",
       "    </tr>\n",
       "  </thead>\n",
       "  <tbody>\n",
       "    <tr>\n",
       "      <th>Jenniferikediashi@yahoo.com</th>\n",
       "      <td>Jennifer</td>\n",
       "      <td>Ikediashi</td>\n",
       "    </tr>\n",
       "    <tr>\n",
       "      <th>Sandraikediashi@yahoo.com</th>\n",
       "      <td>Sandra</td>\n",
       "      <td>Ikediashi</td>\n",
       "    </tr>\n",
       "  </tbody>\n",
       "</table>\n",
       "</div>"
      ],
      "text/plain": [
       "                            First_name  Last_name\n",
       "Email                                            \n",
       "Jenniferikediashi@yahoo.com   Jennifer  Ikediashi\n",
       "Sandraikediashi@yahoo.com       Sandra  Ikediashi"
      ]
     },
     "execution_count": 110,
     "metadata": {},
     "output_type": "execute_result"
    }
   ],
   "source": [
    "#or\n",
    "\n",
    "df_people[df_people['Last_name']=='Ikediashi']"
   ]
  },
  {
   "cell_type": "code",
   "execution_count": 120,
   "id": "856ae1a6-cd44-4f37-995e-21321eb8630d",
   "metadata": {},
   "outputs": [
    {
     "data": {
      "text/plain": [
       "Email\n",
       "Jenniferikediashi@yahoo.com    Jennifer\n",
       "Sandraikediashi@yahoo.com        Sandra\n",
       "Name: First_name, dtype: object"
      ]
     },
     "execution_count": 120,
     "metadata": {},
     "output_type": "execute_result"
    }
   ],
   "source": [
    "#or\n",
    "\n",
    "df_people.loc[filt]\n",
    "\n",
    "#using loc is prefered because you can still filter further. for eg, i'd like to filter only the first names of those with the last name selected\n",
    "\n",
    "df_people.loc[filt, 'First_name']"
   ]
  },
  {
   "cell_type": "code",
   "execution_count": null,
   "id": "ef004959-7285-4882-9f00-7e0b5adf4909",
   "metadata": {},
   "outputs": [],
   "source": []
  },
  {
   "cell_type": "code",
   "execution_count": 124,
   "id": "19c06dfe-51bc-4bf1-8e14-b8bf1738306a",
   "metadata": {},
   "outputs": [],
   "source": [
    "# & and &or (|) operators to filter\n",
    "\n",
    "# & operator\n",
    "\n",
    "filt2=(df_people['Last_name']=='Ikediashi') & (df_people['First_name']=='Jennifer')"
   ]
  },
  {
   "cell_type": "code",
   "execution_count": 125,
   "id": "e33fed4a-24a7-4b92-838a-505badea84e8",
   "metadata": {},
   "outputs": [
    {
     "data": {
      "text/html": [
       "<div>\n",
       "<style scoped>\n",
       "    .dataframe tbody tr th:only-of-type {\n",
       "        vertical-align: middle;\n",
       "    }\n",
       "\n",
       "    .dataframe tbody tr th {\n",
       "        vertical-align: top;\n",
       "    }\n",
       "\n",
       "    .dataframe thead th {\n",
       "        text-align: right;\n",
       "    }\n",
       "</style>\n",
       "<table border=\"1\" class=\"dataframe\">\n",
       "  <thead>\n",
       "    <tr style=\"text-align: right;\">\n",
       "      <th></th>\n",
       "      <th>First_name</th>\n",
       "      <th>Last_name</th>\n",
       "    </tr>\n",
       "    <tr>\n",
       "      <th>Email</th>\n",
       "      <th></th>\n",
       "      <th></th>\n",
       "    </tr>\n",
       "  </thead>\n",
       "  <tbody>\n",
       "    <tr>\n",
       "      <th>Jenniferikediashi@yahoo.com</th>\n",
       "      <td>Jennifer</td>\n",
       "      <td>Ikediashi</td>\n",
       "    </tr>\n",
       "  </tbody>\n",
       "</table>\n",
       "</div>"
      ],
      "text/plain": [
       "                            First_name  Last_name\n",
       "Email                                            \n",
       "Jenniferikediashi@yahoo.com   Jennifer  Ikediashi"
      ]
     },
     "execution_count": 125,
     "metadata": {},
     "output_type": "execute_result"
    }
   ],
   "source": [
    "df_people.loc[filt2]"
   ]
  },
  {
   "cell_type": "code",
   "execution_count": 126,
   "id": "30f5b4e6-e9e8-4a66-bc7c-d5fe277b6193",
   "metadata": {},
   "outputs": [],
   "source": [
    "# (|) or operator\n",
    "\n",
    "filt3=(df_people['Last_name']=='Ikediashi') | (df_people['First_name']=='Jennifer')"
   ]
  },
  {
   "cell_type": "code",
   "execution_count": 127,
   "id": "8243abde-bdeb-479f-b589-ceb1f7fe0e09",
   "metadata": {},
   "outputs": [
    {
     "data": {
      "text/html": [
       "<div>\n",
       "<style scoped>\n",
       "    .dataframe tbody tr th:only-of-type {\n",
       "        vertical-align: middle;\n",
       "    }\n",
       "\n",
       "    .dataframe tbody tr th {\n",
       "        vertical-align: top;\n",
       "    }\n",
       "\n",
       "    .dataframe thead th {\n",
       "        text-align: right;\n",
       "    }\n",
       "</style>\n",
       "<table border=\"1\" class=\"dataframe\">\n",
       "  <thead>\n",
       "    <tr style=\"text-align: right;\">\n",
       "      <th></th>\n",
       "      <th>First_name</th>\n",
       "      <th>Last_name</th>\n",
       "    </tr>\n",
       "    <tr>\n",
       "      <th>Email</th>\n",
       "      <th></th>\n",
       "      <th></th>\n",
       "    </tr>\n",
       "  </thead>\n",
       "  <tbody>\n",
       "    <tr>\n",
       "      <th>Jenniferikediashi@yahoo.com</th>\n",
       "      <td>Jennifer</td>\n",
       "      <td>Ikediashi</td>\n",
       "    </tr>\n",
       "    <tr>\n",
       "      <th>Sandraikediashi@yahoo.com</th>\n",
       "      <td>Sandra</td>\n",
       "      <td>Ikediashi</td>\n",
       "    </tr>\n",
       "  </tbody>\n",
       "</table>\n",
       "</div>"
      ],
      "text/plain": [
       "                            First_name  Last_name\n",
       "Email                                            \n",
       "Jenniferikediashi@yahoo.com   Jennifer  Ikediashi\n",
       "Sandraikediashi@yahoo.com       Sandra  Ikediashi"
      ]
     },
     "execution_count": 127,
     "metadata": {},
     "output_type": "execute_result"
    }
   ],
   "source": [
    "df_people.loc[filt3]"
   ]
  },
  {
   "cell_type": "code",
   "execution_count": 128,
   "id": "12c6445e-57cc-4293-b3ff-6f812e1a80be",
   "metadata": {},
   "outputs": [
    {
     "data": {
      "text/html": [
       "<div>\n",
       "<style scoped>\n",
       "    .dataframe tbody tr th:only-of-type {\n",
       "        vertical-align: middle;\n",
       "    }\n",
       "\n",
       "    .dataframe tbody tr th {\n",
       "        vertical-align: top;\n",
       "    }\n",
       "\n",
       "    .dataframe thead th {\n",
       "        text-align: right;\n",
       "    }\n",
       "</style>\n",
       "<table border=\"1\" class=\"dataframe\">\n",
       "  <thead>\n",
       "    <tr style=\"text-align: right;\">\n",
       "      <th></th>\n",
       "      <th>First_name</th>\n",
       "      <th>Last_name</th>\n",
       "    </tr>\n",
       "    <tr>\n",
       "      <th>Email</th>\n",
       "      <th></th>\n",
       "      <th></th>\n",
       "    </tr>\n",
       "  </thead>\n",
       "  <tbody>\n",
       "    <tr>\n",
       "      <th>euzoefuna@rocketmail.com</th>\n",
       "      <td>Edwin</td>\n",
       "      <td>Uzoefuna</td>\n",
       "    </tr>\n",
       "  </tbody>\n",
       "</table>\n",
       "</div>"
      ],
      "text/plain": [
       "                         First_name Last_name\n",
       "Email                                        \n",
       "euzoefuna@rocketmail.com      Edwin  Uzoefuna"
      ]
     },
     "execution_count": 128,
     "metadata": {},
     "output_type": "execute_result"
    }
   ],
   "source": [
    "# using ~ will give other datas not specified in the filter condition above\n",
    "\n",
    "df_people.loc[~filt3]"
   ]
  },
  {
   "cell_type": "code",
   "execution_count": 133,
   "id": "6f2b63af-52de-4006-9c52-c783aef3cec8",
   "metadata": {},
   "outputs": [],
   "source": [
    "#Updating Rows and Columns - Modifying Data Within DataFrames\n",
    "\n",
    "#lets rename all the columns\n",
    "df_people.columns=['specify all the columns new names']"
   ]
  },
  {
   "cell_type": "code",
   "execution_count": null,
   "id": "47c99a5a-b598-4ac9-93c1-c8a68439f284",
   "metadata": {},
   "outputs": [],
   "source": [
    "#change all column names to UPPER CASE\n",
    "#using a list comprehension\n",
    "\n",
    "df_people.columns[x.upper() for x in df_people.columns]"
   ]
  },
  {
   "cell_type": "code",
   "execution_count": 147,
   "id": "3ca35497-6532-4a72-9366-85790f67a80f",
   "metadata": {},
   "outputs": [],
   "source": [
    "#to replace a space or _ in columns\n",
    "\n",
    "df_people.columns=df_people.columns.str.replace('_', ' ')"
   ]
  },
  {
   "cell_type": "code",
   "execution_count": 148,
   "id": "e24434de-a78c-446d-a4ef-d6560099eaaa",
   "metadata": {},
   "outputs": [
    {
     "data": {
      "text/html": [
       "<div>\n",
       "<style scoped>\n",
       "    .dataframe tbody tr th:only-of-type {\n",
       "        vertical-align: middle;\n",
       "    }\n",
       "\n",
       "    .dataframe tbody tr th {\n",
       "        vertical-align: top;\n",
       "    }\n",
       "\n",
       "    .dataframe thead th {\n",
       "        text-align: right;\n",
       "    }\n",
       "</style>\n",
       "<table border=\"1\" class=\"dataframe\">\n",
       "  <thead>\n",
       "    <tr style=\"text-align: right;\">\n",
       "      <th></th>\n",
       "      <th>First name</th>\n",
       "      <th>Last name</th>\n",
       "      <th>Email</th>\n",
       "    </tr>\n",
       "  </thead>\n",
       "  <tbody>\n",
       "    <tr>\n",
       "      <th>0</th>\n",
       "      <td>Edwin</td>\n",
       "      <td>Uzoefuna</td>\n",
       "      <td>euzoefuna@rocketmail.com</td>\n",
       "    </tr>\n",
       "    <tr>\n",
       "      <th>1</th>\n",
       "      <td>Jennifer</td>\n",
       "      <td>Ikediashi</td>\n",
       "      <td>Jenniferikediashi@yahoo.com</td>\n",
       "    </tr>\n",
       "    <tr>\n",
       "      <th>2</th>\n",
       "      <td>Sandra</td>\n",
       "      <td>Ikediashi</td>\n",
       "      <td>Sandraikediashi@yahoo.com</td>\n",
       "    </tr>\n",
       "  </tbody>\n",
       "</table>\n",
       "</div>"
      ],
      "text/plain": [
       "  First name  Last name                        Email\n",
       "0      Edwin   Uzoefuna     euzoefuna@rocketmail.com\n",
       "1   Jennifer  Ikediashi  Jenniferikediashi@yahoo.com\n",
       "2     Sandra  Ikediashi    Sandraikediashi@yahoo.com"
      ]
     },
     "execution_count": 148,
     "metadata": {},
     "output_type": "execute_result"
    }
   ],
   "source": [
    "df_people"
   ]
  },
  {
   "cell_type": "code",
   "execution_count": 149,
   "id": "c368c0b6-16f6-4e61-b0fc-0386f17302d1",
   "metadata": {},
   "outputs": [],
   "source": [
    "df_people.columns=df_people.columns.str.replace(' ', '_')"
   ]
  },
  {
   "cell_type": "code",
   "execution_count": 150,
   "id": "5c704063-0d12-434a-94d1-6f470cd76faf",
   "metadata": {},
   "outputs": [
    {
     "data": {
      "text/html": [
       "<div>\n",
       "<style scoped>\n",
       "    .dataframe tbody tr th:only-of-type {\n",
       "        vertical-align: middle;\n",
       "    }\n",
       "\n",
       "    .dataframe tbody tr th {\n",
       "        vertical-align: top;\n",
       "    }\n",
       "\n",
       "    .dataframe thead th {\n",
       "        text-align: right;\n",
       "    }\n",
       "</style>\n",
       "<table border=\"1\" class=\"dataframe\">\n",
       "  <thead>\n",
       "    <tr style=\"text-align: right;\">\n",
       "      <th></th>\n",
       "      <th>First_name</th>\n",
       "      <th>Last_name</th>\n",
       "      <th>Email</th>\n",
       "    </tr>\n",
       "  </thead>\n",
       "  <tbody>\n",
       "    <tr>\n",
       "      <th>0</th>\n",
       "      <td>Edwin</td>\n",
       "      <td>Uzoefuna</td>\n",
       "      <td>euzoefuna@rocketmail.com</td>\n",
       "    </tr>\n",
       "    <tr>\n",
       "      <th>1</th>\n",
       "      <td>Jennifer</td>\n",
       "      <td>Ikediashi</td>\n",
       "      <td>Jenniferikediashi@yahoo.com</td>\n",
       "    </tr>\n",
       "    <tr>\n",
       "      <th>2</th>\n",
       "      <td>Sandra</td>\n",
       "      <td>Ikediashi</td>\n",
       "      <td>Sandraikediashi@yahoo.com</td>\n",
       "    </tr>\n",
       "  </tbody>\n",
       "</table>\n",
       "</div>"
      ],
      "text/plain": [
       "  First_name  Last_name                        Email\n",
       "0      Edwin   Uzoefuna     euzoefuna@rocketmail.com\n",
       "1   Jennifer  Ikediashi  Jenniferikediashi@yahoo.com\n",
       "2     Sandra  Ikediashi    Sandraikediashi@yahoo.com"
      ]
     },
     "execution_count": 150,
     "metadata": {},
     "output_type": "execute_result"
    }
   ],
   "source": [
    "df_people"
   ]
  },
  {
   "cell_type": "code",
   "execution_count": null,
   "id": "9368d9f3-0471-4133-b14b-2d0e8dc2932a",
   "metadata": {},
   "outputs": [],
   "source": [
    "#plotting \n",
    "\n",
    "plotdata.reset_index().plot(\n",
    "    x=\"column\", y=[\"column 1\", \"column 2\"], kind=\"bar\")\n",
    "plt.title(\"Mince Pie Consumption 18/19\")\n",
    "plt.xlabel(\"Family Member\")\n",
    "plt.ylabel(\"Pies Consumed\")\n"
   ]
  },
  {
   "cell_type": "code",
   "execution_count": null,
   "id": "0b144aee-1f39-45c3-a794-f98a9ad5dde5",
   "metadata": {},
   "outputs": [],
   "source": [
    "px.bar(data_frame = rela, x = 'Year_Construction', y = 'Rent')"
   ]
  },
  {
   "cell_type": "code",
   "execution_count": null,
   "id": "acc73de3-7405-4353-886c-d5e650cba444",
   "metadata": {},
   "outputs": [],
   "source": [
    "#Relationship between two columns\n",
    "\n",
    "import seaborn as sns\n",
    "\n",
    "sns.regplot(x=rela[\"column 1\"], y=rela[\"column 2\"])"
   ]
  },
  {
   "cell_type": "code",
   "execution_count": 2,
   "id": "4ab9b373-32d2-4c42-abda-071edcffe325",
   "metadata": {},
   "outputs": [
    {
     "data": {
      "text/plain": [
       "('test.csv', <http.client.HTTPMessage at 0x1e35362aa90>)"
      ]
     },
     "execution_count": 2,
     "metadata": {},
     "output_type": "execute_result"
    }
   ],
   "source": [
    "#isin() function\n",
    "\n",
    "df=df.loc[df.Months.isin(['January', 'February', 'March', 'April', 'May', 'June', 'July','August', 'September', 'October', 'November', 'December'])]\n",
    "df"
   ]
  },
  {
   "cell_type": "markdown",
   "id": "4203cbe7-3547-4d46-8cf7-2a88d6bbbb1d",
   "metadata": {},
   "source": [
    "# How to Calculate Correlation in Python\n",
    "-To calculate the correlation between two variables in Python, we can use the Numpy corrcoef() function.\n"
   ]
  },
  {
   "cell_type": "code",
   "execution_count": 18,
   "id": "5084dadd-b7c2-4c9d-be30-e34d7b32c1f0",
   "metadata": {},
   "outputs": [],
   "source": [
    "import numpy as np\n",
    "\n",
    "np.random.seed(100)"
   ]
  },
  {
   "cell_type": "code",
   "execution_count": 20,
   "id": "1bad220f-dd0f-46cb-9314-e53b7da7f88c",
   "metadata": {},
   "outputs": [],
   "source": [
    "#calculate the correlation between two arrays\n",
    "np.corrcoef(var1, var 2)"
   ]
  },
  {
   "cell_type": "markdown",
   "id": "fadd4f43-7696-4eac-94e4-2d3199ca6acd",
   "metadata": {},
   "source": [
    "# To save a url file as a csv"
   ]
  },
  {
   "cell_type": "code",
   "execution_count": null,
   "id": "42f532ca-ab4b-415f-ad13-c51b2c4beba5",
   "metadata": {},
   "outputs": [],
   "source": [
    "df.to_csv('~/Desktop/new file name.csv')\n",
    "\n",
    "# or\n",
    "\n",
    "df.to_csv('C:/Users/euzoe/OneDrive/Desktop/DATA ANALYSIS/nrw-data-analytics/name1.csv')"
   ]
  },
  {
   "cell_type": "markdown",
   "id": "dab785fb-7d9d-4e80-8753-52c9a37c14fe",
   "metadata": {},
   "source": [
    "# Pie chart"
   ]
  },
  {
   "cell_type": "code",
   "execution_count": null,
   "id": "3051fc3f-aa8d-499b-9739-5d2ad6f8159c",
   "metadata": {},
   "outputs": [],
   "source": [
    "df.plot(kind='pie', y='Percentage', autopct='%1.1f%%', shadow=True,\n",
    "                                title='Percentage of the apartments in high quality condition', legend=False)"
   ]
  },
  {
   "cell_type": "markdown",
   "id": "eeafdf9a-91ea-4377-a9ab-ea258fc29f88",
   "metadata": {},
   "source": [
    "# Plotting a Correlation matrix"
   ]
  },
  {
   "cell_type": "code",
   "execution_count": null,
   "id": "b065d8cb-6a42-4989-a75c-e60e1a566cf7",
   "metadata": {},
   "outputs": [],
   "source": [
    "import seaborn as sns\n",
    "import matplotlib.pyplot as plt\n",
    "hm = sns.heatmap(df.corr(), annot = True)\n",
    "hm.set(xlabel='Price', ylabel='Kms', title = \"Correlation matrix of IRIS data\\n\")\n",
    "plt.show()"
   ]
  },
  {
   "cell_type": "markdown",
   "id": "008397a8-7132-4398-82c0-7cc32566b475",
   "metadata": {},
   "source": [
    "# Pandas Filtering\n",
    "# There are several ways to filter data from a dataframe in Pandas."
   ]
  },
  {
   "cell_type": "markdown",
   "id": "78fc2f28-c161-4235-a479-ad7bc7d48a2e",
   "metadata": {},
   "source": [
    "# 1. Boolean / Dataframe\n"
   ]
  },
  {
   "cell_type": "code",
   "execution_count": null,
   "id": "c3cdf4d3-1b95-4808-93ef-e4d1f75d0c1b",
   "metadata": {},
   "outputs": [],
   "source": [
    "df[df['Year'] >= 2016]"
   ]
  },
  {
   "cell_type": "code",
   "execution_count": null,
   "id": "78c1c373-5976-4df7-ac6f-9a9a3ff1de60",
   "metadata": {},
   "outputs": [],
   "source": [
    "df[df.Year >= 2016]"
   ]
  },
  {
   "cell_type": "code",
   "execution_count": null,
   "id": "68c5cb11-3396-4730-9d8a-cfe825286e32",
   "metadata": {},
   "outputs": [],
   "source": [
    "df[(df['Make'] == 'Ford') & (df['Year'] >= 2016)]"
   ]
  },
  {
   "cell_type": "markdown",
   "id": "78d21cd1-d261-4890-b4e4-5527dec093d5",
   "metadata": {},
   "source": [
    "# 2. query()"
   ]
  },
  {
   "cell_type": "code",
   "execution_count": null,
   "id": "dc23a630-ad2a-4a83-8179-e6f803c34712",
   "metadata": {},
   "outputs": [],
   "source": [
    "df.query('Make == \"Ford\"')"
   ]
  },
  {
   "cell_type": "code",
   "execution_count": null,
   "id": "8832c5c3-ea61-4fbd-9cf6-cf5af80bab8b",
   "metadata": {},
   "outputs": [],
   "source": [
    "df.query('Make == \"Ford\"& Year >=2016')"
   ]
  },
  {
   "cell_type": "markdown",
   "id": "e0951eb0-d0fa-48e1-868a-a50190696f06",
   "metadata": {},
   "source": [
    "# 3. loc[]"
   ]
  },
  {
   "cell_type": "code",
   "execution_count": null,
   "id": "a33eb6ac-b815-4e05-9e23-0a17574c7454",
   "metadata": {},
   "outputs": [],
   "source": [
    "df.loc[df['Year'] >= 2016]"
   ]
  },
  {
   "cell_type": "code",
   "execution_count": null,
   "id": "304ff8fe-2f64-4dc5-81b9-ea4cb8520dbd",
   "metadata": {},
   "outputs": [],
   "source": [
    "df.loc[(df['Make'] == 'Ford')&(df['Year'] >=2016)]"
   ]
  },
  {
   "cell_type": "markdown",
   "id": "5452ab22-d69a-4338-ad6f-aa4734fa4038",
   "metadata": {},
   "source": [
    "# groupby()"
   ]
  },
  {
   "cell_type": "code",
   "execution_count": null,
   "id": "cce88b0c-25cd-4237-b7dd-d8d9044110c5",
   "metadata": {},
   "outputs": [],
   "source": [
    "df.groupby('Make')[['Price']].mean()\n",
    "df.groupby('Make')[['Price']].mean().round(1).sort_values('Price', ascending= False)"
   ]
  },
  {
   "cell_type": "code",
   "execution_count": null,
   "id": "4921e19f-b298-4540-a83e-2fb35a2d1895",
   "metadata": {},
   "outputs": [],
   "source": [
    "# We can also add another column to the groups. For example, what is the average kms by each make?\n",
    "\n",
    "df.groupby('Make')[['Price','Kms']].mean().round(1)"
   ]
  },
  {
   "cell_type": "code",
   "execution_count": null,
   "id": "6f890b56-1dd1-4833-ad76-de50b2c5c790",
   "metadata": {},
   "outputs": [],
   "source": [
    "cars.groupby('Make')[['Model']].nunique()"
   ]
  },
  {
   "cell_type": "markdown",
   "id": "a1934956-86a9-4105-b166-abe70a8bf0f7",
   "metadata": {},
   "source": [
    "# Python get today's date"
   ]
  },
  {
   "cell_type": "code",
   "execution_count": 2,
   "id": "4b4d16d4-beda-4661-8bca-b7dda201df18",
   "metadata": {},
   "outputs": [
    {
     "name": "stdout",
     "output_type": "stream",
     "text": [
      "Today's date: 2022-04-01\n"
     ]
    }
   ],
   "source": [
    "from datetime import date\n",
    "\n",
    "today = date.today()\n",
    "print(\"Today's date:\", today)"
   ]
  },
  {
   "cell_type": "markdown",
   "id": "b6c8093e-f538-4d83-ba0a-979dc6354a33",
   "metadata": {},
   "source": [
    "# Current date in different formats"
   ]
  },
  {
   "cell_type": "markdown",
   "id": "0846b31b-8101-4c7c-9977-9e093d78ca99",
   "metadata": {},
   "source": [
    "Now, you can use the strftime() method to create a string representing date in different formats."
   ]
  },
  {
   "cell_type": "code",
   "execution_count": 1,
   "id": "7aa63fc1-2c6c-4ff7-9a61-eed09b8cd44c",
   "metadata": {},
   "outputs": [
    {
     "name": "stdout",
     "output_type": "stream",
     "text": [
      "d1 = 01/04/2022\n",
      "d2 = April 01, 2022\n",
      "d3 = 04/01/22\n",
      "d4 = Apr-01-2022\n"
     ]
    }
   ],
   "source": [
    "from datetime import date\n",
    "\n",
    "today = date.today()\n",
    "\n",
    "# dd/mm/YY\n",
    "d1 = today.strftime(\"%d/%m/%Y\")\n",
    "print(\"d1 =\", d1)\n",
    "\n",
    "# Textual month, day and year\t\n",
    "d2 = today.strftime(\"%B %d, %Y\")\n",
    "print(\"d2 =\", d2)\n",
    "\n",
    "# mm/dd/y\n",
    "d3 = today.strftime(\"%m/%d/%y\")\n",
    "print(\"d3 =\", d3)\n",
    "\n",
    "# Month abbreviation, day and year\t\n",
    "d4 = today.strftime(\"%b-%d-%Y\")\n",
    "print(\"d4 =\", d4)"
   ]
  },
  {
   "cell_type": "markdown",
   "id": "4a32fbac-13cd-4af8-bf31-25b620468af6",
   "metadata": {},
   "source": [
    "# Get the current date and time"
   ]
  },
  {
   "cell_type": "code",
   "execution_count": 3,
   "id": "40a31f50-44c1-4402-b226-b3003dd2e8a9",
   "metadata": {},
   "outputs": [
    {
     "name": "stdout",
     "output_type": "stream",
     "text": [
      "now = 2022-04-01 19:55:18.812203\n",
      "date and time = 01/04/2022 19:55:18\n"
     ]
    }
   ],
   "source": [
    "from datetime import datetime\n",
    "\n",
    "# datetime object containing current date and time\n",
    "now = datetime.now()\n",
    " \n",
    "print(\"now =\", now)\n",
    "\n",
    "# dd/mm/YY H:M:S\n",
    "dt_string = now.strftime(\"%d/%m/%Y %H:%M:%S\")\n",
    "print(\"date and time =\", dt_string)\t"
   ]
  },
  {
   "cell_type": "markdown",
   "id": "634c31b1-13ec-4ff1-a7ef-cf630588e364",
   "metadata": {},
   "source": [
    "# Generate a random date added to pandas DataFrame"
   ]
  },
  {
   "cell_type": "code",
   "execution_count": null,
   "id": "162fc556-b026-4790-9651-22da0dc3ec05",
   "metadata": {},
   "outputs": [],
   "source": [
    "import numpy as np\n",
    "import pandas as pd\n",
    "\n",
    "df[\"Fake_date\"] = np.random.choice(pd.date_range('1980-01-01', '2000-01-01'), len(df))"
   ]
  },
  {
   "cell_type": "markdown",
   "id": "500a6b38-2de4-431a-a35b-ccda3005a988",
   "metadata": {},
   "source": [
    "Fill NaT with todays date"
   ]
  },
  {
   "cell_type": "code",
   "execution_count": null,
   "id": "03ae0ce5-3760-4288-b0b6-e5d418e0d288",
   "metadata": {},
   "outputs": [],
   "source": [
    "fill = df.select_dtypes(include=['datetime'])\n",
    "df[fill.columns] = fill.fillna(pd.to_datetime('today'))\n",
    "df.head()\n",
    "\n",
    "#or\n",
    "\n",
    "fill = pd.to_datetime('2022-02-15')\n",
    "df['posted_date'] = df['posted_date'].fillna(fill)"
   ]
  },
  {
   "cell_type": "markdown",
   "id": "38983826-0fe4-4541-9b08-a6cb4ac710a6",
   "metadata": {},
   "source": [
    "# check for the version of python you are using"
   ]
  },
  {
   "cell_type": "code",
   "execution_count": null,
   "id": "5b29ae4e-de6c-4b9b-a62f-f8b38e8dc89e",
   "metadata": {},
   "outputs": [],
   "source": [
    "import sys"
   ]
  },
  {
   "cell_type": "code",
   "execution_count": null,
   "id": "d7d1dfb7-4df8-489f-867a-5ee23eed509d",
   "metadata": {},
   "outputs": [],
   "source": [
    "sys.version"
   ]
  },
  {
   "cell_type": "markdown",
   "id": "d3b201f9-1b16-4542-9191-f18072c802d0",
   "metadata": {},
   "source": [
    "# Read a file in colab"
   ]
  },
  {
   "cell_type": "code",
   "execution_count": null,
   "id": "7b88f4d7-0cf8-4768-ab7a-9e1a970a8886",
   "metadata": {},
   "outputs": [],
   "source": [
    "import io"
   ]
  },
  {
   "cell_type": "code",
   "execution_count": null,
   "id": "a06dc451-03d8-4a5e-a819-a89cce255382",
   "metadata": {},
   "outputs": [],
   "source": [
    "from google.colab import files\n",
    "uploaded = files.upload()"
   ]
  },
  {
   "cell_type": "code",
   "execution_count": null,
   "id": "36fa0e39-194c-4d08-8e03-12b262f58470",
   "metadata": {},
   "outputs": [],
   "source": [
    "df = pd.read_csv(io.BytesIO(uploaded['AppleStore.csv']))\n",
    "df"
   ]
  },
  {
   "cell_type": "markdown",
   "id": "84a7392a-6f57-4caf-9552-9835cd82d8c0",
   "metadata": {},
   "source": [
    "# Use column name as index 0"
   ]
  },
  {
   "cell_type": "code",
   "execution_count": null,
   "id": "35f0d7f9-7215-40fb-b430-ec0631785ad4",
   "metadata": {},
   "outputs": [],
   "source": [
    "df = pd.read_csv(\"https://raw.githubusercontent.com/juliandnl/redi_ss20/master/berlin_rental.csv\", index_col= 'Region')"
   ]
  },
  {
   "cell_type": "markdown",
   "id": "b4429e65-ba37-4d6b-b0ea-bfa9ae1c5b00",
   "metadata": {},
   "source": [
    "# Rename columns"
   ]
  },
  {
   "cell_type": "code",
   "execution_count": null,
   "id": "ff7d47bd-057d-441d-996e-22aa74e908b8",
   "metadata": {},
   "outputs": [],
   "source": [
    "df.rename(columns = {'old_col1':'new_col1', 'old_col2':'new_col2'}, inplace = True)"
   ]
  },
  {
   "cell_type": "code",
   "execution_count": 3,
   "id": "c4e7e457-cffe-422c-93be-de7422fcd80c",
   "metadata": {},
   "outputs": [],
   "source": [
    "import pandas as pd\n",
    "df = pd.read_csv(\"https://raw.githubusercontent.com/juliandnl/redi_ss20/master/cars.csv\")"
   ]
  },
  {
   "cell_type": "code",
   "execution_count": 4,
   "id": "c6512439-c7c9-432f-9f89-84dd84031b5f",
   "metadata": {},
   "outputs": [
    {
     "data": {
      "text/html": [
       "<div>\n",
       "<style scoped>\n",
       "    .dataframe tbody tr th:only-of-type {\n",
       "        vertical-align: middle;\n",
       "    }\n",
       "\n",
       "    .dataframe tbody tr th {\n",
       "        vertical-align: top;\n",
       "    }\n",
       "\n",
       "    .dataframe thead th {\n",
       "        text-align: right;\n",
       "    }\n",
       "</style>\n",
       "<table border=\"1\" class=\"dataframe\">\n",
       "  <thead>\n",
       "    <tr style=\"text-align: right;\">\n",
       "      <th></th>\n",
       "      <th>Make</th>\n",
       "      <th>Model</th>\n",
       "      <th>Year</th>\n",
       "      <th>Variant</th>\n",
       "      <th>Kms</th>\n",
       "      <th>Price</th>\n",
       "      <th>Doors</th>\n",
       "      <th>Kind</th>\n",
       "      <th>Location</th>\n",
       "    </tr>\n",
       "  </thead>\n",
       "  <tbody>\n",
       "    <tr>\n",
       "      <th>0</th>\n",
       "      <td>Volkswagen</td>\n",
       "      <td>Vento</td>\n",
       "      <td>2012</td>\n",
       "      <td>2.5 Luxury 170cv</td>\n",
       "      <td>99950</td>\n",
       "      <td>360000</td>\n",
       "      <td>4.0</td>\n",
       "      <td>Sedán</td>\n",
       "      <td>Córdoba</td>\n",
       "    </tr>\n",
       "    <tr>\n",
       "      <th>1</th>\n",
       "      <td>Ford</td>\n",
       "      <td>Ranger</td>\n",
       "      <td>2012</td>\n",
       "      <td>2.3 Cd Xl Plus 4x2</td>\n",
       "      <td>140000</td>\n",
       "      <td>320000</td>\n",
       "      <td>2.0</td>\n",
       "      <td>Pick-Up</td>\n",
       "      <td>Entre Ríos</td>\n",
       "    </tr>\n",
       "    <tr>\n",
       "      <th>2</th>\n",
       "      <td>Volkswagen</td>\n",
       "      <td>Fox</td>\n",
       "      <td>2011</td>\n",
       "      <td>1.6 Trendline</td>\n",
       "      <td>132000</td>\n",
       "      <td>209980</td>\n",
       "      <td>5.0</td>\n",
       "      <td>Hatchback</td>\n",
       "      <td>Bs.as. G.b.a. Sur</td>\n",
       "    </tr>\n",
       "    <tr>\n",
       "      <th>3</th>\n",
       "      <td>Ford</td>\n",
       "      <td>Ranger</td>\n",
       "      <td>2017</td>\n",
       "      <td>3.2 Cd Xls Tdci 200cv Automática</td>\n",
       "      <td>13000</td>\n",
       "      <td>798000</td>\n",
       "      <td>4.0</td>\n",
       "      <td>Pick-Up</td>\n",
       "      <td>Neuquén</td>\n",
       "    </tr>\n",
       "    <tr>\n",
       "      <th>4</th>\n",
       "      <td>Volkswagen</td>\n",
       "      <td>Gol</td>\n",
       "      <td>2013</td>\n",
       "      <td>1.4 Power 83cv 3 p</td>\n",
       "      <td>107000</td>\n",
       "      <td>146000</td>\n",
       "      <td>3.0</td>\n",
       "      <td>Hatchback</td>\n",
       "      <td>Córdoba</td>\n",
       "    </tr>\n",
       "    <tr>\n",
       "      <th>...</th>\n",
       "      <td>...</td>\n",
       "      <td>...</td>\n",
       "      <td>...</td>\n",
       "      <td>...</td>\n",
       "      <td>...</td>\n",
       "      <td>...</td>\n",
       "      <td>...</td>\n",
       "      <td>...</td>\n",
       "      <td>...</td>\n",
       "    </tr>\n",
       "    <tr>\n",
       "      <th>9995</th>\n",
       "      <td>Ford</td>\n",
       "      <td>Focus III</td>\n",
       "      <td>2016</td>\n",
       "      <td>2.0 Se</td>\n",
       "      <td>67000</td>\n",
       "      <td>399000</td>\n",
       "      <td>5.0</td>\n",
       "      <td>Hatchback</td>\n",
       "      <td>Bs.as. G.b.a. Oeste</td>\n",
       "    </tr>\n",
       "    <tr>\n",
       "      <th>9996</th>\n",
       "      <td>Volkswagen</td>\n",
       "      <td>Bora</td>\n",
       "      <td>2012</td>\n",
       "      <td>1.9 Trendline I 100cv</td>\n",
       "      <td>120000</td>\n",
       "      <td>240000</td>\n",
       "      <td>4.0</td>\n",
       "      <td>Sedán</td>\n",
       "      <td>Buenos Aires Interior</td>\n",
       "    </tr>\n",
       "    <tr>\n",
       "      <th>9997</th>\n",
       "      <td>Ford</td>\n",
       "      <td>Fiesta Kinetic Design</td>\n",
       "      <td>2012</td>\n",
       "      <td>1.6 Design 120cv Titanium</td>\n",
       "      <td>89000</td>\n",
       "      <td>250000</td>\n",
       "      <td>5.0</td>\n",
       "      <td>Hatchback</td>\n",
       "      <td>Tucumán</td>\n",
       "    </tr>\n",
       "    <tr>\n",
       "      <th>9998</th>\n",
       "      <td>Ford</td>\n",
       "      <td>Fiesta Kinetic Design</td>\n",
       "      <td>2013</td>\n",
       "      <td>1.6 Design 120cv Titanium</td>\n",
       "      <td>76000</td>\n",
       "      <td>295000</td>\n",
       "      <td>5.0</td>\n",
       "      <td>Hatchback</td>\n",
       "      <td>Buenos Aires Interior</td>\n",
       "    </tr>\n",
       "    <tr>\n",
       "      <th>9999</th>\n",
       "      <td>Ford</td>\n",
       "      <td>Focus III</td>\n",
       "      <td>2014</td>\n",
       "      <td>2.0 Titanium At6</td>\n",
       "      <td>32000</td>\n",
       "      <td>380000</td>\n",
       "      <td>5.0</td>\n",
       "      <td>Hatchback</td>\n",
       "      <td>Bs.as. G.b.a. Sur</td>\n",
       "    </tr>\n",
       "  </tbody>\n",
       "</table>\n",
       "<p>10000 rows × 9 columns</p>\n",
       "</div>"
      ],
      "text/plain": [
       "            Make                  Model  Year  \\\n",
       "0     Volkswagen                  Vento  2012   \n",
       "1           Ford                 Ranger  2012   \n",
       "2     Volkswagen                    Fox  2011   \n",
       "3           Ford                 Ranger  2017   \n",
       "4     Volkswagen                    Gol  2013   \n",
       "...          ...                    ...   ...   \n",
       "9995        Ford              Focus III  2016   \n",
       "9996  Volkswagen                   Bora  2012   \n",
       "9997        Ford  Fiesta Kinetic Design  2012   \n",
       "9998        Ford  Fiesta Kinetic Design  2013   \n",
       "9999        Ford              Focus III  2014   \n",
       "\n",
       "                               Variant     Kms   Price  Doors       Kind  \\\n",
       "0                     2.5 Luxury 170cv   99950  360000    4.0      Sedán   \n",
       "1                   2.3 Cd Xl Plus 4x2  140000  320000    2.0    Pick-Up   \n",
       "2                        1.6 Trendline  132000  209980    5.0  Hatchback   \n",
       "3     3.2 Cd Xls Tdci 200cv Automática   13000  798000    4.0    Pick-Up   \n",
       "4                   1.4 Power 83cv 3 p  107000  146000    3.0  Hatchback   \n",
       "...                                ...     ...     ...    ...        ...   \n",
       "9995                            2.0 Se   67000  399000    5.0  Hatchback   \n",
       "9996             1.9 Trendline I 100cv  120000  240000    4.0      Sedán   \n",
       "9997         1.6 Design 120cv Titanium   89000  250000    5.0  Hatchback   \n",
       "9998         1.6 Design 120cv Titanium   76000  295000    5.0  Hatchback   \n",
       "9999                  2.0 Titanium At6   32000  380000    5.0  Hatchback   \n",
       "\n",
       "                   Location  \n",
       "0                   Córdoba  \n",
       "1                Entre Ríos  \n",
       "2         Bs.as. G.b.a. Sur  \n",
       "3                   Neuquén  \n",
       "4                   Córdoba  \n",
       "...                     ...  \n",
       "9995    Bs.as. G.b.a. Oeste  \n",
       "9996  Buenos Aires Interior  \n",
       "9997                Tucumán  \n",
       "9998  Buenos Aires Interior  \n",
       "9999      Bs.as. G.b.a. Sur  \n",
       "\n",
       "[10000 rows x 9 columns]"
      ]
     },
     "execution_count": 4,
     "metadata": {},
     "output_type": "execute_result"
    }
   ],
   "source": [
    "df"
   ]
  },
  {
   "cell_type": "markdown",
   "id": "105d4847-b8f5-4f8a-805c-2b20f84b629a",
   "metadata": {},
   "source": [
    "# TO SAVE A url file as a csv"
   ]
  },
  {
   "cell_type": "code",
   "execution_count": 12,
   "id": "2f9cf4b2-3f5a-4e67-ba20-fa09d3c12cca",
   "metadata": {},
   "outputs": [],
   "source": [
    "df.to_csv('~/Desktop/cars.csv')"
   ]
  },
  {
   "cell_type": "code",
   "execution_count": null,
   "id": "52aaae22-06d2-4bf0-af82-f17bf66556e9",
   "metadata": {},
   "outputs": [],
   "source": []
  }
 ],
 "metadata": {
  "kernelspec": {
   "display_name": "Python 3 (ipykernel)",
   "language": "python",
   "name": "python3"
  },
  "language_info": {
   "codemirror_mode": {
    "name": "ipython",
    "version": 3
   },
   "file_extension": ".py",
   "mimetype": "text/x-python",
   "name": "python",
   "nbconvert_exporter": "python",
   "pygments_lexer": "ipython3",
   "version": "3.9.7"
  }
 },
 "nbformat": 4,
 "nbformat_minor": 5
}
